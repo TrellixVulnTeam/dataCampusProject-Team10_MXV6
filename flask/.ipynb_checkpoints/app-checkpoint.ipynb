{
 "cells": [
  {
   "cell_type": "markdown",
   "metadata": {
    "colab_type": "text",
    "id": "view-in-github"
   },
   "source": [
    "<a href=\"https://colab.research.google.com/github/yoonkim313/dataCampusProject-Team10/blob/master/app.ipynb\" target=\"_parent\"><img src=\"https://colab.research.google.com/assets/colab-badge.svg\" alt=\"Open In Colab\"/></a>"
   ]
  },
  {
   "cell_type": "code",
   "execution_count": 29,
   "metadata": {
    "colab": {
     "base_uri": "https://localhost:8080/",
     "height": 35
    },
    "colab_type": "code",
    "id": "c-9nVAJZfAnm",
    "outputId": "64fec173-91d3-458f-94b1-1c1ebc4a5563"
   },
   "outputs": [
    {
     "name": "stdout",
     "output_type": "stream",
     "text": [
      "Drive already mounted at /content/drive; to attempt to forcibly remount, call drive.mount(\"/content/drive\", force_remount=True).\n"
     ]
    }
   ],
   "source": [
    "import os, sys\n",
    "from google.colab import drive\n",
    "drive.mount('/content/drive')\n",
    "nb_path = '/content/notebook'"
   ]
  },
  {
   "cell_type": "code",
   "execution_count": null,
   "metadata": {
    "colab": {},
    "colab_type": "code",
    "id": "1JKKdt3LQL2X"
   },
   "outputs": [],
   "source": [
    "# os.symlink('/content/drive/Shared drives/BigDATA TEAM 10', nb_path)\n",
    "# sys.path.insert(0,nb_path)"
   ]
  },
  {
   "cell_type": "code",
   "execution_count": null,
   "metadata": {
    "colab": {},
    "colab_type": "code",
    "id": "HBqGlSY1Wt6a"
   },
   "outputs": [],
   "source": [
    "# !pip install --target=$nb_path flask-admin\n",
    "# !apt-get install --target=$nb_path poppler-utils \n",
    "# !pip install --target=$nb_path pdf2image\n",
    "# !pip install --target=$nb_path flask-socketio"
   ]
  },
  {
   "cell_type": "code",
   "execution_count": 42,
   "metadata": {
    "colab": {
     "base_uri": "https://localhost:8080/",
     "height": 159
    },
    "colab_type": "code",
    "id": "XAgHAaFct58o",
    "outputId": "48fc890c-0203-4848-9779-01e5f26f8d80"
   },
   "outputs": [
    {
     "name": "stdout",
     "output_type": "stream",
     "text": [
      "Reading package lists... Done\n",
      "Building dependency tree       \n",
      "Reading state information... Done\n",
      "poppler-utils is already the newest version (0.62.0-2ubuntu2.10).\n",
      "The following package was automatically installed and is no longer required:\n",
      "  libnvidia-common-440\n",
      "Use 'apt autoremove' to remove it.\n",
      "0 upgraded, 0 newly installed, 0 to remove and 35 not upgraded.\n"
     ]
    }
   ],
   "source": [
    "!apt-get install --target=$nb_path poppler-utils"
   ]
  },
  {
   "cell_type": "code",
   "execution_count": 12,
   "metadata": {
    "colab": {
     "base_uri": "https://localhost:8080/",
     "height": 35
    },
    "colab_type": "code",
    "id": "3QMKs7RRRHQX",
    "outputId": "b9af6f62-abd1-4ecd-b2d3-a14c077023da"
   },
   "outputs": [
    {
     "name": "stdout",
     "output_type": "stream",
     "text": [
      "/content/drive/Shared drives/BigDATA TEAM 10\n"
     ]
    }
   ],
   "source": [
    "%cd /content/drive/Shared drives/BigDATA TEAM 10"
   ]
  },
  {
   "cell_type": "code",
   "execution_count": null,
   "metadata": {
    "colab": {},
    "colab_type": "code",
    "id": "urtsNsJMRkWl"
   },
   "outputs": [],
   "source": [
    "!git clone https://github.com/yoonkim313/dataCampusProject-Team10.git"
   ]
  },
  {
   "cell_type": "code",
   "execution_count": 15,
   "metadata": {
    "colab": {},
    "colab_type": "code",
    "id": "A5fIp74EV4Yp"
   },
   "outputs": [],
   "source": [
    "from flask_ngrok import run_with_ngrok\n",
    "from flask import Flask, render_template, request\n",
    "from flask_admin.contrib.fileadmin import FileAdmin\n",
    "from flask_admin import Admin\n",
    "from flask_dropzone import Dropzone\n",
    "from pdf2image import convert_from_path\n",
    "import logging"
   ]
  },
  {
   "cell_type": "code",
   "execution_count": 14,
   "metadata": {
    "colab": {
     "base_uri": "https://localhost:8080/",
     "height": 35
    },
    "colab_type": "code",
    "id": "Pc5Po4bEbMWD",
    "outputId": "25816c44-e7d2-4cee-9f4c-04644c4e6864"
   },
   "outputs": [
    {
     "name": "stdout",
     "output_type": "stream",
     "text": [
      "/content/drive/Shared drives/BigDATA TEAM 10/dataCampusProject-Team10/flask\n"
     ]
    }
   ],
   "source": [
    "%cd /content/drive/'Shared drives'/'BigDATA TEAM 10'/dataCampusProject-Team10/flask"
   ]
  },
  {
   "cell_type": "code",
   "execution_count": 35,
   "metadata": {
    "colab": {
     "base_uri": "https://localhost:8080/",
     "height": 35
    },
    "colab_type": "code",
    "id": "1O1R5CUObjCm",
    "outputId": "7d597ea1-ba7c-4931-ac66-4f8f2d899639"
   },
   "outputs": [
    {
     "name": "stdout",
     "output_type": "stream",
     "text": [
      "/content/drive/Shared drives/BigDATA TEAM 10/dataCampusProject-Team10/flask\n"
     ]
    }
   ],
   "source": [
    "!pwd"
   ]
  },
  {
   "cell_type": "code",
   "execution_count": 11,
   "metadata": {
    "colab": {
     "base_uri": "https://localhost:8080/",
     "height": 88
    },
    "colab_type": "code",
    "id": "Hg4L1LzAke3X",
    "outputId": "8616c82d-0d8a-4da3-8029-d60959b8218a"
   },
   "outputs": [
    {
     "name": "stdout",
     "output_type": "stream",
     "text": [
      "Traceback (most recent call last):\n",
      "  File \"/content/drive/Shared drives/BigDATA TEAM 10/dataCampusProject-Team10/flask/app.py\", line 2, in <module>\n",
      "    from flask_admin.contrib.fileadmin import FileAdmin\n",
      "ModuleNotFoundError: No module named 'flask_admin'\n"
     ]
    }
   ],
   "source": [
    "!python /content/drive/'Shared drives'/'BigDATA TEAM 10'/dataCampusProject-Team10/flask/app.py"
   ]
  },
  {
   "cell_type": "code",
   "execution_count": null,
   "metadata": {
    "colab": {
     "base_uri": "https://localhost:8080/",
     "height": 408
    },
    "colab_type": "code",
    "id": "vfbObqxyXZM-",
    "outputId": "0665a91a-6456-4ae9-a461-0372a9bf3a47"
   },
   "outputs": [
    {
     "name": "stdout",
     "output_type": "stream",
     "text": [
      " * Serving Flask app \"__main__\" (lazy loading)\n",
      " * Environment: production\n",
      "\u001b[31m   WARNING: This is a development server. Do not use it in a production deployment.\u001b[0m\n",
      "\u001b[2m   Use a production WSGI server instead.\u001b[0m\n",
      " * Debug mode: off\n"
     ]
    },
    {
     "name": "stderr",
     "output_type": "stream",
     "text": [
      " * Running on http://127.0.0.1:5000/ (Press CTRL+C to quit)\n"
     ]
    },
    {
     "name": "stdout",
     "output_type": "stream",
     "text": [
      " * Running on http://4295a85415f6.ngrok.io\n",
      " * Traffic stats available on http://127.0.0.1:4040\n"
     ]
    },
    {
     "name": "stderr",
     "output_type": "stream",
     "text": [
      "127.0.0.1 - - [27/Aug/2020 16:21:01] \"\u001b[37mGET / HTTP/1.1\u001b[0m\" 200 -\n",
      "127.0.0.1 - - [27/Aug/2020 16:21:01] \"\u001b[37mGET /static/css/bootstrap.min.css HTTP/1.1\u001b[0m\" 200 -\n",
      "127.0.0.1 - - [27/Aug/2020 16:21:01] \"\u001b[37mGET /static/css/mdb.min.css HTTP/1.1\u001b[0m\" 200 -\n",
      "127.0.0.1 - - [27/Aug/2020 16:21:01] \"\u001b[37mGET /static/css/style.min.css HTTP/1.1\u001b[0m\" 200 -\n",
      "127.0.0.1 - - [27/Aug/2020 16:21:01] \"\u001b[37mGET /static/js/popper.min.js HTTP/1.1\u001b[0m\" 200 -\n",
      "127.0.0.1 - - [27/Aug/2020 16:21:01] \"\u001b[37mGET /static/js/jquery-3.4.1.min.js HTTP/1.1\u001b[0m\" 200 -\n",
      "127.0.0.1 - - [27/Aug/2020 16:21:01] \"\u001b[37mGET /static/js/bootstrap.min.js HTTP/1.1\u001b[0m\" 200 -\n",
      "127.0.0.1 - - [27/Aug/2020 16:21:01] \"\u001b[37mGET /static/js/mdb.min.js HTTP/1.1\u001b[0m\" 200 -\n",
      "127.0.0.1 - - [27/Aug/2020 16:21:02] \"\u001b[37mGET /static/img/svg/arrow_left.svg HTTP/1.1\u001b[0m\" 200 -\n",
      "127.0.0.1 - - [27/Aug/2020 16:21:02] \"\u001b[37mGET /static/img/svg/arrow_right.svg HTTP/1.1\u001b[0m\" 200 -\n",
      "127.0.0.1 - - [27/Aug/2020 16:21:02] \"\u001b[37mGET /static/font/roboto/Roboto-Light.woff2 HTTP/1.1\u001b[0m\" 200 -\n",
      "127.0.0.1 - - [27/Aug/2020 16:21:02] \"\u001b[37mGET /static/font/roboto/Roboto-Regular.woff2 HTTP/1.1\u001b[0m\" 200 -\n",
      "127.0.0.1 - - [27/Aug/2020 16:21:02] \"\u001b[33mGET /favicon.ico HTTP/1.1\u001b[0m\" 404 -\n",
      "127.0.0.1 - - [27/Aug/2020 16:21:07] \"\u001b[37mPOST / HTTP/1.1\u001b[0m\" 200 -\n"
     ]
    }
   ],
   "source": [
    "app = Flask(__name__)\n",
    "run_with_ngrok(app)\n",
    "\n",
    "basedir = '/content/drive/Shared drives/BigDATA TEAM 10/dataCampusProject-Team10/flask' # 현재 파일의 dir 절대경로, python console 에 쓰면 동일 결과\n",
    "upload_dir = os.path.join(basedir, 'uploads')  # basedir 의 uploads 에 파일 저장\n",
    "#################################################################################################################\n",
    "\n",
    "admin = Admin(name='Uploaded Files')\n",
    "admin.init_app(app)  # 이제 실행하고 주소창에 /admin 하면 창 나옴\n",
    "dropzone = Dropzone(app)\n",
    "admin.add_view(FileAdmin(upload_dir, name='FILES'))  # /admin 가면 올린 파일 관리 가능\n",
    "app.config['DROPZONE_ALLOWED_FILE_CUSTOM'] = True\n",
    "app.config['DROPZONE_ALLOWED_FILE_TYPE'] = 'image/*, .pdf, .txt'\n",
    "#################################################################################################################\n",
    "\n",
    "\n",
    "@app.route(\"/\", methods=['GET', 'POST'])\n",
    "def upload():\n",
    "    if request.method == 'POST':\n",
    "        f = request.files.get('file')\n",
    "        f.save(os.path.join(upload_dir, f.filename))\n",
    "        images = convert_from_path(os.path.join(upload_dir, f.filename))\n",
    "        for i, image in enumerate(images):\n",
    "            fname = \"uploads/image\" + str(i) + \".jpg\"\n",
    "            image.save(fname, \"JPEG\")\n",
    "    return render_template('homepage.html')\n",
    "##############################################################################\n",
    "\n",
    "\n",
    "@app.route(\"/result\", methods=['GET', 'POST'])\n",
    "def upload2():\n",
    "    if request.method == 'POST':\n",
    "        f = request.files.get('file')\n",
    "        f.save(os.path.join(upload_dir, f.filename))\n",
    "    return render_template('result.html')\n",
    "\n",
    "\n",
    "# def main():\n",
    "#     txt = ocr(text.jpeg)\n",
    "#     html=highlight.main(txt)\n",
    "#     processed = process(html)\n",
    "#     return processed\n",
    "# f.save(os.path.join(upload_dir, f.filename))\n",
    "\n",
    "###############################################################################\n",
    "if __name__ == '__main__':\n",
    "    app.run()"
   ]
  },
  {
   "cell_type": "code",
   "execution_count": null,
   "metadata": {
    "colab": {},
    "colab_type": "code",
    "id": "Vad4vMDNkq08"
   },
   "outputs": [],
   "source": []
  },
  {
   "cell_type": "code",
   "execution_count": null,
   "metadata": {
    "colab": {
     "base_uri": "https://localhost:8080/",
     "height": 354
    },
    "colab_type": "code",
    "id": "bmU3XDHjejQE",
    "outputId": "b5f57299-82bc-4ef2-93d2-f03874131f41"
   },
   "outputs": [
    {
     "ename": "SystemExit",
     "evalue": "ignored",
     "output_type": "error",
     "traceback": [
      "\u001b[0;31m---------------------------------------------------------------------------\u001b[0m",
      "\u001b[0;31mSystemExit\u001b[0m                                Traceback (most recent call last)",
      "\u001b[0;32m<ipython-input-5-264bf94f485c>\u001b[0m in \u001b[0;36m<module>\u001b[0;34m()\u001b[0m\n\u001b[1;32m     45\u001b[0m \u001b[0;31m###############################################################################\u001b[0m\u001b[0;34m\u001b[0m\u001b[0;34m\u001b[0m\u001b[0;34m\u001b[0m\u001b[0m\n\u001b[1;32m     46\u001b[0m \u001b[0;32mif\u001b[0m \u001b[0m__name__\u001b[0m \u001b[0;34m==\u001b[0m \u001b[0;34m'__main__'\u001b[0m\u001b[0;34m:\u001b[0m\u001b[0;34m\u001b[0m\u001b[0;34m\u001b[0m\u001b[0m\n\u001b[0;32m---> 47\u001b[0;31m     \u001b[0mapp\u001b[0m\u001b[0;34m.\u001b[0m\u001b[0mrun\u001b[0m\u001b[0;34m(\u001b[0m\u001b[0;34m)\u001b[0m\u001b[0;34m\u001b[0m\u001b[0;34m\u001b[0m\u001b[0m\n\u001b[0m",
      "\u001b[0;32m/content/drive/Shared drives/BigDATA TEAM 10/flask/app.py\u001b[0m in \u001b[0;36mrun\u001b[0;34m(self, host, port, debug, load_dotenv, **options)\u001b[0m\n\u001b[1;32m    988\u001b[0m \u001b[0;34m\u001b[0m\u001b[0m\n\u001b[1;32m    989\u001b[0m         \u001b[0;32mtry\u001b[0m\u001b[0;34m:\u001b[0m\u001b[0;34m\u001b[0m\u001b[0;34m\u001b[0m\u001b[0m\n\u001b[0;32m--> 990\u001b[0;31m             \u001b[0mrun_simple\u001b[0m\u001b[0;34m(\u001b[0m\u001b[0mhost\u001b[0m\u001b[0;34m,\u001b[0m \u001b[0mport\u001b[0m\u001b[0;34m,\u001b[0m \u001b[0mself\u001b[0m\u001b[0;34m,\u001b[0m \u001b[0;34m**\u001b[0m\u001b[0moptions\u001b[0m\u001b[0;34m)\u001b[0m\u001b[0;34m\u001b[0m\u001b[0;34m\u001b[0m\u001b[0m\n\u001b[0m\u001b[1;32m    991\u001b[0m         \u001b[0;32mfinally\u001b[0m\u001b[0;34m:\u001b[0m\u001b[0;34m\u001b[0m\u001b[0;34m\u001b[0m\u001b[0m\n\u001b[1;32m    992\u001b[0m             \u001b[0;31m# reset the first request information if the development server\u001b[0m\u001b[0;34m\u001b[0m\u001b[0;34m\u001b[0m\u001b[0;34m\u001b[0m\u001b[0m\n",
      "\u001b[0;32m/content/drive/Shared drives/BigDATA TEAM 10/werkzeug/serving.py\u001b[0m in \u001b[0;36mrun_simple\u001b[0;34m(hostname, port, application, use_reloader, use_debugger, use_evalex, extra_files, reloader_interval, reloader_type, threaded, processes, request_handler, static_files, passthrough_errors, ssl_context)\u001b[0m\n\u001b[1;32m   1048\u001b[0m         \u001b[0;32mfrom\u001b[0m \u001b[0;34m.\u001b[0m\u001b[0m_reloader\u001b[0m \u001b[0;32mimport\u001b[0m \u001b[0mrun_with_reloader\u001b[0m\u001b[0;34m\u001b[0m\u001b[0;34m\u001b[0m\u001b[0m\n\u001b[1;32m   1049\u001b[0m \u001b[0;34m\u001b[0m\u001b[0m\n\u001b[0;32m-> 1050\u001b[0;31m         \u001b[0mrun_with_reloader\u001b[0m\u001b[0;34m(\u001b[0m\u001b[0minner\u001b[0m\u001b[0;34m,\u001b[0m \u001b[0mextra_files\u001b[0m\u001b[0;34m,\u001b[0m \u001b[0mreloader_interval\u001b[0m\u001b[0;34m,\u001b[0m \u001b[0mreloader_type\u001b[0m\u001b[0;34m)\u001b[0m\u001b[0;34m\u001b[0m\u001b[0;34m\u001b[0m\u001b[0m\n\u001b[0m\u001b[1;32m   1051\u001b[0m     \u001b[0;32melse\u001b[0m\u001b[0;34m:\u001b[0m\u001b[0;34m\u001b[0m\u001b[0;34m\u001b[0m\u001b[0m\n\u001b[1;32m   1052\u001b[0m         \u001b[0minner\u001b[0m\u001b[0;34m(\u001b[0m\u001b[0;34m)\u001b[0m\u001b[0;34m\u001b[0m\u001b[0;34m\u001b[0m\u001b[0m\n",
      "\u001b[0;32m/content/drive/Shared drives/BigDATA TEAM 10/werkzeug/_reloader.py\u001b[0m in \u001b[0;36mrun_with_reloader\u001b[0;34m(main_func, extra_files, interval, reloader_type)\u001b[0m\n\u001b[1;32m    337\u001b[0m             \u001b[0mreloader\u001b[0m\u001b[0;34m.\u001b[0m\u001b[0mrun\u001b[0m\u001b[0;34m(\u001b[0m\u001b[0;34m)\u001b[0m\u001b[0;34m\u001b[0m\u001b[0;34m\u001b[0m\u001b[0m\n\u001b[1;32m    338\u001b[0m         \u001b[0;32melse\u001b[0m\u001b[0;34m:\u001b[0m\u001b[0;34m\u001b[0m\u001b[0;34m\u001b[0m\u001b[0m\n\u001b[0;32m--> 339\u001b[0;31m             \u001b[0msys\u001b[0m\u001b[0;34m.\u001b[0m\u001b[0mexit\u001b[0m\u001b[0;34m(\u001b[0m\u001b[0mreloader\u001b[0m\u001b[0;34m.\u001b[0m\u001b[0mrestart_with_reloader\u001b[0m\u001b[0;34m(\u001b[0m\u001b[0;34m)\u001b[0m\u001b[0;34m)\u001b[0m\u001b[0;34m\u001b[0m\u001b[0;34m\u001b[0m\u001b[0m\n\u001b[0m\u001b[1;32m    340\u001b[0m     \u001b[0;32mexcept\u001b[0m \u001b[0mKeyboardInterrupt\u001b[0m\u001b[0;34m:\u001b[0m\u001b[0;34m\u001b[0m\u001b[0;34m\u001b[0m\u001b[0m\n\u001b[1;32m    341\u001b[0m         \u001b[0;32mpass\u001b[0m\u001b[0;34m\u001b[0m\u001b[0;34m\u001b[0m\u001b[0m\n",
      "\u001b[0;31mSystemExit\u001b[0m: 1"
     ]
    }
   ],
   "source": [
    "%tb"
   ]
  },
  {
   "cell_type": "code",
   "execution_count": null,
   "metadata": {
    "colab": {},
    "colab_type": "code",
    "id": "AJAP9XuvT6jN"
   },
   "outputs": [],
   "source": [
    "! python3 /content/drive/Shared drives/BigDATA TEAM 10/dataCampusProject-Team10/ocr/deep-text-recognition/train.py"
   ]
  },
  {
   "cell_type": "code",
   "execution_count": null,
   "metadata": {
    "colab": {},
    "colab_type": "code",
    "id": "v_AS4GNwUQTk"
   },
   "outputs": [],
   "source": [
    "!python /content/drive/Shared drives/BigDATA TEAM 10/dataCampusProject-Team10/main.ipynb"
   ]
  }
 ],
 "metadata": {
  "colab": {
   "include_colab_link": true,
   "name": "app.ipynb",
   "provenance": []
  },
  "kernelspec": {
   "display_name": "Python 3",
   "language": "python",
   "name": "python3"
  },
  "language_info": {
   "codemirror_mode": {
    "name": "ipython",
    "version": 3
   },
   "file_extension": ".py",
   "mimetype": "text/x-python",
   "name": "python",
   "nbconvert_exporter": "python",
   "pygments_lexer": "ipython3",
   "version": "3.6.7"
  }
 },
 "nbformat": 4,
 "nbformat_minor": 1
}
