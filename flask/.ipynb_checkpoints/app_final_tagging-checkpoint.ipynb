{
 "cells": [
  {
   "cell_type": "markdown",
   "metadata": {
    "colab_type": "text",
    "id": "view-in-github"
   },
   "source": [
    "<a href=\"https://colab.research.google.com/github/yoonkim313/dataCampusProject-Team10/blob/master/flask/app_final_tagging.ipynb\" target=\"_parent\"><img src=\"https://colab.research.google.com/assets/colab-badge.svg\" alt=\"Open In Colab\"/></a>"
   ]
  },
  {
   "cell_type": "code",
   "execution_count": 1,
   "metadata": {
    "colab": {
     "base_uri": "https://localhost:8080/",
     "height": 122
    },
    "colab_type": "code",
    "id": "c-9nVAJZfAnm",
    "outputId": "5020b84c-b67c-4e6d-9843-de3e9e26bfa9"
   },
   "outputs": [
    {
     "name": "stdout",
     "output_type": "stream",
     "text": [
      "Go to this URL in a browser: https://accounts.google.com/o/oauth2/auth?client_id=947318989803-6bn6qk8qdgf4n4g3pfee6491hc0brc4i.apps.googleusercontent.com&redirect_uri=urn%3aietf%3awg%3aoauth%3a2.0%3aoob&scope=email%20https%3a%2f%2fwww.googleapis.com%2fauth%2fdocs.test%20https%3a%2f%2fwww.googleapis.com%2fauth%2fdrive%20https%3a%2f%2fwww.googleapis.com%2fauth%2fdrive.photos.readonly%20https%3a%2f%2fwww.googleapis.com%2fauth%2fpeopleapi.readonly&response_type=code\n",
      "\n",
      "Enter your authorization code:\n",
      "··········\n",
      "Mounted at /content/drive\n"
     ]
    }
   ],
   "source": [
    "import os, sys\n",
    "from google.colab import drive\n",
    "drive.mount('/content/drive')\n",
    "nb_path = '/content/notebook'"
   ]
  },
  {
   "cell_type": "code",
   "execution_count": null,
   "metadata": {
    "colab": {},
    "colab_type": "code",
    "id": "1JKKdt3LQL2X"
   },
   "outputs": [],
   "source": [
    "# os.symlink('/content/drive/Shared drives/BigDATA TEAM 10', nb_path)\n",
    "# sys.path.insert(0,nb_path)"
   ]
  },
  {
   "cell_type": "code",
   "execution_count": null,
   "metadata": {
    "colab": {},
    "colab_type": "code",
    "id": "HBqGlSY1Wt6a"
   },
   "outputs": [],
   "source": [
    "# !pip install --target=$nb_path flask-admin\n",
    "# !apt-get install --target=$nb_path poppler-utils \n",
    "# !pip install --target=$nb_path pdf2image\n",
    "# !pip install --target=$nb_path flask-socketio"
   ]
  },
  {
   "cell_type": "code",
   "execution_count": 3,
   "metadata": {
    "colab": {
     "base_uri": "https://localhost:8080/",
     "height": 340
    },
    "colab_type": "code",
    "id": "XAgHAaFct58o",
    "outputId": "f342e663-4581-4b96-bcc4-ad6b4e3690f1"
   },
   "outputs": [
    {
     "name": "stdout",
     "output_type": "stream",
     "text": [
      "Reading package lists... Done\n",
      "Building dependency tree       \n",
      "Reading state information... Done\n",
      "The following package was automatically installed and is no longer required:\n",
      "  libnvidia-common-440\n",
      "Use 'apt autoremove' to remove it.\n",
      "The following NEW packages will be installed:\n",
      "  poppler-utils\n",
      "0 upgraded, 1 newly installed, 0 to remove and 35 not upgraded.\n",
      "Need to get 154 kB of archives.\n",
      "After this operation, 613 kB of additional disk space will be used.\n",
      "Get:1 http://archive.ubuntu.com/ubuntu bionic-updates/main amd64 poppler-utils amd64 0.62.0-2ubuntu2.10 [154 kB]\n",
      "Fetched 154 kB in 0s (325 kB/s)\n",
      "Selecting previously unselected package poppler-utils.\n",
      "(Reading database ... 144556 files and directories currently installed.)\n",
      "Preparing to unpack .../poppler-utils_0.62.0-2ubuntu2.10_amd64.deb ...\n",
      "Unpacking poppler-utils (0.62.0-2ubuntu2.10) ...\n",
      "Setting up poppler-utils (0.62.0-2ubuntu2.10) ...\n",
      "Processing triggers for man-db (2.8.3-2ubuntu0.1) ...\n"
     ]
    }
   ],
   "source": [
    "!apt-get install poppler-utils"
   ]
  },
  {
   "cell_type": "code",
   "execution_count": 4,
   "metadata": {
    "colab": {
     "base_uri": "https://localhost:8080/",
     "height": 34
    },
    "colab_type": "code",
    "id": "3QMKs7RRRHQX",
    "outputId": "b8a218ae-3782-43bb-ab5b-9f8f81b72db9"
   },
   "outputs": [
    {
     "name": "stdout",
     "output_type": "stream",
     "text": [
      "/content/drive/Shared drives/BigDATA TEAM 10\n"
     ]
    }
   ],
   "source": [
    "%cd /content/drive/Shared drives/BigDATA TEAM 10"
   ]
  },
  {
   "cell_type": "code",
   "execution_count": 5,
   "metadata": {
    "colab": {
     "base_uri": "https://localhost:8080/",
     "height": 34
    },
    "colab_type": "code",
    "id": "urtsNsJMRkWl",
    "outputId": "3f1a667e-dc0b-46ad-dd81-07df89332471"
   },
   "outputs": [
    {
     "name": "stdout",
     "output_type": "stream",
     "text": [
      "fatal: destination path 'dataCampusProject-Team10' already exists and is not an empty directory.\n"
     ]
    }
   ],
   "source": [
    "!git clone https://github.com/yoonkim313/dataCampusProject-Team10.git"
   ]
  },
  {
   "cell_type": "code",
   "execution_count": 6,
   "metadata": {
    "colab": {},
    "colab_type": "code",
    "id": "A5fIp74EV4Yp"
   },
   "outputs": [],
   "source": [
    "from flask_ngrok import run_with_ngrok\n",
    "from flask import Flask, render_template, request\n",
    "from flask_admin.contrib.fileadmin import FileAdmin\n",
    "from flask_admin import Admin\n",
    "from flask_dropzone import Dropzone\n",
    "from pdf2image import convert_from_path\n",
    "import logging"
   ]
  },
  {
   "cell_type": "code",
   "execution_count": null,
   "metadata": {
    "colab": {
     "base_uri": "https://localhost:8080/",
     "height": 35
    },
    "colab_type": "code",
    "id": "Pc5Po4bEbMWD",
    "outputId": "25816c44-e7d2-4cee-9f4c-04644c4e6864"
   },
   "outputs": [
    {
     "name": "stdout",
     "output_type": "stream",
     "text": [
      "/content/drive/Shared drives/BigDATA TEAM 10/dataCampusProject-Team10/flask\n"
     ]
    }
   ],
   "source": [
    "%cd /content/drive/'Shared drives'/'BigDATA TEAM 10'/dataCampusProject-Team10/flask"
   ]
  },
  {
   "cell_type": "code",
   "execution_count": 7,
   "metadata": {
    "colab": {
     "base_uri": "https://localhost:8080/",
     "height": 34
    },
    "colab_type": "code",
    "id": "1O1R5CUObjCm",
    "outputId": "e8436386-3f8f-4645-95ec-43e2170427e6"
   },
   "outputs": [
    {
     "name": "stdout",
     "output_type": "stream",
     "text": [
      "/content/drive/Shared drives/BigDATA TEAM 10\n"
     ]
    }
   ],
   "source": [
    "!pwd"
   ]
  },
  {
   "cell_type": "code",
   "execution_count": 8,
   "metadata": {
    "colab": {
     "base_uri": "https://localhost:8080/",
     "height": 34
    },
    "colab_type": "code",
    "id": "Hg4L1LzAke3X",
    "outputId": "ba73e5f5-d289-48aa-83ee-220a46ecec06"
   },
   "outputs": [
    {
     "name": "stdout",
     "output_type": "stream",
     "text": [
      "python3: can't open file '/content/drive/Shared drives/BigDATA TEAM 10/dataCampusProject-Team10/flask/app.py': [Errno 2] No such file or directory\n"
     ]
    }
   ],
   "source": [
    "!python /content/drive/'Shared drives'/'BigDATA TEAM 10'/dataCampusProject-Team10/flask/app.py"
   ]
  },
  {
   "cell_type": "markdown",
   "metadata": {
    "colab_type": "text",
    "id": "W8q_03etxGAe"
   },
   "source": [
    "<u style='text-decoration:underline; text-decoration-color:#906fa8; font-weight: bold; text-decoration-style: wavy'>평등은 자유와 더불어 근대 사회의 핵심 이념으로 자리 잡고있다.</u> 인간은 가령 인종이나 성별과 상관없이 누구나 평등하다고 생각한다. 모든 인간은 평등하다고 말하는데, 이 말은 무슨 뜻일까? <mark style='background-color:#F9D877'>그리고</mark> 그 근거는 무엇인가?\n",
    "일단 이 말을 모든 인간을 모든 측면에서 똑같이 대우하는 절대칙 평등으로 생각하는 이는 없다. 인간은 저마다 다르게 가지고 대어난 능력과 소질을 똑같게 만들 수 없기 때문이다. 절대적 평등은 개인의 개성이냐 자율성 등의 가치와 충돌하기도 한다. 평등에 대한 요구는 모든 불평등을 악으로 보는 것이 아니라 충분한 이유가 제시되지 않은 불평등을 제거하는 데 목표를 두고 있다. <u style='text-decoration:underline; text-decoration-color:#906fa8; font-weight: bold; text-decoration-style: wavy'>‘이유 없는 차별 금지’라는 조건적 평등 원칙은 차별 대우를 할 때는 이유를 제시할 것을 요구하고 있다.</u> 이것은 어떤 이유가 제시된다면 특정한 부류에 속하는 사람들에게는 평등한 대우를, 그 부류에 속하지 않는 사람들에게는 차별저 대우를 하는 것을 허용한다. <mark style='background-color:#F9D877'> 그렇다면</mark> 사람들을 특정한 부류로 구분하는 기준은 무엇인가? 이것은 <mark style='background-color:#F9D877'> 바로</mark> 평등의 근거에 대한 물음이다.\n",
    "근대의 여러 인권 선언에 나타난 평등 개념은 개인들 사이의 평등성을 타고난 자연적 권리로 간주하였다. <u style='text-decoration:underline; text-decoration-color:#906fa8; font-weight: bold; text-decoration-style: wavy'>하지만 이러한 자연권 이론은 무엇이 자연적 권리이고 권리의 존재가 자명한 이유가 무엇인지 등의 문제에 부딪히게 된다.</u> <mark style='background-color:#F9D877'> 그래서</mark> 롤스는 기존의 자연권 사상에 의존하지 않는 방시으로 인간 평등의 근거를 마런하려고 한다. 그는 어떤 규칙이 공평하고 일관되게 운영되며, 그 규칙에 따라 유사한 경우는 유사하게 취급된다면 형식적 정의는 실현된다고 본다. <mark style='background-color:#F9D877'> 하지만</mark> 롤스는 형식저 정의에 따라 규칙을 준수하는 것만으로는 정의를 담보할 수 없다고 생각한다. 그 규칙이 더 높은 도덕적 권위를 지닌 다른 이넘과 충돌할 수 었기에, 실질적 정의가 보장되기 위해서는 규칙의 내용이 중요한 것이다.\n",
    "<u style='text-decoration:underline; text-decoration-color:#906fa8; font-weight: bold; text-decoration-style: wavy'>롤스는 인간 평등의 근거를 설명하면서 영역 성질 (range property) 개념을 도입한다.</u> <mark style='background-color:#F9D877'> 예를 들어</mark> 어떤 원의 내부에 있는 점들은 그 위치가 서로 다르지만 원의 내부에 있다는 점에서 동일한 영역 성질을 갖는다. <mark style='background-color:#F9D877'> 반면에</mark> 원의 내부에 있는 집과 원의 외부에 였는 점은원의 경계선을 기준으로 서로 다른 영역 성질을 갖는다. 그는 평등한 대우를 받기 위한 영역 성질로서 ‘도덕적 인격 을 제시한다. 도덕적 인격이란 도덕적 호소가 가능하고 그런 호소에 관심을 기이는 능력이 있다는 것인데, 이 능력을 최소치만 갖고 있다면 평등한 대우에 대한 권한을 갖게 된다.\n",
    "도덕적 인격이라고 해서 도덕적으로 훌륭하다는 뜻이 아니라 도덕과 무관하다는 말과 대비되는 뜻으로 쓰고 있다. <mark style='background-color:#F9D877'> 그런데</mark> 어린 아이는 인격체로서의 최소한의 기준을 충족하고 있는지가 논란이 될 수 있다. <u style='text-decoration:underline; text-decoration-color:#906fa8; font-weight: bold; text-decoration-style: wavy'>이에 대해 롤스는 도덕적 인격을 규정하는 최소한의 요구 조건은 잠재적 능력이지 그것의 실현 여부가 아니기에 어린 아이도 평등한 존재라고 말한다.</u> 싱어는 위와 같은 롤스의 시도를 비판한다. 도덕에 대한 민감성의 수준은 사람에 따라 다르다. <mark style='background-color:#F9D877'> 그래서</mark> 도덕적 인격의 능력이 그렇게 중요하다면 그것을 갖춘 정도에 따라 도덕적 위계를 다르게 하지 말아야 할 이유가 분명하지 않다고 말한다.\n"
   ]
  },
  {
   "cell_type": "code",
   "execution_count": 33,
   "metadata": {
    "colab": {
     "base_uri": "https://localhost:8080/",
     "height": 130
    },
    "colab_type": "code",
    "id": "SZml-je9pstB",
    "outputId": "cdb2571d-dd3d-49cf-b8d6-0f4b6e3d3e39"
   },
   "outputs": [
    {
     "ename": "SyntaxError",
     "evalue": "ignored",
     "output_type": "error",
     "traceback": [
      "\u001b[0;36m  File \u001b[0;32m\"<fstring>\"\u001b[0;36m, line \u001b[0;32m2\u001b[0m\n\u001b[0;31m    $('.pop').on('click', function () {\u001b[0m\n\u001b[0m    ^\u001b[0m\n\u001b[0;31mSyntaxError\u001b[0m\u001b[0;31m:\u001b[0m invalid syntax\n"
     ]
    }
   ],
   "source": [
    "result = '''\n",
    "<u style='text-decoration:underline; text-decoration-color:#906fa8; font-weight: bold; text-decoration-style: wavy'>평등은 자유와 더불어 근대 사회의 핵심 이념으로 자리 잡고있다.</u> 인간은 가령 인종이나 성별과 상관없이 누구나 평등하다고 생각한다. 모든 인간은 평등하다고 말하는데, 이 말은 무슨 뜻일까? <mark style='background-color:#F9D877'>그리고</mark> 그 근거는 무엇인가?\n",
    "일단 이 말을 모든 인간을 모든 측면에서 똑같이 대우하는 절대칙 평등으로 생각하는 이는 없다. 인간은 저마다 다르게 가지고 대어난 능력과 소질을 똑같게 만들 수 없기 때문이다. 절대적 평등은 개인의 개성이냐 자율성 등의 가치와 충돌하기도 한다. 평등에 대한 요구는 모든 불평등을 악으로 보는 것이 아니라 충분한 이유가 제시되지 않은 불평등을 제거하는 데 목표를 두고 있다. <u style='text-decoration:underline; text-decoration-color:#906fa8; font-weight: bold; text-decoration-style: wavy'>‘이유 없는 차별 금지’라는 조건적 평등 원칙은 차별 대우를 할 때는 이유를 제시할 것을 요구하고 있다.</u> 이것은 어떤 이유가 제시된다면 특정한 부류에 속하는 사람들에게는 평등한 대우를, 그 부류에 속하지 않는 사람들에게는 차별저 대우를 하는 것을 허용한다. <mark style='background-color:#F9D877'> 그렇다면</mark> 사람들을 특정한 부류로 구분하는 기준은 무엇인가? 이것은 <mark style='background-color:#F9D877'> 바로</mark> 평등의 근거에 대한 물음이다.\n",
    "근대의 여러 인권 선언에 나타난 평등 개념은 개인들 사이의 평등성을 타고난 자연적 권리로 간주하였다. <u style='text-decoration:underline; text-decoration-color:#906fa8; font-weight: bold; text-decoration-style: wavy'>하지만 이러한 자연권 이론은 무엇이 자연적 권리이고 권리의 존재가 자명한 이유가 무엇인지 등의 문제에 부딪히게 된다.</u> <mark style='background-color:#F9D877'> 그래서</mark> 롤스는 기존의 자연권 사상에 의존하지 않는 방시으로 인간 평등의 근거를 마런하려고 한다. 그는 어떤 규칙이 공평하고 일관되게 운영되며, 그 규칙에 따라 유사한 경우는 유사하게 취급된다면 형식적 정의는 실현된다고 본다. <mark style='background-color:#F9D877'> 하지만</mark> 롤스는 형식저 정의에 따라 규칙을 준수하는 것만으로는 정의를 담보할 수 없다고 생각한다. 그 규칙이 더 높은 도덕적 권위를 지닌 다른 이넘과 충돌할 수 었기에, 실질적 정의가 보장되기 위해서는 규칙의 내용이 중요한 것이다.\n",
    "<u style='text-decoration:underline; text-decoration-color:#906fa8; font-weight: bold; text-decoration-style: wavy'>롤스는 인간 평등의 근거를 설명하면서 영역 성질 (range property) 개념을 도입한다.</u> <mark style='background-color:#F9D877'> 예를 들어</mark> 어떤 원의 내부에 있는 점들은 그 위치가 서로 다르지만 원의 내부에 있다는 점에서 동일한 영역 성질을 갖는다. <mark style='background-color:#F9D877'> 반면에</mark> 원의 내부에 있는 집과 원의 외부에 였는 점은원의 경계선을 기준으로 서로 다른 영역 성질을 갖는다. 그는 평등한 대우를 받기 위한 영역 성질로서 ‘도덕적 인격 을 제시한다. 도덕적 인격이란 도덕적 호소가 가능하고 그런 호소에 관심을 기이는 능력이 있다는 것인데, 이 능력을 최소치만 갖고 있다면 평등한 대우에 대한 권한을 갖게 된다.\n",
    "도덕적 인격이라고 해서 도덕적으로 훌륭하다는 뜻이 아니라 도덕과 무관하다는 말과 대비되는 뜻으로 쓰고 있다. <mark style='background-color:#F9D877'> 그런데</mark> 어린 아이는 인격체로서의 최소한의 기준을 충족하고 있는지가 논란이 될 수 있다. <u style='text-decoration:underline; text-decoration-color:#906fa8; font-weight: bold; text-decoration-style: wavy'>이에 대해 롤스는 도덕적 인격을 규정하는 최소한의 요구 조건은 잠재적 능력이지 그것의 실현 여부가 아니기에 어린 아이도 평등한 존재라고 말한다.</u> 싱어는 위와 같은 롤스의 시도를 비판한다. 도덕에 대한 민감성의 수준은 사람에 따라 다르다. <mark style='background-color:#F9D877'> 그래서</mark> 도덕적 인격의 능력이 그렇게 중요하다면 그것을 갖춘 정도에 따라 도덕적 위계를 다르게 하지 말아야 할 이유가 분명하지 않다고 말한다.\n",
    "'''\n",
    "result = [i for i in result.split('\\n') if i]\n",
    "\n",
    "html = f'''\n",
    "        <!--Grid row-->\n",
    "        <div class=\"row text-left\" style=\"font-family: 'Jua',sans-serif; font-size: large\">\n",
    "\n",
    "            <!--Grid column-->\n",
    "            <div class=\"col-md-7\">\n",
    "                <hr>\n",
    "\n",
    "                <!--Small news-->\n",
    "                <div class=\"row-eq-height\">\n",
    "                    <div class=\"col-md-12\" style=\"line-height: 40px\">\n",
    "                        <p class=\"dark-grey-text\">\n",
    "                            <mark><strong>First Paragraph</strong></mark>\n",
    "                        </p>\n",
    "\n",
    "                        {result[0]}\n",
    "\n",
    "                        <button class=\"fas fa-angle-right float-right\" data-toggle=\"collapse\"\n",
    "                                href=\"#P1\"></button>\n",
    "                    </div>\n",
    "                </div>\n",
    "            </div>\n",
    "            <div class=\"col-md-5\">\n",
    "                <hr>\n",
    "                <!--Image-->\n",
    "                <div class=\"row-eq-height\">\n",
    "                    <div class=\"col-md-12\">\n",
    "                        <div class=\"pop img-wrapper collapse in view overlay rounded z-depth-1-half mb-3\" id=\"P1\">\n",
    "                            <img\n",
    "                                    alt=\"Sample post image\"\n",
    "                                    class=\"img-fluid\"\n",
    "                                    src=\"https://raw.githubusercontent.com/yoonkim313/dataCampusProject-Team10/master/flask/exslide1.png\">\n",
    "                            <a>\n",
    "                                <div class=\"mask rgba-white-slight\"></div>\n",
    "                            </a>\n",
    "                        </div>\n",
    "                        <div aria-hidden=\"true\" aria-labelledby=\"myModalLabel\" class=\"modal fade\" id=\"imagemodal\"\n",
    "                             role=\"dialog\" tabindex=\"-1\">\n",
    "                            <div class=\"modal-dialog\">\n",
    "                                <div class=\"modal-content\">\n",
    "                                    <div class=\"modal-body\">\n",
    "                                        <button class=\"close\" data-dismiss=\"modal\" type=\"button\"><span\n",
    "                                                aria-hidden=\"true\">&times;</span><span class=\"sr-only\">Close</span>\n",
    "                                        </button>\n",
    "                                        <img class=\"imagepreview\" src=\"\" style=\"width: 100%;\">\n",
    "                                    </div>\n",
    "                                </div>\n",
    "                            </div>\n",
    "                        </div>\n",
    "                    </div>\n",
    "                </div>\n",
    "\n",
    "            </div>\n",
    "\n",
    "\n",
    "            <!--/Small news-->\n",
    "            <div class=\"col-md-7\">\n",
    "                <hr>\n",
    "\n",
    "                <!--Small news-->\n",
    "                <div class=\"row-eq-height\">\n",
    "                    <!--Excerpt-->\n",
    "                    <div class=\"col-md-12\">\n",
    "                        <p class=\"dark-grey-text\">\n",
    "                            <mark><strong>Second Paragraph</strong></mark>\n",
    "                        </p>\n",
    "                        <a style=\"line-height: 40px\">\n",
    "\n",
    "                            {result[1]}\n",
    "\n",
    "                            <button class=\"fas fa-angle-right float-right\" data-toggle=\"collapse\" href=\"#P2\"></button>\n",
    "                        </a>\n",
    "                    </div>\n",
    "                </div>\n",
    "            </div>\n",
    "            <div class=\"col-md-5\">\n",
    "                <hr>\n",
    "                <!--Image-->\n",
    "                <div class=\"row-eq-height\">\n",
    "                    <div class=\"col-md-12\">\n",
    "                        <div class=\"pop collapse in view overlay rounded z-depth-1-half mb-3\" id=\"P2\">\n",
    "                            <img alt=\"Sample post image\"\n",
    "                                 class=\"img-fluid\"\n",
    "                                 src=\"https://raw.githubusercontent.com/yoonkim313/dataCampusProject-Team10/master/flask/exslide1.png\">\n",
    "                            <a>\n",
    "                                <div class=\"mask rgba-white-slight\"></div>\n",
    "                            </a>\n",
    "                        </div>\n",
    "                        <div aria-hidden=\"true\" aria-labelledby=\"myModalLabel\" class=\"modal fade\" id=\"imagemodal\"\n",
    "                             role=\"dialog\" tabindex=\"-1\">\n",
    "                            <div class=\"modal-dialog\">\n",
    "                                <div class=\"modal-content\">\n",
    "                                    <div class=\"modal-body\">\n",
    "                                        <button class=\"close\" data-dismiss=\"modal\" type=\"button\"><span\n",
    "                                                aria-hidden=\"true\">&times;</span><span class=\"sr-only\">Close</span>\n",
    "                                        </button>\n",
    "                                        <img class=\"imagepreview\" src=\"\" style=\"width: 100%;\">\n",
    "                                    </div>\n",
    "                                </div>\n",
    "                            </div>\n",
    "                        </div>\n",
    "                    </div>\n",
    "                </div>\n",
    "            </div>\n",
    "\n",
    "            <div class=\"col-md-7\">\n",
    "                <hr>\n",
    "\n",
    "                <!--Small news-->\n",
    "                <div class=\"row-eq-height\">\n",
    "                    <!--Excerpt-->\n",
    "                    <div class=\"col-md-12\">\n",
    "                        <p class=\"dark-grey-text\">\n",
    "                            <mark><strong>Third Paragraph</strong></mark>\n",
    "                        </p>\n",
    "                        <a style=\"line-height: 40px\">\n",
    "                            {result[2]}\n",
    "                            <button class=\"fas fa-angle-right float-right\" data-toggle=\"collapse\" href=\"#P3\"></button>\n",
    "                        </a>\n",
    "                    </div>\n",
    "                </div>\n",
    "            </div>\n",
    "            <div class=\"col-md-5\">\n",
    "                <hr>\n",
    "                <!--Image-->\n",
    "                <div class=\"row-eq-height\">\n",
    "                    <div class=\"col-md-12\">\n",
    "                        <div class=\"pop collapse in view overlay rounded z-depth-1-half mb-3\" id=\"P3\">\n",
    "                            <img alt=\"Sample post image\"\n",
    "                                 class=\"img-fluid\"\n",
    "                                 src=\"https://raw.githubusercontent.com/yoonkim313/dataCampusProject-Team10/master/flask/exslide1.png\">\n",
    "                            <a>\n",
    "                                <div class=\"mask rgba-white-slight\"></div>\n",
    "                            </a>\n",
    "                        </div>\n",
    "                        <div aria-hidden=\"true\" aria-labelledby=\"myModalLabel\" class=\"modal fade\" id=\"imagemodal\"\n",
    "                             role=\"dialog\" tabindex=\"-1\">\n",
    "                            <div class=\"modal-dialog\">\n",
    "                                <div class=\"modal-content\">\n",
    "                                    <div class=\"modal-body\">\n",
    "                                        <button class=\"close\" data-dismiss=\"modal\" type=\"button\"><span\n",
    "                                                aria-hidden=\"true\">&times;</span><span class=\"sr-only\">Close</span>\n",
    "                                        </button>\n",
    "                                        <img class=\"imagepreview\" src=\"\" style=\"width: 100%;\">\n",
    "                                    </div>\n",
    "                                </div>\n",
    "                            </div>\n",
    "                        </div>\n",
    "                    </div>\n",
    "                </div>\n",
    "                \n",
    "            </div>\n",
    "\n",
    "\n",
    "            <!--/Small news-->\n",
    "            <div class=\"col-md-7\">\n",
    "                <hr>\n",
    "\n",
    "                <!--Small news-->\n",
    "                <div class=\"row-eq-height\">\n",
    "                    <!--Excerpt-->\n",
    "                    <div class=\"col-md-12\">\n",
    "                        <p class=\"dark-grey-text\">\n",
    "                            <mark><strong>Second Paragraph</strong></mark>\n",
    "                        </p>\n",
    "                        <a style=\"line-height: 40px\">\n",
    "                        {result[3]}\n",
    "                            <button class=\"fas fa-angle-right float-right\" data-toggle=\"collapse\" href=\"#P2\"></button>\n",
    "                        </a>\n",
    "                    </div>\n",
    "                </div>\n",
    "            </div>\n",
    "            <div class=\"col-md-5\">\n",
    "                <hr>\n",
    "                <!--Image-->\n",
    "                <div class=\"row-eq-height\">\n",
    "                    <div class=\"col-md-12\">\n",
    "                        <div class=\"pop collapse in view overlay rounded z-depth-1-half mb-3\" id=\"P2\">\n",
    "                            <img alt=\"Sample post image\"\n",
    "                                 class=\"img-fluid\"\n",
    "                                 src=\"https://raw.githubusercontent.com/yoonkim313/dataCampusProject-Team10/master/flask/exslide1.png\">\n",
    "                            <a>\n",
    "                                <div class=\"mask rgba-white-slight\"></div>\n",
    "                            </a>\n",
    "                        </div>\n",
    "                        <div aria-hidden=\"true\" aria-labelledby=\"myModalLabel\" class=\"modal fade\" id=\"imagemodal\"\n",
    "                             role=\"dialog\" tabindex=\"-1\">\n",
    "                            <div class=\"modal-dialog\">\n",
    "                                <div class=\"modal-content\">\n",
    "                                    <div class=\"modal-body\">\n",
    "                                        <button class=\"close\" data-dismiss=\"modal\" type=\"button\"><span\n",
    "                                                aria-hidden=\"true\">&times;</span><span class=\"sr-only\">Close</span>\n",
    "                                        </button>\n",
    "                                        <img class=\"imagepreview\" src=\"\" style=\"width: 100%;\">\n",
    "                                    </div>\n",
    "                                </div>\n",
    "                            </div>\n",
    "                        </div>\n",
    "                    </div>\n",
    "                </div>\n",
    "            </div>\n",
    "            <!--/Small news-->\n",
    "            <div class=\"col-md-7\">\n",
    "                <hr>\n",
    "\n",
    "                <!--Small news-->\n",
    "                <div class=\"row-eq-height\">\n",
    "                    <!--Excerpt-->\n",
    "                    <div class=\"col-md-12\">\n",
    "                        <p class=\"dark-grey-text\">\n",
    "                            <mark><strong>Second Paragraph</strong></mark>\n",
    "                        </p>\n",
    "                        <a style=\"line-height: 40px\">\n",
    "\n",
    "                            {result[4]}\n",
    "\n",
    "                            <button class=\"fas fa-angle-right float-right\" data-toggle=\"collapse\" href=\"#P2\"></button>\n",
    "                        </a>\n",
    "                    </div>\n",
    "                </div>\n",
    "            </div>\n",
    "            <div class=\"col-md-5\">\n",
    "                <hr>\n",
    "                <!--Image-->\n",
    "                <div class=\"row-eq-height\">\n",
    "                    <div class=\"col-md-12\">\n",
    "                        <div class=\"pop collapse in view overlay rounded z-depth-1-half mb-3\" id=\"P2\">\n",
    "                            <img alt=\"Sample post image\"\n",
    "                                 class=\"img-fluid\"\n",
    "                                 src=\"https://raw.githubusercontent.com/yoonkim313/dataCampusProject-Team10/master/flask/exslide1.png\">\n",
    "                            <a>\n",
    "                                <div class=\"mask rgba-white-slight\"></div>\n",
    "                            </a>\n",
    "                        </div>\n",
    "                        <div aria-hidden=\"true\" aria-labelledby=\"myModalLabel\" class=\"modal fade\" id=\"imagemodal\"\n",
    "                             role=\"dialog\" tabindex=\"-1\">\n",
    "                            <div class=\"modal-dialog\">\n",
    "                                <div class=\"modal-content\">\n",
    "                                    <div class=\"modal-body\">\n",
    "                                        <button class=\"close\" data-dismiss=\"modal\" type=\"button\"><span\n",
    "                                                aria-hidden=\"true\">&times;</span><span class=\"sr-only\">Close</span>\n",
    "                                        </button>\n",
    "                                        <img class=\"imagepreview\" src=\"\" style=\"width: 100%;\">\n",
    "                                    </div>\n",
    "                                </div>\n",
    "                            </div>\n",
    "                        </div>\n",
    "                    </div>\n",
    "                </div>\n",
    "            </div>\n",
    "        </div>\n",
    "        \n",
    "        <!--Grid column-->\n",
    "        <!-- Creates the bootstrap modal where the image will appear -->\n",
    "        <script type=\"text/javascript\">\n",
    "            $(function () {\n",
    "                $('.pop').on('click', function () {\n",
    "                    $('.imagepreview').attr('src', $(this).find('img').attr('src'));\n",
    "                    $('#imagemodal').modal('show');\n",
    "                });\n",
    "            });\n",
    "        </script>\n",
    "    </div>\n",
    "\n",
    "</main>\n",
    "<!--Footer-->\n",
    "<footer class=\"page-footer text-center font-small mdb-color darken-2 mt-4 wow fadeIn\">\n",
    "    <hr class=\"my-4\">\n",
    "\n",
    "    <!-- Social icons -->\n",
    "    <div class=\"pb-4\">\n",
    "\n",
    "        <a href=\"https://github.com/yoonkim313/dataCampusProject-Team10\" target=\"_blank\">\n",
    "            <i class=\"fab fa-github mr-3\"> Visit our Github! </i>\n",
    "        </a>\n",
    "\n",
    "    </div>\n",
    "    <!-- Social icons -->\n",
    "\n",
    "    <!--Copyright-->\n",
    "    <div class=\"footer-copyright py-3\">\n",
    "        © 2020 Copyright:\n",
    "        <a target=\"_blank\"> ACatcher.com </a>\n",
    "    </div>\n",
    "    <!--/.Copyright-->\n",
    "\n",
    "</footer>\n",
    "<!--/.Footer-->\n",
    "\n",
    "<!-- SCRIPTS -->\n",
    "<!-- JQuery -->\n",
    "<script src=\"../static/js/jquery-3.4.1.min.js\" type=\"text/javascript\"></script>\n",
    "<!-- Bootstrap tooltips -->\n",
    "<script src=\"../static/js/popper.min.js\" type=\"text/javascript\"></script>\n",
    "<!-- Bootstrap core JavaScript -->\n",
    "<script src=\"../static/js/bootstrap.min.js\" type=\"text/javascript\"></script>\n",
    "<!-- MDB core JavaScript -->\n",
    "<script src=\"../static/js/mdb.min.js\" type=\"text/javascript\"></script>\n",
    "<!-- Initializations -->\n",
    "<script type=\"text/javascript\">\n",
    "    // Animations initialization\n",
    "    new WOW().init();\n",
    "\n",
    "</script>\n",
    "</body>\n",
    "\n",
    "</html>'''\n"
   ]
  },
  {
   "cell_type": "code",
   "execution_count": null,
   "metadata": {
    "colab": {
     "base_uri": "https://localhost:8080/",
     "height": 408
    },
    "colab_type": "code",
    "id": "vfbObqxyXZM-",
    "outputId": "0665a91a-6456-4ae9-a461-0372a9bf3a47"
   },
   "outputs": [
    {
     "name": "stdout",
     "output_type": "stream",
     "text": [
      " * Serving Flask app \"__main__\" (lazy loading)\n",
      " * Environment: production\n",
      "\u001b[31m   WARNING: This is a development server. Do not use it in a production deployment.\u001b[0m\n",
      "\u001b[2m   Use a production WSGI server instead.\u001b[0m\n",
      " * Debug mode: off\n"
     ]
    },
    {
     "name": "stderr",
     "output_type": "stream",
     "text": [
      " * Running on http://127.0.0.1:5000/ (Press CTRL+C to quit)\n"
     ]
    },
    {
     "name": "stdout",
     "output_type": "stream",
     "text": [
      " * Running on http://4295a85415f6.ngrok.io\n",
      " * Traffic stats available on http://127.0.0.1:4040\n"
     ]
    },
    {
     "name": "stderr",
     "output_type": "stream",
     "text": [
      "127.0.0.1 - - [27/Aug/2020 16:21:01] \"\u001b[37mGET / HTTP/1.1\u001b[0m\" 200 -\n",
      "127.0.0.1 - - [27/Aug/2020 16:21:01] \"\u001b[37mGET /static/css/bootstrap.min.css HTTP/1.1\u001b[0m\" 200 -\n",
      "127.0.0.1 - - [27/Aug/2020 16:21:01] \"\u001b[37mGET /static/css/mdb.min.css HTTP/1.1\u001b[0m\" 200 -\n",
      "127.0.0.1 - - [27/Aug/2020 16:21:01] \"\u001b[37mGET /static/css/style.min.css HTTP/1.1\u001b[0m\" 200 -\n",
      "127.0.0.1 - - [27/Aug/2020 16:21:01] \"\u001b[37mGET /static/js/popper.min.js HTTP/1.1\u001b[0m\" 200 -\n",
      "127.0.0.1 - - [27/Aug/2020 16:21:01] \"\u001b[37mGET /static/js/jquery-3.4.1.min.js HTTP/1.1\u001b[0m\" 200 -\n",
      "127.0.0.1 - - [27/Aug/2020 16:21:01] \"\u001b[37mGET /static/js/bootstrap.min.js HTTP/1.1\u001b[0m\" 200 -\n",
      "127.0.0.1 - - [27/Aug/2020 16:21:01] \"\u001b[37mGET /static/js/mdb.min.js HTTP/1.1\u001b[0m\" 200 -\n",
      "127.0.0.1 - - [27/Aug/2020 16:21:02] \"\u001b[37mGET /static/img/svg/arrow_left.svg HTTP/1.1\u001b[0m\" 200 -\n",
      "127.0.0.1 - - [27/Aug/2020 16:21:02] \"\u001b[37mGET /static/img/svg/arrow_right.svg HTTP/1.1\u001b[0m\" 200 -\n",
      "127.0.0.1 - - [27/Aug/2020 16:21:02] \"\u001b[37mGET /static/font/roboto/Roboto-Light.woff2 HTTP/1.1\u001b[0m\" 200 -\n",
      "127.0.0.1 - - [27/Aug/2020 16:21:02] \"\u001b[37mGET /static/font/roboto/Roboto-Regular.woff2 HTTP/1.1\u001b[0m\" 200 -\n",
      "127.0.0.1 - - [27/Aug/2020 16:21:02] \"\u001b[33mGET /favicon.ico HTTP/1.1\u001b[0m\" 404 -\n",
      "127.0.0.1 - - [27/Aug/2020 16:21:07] \"\u001b[37mPOST / HTTP/1.1\u001b[0m\" 200 -\n"
     ]
    }
   ],
   "source": [
    "app = Flask(__name__)\n",
    "run_with_ngrok(app)\n",
    "\n",
    "basedir = '/content/drive/Shared drives/BigDATA TEAM 10/dataCampusProject-Team10/flask' # 현재 파일의 dir 절대경로, python console 에 쓰면 동일 결과\n",
    "upload_dir = os.path.join(basedir, 'uploads')  # basedir 의 uploads 에 파일 저장\n",
    "#################################################################################################################\n",
    "\n",
    "admin = Admin(name='Uploaded Files')\n",
    "admin.init_app(app)  # 이제 실행하고 주소창에 /admin 하면 창 나옴\n",
    "dropzone = Dropzone(app)\n",
    "admin.add_view(FileAdmin(upload_dir, name='FILES'))  # /admin 가면 올린 파일 관리 가능\n",
    "app.config['DROPZONE_ALLOWED_FILE_CUSTOM'] = True\n",
    "app.config['DROPZONE_ALLOWED_FILE_TYPE'] = 'image/*, .pdf, .txt'\n",
    "#################################################################################################################\n",
    "\n",
    "\n",
    "@app.route(\"/\", methods=['GET', 'POST'])\n",
    "def upload():\n",
    "    if request.method == 'POST':\n",
    "        f = request.files.get('file')\n",
    "        f.save(os.path.join(upload_dir, f.filename))\n",
    "        images = convert_from_path(os.path.join(upload_dir, f.filename))\n",
    "        for i, image in enumerate(images):\n",
    "            fname = \"uploads/image\" + str(i) + \".jpg\"\n",
    "            image.save(fname, \"JPEG\")\n",
    "    return render_template('homepage.html')\n",
    "##############################################################################\n",
    "\n",
    "\n",
    "@app.route(\"/result\", methods=['GET', 'POST'])\n",
    "def upload2():\n",
    "    if request.method == 'POST':\n",
    "        f = request.files.get('file')\n",
    "        f.save(os.path.join(upload_dir, f.filename))\n",
    "    return render_template('result.html')\n",
    "\n",
    "\n",
    "# def main():\n",
    "#     txt = ocr(text.jpeg)\n",
    "#     html=highlight.main(txt)\n",
    "#     processed = process(html)\n",
    "#     return processed\n",
    "# f.save(os.path.join(upload_dir, f.filename))\n",
    "\n",
    "###############################################################################\n",
    "if __name__ == '__main__':\n",
    "    app.run()"
   ]
  },
  {
   "cell_type": "code",
   "execution_count": null,
   "metadata": {
    "colab": {},
    "colab_type": "code",
    "id": "AJAP9XuvT6jN"
   },
   "outputs": [],
   "source": [
    "! python3 /content/drive/Shared drives/BigDATA TEAM 10/dataCampusProject-Team10/ocr/deep-text-recognition/train.py"
   ]
  },
  {
   "cell_type": "code",
   "execution_count": null,
   "metadata": {
    "colab": {},
    "colab_type": "code",
    "id": "v_AS4GNwUQTk"
   },
   "outputs": [],
   "source": [
    "!python /content/drive/Shared drives/BigDATA TEAM 10/dataCampusProject-Team10/main.ipynb"
   ]
  }
 ],
 "metadata": {
  "colab": {
   "include_colab_link": true,
   "name": "app.ipynb",
   "provenance": []
  },
  "kernelspec": {
   "display_name": "Python 3",
   "language": "python",
   "name": "python3"
  },
  "language_info": {
   "codemirror_mode": {
    "name": "ipython",
    "version": 3
   },
   "file_extension": ".py",
   "mimetype": "text/x-python",
   "name": "python",
   "nbconvert_exporter": "python",
   "pygments_lexer": "ipython3",
   "version": "3.6.7"
  }
 },
 "nbformat": 4,
 "nbformat_minor": 1
}
