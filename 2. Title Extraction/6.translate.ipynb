{
 "cells": [
  {
   "cell_type": "code",
   "execution_count": 1,
   "metadata": {},
   "outputs": [],
   "source": [
    "import requests\n",
    "import numpy as np\n",
    "import pandas as pd\n",
    "import sys\n",
    "from io import BytesIO\n",
    "import json\n",
    "import os\n",
    "import re"
   ]
  },
  {
   "cell_type": "markdown",
   "metadata": {},
   "source": [
    "Data set"
   ]
  },
  {
   "cell_type": "code",
   "execution_count": 2,
   "metadata": {},
   "outputs": [],
   "source": [
    "f = open('./translate\\SemEval2010_task8_all_data\\SemEval2010_task8_training/TRAIN_FILE.txt')\n",
    "\n",
    "sentence_list = []\n",
    "\n",
    "relation_list = []\n",
    "\n",
    "comment_list = []\n",
    "    \n",
    "n = 0\n",
    "\n",
    "for line in f.readlines():\n",
    "    \n",
    "    n += 1\n",
    "    \n",
    "    if n % 4 ==0:\n",
    "        pass\n",
    "\n",
    "    if n % 4 ==1:\n",
    "        m = re.compile('[\"]').search(line).start()\n",
    "        line = line[m:].replace('\"','').strip()\n",
    "        sentence_list.append(line)\n",
    "        \n",
    "    if n % 4 ==2:\n",
    "        relation_list.append(line.strip())\n",
    "        \n",
    "    if n % 4 ==3:\n",
    "        comment_list.append(line.strip())\n",
    "    \n",
    "\n",
    "train_df = pd.DataFrame({'sentence': sentence_list,          \n",
    "                   'relation': relation_list, \n",
    "                   'commnet': comment_list},\n",
    "                 )"
   ]
  },
  {
   "cell_type": "code",
   "execution_count": 3,
   "metadata": {
    "scrolled": true
   },
   "outputs": [
    {
     "data": {
      "text/html": [
       "<div>\n",
       "<style scoped>\n",
       "    .dataframe tbody tr th:only-of-type {\n",
       "        vertical-align: middle;\n",
       "    }\n",
       "\n",
       "    .dataframe tbody tr th {\n",
       "        vertical-align: top;\n",
       "    }\n",
       "\n",
       "    .dataframe thead th {\n",
       "        text-align: right;\n",
       "    }\n",
       "</style>\n",
       "<table border=\"1\" class=\"dataframe\">\n",
       "  <thead>\n",
       "    <tr style=\"text-align: right;\">\n",
       "      <th></th>\n",
       "      <th>sentence</th>\n",
       "      <th>relation</th>\n",
       "      <th>commnet</th>\n",
       "    </tr>\n",
       "  </thead>\n",
       "  <tbody>\n",
       "    <tr>\n",
       "      <th>0</th>\n",
       "      <td>The system as described above has its greatest...</td>\n",
       "      <td>Component-Whole(e2,e1)</td>\n",
       "      <td>Comment: Not a collection: there is structure ...</td>\n",
       "    </tr>\n",
       "    <tr>\n",
       "      <th>1</th>\n",
       "      <td>The &lt;e1&gt;child&lt;/e1&gt; was carefully wrapped and b...</td>\n",
       "      <td>Other</td>\n",
       "      <td>Comment:</td>\n",
       "    </tr>\n",
       "    <tr>\n",
       "      <th>2</th>\n",
       "      <td>The &lt;e1&gt;author&lt;/e1&gt; of a keygen uses a &lt;e2&gt;dis...</td>\n",
       "      <td>Instrument-Agency(e2,e1)</td>\n",
       "      <td>Comment:</td>\n",
       "    </tr>\n",
       "    <tr>\n",
       "      <th>3</th>\n",
       "      <td>A misty &lt;e1&gt;ridge&lt;/e1&gt; uprises from the &lt;e2&gt;su...</td>\n",
       "      <td>Other</td>\n",
       "      <td>Comment:</td>\n",
       "    </tr>\n",
       "    <tr>\n",
       "      <th>4</th>\n",
       "      <td>The &lt;e1&gt;student&lt;/e1&gt; &lt;e2&gt;association&lt;/e2&gt; is t...</td>\n",
       "      <td>Member-Collection(e1,e2)</td>\n",
       "      <td>Comment:</td>\n",
       "    </tr>\n",
       "  </tbody>\n",
       "</table>\n",
       "</div>"
      ],
      "text/plain": [
       "                                            sentence  \\\n",
       "0  The system as described above has its greatest...   \n",
       "1  The <e1>child</e1> was carefully wrapped and b...   \n",
       "2  The <e1>author</e1> of a keygen uses a <e2>dis...   \n",
       "3  A misty <e1>ridge</e1> uprises from the <e2>su...   \n",
       "4  The <e1>student</e1> <e2>association</e2> is t...   \n",
       "\n",
       "                   relation                                            commnet  \n",
       "0    Component-Whole(e2,e1)  Comment: Not a collection: there is structure ...  \n",
       "1                     Other                                           Comment:  \n",
       "2  Instrument-Agency(e2,e1)                                           Comment:  \n",
       "3                     Other                                           Comment:  \n",
       "4  Member-Collection(e1,e2)                                           Comment:  "
      ]
     },
     "execution_count": 3,
     "metadata": {},
     "output_type": "execute_result"
    }
   ],
   "source": [
    "train_df.head(5)"
   ]
  },
  {
   "cell_type": "code",
   "execution_count": 4,
   "metadata": {},
   "outputs": [],
   "source": [
    "f = open('./translate\\SemEval2010_task8_all_data\\SemEval2010_task8_testing/TEST_FILE.txt')\n",
    "\n",
    "sentence_list = []\n",
    "\n",
    "for line in f.readlines():\n",
    "    m = re.compile('[\"]').search(line).start()\n",
    "    line = line[m:].replace('\"','').strip()\n",
    "    sentence_list.append(line)    \n",
    "\n",
    "test_df = pd.DataFrame({'sentence': sentence_list})"
   ]
  },
  {
   "cell_type": "code",
   "execution_count": 5,
   "metadata": {},
   "outputs": [
    {
     "data": {
      "text/html": [
       "<div>\n",
       "<style scoped>\n",
       "    .dataframe tbody tr th:only-of-type {\n",
       "        vertical-align: middle;\n",
       "    }\n",
       "\n",
       "    .dataframe tbody tr th {\n",
       "        vertical-align: top;\n",
       "    }\n",
       "\n",
       "    .dataframe thead th {\n",
       "        text-align: right;\n",
       "    }\n",
       "</style>\n",
       "<table border=\"1\" class=\"dataframe\">\n",
       "  <thead>\n",
       "    <tr style=\"text-align: right;\">\n",
       "      <th></th>\n",
       "      <th>sentence</th>\n",
       "    </tr>\n",
       "  </thead>\n",
       "  <tbody>\n",
       "    <tr>\n",
       "      <th>0</th>\n",
       "      <td>The most common &lt;e1&gt;audits&lt;/e1&gt; were about &lt;e2...</td>\n",
       "    </tr>\n",
       "    <tr>\n",
       "      <th>1</th>\n",
       "      <td>The &lt;e1&gt;company&lt;/e1&gt; fabricates plastic &lt;e2&gt;ch...</td>\n",
       "    </tr>\n",
       "    <tr>\n",
       "      <th>2</th>\n",
       "      <td>The school &lt;e1&gt;master&lt;/e1&gt; teaches the lesson ...</td>\n",
       "    </tr>\n",
       "    <tr>\n",
       "      <th>3</th>\n",
       "      <td>The suspect dumped the dead &lt;e1&gt;body&lt;/e1&gt; into...</td>\n",
       "    </tr>\n",
       "    <tr>\n",
       "      <th>4</th>\n",
       "      <td>Avian &lt;e1&gt;influenza&lt;/e1&gt; is an infectious dise...</td>\n",
       "    </tr>\n",
       "  </tbody>\n",
       "</table>\n",
       "</div>"
      ],
      "text/plain": [
       "                                            sentence\n",
       "0  The most common <e1>audits</e1> were about <e2...\n",
       "1  The <e1>company</e1> fabricates plastic <e2>ch...\n",
       "2  The school <e1>master</e1> teaches the lesson ...\n",
       "3  The suspect dumped the dead <e1>body</e1> into...\n",
       "4  Avian <e1>influenza</e1> is an infectious dise..."
      ]
     },
     "execution_count": 5,
     "metadata": {},
     "output_type": "execute_result"
    }
   ],
   "source": [
    "test_df.head()"
   ]
  },
  {
   "cell_type": "code",
   "execution_count": 6,
   "metadata": {},
   "outputs": [],
   "source": [
    "f = open('./translate\\Portuguese/DBpediaRelations-PT-0.2.txt',encoding='utf8')\n",
    "sentence_list = []\n",
    "mc_list = []\n",
    "e1_list = [] \n",
    "type1_list = []\n",
    "e2_list = []\n",
    "type2_list = []\n",
    "rel_type_list = []\n",
    "\n",
    "for line in f.readlines():\n",
    "    if 'SENTENCE' in line:\n",
    "        m = re.compile('SENTENCE').search(line).end()\n",
    "        line = line[m+2:].replace('\"','').strip()\n",
    "        sentence_list.append(line)\n",
    "        \n",
    "    if 'MANUALLY CHECKED' in line:\n",
    "        m = re.compile('MANUALLY CHECKED').search(line).end()\n",
    "        line = line[m+2:].replace('\"','').strip()\n",
    "        mc_list.append(line)\n",
    "        \n",
    "    if 'ENTITY1' in line:\n",
    "        m = re.compile('ENTITY1').search(line).end()\n",
    "        line = line[m+2:].replace('\"','').strip()\n",
    "        e1_list.append(line)\n",
    "        \n",
    "    if 'TYPE1' in line:\n",
    "        m = re.compile('TYPE1').search(line).end()\n",
    "        line = line[m+2:].replace('\"','').strip()\n",
    "        type1_list.append(line)\n",
    "        \n",
    "    if 'ENTITY2' in line:\n",
    "        m = re.compile('ENTITY2').search(line).end()\n",
    "        line = line[m+2:].replace('\"','').strip()\n",
    "        e2_list.append(line)\n",
    "        \n",
    "    if 'TYPE2' in line:\n",
    "        m = re.compile('TYPE2').search(line).end()\n",
    "        line = line[m+2:].replace('\"','').strip()\n",
    "        type2_list.append(line)\n",
    "        \n",
    "    if 'REL TYPE' in line:\n",
    "        m = re.compile('REL TYPE').search(line).end()\n",
    "        line = line[m+2:].replace('\"','').strip()\n",
    "        rel_type_list.append(line)\n",
    "\n",
    "polt_df = pd.DataFrame({'sentence': sentence_list,\n",
    "                        'manually checked': mc_list,\n",
    "                        'entitiy1': e1_list,\n",
    "                        'type1': type1_list,\n",
    "                        'entity2': e2_list,\n",
    "                        'type2': type2_list,\n",
    "                        'relation': rel_type_list}\n",
    "                      )\n",
    "# 647 번째 줄인가가 TYPE2 가 TYPE1로 되어있음"
   ]
  },
  {
   "cell_type": "code",
   "execution_count": 7,
   "metadata": {
    "scrolled": true
   },
   "outputs": [
    {
     "data": {
      "text/html": [
       "<div>\n",
       "<style scoped>\n",
       "    .dataframe tbody tr th:only-of-type {\n",
       "        vertical-align: middle;\n",
       "    }\n",
       "\n",
       "    .dataframe tbody tr th {\n",
       "        vertical-align: top;\n",
       "    }\n",
       "\n",
       "    .dataframe thead th {\n",
       "        text-align: right;\n",
       "    }\n",
       "</style>\n",
       "<table border=\"1\" class=\"dataframe\">\n",
       "  <thead>\n",
       "    <tr style=\"text-align: right;\">\n",
       "      <th></th>\n",
       "      <th>sentence</th>\n",
       "      <th>manually checked</th>\n",
       "      <th>entitiy1</th>\n",
       "      <th>type1</th>\n",
       "      <th>entity2</th>\n",
       "      <th>type2</th>\n",
       "      <th>relation</th>\n",
       "    </tr>\n",
       "  </thead>\n",
       "  <tbody>\n",
       "    <tr>\n",
       "      <th>0</th>\n",
       "      <td>A América Latina localiza-se totalmente no hem...</td>\n",
       "      <td>TRUE</td>\n",
       "      <td>América Latina</td>\n",
       "      <td>LOCATION</td>\n",
       "      <td>Argentina</td>\n",
       "      <td>LOCATION</td>\n",
       "      <td>locatedInArea</td>\n",
       "    </tr>\n",
       "    <tr>\n",
       "      <th>1</th>\n",
       "      <td>A América Latina não apresenta, ao contrário d...</td>\n",
       "      <td>TRUE</td>\n",
       "      <td>América Latina</td>\n",
       "      <td>LOCATION</td>\n",
       "      <td>Brasil</td>\n",
       "      <td>LOCATION</td>\n",
       "      <td>locatedInArea</td>\n",
       "    </tr>\n",
       "    <tr>\n",
       "      <th>2</th>\n",
       "      <td>A América Latina destaca-se ainda por sua prod...</td>\n",
       "      <td>TRUE</td>\n",
       "      <td>América Latina</td>\n",
       "      <td>LOCATION</td>\n",
       "      <td>Brasil</td>\n",
       "      <td>LOCATION</td>\n",
       "      <td>locatedInArea</td>\n",
       "    </tr>\n",
       "    <tr>\n",
       "      <th>3</th>\n",
       "      <td>Albert Einstein nasceu na região alemã de Würt...</td>\n",
       "      <td>TRUE</td>\n",
       "      <td>Albert Einstein</td>\n",
       "      <td>PERSON</td>\n",
       "      <td>Ulm</td>\n",
       "      <td>LOCATION</td>\n",
       "      <td>origin</td>\n",
       "    </tr>\n",
       "    <tr>\n",
       "      <th>4</th>\n",
       "      <td>Albert Einstein nasceu na região alemã de Würt...</td>\n",
       "      <td>TRUE</td>\n",
       "      <td>Albert Einstein</td>\n",
       "      <td>PERSON</td>\n",
       "      <td>Württemberg</td>\n",
       "      <td>LOCATION</td>\n",
       "      <td>origin</td>\n",
       "    </tr>\n",
       "  </tbody>\n",
       "</table>\n",
       "</div>"
      ],
      "text/plain": [
       "                                            sentence manually checked  \\\n",
       "0  A América Latina localiza-se totalmente no hem...             TRUE   \n",
       "1  A América Latina não apresenta, ao contrário d...             TRUE   \n",
       "2  A América Latina destaca-se ainda por sua prod...             TRUE   \n",
       "3  Albert Einstein nasceu na região alemã de Würt...             TRUE   \n",
       "4  Albert Einstein nasceu na região alemã de Würt...             TRUE   \n",
       "\n",
       "          entitiy1     type1      entity2     type2       relation  \n",
       "0   América Latina  LOCATION    Argentina  LOCATION  locatedInArea  \n",
       "1   América Latina  LOCATION       Brasil  LOCATION  locatedInArea  \n",
       "2   América Latina  LOCATION       Brasil  LOCATION  locatedInArea  \n",
       "3  Albert Einstein    PERSON          Ulm  LOCATION         origin  \n",
       "4  Albert Einstein    PERSON  Württemberg  LOCATION         origin  "
      ]
     },
     "execution_count": 7,
     "metadata": {},
     "output_type": "execute_result"
    }
   ],
   "source": [
    "polt_df.head(5)"
   ]
  },
  {
   "cell_type": "markdown",
   "metadata": {},
   "source": [
    "Translate function(Use Kakao API)"
   ]
  },
  {
   "cell_type": "code",
   "execution_count": 12,
   "metadata": {},
   "outputs": [],
   "source": [
    "MYAPP_KEY = '002558914cc8caacc923bbb4f9d6a772'"
   ]
  },
  {
   "cell_type": "code",
   "execution_count": 67,
   "metadata": {},
   "outputs": [],
   "source": [
    "MYAPP_KEY = '8a48460e4182b21c616442afc1e56aa0'"
   ]
  },
  {
   "cell_type": "code",
   "execution_count": 68,
   "metadata": {},
   "outputs": [],
   "source": [
    "header = {\n",
    "        \"Authorization\" : 'KakaoAK {}'.format(MYAPP_KEY)\n",
    "    }"
   ]
  },
  {
   "cell_type": "code",
   "execution_count": 14,
   "metadata": {},
   "outputs": [],
   "source": [
    "url = 'https://kapi.kakao.com/v1/translation/translate'"
   ]
  },
  {
   "cell_type": "code",
   "execution_count": null,
   "metadata": {},
   "outputs": [],
   "source": [
    "before_lang = input()\n",
    "after_lang = input()\n",
    "string = input()"
   ]
  },
  {
   "cell_type": "code",
   "execution_count": null,
   "metadata": {},
   "outputs": [],
   "source": [
    "data = {\n",
    "        \"src_lang\": before_lang,\n",
    "        \"target_lang\": after_lang,\n",
    "        \"query\": string\n",
    "    }"
   ]
  },
  {
   "cell_type": "code",
   "execution_count": null,
   "metadata": {},
   "outputs": [],
   "source": [
    "url = 'https://kapi.kakao.com/v1/translation/translate'\n",
    "\n",
    "# 002558914cc8caacc923bbb4f9d6a772 : 준원\n",
    "# 03e207126164816f438e90f73832984c : 소연\n",
    "# 18fea080a0db2ee0346353e8db4466e8 : 윤전\n",
    "# 8a48460e4182b21c616442afc1e56aa0 : 태현\n",
    "before_lang = input()\n",
    "after_lang = input()\n",
    "#string = \n",
    "'''\n",
    "    지난해 3월 오픈한 카카오톡 주문하기는 현재까지 약 250만명의 회원을 확보했으며, 주문 가능한 프랜차이즈 브랜드는 38개,\n",
    "    가맹점수는 약 1만 5천여곳에 달한다. 전 국민에게 친숙한 카카오톡 UI를 활용하기 때문에 남녀노소 누구나 쉽게 이용할 수 있으며,\n",
    "    별도의 앱을 설치할 필요 없이 카카오톡 내에서 모든 과정이 이뤄지는 것이 특징이다. 지난해 9월 업계 최초로 날짜와 시간을 예약한 뒤\n",
    "    설정한 매장에서 주문 음식을 찾아가는 ‘픽업’ 기능을 도입했고, 올해 1월 스마트스피커 ‘카카오미니’에서 음성을 통해 주문 가능한\n",
    "    메뉴를 안내받을 수 있도록 서비스를 연동하며 차별화를 꾀했다. 중소사업자들이 카카오톡 주문하기에 입점하게 되면 4,300만 카카오톡\n",
    "    이용자들과의 접점을 확보하고, 간편한 주문 과정으로 만족도를 높일 수 있게 된다. 카카오톡 메시지를 통해 신메뉴 출시, 프로모션 등의\n",
    "    소식을 전달할 수 있고, 일대일 채팅 기능을 적용하면 고객과 직접 상담도 가능하다.\n",
    "'''\n",
    "\n",
    "header = {\n",
    "        \"Authorization\" : 'KakaoAK {}'.format(MYAPP_KEY)\n",
    "    }\n",
    "string=''\n",
    "data = {\n",
    "        \"src_lang\": before_lang,\n",
    "        \"target_lang\": after_lang,\n",
    "        \"query\": string\n",
    "    }\n",
    "\n",
    "# response = requests.get(url,headers=header, params=data)\n",
    "# result = response.json()\n",
    "# print(result['translated_text'][0])"
   ]
  },
  {
   "cell_type": "code",
   "execution_count": 8,
   "metadata": {},
   "outputs": [],
   "source": [
    "def translate(string,before_lang, after_lang):\n",
    "    data = {\n",
    "        \"src_lang\": before_lang,\n",
    "        \"target_lang\": after_lang,\n",
    "        \"query\": string\n",
    "        }\n",
    "    response = requests.get(url,headers=header, params=data)\n",
    "    result = response.json()\n",
    "    a = ''\n",
    "    for _ in result['translated_text'][0]:\n",
    "        a = a + _\n",
    "    \n",
    "    return a"
   ]
  },
  {
   "cell_type": "code",
   "execution_count": null,
   "metadata": {},
   "outputs": [],
   "source": [
    "from kakaotrans import Translator\n",
    "Translator().translate(\"Try your best rather than be the best.\",src = 'en',tgt = 'kr')\n",
    "translator.translate(\"최고가 되기보다는 최선을 다하라.\", src='kr', tgt='en')"
   ]
  },
  {
   "cell_type": "code",
   "execution_count": null,
   "metadata": {},
   "outputs": [],
   "source": [
    "a = 'A América Latina localiza-se totalmente no hemisfério ocidental, sendo atravessada pelo Trópico de Câncer, que corta a parte central do México; pelo Equador, que passa pelo Brasil, Colômbia, Equador e toca o norte do Peru; e pelo Trópico de Capricórnio, que atravessa o Brasil, o Paraguai, a Argentina e o Chile.'"
   ]
  },
  {
   "cell_type": "code",
   "execution_count": null,
   "metadata": {},
   "outputs": [],
   "source": [
    "b = '''\n",
    "SENTENCE : A América Latina localiza-se totalmente no hemisfério ocidental, sendo atravessada pelo Trópico de Câncer, que corta a parte central do México; pelo Equador, que passa pelo Brasil, Colômbia, Equador e toca o norte do Peru; e pelo Trópico de Capricórnio, que atravessa o Brasil, o Paraguai, a Argentina e o Chile.\n",
    "\n",
    "MANUALLY CHECKED : TRUE\n",
    "\n",
    "ENTITY1 : América Latina\n",
    "TYPE1 : LOCATION\n",
    "ENTITY2 : Argentina\n",
    "TYPE2 : LOCATION\n",
    "REL TYPE : locatedInArea'''"
   ]
  },
  {
   "cell_type": "code",
   "execution_count": null,
   "metadata": {},
   "outputs": [],
   "source": []
  },
  {
   "cell_type": "code",
   "execution_count": null,
   "metadata": {},
   "outputs": [],
   "source": []
  },
  {
   "cell_type": "code",
   "execution_count": null,
   "metadata": {},
   "outputs": [],
   "source": [
    "import requests\n",
    "\n",
    "def translate1(query, before_lang, after_lang):\n",
    "    url = \"https://translate.kakao.com/translator/translate.json\"\n",
    "\n",
    "    headers = {\n",
    "        \"Referer\": \"https://translate.kakao.com/\",\n",
    "        \"User-Agent\": \"Mozilla/5.0\"\n",
    "    }\n",
    "\n",
    "    data = {\n",
    "        \"queryLanguage\": before_lang,\n",
    "        \"resultLanguage\": after_lang,\n",
    "        \"q\": query\n",
    "    }\n",
    "\n",
    "    resp = requests.post(url, headers=headers, data=data)\n",
    "    data = resp.json()\n",
    "    output = data['result']['output'][0][0]\n",
    "    return output\n",
    "\n",
    "\n",
    "if __name__ == \"__main__\":\n",
    "    pass\n",
    "#     print(translate(a))\n",
    "#     print(translate(b))"
   ]
  },
  {
   "cell_type": "code",
   "execution_count": null,
   "metadata": {},
   "outputs": [],
   "source": []
  },
  {
   "cell_type": "code",
   "execution_count": null,
   "metadata": {},
   "outputs": [],
   "source": []
  },
  {
   "cell_type": "code",
   "execution_count": null,
   "metadata": {},
   "outputs": [],
   "source": [
    "import os\n",
    "import sys\n",
    "import urllib.request\n",
    "client_id = \"cyeRpBs2NsnOJeI0XXef\" # 개발자센터에서 발급받은 Client ID 값\n",
    "client_secret = \"CXaUQ43ejs\" # 개발자센터에서 발급받은 Client Secret 값\n",
    "\n",
    "encText = urllib.parse.quote(\"반갑습니다\")\n",
    "before_lang = input()\n",
    "after_lang = input()\n",
    "data = \"source=\" + before_lang + \"&target=\" + after_lang + \"&text=\" + encText\n",
    "url = \"https://openapi.naver.com/v1/papago/n2mt\"\n",
    "request = urllib.request.Request(url)\n",
    "request.add_header(\"X-Naver-Client-Id\",client_id)\n",
    "request.add_header(\"X-Naver-Client-Secret\",client_secret)\n",
    "\n",
    "def translate2(encText, before_lang, after_lang):\n",
    "    data = \"source=\" + before_lang + \"&target=\" + after_lang + \"&text=\" + encText\n",
    "    response = urllib.request.urlopen(request, data=data.encode(\"utf-8\"))\n",
    "    rescode = response.getcode()\n",
    "    if(rescode==200):\n",
    "        response_body = response.read()\n",
    "        print(response_body.decode('utf-8'))\n",
    "    else:\n",
    "        print(\"Error Code:\" + rescode)"
   ]
  },
  {
   "cell_type": "code",
   "execution_count": null,
   "metadata": {},
   "outputs": [],
   "source": []
  },
  {
   "cell_type": "code",
   "execution_count": 69,
   "metadata": {
    "scrolled": true
   },
   "outputs": [],
   "source": [
    "# li = []\n",
    "for _ in range(1276,len(train_df)):\n",
    "    try:\n",
    "        a = translate(train_df['sentence'][_],'en','kr')\n",
    "        li.append(a)\n",
    "    except:\n",
    "        break"
   ]
  },
  {
   "cell_type": "code",
   "execution_count": 70,
   "metadata": {},
   "outputs": [
    {
     "data": {
      "text/plain": [
       "1276"
      ]
     },
     "execution_count": 70,
     "metadata": {},
     "output_type": "execute_result"
    }
   ],
   "source": [
    "len(li) # 1276"
   ]
  },
  {
   "cell_type": "code",
   "execution_count": 46,
   "metadata": {},
   "outputs": [],
   "source": [
    "li = np.array(li)"
   ]
  },
  {
   "cell_type": "code",
   "execution_count": 88,
   "metadata": {},
   "outputs": [],
   "source": [
    "np.save('./save_li', li)"
   ]
  },
  {
   "cell_type": "code",
   "execution_count": 71,
   "metadata": {},
   "outputs": [],
   "source": [
    "data1 = pd.DataFrame(li)"
   ]
  },
  {
   "cell_type": "code",
   "execution_count": 84,
   "metadata": {},
   "outputs": [],
   "source": [
    "train = train_df.join(data1, how='left')"
   ]
  },
  {
   "cell_type": "code",
   "execution_count": 85,
   "metadata": {},
   "outputs": [],
   "source": [
    "train.to_csv('train.csv',mode = 'w')"
   ]
  },
  {
   "cell_type": "code",
   "execution_count": 87,
   "metadata": {},
   "outputs": [
    {
     "data": {
      "text/html": [
       "<div>\n",
       "<style scoped>\n",
       "    .dataframe tbody tr th:only-of-type {\n",
       "        vertical-align: middle;\n",
       "    }\n",
       "\n",
       "    .dataframe tbody tr th {\n",
       "        vertical-align: top;\n",
       "    }\n",
       "\n",
       "    .dataframe thead th {\n",
       "        text-align: right;\n",
       "    }\n",
       "</style>\n",
       "<table border=\"1\" class=\"dataframe\">\n",
       "  <thead>\n",
       "    <tr style=\"text-align: right;\">\n",
       "      <th></th>\n",
       "      <th>sentence</th>\n",
       "      <th>relation</th>\n",
       "      <th>commnet</th>\n",
       "      <th>translate</th>\n",
       "    </tr>\n",
       "  </thead>\n",
       "  <tbody>\n",
       "    <tr>\n",
       "      <th>0</th>\n",
       "      <td>The system as described above has its greatest...</td>\n",
       "      <td>Component-Whole(e2,e1)</td>\n",
       "      <td>Comment: Not a collection: there is structure ...</td>\n",
       "      <td>상기와 같은 시스템은 안테나 &lt;e2&gt; 소자 &lt;/e2&gt;의 배열 &lt;e1&gt; 구성 &lt;/e1...</td>\n",
       "    </tr>\n",
       "    <tr>\n",
       "      <th>1</th>\n",
       "      <td>The &lt;e1&gt;child&lt;/e1&gt; was carefully wrapped and b...</td>\n",
       "      <td>Other</td>\n",
       "      <td>Comment:</td>\n",
       "      <td>&lt;e1&gt;아동&lt;/e1&gt;은 조심스럽게 포장하여 코드로 &lt;e2&gt;크래들&lt;/e2&gt;에 묶었다.</td>\n",
       "    </tr>\n",
       "    <tr>\n",
       "      <th>2</th>\n",
       "      <td>The &lt;e1&gt;author&lt;/e1&gt; of a keygen uses a &lt;e2&gt;dis...</td>\n",
       "      <td>Instrument-Agency(e2,e1)</td>\n",
       "      <td>Comment:</td>\n",
       "      <td>키겐의 &lt;e1&gt;저자 &lt;/e1&gt;은 원시 조립 코드를 보기 위해 &lt;e2&gt; 분해기 &lt;/e...</td>\n",
       "    </tr>\n",
       "    <tr>\n",
       "      <th>3</th>\n",
       "      <td>A misty &lt;e1&gt;ridge&lt;/e1&gt; uprises from the &lt;e2&gt;su...</td>\n",
       "      <td>Other</td>\n",
       "      <td>Comment:</td>\n",
       "      <td>안개 &lt;e1&gt;ridge &lt;/e1&gt;은 &lt;e2&gt; surge &lt;/e2&gt;에서 상승한다.</td>\n",
       "    </tr>\n",
       "    <tr>\n",
       "      <th>4</th>\n",
       "      <td>The &lt;e1&gt;student&lt;/e1&gt; &lt;e2&gt;association&lt;/e2&gt; is t...</td>\n",
       "      <td>Member-Collection(e1,e2)</td>\n",
       "      <td>Comment:</td>\n",
       "      <td>&lt;e1&gt;학생 &amp;lt;/e1&amp;gt; &amp;lt;e2&amp;gt;연상&amp;gt;/e2&amp;gt;는 버팔...</td>\n",
       "    </tr>\n",
       "    <tr>\n",
       "      <th>...</th>\n",
       "      <td>...</td>\n",
       "      <td>...</td>\n",
       "      <td>...</td>\n",
       "      <td>...</td>\n",
       "    </tr>\n",
       "    <tr>\n",
       "      <th>7995</th>\n",
       "      <td>When the &lt;e1&gt;notice&lt;/e1&gt; is sent by &lt;e2&gt;fax&lt;/e...</td>\n",
       "      <td>Other</td>\n",
       "      <td>Comment:</td>\n",
       "      <td>NaN</td>\n",
       "    </tr>\n",
       "    <tr>\n",
       "      <th>7996</th>\n",
       "      <td>The &lt;e1&gt;herbicide&lt;/e1&gt; is derived from a natur...</td>\n",
       "      <td>Entity-Origin(e1,e2)</td>\n",
       "      <td>Comment:</td>\n",
       "      <td>NaN</td>\n",
       "    </tr>\n",
       "    <tr>\n",
       "      <th>7997</th>\n",
       "      <td>To test this, we placed a kitchen &lt;e1&gt;match&lt;/e...</td>\n",
       "      <td>Entity-Destination(e1,e2)</td>\n",
       "      <td>Comment:</td>\n",
       "      <td>NaN</td>\n",
       "    </tr>\n",
       "    <tr>\n",
       "      <th>7998</th>\n",
       "      <td>The farmers and city officials in the region h...</td>\n",
       "      <td>Other</td>\n",
       "      <td>Comment:</td>\n",
       "      <td>NaN</td>\n",
       "    </tr>\n",
       "    <tr>\n",
       "      <th>7999</th>\n",
       "      <td>The &lt;e1&gt;surgeon&lt;/e1&gt; cuts a small &lt;e2&gt;hole&lt;/e2...</td>\n",
       "      <td>Product-Producer(e2,e1)</td>\n",
       "      <td>Comment:</td>\n",
       "      <td>NaN</td>\n",
       "    </tr>\n",
       "  </tbody>\n",
       "</table>\n",
       "<p>8000 rows × 4 columns</p>\n",
       "</div>"
      ],
      "text/plain": [
       "                                               sentence  \\\n",
       "0     The system as described above has its greatest...   \n",
       "1     The <e1>child</e1> was carefully wrapped and b...   \n",
       "2     The <e1>author</e1> of a keygen uses a <e2>dis...   \n",
       "3     A misty <e1>ridge</e1> uprises from the <e2>su...   \n",
       "4     The <e1>student</e1> <e2>association</e2> is t...   \n",
       "...                                                 ...   \n",
       "7995  When the <e1>notice</e1> is sent by <e2>fax</e...   \n",
       "7996  The <e1>herbicide</e1> is derived from a natur...   \n",
       "7997  To test this, we placed a kitchen <e1>match</e...   \n",
       "7998  The farmers and city officials in the region h...   \n",
       "7999  The <e1>surgeon</e1> cuts a small <e2>hole</e2...   \n",
       "\n",
       "                       relation  \\\n",
       "0        Component-Whole(e2,e1)   \n",
       "1                         Other   \n",
       "2      Instrument-Agency(e2,e1)   \n",
       "3                         Other   \n",
       "4      Member-Collection(e1,e2)   \n",
       "...                         ...   \n",
       "7995                      Other   \n",
       "7996       Entity-Origin(e1,e2)   \n",
       "7997  Entity-Destination(e1,e2)   \n",
       "7998                      Other   \n",
       "7999    Product-Producer(e2,e1)   \n",
       "\n",
       "                                                commnet  \\\n",
       "0     Comment: Not a collection: there is structure ...   \n",
       "1                                              Comment:   \n",
       "2                                              Comment:   \n",
       "3                                              Comment:   \n",
       "4                                              Comment:   \n",
       "...                                                 ...   \n",
       "7995                                           Comment:   \n",
       "7996                                           Comment:   \n",
       "7997                                           Comment:   \n",
       "7998                                           Comment:   \n",
       "7999                                           Comment:   \n",
       "\n",
       "                                              translate  \n",
       "0     상기와 같은 시스템은 안테나 <e2> 소자 </e2>의 배열 <e1> 구성 </e1...  \n",
       "1        <e1>아동</e1>은 조심스럽게 포장하여 코드로 <e2>크래들</e2>에 묶었다.  \n",
       "2     키겐의 <e1>저자 </e1>은 원시 조립 코드를 보기 위해 <e2> 분해기 </e...  \n",
       "3          안개 <e1>ridge </e1>은 <e2> surge </e2>에서 상승한다.  \n",
       "4     <e1>학생 &lt;/e1&gt; &lt;e2&gt;연상&gt;/e2&gt;는 버팔...  \n",
       "...                                                 ...  \n",
       "7995                                                NaN  \n",
       "7996                                                NaN  \n",
       "7997                                                NaN  \n",
       "7998                                                NaN  \n",
       "7999                                                NaN  \n",
       "\n",
       "[8000 rows x 4 columns]"
      ]
     },
     "execution_count": 87,
     "metadata": {},
     "output_type": "execute_result"
    }
   ],
   "source": [
    "train"
   ]
  }
 ],
 "metadata": {
  "kernelspec": {
   "display_name": "cpu_env",
   "language": "python",
   "name": "cpu_env"
  },
  "language_info": {
   "codemirror_mode": {
    "name": "ipython",
    "version": 3
   },
   "file_extension": ".py",
   "mimetype": "text/x-python",
   "name": "python",
   "nbconvert_exporter": "python",
   "pygments_lexer": "ipython3",
   "version": "3.7.7"
  }
 },
 "nbformat": 4,
 "nbformat_minor": 4
}
