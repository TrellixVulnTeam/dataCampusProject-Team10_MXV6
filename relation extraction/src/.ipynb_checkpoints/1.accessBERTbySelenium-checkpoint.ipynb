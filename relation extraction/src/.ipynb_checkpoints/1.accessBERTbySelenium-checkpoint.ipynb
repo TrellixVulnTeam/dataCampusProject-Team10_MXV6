{
 "cells": [
  {
   "cell_type": "code",
   "execution_count": 63,
   "metadata": {
    "colab": {
     "base_uri": "https://localhost:8080/",
     "height": 596
    },
    "colab_type": "code",
    "id": "UCqUZcYcRN8W",
    "outputId": "b74eaaa7-3513-48f5-ecba-d5c88dfeb58d"
   },
   "outputs": [
    {
     "name": "stdout",
     "output_type": "stream",
     "text": [
      "200\n"
     ]
    }
   ],
   "source": [
    "import urllib.request\n",
    "from selenium import webdriver\n",
    "import time\n",
    "import pprint\n",
    "from selenium.webdriver import ActionChains\n",
    "\n",
    "webUrl = urllib.request.urlopen(\"https://smrzr.io/\")\n",
    "\n",
    "print(str(webUrl.getcode())) # 200 은 정상적으로 접근 가능\n",
    "driver = webdriver.Chrome(\"/Users/yoonk/Desktop/chromedriver\")\n",
    "driver.get(\"https://smrzr.io/\")\n",
    "time.sleep(3)\n",
    "\n",
    "summarize = driver.find_element_by_xpath(\"/html/body/div/main/div/div[1]/button\")\n",
    "inp = driver.find_element_by_xpath(\"/html/body/div/main/div/div[1]/textarea\")\n",
    "inp.clear()\n",
    "inp.send_keys(txt)\n"
   ]
  },
  {
   "cell_type": "code",
   "execution_count": 57,
   "metadata": {},
   "outputs": [],
   "source": [
    "txt = '''\n",
    "환경부와 기상청이 28일 ‘한국 기후변화 평가보고서 2020’을 발표했다. 한국 기후변화의 현황을 분석하고 미래를 전망한 최신판 기후변화 백서다. 이번 보고서는 2010년, 2014년에 이어 세 번째이고 2014년 이후 6년 만에 나왔다. 2014년부터 2020년까지 발표된 1900여편의 국내외 논문·보고서의 연구 결과와 분석을 집대성한 것이다. 한국에도 예외 없이 코앞으로 닥쳐온 기후위기의 상황을 생생하게 알려주는 보고서이다.\n",
    "\n",
    "보고서가 말하는 한국 기후변화의 실태는 심각하고 전망은 암담하다. 지난 6년 동안에도 국내 기후 상황은 악화일로였다. 1980년대 12.2도였던 연평균 기온은 계속 상승해 2011~2017년 13도로 역대 최고를 기록했다. 또 지구 평균 지표온도가 1880~2012년 기간에 0.85도 높아진 데 비해 한국은 1912~2017년에 1.8도나 상승했다고 한다. 갈수록 더워지는 와중에 한국은 더 빨리 뜨거워지고 있다는 얘기다. 해수 온도와 해수면 상승률도 지구 평균보다 높다고 한다. 현재 연간 10.1일인 폭염일수가 21세기 후반(2071~2100년)에는 3배가 넘는 35.5일에 달할 것이라는 예측도 나왔다.\n",
    "\n",
    "온난화와 여름 강수량 증가 등 기후변화의 가속화 결과는 가히 재앙적이다. 생태계가 파괴되고 기상재해 위험이 급증하면서 21세기 말 국내에선 벼 생산성이 25% 이상 줄어들고 사과 재배가 불가능한 것으로 예측됐다. 귤은 강원도에서 나는데 제주에선 사라질 수도 있다고 한다. 이상기후는 홍수·가뭄 등 재해는 물론 각종 감염병과 질환을 야기하는 데까지 진행된다. 보고서는 폭염 피해에 주목하며 취약계층 대책 마련이 시급하다고 권고했다. 기온이 1도 높아지면 사망 위험이 5% 증가하며, 고령층과 사회경제적 취약계층에 피해가 집중될 수 있다고 경고했다. 온열질환으로 인한 사망이 피할 수 없는 현실이 됐음을 환기한 것이다.\n",
    "\n",
    "기온 상승의 주범은 인위적인 온실가스 배출량 증가다. 보고서는 현재 추세대로 온실가스가 배출되는 상황을 상정해 미래상을 예측했다. 기후 재앙은 미래의 일이 아니다. 그 재앙을 막기 위해서는 온실가스 저감이 당면 과제라는 사실을 보고서는 재차 일깨운다. 정부는 이번 보고서를 ‘2021~2025년 국가 기후변화 적응 대책’ 수립에 반영한다고 한다. 당국은 보고서를 한낱 참고자료로만 여기지 말고 온실가스 저감 등 확고한 정책과 제도를 만들고 실행하는 근거로 삼아야 한다. 기후변화 위험에 노출된 취약계층을 더욱 꼼꼼히 살펴야 한다는 보고서의 메시지에도 귀 기울여야 한다.\n",
    "'''"
   ]
  },
  {
   "cell_type": "code",
   "execution_count": 61,
   "metadata": {},
   "outputs": [],
   "source": [
    "def sendKey(object):\n",
    "    driver = webdriver.Chrome(\"/Users/yoonk/Desktop/chromedriver\")\n",
    "    driver.get(\"https://smrzr.io/\")\n",
    "    time.sleep(3)\n",
    "\n",
    "    summarize = driver.find_element_by_xpath(\"/html/body/div/main/div/div[1]/button\")\n",
    "    inp = driver.find_element_by_xpath(\"/html/body/div/main/div/div[1]/textarea\")\n",
    "    inp.clear()\n",
    "    inp.send_keys(object)"
   ]
  },
  {
   "cell_type": "code",
   "execution_count": 62,
   "metadata": {},
   "outputs": [],
   "source": [
    "sendKey(txt)"
   ]
  },
  {
   "cell_type": "code",
   "execution_count": null,
   "metadata": {},
   "outputs": [],
   "source": []
  }
 ],
 "metadata": {
  "colab": {
   "collapsed_sections": [],
   "name": "accessBERT.ipynb",
   "provenance": []
  },
  "kernelspec": {
   "display_name": "Python 3",
   "language": "python",
   "name": "python3"
  },
  "language_info": {
   "codemirror_mode": {
    "name": "ipython",
    "version": 3
   },
   "file_extension": ".py",
   "mimetype": "text/x-python",
   "name": "python",
   "nbconvert_exporter": "python",
   "pygments_lexer": "ipython3",
   "version": "3.7.6"
  }
 },
 "nbformat": 4,
 "nbformat_minor": 1
}
