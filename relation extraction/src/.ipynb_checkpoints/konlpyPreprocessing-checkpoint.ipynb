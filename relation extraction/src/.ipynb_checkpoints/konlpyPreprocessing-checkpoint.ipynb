{
 "cells": [
  {
   "cell_type": "code",
   "execution_count": 9,
   "metadata": {},
   "outputs": [],
   "source": [
    "import json\n",
    "import os\n",
    "import pandas as pd\n",
    "from pandas.io.json import json_normalize"
   ]
  },
  {
   "cell_type": "code",
   "execution_count": 11,
   "metadata": {},
   "outputs": [],
   "source": [
    "# def ask_user(query, retries):\n",
    "#     while True:\n",
    "#         inp = input(query)\n",
    "#         if inp in ['y','Y','yes','Yes']:\n",
    "#             return True\n",
    "#             break\n",
    "#         if inp in ['n','No','NO']:\n",
    "#             return False\n",
    "#             break\n",
    "#         retries = retries - 1\n",
    "#         if retries < 1:\n",
    "#             raise ValueError(\"잘못된 답변입니다\")\n",
    "#         ask_user(query,retries)"
   ]
  },
  {
   "cell_type": "code",
   "execution_count": 10,
   "metadata": {},
   "outputs": [],
   "source": [
    "path = \"/Users/yoonk/Desktop/lectures/project\"\n",
    "file_name = \"KorQuAD_v1.0_dev.json\"\n",
    "csv_name = \"title_korquad_dev_dataset.csv\""
   ]
  },
  {
   "cell_type": "code",
   "execution_count": 11,
   "metadata": {},
   "outputs": [],
   "source": [
    "import pandas as pd\n",
    "import os\n",
    "from konlpy.tag import *"
   ]
  },
  {
   "cell_type": "code",
   "execution_count": 22,
   "metadata": {},
   "outputs": [],
   "source": [
    "df = pd.read_csv(os.path.join(path,csv_name))\n",
    "def extractNN(tagger, obj):\n",
    "    t = tagger()\n",
    "    res = [t.nouns(i) for i in obj['question']]\n",
    "    return res\n",
    "kkma_nouns = extractNN(Kkma, df)\n",
    "komoran_nouns = extractNN(Komoran, df)\n",
    "okt_nouns = extractNN(Okt, df)\n",
    "hannanum_nouns = extractNN(Hannanum,df)\n",
    "\n",
    "df['kkma']=kkma_nouns\n",
    "df['komoran']=komoran_nouns\n",
    "df['okt']=okt_nouns\n",
    "df['hannanum']=hannanum_nouns"
   ]
  },
  {
   "cell_type": "code",
   "execution_count": 23,
   "metadata": {},
   "outputs": [],
   "source": [
    "df.to_csv(\"korquad_noun_ver2.csv\",encoding = 'utf-8-sig', index = False)"
   ]
  },
  {
   "cell_type": "code",
   "execution_count": null,
   "metadata": {},
   "outputs": [],
   "source": []
  }
 ],
 "metadata": {
  "kernelspec": {
   "display_name": "Python 3",
   "language": "python",
   "name": "python3"
  },
  "language_info": {
   "codemirror_mode": {
    "name": "ipython",
    "version": 3
   },
   "file_extension": ".py",
   "mimetype": "text/x-python",
   "name": "python",
   "nbconvert_exporter": "python",
   "pygments_lexer": "ipython3",
   "version": "3.7.6"
  }
 },
 "nbformat": 4,
 "nbformat_minor": 4
}
