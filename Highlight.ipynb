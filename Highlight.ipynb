{
  "nbformat": 4,
  "nbformat_minor": 0,
  "metadata": {
    "colab": {
      "name": "AutomatedRelationExtraction.ipynb의 사본",
      "provenance": [],
      "collapsed_sections": [],
      "include_colab_link": true
    },
    "kernelspec": {
      "display_name": "Python 3",
      "language": "python",
      "name": "python3"
    },
    "language_info": {
      "codemirror_mode": {
        "name": "ipython",
        "version": 3
      },
      "file_extension": ".py",
      "mimetype": "text/x-python",
      "name": "python",
      "nbconvert_exporter": "python",
      "pygments_lexer": "ipython3",
      "version": "3.7.8"
    }
  },
  "cells": [
    {
      "cell_type": "markdown",
      "metadata": {
        "id": "view-in-github",
        "colab_type": "text"
      },
      "source": [
        "<a href=\"https://colab.research.google.com/github/yoonkim313/dataCampusProject-Team10/blob/master/Highlight.ipynb\" target=\"_parent\"><img src=\"https://colab.research.google.com/assets/colab-badge.svg\" alt=\"Open In Colab\"/></a>"
      ]
    },
    {
      "cell_type": "code",
      "metadata": {
        "colab_type": "code",
        "collapsed": true,
        "id": "obGBWFLnIypX",
        "jupyter": {
          "outputs_hidden": true
        },
        "colab": {
          "base_uri": "https://localhost:8080/",
          "height": 34
        },
        "outputId": "7163d68f-af79-4c4a-fcb8-c41cfa10dcbb"
      },
      "source": [
        "import os, sys\n",
        "from google.colab import drive\n",
        "drive.mount('/content/mnt')\n",
        "nb_path = '/content/notebooks'\n",
        "# os.symlink('/content/mnt/My Drive/Colab Notebooks', nb_path)\n",
        "sys.path.insert(0, nb_path)\n",
        "# !pip install --target=$nb_path transformers\n",
        "# !apt-get update\n",
        "# !apt-get g++ openjdk-8-jdk \n",
        "# !pip3 install --target=$nb_path konlpy\n",
        "# !pip install --target=$nb_path soykeyword\n",
        "# !pip install --target=$nb_path krwordrank\n",
        "# !pip install --target=$nb_path kss"
      ],
      "execution_count": null,
      "outputs": [
        {
          "output_type": "stream",
          "text": [
            "Drive already mounted at /content/mnt; to attempt to forcibly remount, call drive.mount(\"/content/mnt\", force_remount=True).\n"
          ],
          "name": "stdout"
        }
      ]
    },
    {
      "cell_type": "code",
      "metadata": {
        "colab_type": "code",
        "id": "MbmSXGrwJ585",
        "colab": {}
      },
      "source": [
        "from konlpy.tag import Hannanum, Okt\n",
        "import re\n",
        "import time\n",
        "import numpy as np\n",
        "import heapq\n",
        "import pandas as pd\n",
        "from operator import itemgetter\n",
        "from collections import deque\n",
        "from ast import literal_eval\n",
        "from collections import defaultdict\n",
        "from soykeyword.lasso import LassoKeywordExtractor\n",
        "from pprint import pprint\n",
        "from krwordrank.word import KRWordRank\n",
        "from copy import deepcopy\n",
        "import kss"
      ],
      "execution_count": null,
      "outputs": []
    },
    {
      "cell_type": "code",
      "metadata": {
        "id": "BG4REkm1FJgG",
        "colab_type": "code",
        "colab": {
          "base_uri": "https://localhost:8080/",
          "height": 34
        },
        "outputId": "ec91bfd0-d2c1-4d60-dccf-5161e02bca34"
      },
      "source": [
        "%cd /content/mnt/Shared drives/BigDATA TEAM 10/OpenInformationExtraction\n",
        "from frameBERT import frame_parser\n",
        "h = Hannanum()\n",
        "okt = Okt()"
      ],
      "execution_count": null,
      "outputs": [
        {
          "output_type": "stream",
          "text": [
            "/content/mnt/Shared drives/BigDATA TEAM 10/OpenInformationExtraction\n"
          ],
          "name": "stdout"
        }
      ]
    },
    {
      "cell_type": "code",
      "metadata": {
        "colab_type": "code",
        "id": "_v5o0el7I9ur",
        "colab": {}
      },
      "source": [
        "text = '''\n",
        "평등은 자유와 더불어 근대 사회의 핵심 이념으로 자리 잡고있다. 인간은 가령 인종이나 성별과 상관없이 누구나 평등하다고 생각한다. 모든 인간은 평등하다고 말하는데, 이 말은 무슨 뜻일까? 그리고 그 근거는 무엇인가? \n",
        "일단 이 말을 모든 인간을 모든 측면에서 똑같이 대우하는 절대칙 평등으로 생각하는 이는 없다. 인간은 저마다 다르게 가지고 대어난 능력과 소질을 똑같게 만들 수 없기 때문이다. 절대적 평등은 개인의 개성이냐 자율성 등의 가치와 충돌하기도 한다. 평등에 대한 요구는 모든 불평등을 악으로 보는 것이 아니라 충분한 이유가 제시되지 않은 불평등을 제거하는 데 목표를 두고 있다. ‘이유 없는 차별 금지’라는 조건적 평등 원칙은 차별 대우를 할 때는 이유를 제시할 것을 요구하고 있다. 이것은 어떤 이유가 제시된다면 특정한 부류에 속하는 사람들에게는 평등한 대우를, 그 부류에 속하지 않는 사람들에게는 차별저 대우를 하는 것을 허용한다. 그렇다면 사람들을 특정한 부류로 구분하는 기준은 무엇인가? 이것은 바로 평등의 근거에 대한 물음이다.\n",
        "근대의 여러 인권 선언에 나타난 평등 개념은 개인들 사이의 평등성을 타고난 자연적 권리로 간주하였다. 하지만 이러한 자연권 이론은 무엇이 자연적 권리이고 권리의 존재가 자명한 이유가 무엇인지 등의 문제에 부딪히게 된다. 그래서 롤스는 기존의 자연권 사상에 의존하지 않는 방시으로 인간 평등의 근거를 마런하려고 한다. 그는 어떤 규칙이 공평하고 일관되게 운영되며, 그 규칙에 따라 유사한 경우는 유사하게 취급된다면 형식적 정의는 실현된다고 본다. 하지만 롤스는 형식저 정의에 따라 규칙을 준수하는 것만으로는 정의를 담보할 수 없다고 생각한다. 그 규칙이 더 높은 도덕적 권위를 지닌 다른 이넘과 충돌할 수 었기에, 실질적 정의가 보장되기 위해서는 규칙의 내용이 중요한 것이다.\n",
        "롤스는 인간 평등의 근거를 설명하면서 영역 성질 (range property) 개념을 도입한다. 예를 들어 어떤 원의 내부에 있는 점들은 그 위치가 서로 다르지만 원의 내부에 있다는 점에서 동일한 영역 성질을 갖는다. 반면에 원의 내부에 있는 집과 원의 외부에 였는 점은원의 경계선을 기준으로 서로 다른 영역 성질을 갖는다. 그는 평등한 대우를 받기 위한 영역 성질로서 ‘도덕적 인격'을 제시한다. 도덕적 인격이란 도덕적 호소가 가능하고 그런 호소에 관심을 기이는 능력이 있다는 것인데, 이 능력을 최소치만 갖고 있다면 평등한 대우에 대한 권한을 갖게 된다. 도덕적 인격이라고 해서 도덕적으로 훌륭하다는 뜻이 아니라 도덕과 무관하다는 말과 대비되는 뜻으로 쓰고 있다. 그런데 어린 아이는 인격체로서의 최소한의 기준을 충족하고 있는지가 논란이 될 수 있다. 이에 대해 롤스는 도덕적 인격을 규정하는 최소한의 요구 조건은 잠재적 능력이지 그것의 실현 여부가 아니기에 어린 아이도 평등한 존재라고 말한다. 싱어는 위와 같은 롤스의 시도를 비판한다. 도덕에 대한 민감성의 수준은 사람에 따라 다르다. 그래서 도덕적 인격의 능력이 그렇게 중요하다면 그것을 갖춘 정도에 따라 도덕적 위계를 다르게 하지 말아야 할 이유가 분명하지 않다고 말한다. \n",
        "'''"
      ],
      "execution_count": null,
      "outputs": []
    },
    {
      "cell_type": "code",
      "metadata": {
        "id": "TGCJPBUtvXj2",
        "colab_type": "code",
        "colab": {}
      },
      "source": [
        "class Text:\n",
        "  def __init__(self, text):\n",
        "    self.text = text\n",
        "    text = re.sub('\\n',' ',text)\n",
        "    text = re.sub(\"'\",' ',text)\n",
        "    paragraphs = text.split('\\n')\n",
        "    self.paragraphs = [i for i in paragraphs if i]\n",
        "    self.docs = [kss.split_sentences(paragraph) for paragraph in paragraphs if kss.split_sentences(paragraph)]\n",
        "\n",
        "  def keywords(self, num = 40):\n",
        "    wordrank_extractor = KRWordRank(min_count=4, max_length=10)\n",
        "    keywords, rank, graph = wordrank_extractor.extract(self.paragraphs, num_keywords=num)\n",
        "    p=[]\n",
        "    kw=[]\n",
        "    for k, v in keywords.items():\n",
        "      p.append(okt.pos(k))\n",
        "    for ls in p:\n",
        "      for tup in ls:\n",
        "          if tup[1].startswith(\"N\"):\n",
        "            kw.append(tup[0])\n",
        "    return kw\n",
        "    \n",
        "class Highlight(Text):\n",
        "  def __init__(self, text, candidates=None):\n",
        "    self.text = text\n",
        "    self.newtext = deepcopy(self.text)\n",
        "    self.cand = candidates\n",
        "    self.candidates = candidates\n",
        "    \n",
        "  def findall(self, p, s):\n",
        "      i = s.find(p)\n",
        "      while i != -1:\n",
        "          yield i\n",
        "          i = s.find(p, i+1)\n",
        "\n",
        "  def add_tags(self):\n",
        "    if self.cand==None:\n",
        "        conj = '그리고, 그런데, 그러나, 그래도, 그래서, 또는, 및, 즉, 게다가, 따라서, 때문에, 아니면, 왜냐하면, 단, 오히려, 비록, 예를 들어, 반면에, 하지만'\n",
        "        conj = conj.replace(\"'\",\"\")\n",
        "        conj = conj.replace(\", \",\",\")\n",
        "        self.candidates = conj.split(\",\")\n",
        "        self.idx = [(i, i+len(candidate)) for candidate in self.candidates for i in self.findall(candidate, self.text)]\n",
        "    else:\n",
        "        self.idx = [(i, i+len(candidate)) for candidate in self.candidates for i in self.findall(candidate, self.newtext)]\n",
        "\n",
        "    for i in range(len(self.idx)):\n",
        "        idx = [(start, start+len(candidate)) for candidate in self.candidates for start in self.findall(candidate, self.newtext)]\n",
        "        word = self.newtext[idx[i][0]:idx[i][1]]\n",
        "        \n",
        "        \n",
        "        if self.cand==None:\n",
        "          tagged = \"<mark style='background-color: #0F4C81'>%s</mark>\" % (word)\n",
        "          \n",
        "        else:\n",
        "          tagged = \"<mark style='background-color: #FF6F61'>%s</mark>\" % (word)\n",
        "          \n",
        "        self.newtext = tagged.join([self.newtext[:idx[i][0]], self.newtext[idx[i][1]:]])\n",
        "\n",
        "    return '\\n'.join(self.newtext.split(\"\\n\"))"
      ],
      "execution_count": null,
      "outputs": []
    },
    {
      "cell_type": "code",
      "metadata": {
        "id": "ebyi_zCkpxCE",
        "colab_type": "code",
        "colab": {
          "base_uri": "https://localhost:8080/",
          "height": 156
        },
        "outputId": "348c41c5-0507-4ce7-ad50-1389ea565aa1"
      },
      "source": [
        "def main():\n",
        "  t = Text(text)\n",
        "  kw=t.keywords()\n",
        "  print(kw)\n",
        "  h = Highlight(text, candidates = None)\n",
        "  h = Highlight(h.add_tags(), kw)\n",
        "  css_format = h.add_tags()\n",
        "  print(css_format)\n",
        "  # cleanr = re.compile(\"</mark>.{0,5}<markstyle='background-color:#FF6F61'>\")\n",
        "  # cleantext = re.sub(cleanr, , result)\n",
        "  # print(cleantext)\n",
        "  # text_file = open(\"highlighted.txt\", \"w\")\n",
        "  # n = text_file.write(cleantext)\n",
        "  # text_file.close()\n",
        "\n",
        "main()"
      ],
      "execution_count": null,
      "outputs": [
        {
          "output_type": "stream",
          "text": [
            "['도덕', '평등', '인간', '이유', '영역', '모든', '대우', '롤스', '규칙', '원', '인격', '성질', '능력', '대한', '근거', '정의', '제시', '무엇', '자연', '사람']\n",
            "\n",
            "<mark style='background-color: #FF6F61'>평등</mark>은 자유와 더불어 근대 사회의 핵심 이념으로 자리 잡고있다. <mark style='background-color: #FF6F61'>인간</mark>은 가령 인종이나 성별과 상관없이 누구나 <mark style='background-color: #FF6F61'>평등</mark>하다고 생각한다. <mark style='background-color: #FF6F61'>모든</mark> <mark style='background-color: #FF6F61'>인간</mark>은 <mark style='background-color: #FF6F61'>평등</mark>하다고 말하는데, 이 말은 무슨 뜻일까? <mark style='background-color: #0F4C81'>그리고</mark> 그 <mark style='background-color: #FF6F61'>근거</mark>는 <mark style='background-color: #FF6F61'>무엇</mark>인가? \n",
            "일<mark style='background-color: #0F4C81'>단</mark> 이 말을 <mark style='background-color: #FF6F61'>모든</mark> <mark style='background-color: #FF6F61'>인간</mark>을 <mark style='background-color: #FF6F61'>모든</mark> 측면에서 똑같이 <mark style='background-color: #FF6F61'>대우</mark>하는 절대칙 <mark style='background-color: #FF6F61'>평등</mark>으로 생각하는 이는 없다. <mark style='background-color: #FF6F61'>인간</mark>은 저마다 다르게 가지고 대어난 <mark style='background-color: #FF6F61'>능력</mark>과 소질을 똑같게 만들 수 없기 때문이다. 절대적 <mark style='background-color: #FF6F61'>평등</mark>은 개인의 개성이냐 자율성 등의 가치와 충돌하기도 한다. <mark style='background-color: #FF6F61'>평등</mark>에 <mark style='background-color: #FF6F61'>대한</mark> 요구는 <mark style='background-color: #FF6F61'>모든</mark> 불<mark style='background-color: #FF6F61'>평등</mark>을 악으로 보는 것이 아니라 충분한 <mark style='background-color: #FF6F61'>이유</mark>가 <mark style='background-color: #FF6F61'>제시</mark>되지 않은 불<mark style='background-color: #FF6F61'>평등</mark>을 제거하는 데 목표를 두고 있다. ‘<mark style='background-color: #FF6F61'>이유</mark> 없는 차별 금지’라는 조건적 <mark style='background-color: #FF6F61'>평등</mark> <mark style='background-color: #FF6F61'>원</mark>칙은 차별 <mark style='background-color: #FF6F61'>대우</mark>를 할 때는 <mark style='background-color: #FF6F61'>이유</mark>를 <mark style='background-color: #FF6F61'>제시</mark>할 것을 요구하고 있다. 이것은 어떤 <mark style='background-color: #FF6F61'>이유</mark>가 <mark style='background-color: #FF6F61'>제시</mark>된다면 특정한 부류에 속하는 <mark style='background-color: #FF6F61'>사람</mark>들에게는 <mark style='background-color: #FF6F61'>평등</mark>한 <mark style='background-color: #FF6F61'>대우</mark>를, 그 부류에 속하지 않는 <mark style='background-color: #FF6F61'>사람</mark>들에게는 차별저 <mark style='background-color: #FF6F61'>대우</mark>를 하는 것을 허용한다. 그렇다면 <mark style='background-color: #FF6F61'>사람</mark>들을 특정한 부류로 구분하는 기준은 <mark style='background-color: #FF6F61'>무엇</mark>인가? 이것은 바로 <mark style='background-color: #FF6F61'>평등</mark>의 <mark style='background-color: #FF6F61'>근거</mark>에 <mark style='background-color: #FF6F61'>대한</mark> 물음이다.\n",
            "근대의 여러 인권 선언에 나타난 <mark style='background-color: #FF6F61'>평등</mark> 개념은 개인들 사이의 <mark style='background-color: #FF6F61'>평등</mark>성을 타고난 <mark style='background-color: #FF6F61'>자연</mark>적 권리로 간주하였다. <mark style='background-color: #0F4C81'>하지만</mark> 이러한 <mark style='background-color: #FF6F61'>자연</mark>권 이론은 <mark style='background-color: #FF6F61'>무엇</mark>이 <mark style='background-color: #FF6F61'>자연</mark>적 권리이고 권리의 존재가 자명한 <mark style='background-color: #FF6F61'>이유</mark>가 <mark style='background-color: #FF6F61'>무엇</mark>인지 등의 문제에 부딪히게 된다. <mark style='background-color: #0F4C81'>그래서</mark> <mark style='background-color: #FF6F61'>롤스</mark>는 기존의 <mark style='background-color: #FF6F61'>자연</mark>권 사상에 의존하지 않는 방시으로 <mark style='background-color: #FF6F61'>인간</mark> <mark style='background-color: #FF6F61'>평등</mark>의 <mark style='background-color: #FF6F61'>근거</mark>를 마런하려고 한다. 그는 어떤 <mark style='background-color: #FF6F61'>규칙</mark>이 공평하고 일관되게 운영되며, 그 <mark style='background-color: #FF6F61'>규칙</mark>에 따라 유사한 경우는 유사하게 취급된다면 형식적 <mark style='background-color: #FF6F61'>정의</mark>는 실현된다고 본다. <mark style='background-color: #0F4C81'>하지만</mark> <mark style='background-color: #FF6F61'>롤스</mark>는 형식저 <mark style='background-color: #FF6F61'>정의</mark>에 따라 <mark style='background-color: #FF6F61'>규칙</mark>을 준수하는 것만으로는 <mark style='background-color: #FF6F61'>정의</mark>를 담보할 수 없다고 생각한다. 그 <mark style='background-color: #FF6F61'>규칙</mark>이 더 높은 <mark style='background-color: #FF6F61'>도덕</mark>적 권위를 지닌 다른 이넘과 충돌할 수 었기에, 실질적 <mark style='background-color: #FF6F61'>정의</mark>가 보장되기 위해서는 <mark style='background-color: #FF6F61'>규칙</mark>의 내용이 중요한 것이다.\n",
            "<mark style='background-color: #FF6F61'>롤스</mark>는 <mark style='background-color: #FF6F61'>인간</mark> <mark style='background-color: #FF6F61'>평등</mark>의 <mark style='background-color: #FF6F61'>근거</mark>를 설명하면서 <mark style='background-color: #FF6F61'>영역</mark> <mark style='background-color: #FF6F61'>성질</mark> (range property) 개념을 도입한다. <mark style='background-color: #0F4C81'>예를 들어</mark> 어떤 <mark style='background-color: #FF6F61'>원</mark>의 내부에 있는 점들은 그 위치가 서로 다르지만 <mark style='background-color: #FF6F61'>원</mark>의 내부에 있다는 점에서 동일한 <mark style='background-color: #FF6F61'>영역</mark> <mark style='background-color: #FF6F61'>성질</mark>을 갖는다. <mark style='background-color: #0F4C81'>반면에</mark> <mark style='background-color: #FF6F61'>원</mark>의 내부에 있는 집과 <mark style='background-color: #FF6F61'>원</mark>의 외부에 였는 점은<mark style='background-color: #FF6F61'>원</mark>의 경계선을 기준으로 서로 다른 <mark style='background-color: #FF6F61'>영역</mark> <mark style='background-color: #FF6F61'>성질</mark>을 갖는다. 그는 <mark style='background-color: #FF6F61'>평등</mark>한 <mark style='background-color: #FF6F61'>대우</mark>를 받기 위한 <mark style='background-color: #FF6F61'>영역</mark> <mark style='background-color: #FF6F61'>성질</mark>로서 ‘<mark style='background-color: #FF6F61'>도덕</mark>적 <mark style='background-color: #FF6F61'>인격</mark>'을 <mark style='background-color: #FF6F61'>제시</mark>한다. <mark style='background-color: #FF6F61'>도덕</mark>적 <mark style='background-color: #FF6F61'>인격</mark>이란 <mark style='background-color: #FF6F61'>도덕</mark>적 호소가 가능하고 그런 호소에 관심을 기이는 <mark style='background-color: #FF6F61'>능력</mark>이 있다는 것인데, 이 <mark style='background-color: #FF6F61'>능력</mark>을 최소치만 갖고 있다면 <mark style='background-color: #FF6F61'>평등</mark>한 <mark style='background-color: #FF6F61'>대우</mark>에 <mark style='background-color: #FF6F61'>대한</mark> 권한을 갖게 된다. <mark style='background-color: #FF6F61'>도덕</mark>적 <mark style='background-color: #FF6F61'>인격</mark>이라고 해서 <mark style='background-color: #FF6F61'>도덕</mark>적으로 훌륭하다는 뜻이 아니라 <mark style='background-color: #FF6F61'>도덕</mark>과 무관하다는 말과 대비되는 뜻으로 쓰고 있다. <mark style='background-color: #0F4C81'>그런데</mark> 어린 아이는 <mark style='background-color: #FF6F61'>인격</mark>체로서의 최소한의 기준을 충족하고 있는지가 논란이 될 수 있다. 이에 대해 <mark style='background-color: #FF6F61'>롤스</mark>는 <mark style='background-color: #FF6F61'>도덕</mark>적 <mark style='background-color: #FF6F61'>인격</mark>을 규정하는 최소한의 요구 조건은 잠재적 <mark style='background-color: #FF6F61'>능력</mark>이지 그것의 실현 여부가 아니기에 어린 아이도 <mark style='background-color: #FF6F61'>평등</mark>한 존재라고 말한다. 싱어는 위와 같은 <mark style='background-color: #FF6F61'>롤스</mark>의 시도를 비판한다. <mark style='background-color: #FF6F61'>도덕</mark>에 <mark style='background-color: #FF6F61'>대한</mark> 민감성의 수준은 <mark style='background-color: #FF6F61'>사람</mark>에 따라 다르다. <mark style='background-color: #0F4C81'>그래서</mark> <mark style='background-color: #FF6F61'>도덕</mark>적 <mark style='background-color: #FF6F61'>인격</mark>의 <mark style='background-color: #FF6F61'>능력</mark>이 그렇게 중요하다면 그것을 갖춘 정도에 따라 <mark style='background-color: #FF6F61'>도덕</mark>적 위계를 다르게 하지 말아야 할 <mark style='background-color: #FF6F61'>이유</mark>가 분명하지 않다고 말한다. \n",
            "\n"
          ],
          "name": "stdout"
        }
      ]
    },
    {
      "cell_type": "code",
      "metadata": {
        "id": "Xy_pY2I-xiV0",
        "colab_type": "code",
        "colab": {
          "base_uri": "https://localhost:8080/",
          "height": 989
        },
        "outputId": "868774bb-9b7a-4990-fd7c-dac7d4c199ae"
      },
      "source": [
        "result = '''\n",
        "<mark style='background-color: #FF6F61'>평등</mark>은 자유와 더불어 근대 사회의 핵심 이념으로 자리 잡고있다. <mark style='background-color: #FF6F61'>인간</mark>은 가령 인종이나 성별과 상관없이 누구나 <mark style='background-color: #FF6F61'>평등</mark>하다고 생각한다. <mark style='background-color: #FF6F61'>모든</mark> <mark style='background-color: #FF6F61'>인간</mark>은 <mark style='background-color: #FF6F61'>평등</mark>하다고 말하는데, 이 말은 무슨 뜻일까? <mark style='background-color: #0F4C81'>그리고</mark> 그 <mark style='background-color: #FF6F61'>근거</mark>는 <mark style='background-color: #FF6F61'>무엇</mark>인가? \n",
        "일<mark style='background-color: #0F4C81'>단</mark> 이 말을 <mark style='background-color: #FF6F61'>모든</mark> <mark style='background-color: #FF6F61'>인간</mark>을 <mark style='background-color: #FF6F61'>모든</mark> 측면에서 똑같이 <mark style='background-color: #FF6F61'>대우</mark>하는 절대칙 <mark style='background-color: #FF6F61'>평등</mark>으로 생각하는 이는 없다. <mark style='background-color: #FF6F61'>인간</mark>은 저마다 다르게 가지고 대어난 <mark style='background-color: #FF6F61'>능력</mark>과 소질을 똑같게 만들 수 없기 때문이다. 절대적 <mark style='background-color: #FF6F61'>평등</mark>은 개인의 개성이냐 자율성 등의 가치와 충돌하기도 한다. <mark style='background-color: #FF6F61'>평등</mark>에 <mark style='background-color: #FF6F61'>대한</mark> 요구는 <mark style='background-color: #FF6F61'>모든</mark> 불<mark style='background-color: #FF6F61'>평등</mark>을 악으로 보는 것이 아니라 충분한 <mark style='background-color: #FF6F61'>이유</mark>가 <mark style='background-color: #FF6F61'>제시</mark>되지 않은 불<mark style='background-color: #FF6F61'>평등</mark>을 제거하는 데 목표를 두고 있다. ‘<mark style='background-color: #FF6F61'>이유</mark> 없는 차별 금지’라는 조건적 <mark style='background-color: #FF6F61'>평등</mark> <mark style='background-color: #FF6F61'>원</mark>칙은 차별 <mark style='background-color: #FF6F61'>대우</mark>를 할 때는 <mark style='background-color: #FF6F61'>이유</mark>를 <mark style='background-color: #FF6F61'>제시</mark>할 것을 요구하고 있다. 이것은 어떤 <mark style='background-color: #FF6F61'>이유</mark>가 <mark style='background-color: #FF6F61'>제시</mark>된다면 특정한 부류에 속하는 <mark style='background-color: #FF6F61'>사람</mark>들에게는 <mark style='background-color: #FF6F61'>평등</mark>한 <mark style='background-color: #FF6F61'>대우</mark>를, 그 부류에 속하지 않는 <mark style='background-color: #FF6F61'>사람</mark>들에게는 차별저 <mark style='background-color: #FF6F61'>대우</mark>를 하는 것을 허용한다. 그렇다면 <mark style='background-color: #FF6F61'>사람</mark>들을 특정한 부류로 구분하는 기준은 <mark style='background-color: #FF6F61'>무엇</mark>인가? 이것은 바로 <mark style='background-color: #FF6F61'>평등</mark>의 <mark style='background-color: #FF6F61'>근거</mark>에 <mark style='background-color: #FF6F61'>대한</mark> 물음이다.\n",
        "근대의 여러 인권 선언에 나타난 <mark style='background-color: #FF6F61'>평등</mark> 개념은 개인들 사이의 <mark style='background-color: #FF6F61'>평등</mark>성을 타고난 <mark style='background-color: #FF6F61'>자연</mark>적 권리로 간주하였다. <mark style='background-color: #0F4C81'>하지만</mark> 이러한 <mark style='background-color: #FF6F61'>자연</mark>권 이론은 <mark style='background-color: #FF6F61'>무엇</mark>이 <mark style='background-color: #FF6F61'>자연</mark>적 권리이고 권리의 존재가 자명한 <mark style='background-color: #FF6F61'>이유</mark>가 <mark style='background-color: #FF6F61'>무엇</mark>인지 등의 문제에 부딪히게 된다. <mark style='background-color: #0F4C81'>그래서</mark> <mark style='background-color: #FF6F61'>롤스</mark>는 기존의 <mark style='background-color: #FF6F61'>자연</mark>권 사상에 의존하지 않는 방시으로 <mark style='background-color: #FF6F61'>인간</mark> <mark style='background-color: #FF6F61'>평등</mark>의 <mark style='background-color: #FF6F61'>근거</mark>를 마런하려고 한다. 그는 어떤 <mark style='background-color: #FF6F61'>규칙</mark>이 공평하고 일관되게 운영되며, 그 <mark style='background-color: #FF6F61'>규칙</mark>에 따라 유사한 경우는 유사하게 취급된다면 형식적 <mark style='background-color: #FF6F61'>정의</mark>는 실현된다고 본다. <mark style='background-color: #0F4C81'>하지만</mark> <mark style='background-color: #FF6F61'>롤스</mark>는 형식저 <mark style='background-color: #FF6F61'>정의</mark>에 따라 <mark style='background-color: #FF6F61'>규칙</mark>을 준수하는 것만으로는 <mark style='background-color: #FF6F61'>정의</mark>를 담보할 수 없다고 생각한다. 그 <mark style='background-color: #FF6F61'>규칙</mark>이 더 높은 <mark style='background-color: #FF6F61'>도덕</mark>적 권위를 지닌 다른 이넘과 충돌할 수 었기에, 실질적 <mark style='background-color: #FF6F61'>정의</mark>가 보장되기 위해서는 <mark style='background-color: #FF6F61'>규칙</mark>의 내용이 중요한 것이다.\n",
        "<mark style='background-color: #FF6F61'>롤스</mark>는 <mark style='background-color: #FF6F61'>인간</mark> <mark style='background-color: #FF6F61'>평등</mark>의 <mark style='background-color: #FF6F61'>근거</mark>를 설명하면서 <mark style='background-color: #FF6F61'>영역</mark> <mark style='background-color: #FF6F61'>성질</mark> (range property) 개념을 도입한다. <mark style='background-color: #0F4C81'>예를 들어</mark> 어떤 <mark style='background-color: #FF6F61'>원</mark>의 내부에 있는 점들은 그 위치가 서로 다르지만 <mark style='background-color: #FF6F61'>원</mark>의 내부에 있다는 점에서 동일한 <mark style='background-color: #FF6F61'>영역</mark> <mark style='background-color: #FF6F61'>성질</mark>을 갖는다. <mark style='background-color: #0F4C81'>반면에</mark> <mark style='background-color: #FF6F61'>원</mark>의 내부에 있는 집과 <mark style='background-color: #FF6F61'>원</mark>의 외부에 였는 점은<mark style='background-color: #FF6F61'>원</mark>의 경계선을 기준으로 서로 다른 <mark style='background-color: #FF6F61'>영역</mark> <mark style='background-color: #FF6F61'>성질</mark>을 갖는다. 그는 <mark style='background-color: #FF6F61'>평등</mark>한 <mark style='background-color: #FF6F61'>대우</mark>를 받기 위한 <mark style='background-color: #FF6F61'>영역</mark> <mark style='background-color: #FF6F61'>성질</mark>로서 ‘<mark style='background-color: #FF6F61'>도덕</mark>적 <mark style='background-color: #FF6F61'>인격</mark>'을 <mark style='background-color: #FF6F61'>제시</mark>한다. <mark style='background-color: #FF6F61'>도덕</mark>적 <mark style='background-color: #FF6F61'>인격</mark>이란 <mark style='background-color: #FF6F61'>도덕</mark>적 호소가 가능하고 그런 호소에 관심을 기이는 <mark style='background-color: #FF6F61'>능력</mark>이 있다는 것인데, 이 <mark style='background-color: #FF6F61'>능력</mark>을 최소치만 갖고 있다면 <mark style='background-color: #FF6F61'>평등</mark>한 <mark style='background-color: #FF6F61'>대우</mark>에 <mark style='background-color: #FF6F61'>대한</mark> 권한을 갖게 된다. <mark style='background-color: #FF6F61'>도덕</mark>적 <mark style='background-color: #FF6F61'>인격</mark>이라고 해서 <mark style='background-color: #FF6F61'>도덕</mark>적으로 훌륭하다는 뜻이 아니라 <mark style='background-color: #FF6F61'>도덕</mark>과 무관하다는 말과 대비되는 뜻으로 쓰고 있다. <mark style='background-color: #0F4C81'>그런데</mark> 어린 아이는 <mark style='background-color: #FF6F61'>인격</mark>체로서의 최소한의 기준을 충족하고 있는지가 논란이 될 수 있다. 이에 대해 <mark style='background-color: #FF6F61'>롤스</mark>는 <mark style='background-color: #FF6F61'>도덕</mark>적 <mark style='background-color: #FF6F61'>인격</mark>을 규정하는 최소한의 요구 조건은 잠재적 <mark style='background-color: #FF6F61'>능력</mark>이지 그것의 실현 여부가 아니기에 어린 아이도 <mark style='background-color: #FF6F61'>평등</mark>한 존재라고 말한다. 싱어는 위와 같은 <mark style='background-color: #FF6F61'>롤스</mark>의 시도를 비판한다. <mark style='background-color: #FF6F61'>도덕</mark>에 <mark style='background-color: #FF6F61'>대한</mark> 민감성의 수준은 <mark style='background-color: #FF6F61'>사람</mark>에 따라 다르다. <mark style='background-color: #0F4C81'>그래서</mark> <mark style='background-color: #FF6F61'>도덕</mark>적 <mark style='background-color: #FF6F61'>인격</mark>의 <mark style='background-color: #FF6F61'>능력</mark>이 그렇게 중요하다면 그것을 갖춘 정도에 따라 <mark style='background-color: #FF6F61'>도덕</mark>적 위계를 다르게 하지 말아야 할 <mark style='background-color: #FF6F61'>이유</mark>가 분명하지 않다고 말한다. \n",
        "'''\n",
        "cleanr = re.compile(\"</mark>.{0,5}<markstyle='background-color:#FF6F61'>\")\n",
        "patterns = re.findall(\"</mark>.{0,5}<mark style='background-color: #FF6F61'>\",result)\n",
        "w = [i[7:-40] for i in re.findall(\"</mark>.{0,5}<mark style='background-color: #FF6F61'>\",result)]\n",
        "for i in range(len(w)):\n",
        "  result = re.sub(patterns[i], w[i], result)\n",
        "print(result)"
      ],
      "execution_count": null,
      "outputs": [
        {
          "output_type": "stream",
          "text": [
            "\n",
            "\n",
            "\n",
            "\n",
            "\n",
            "\n",
            "\n",
            "\n",
            "\n",
            "\n",
            "\n",
            "\n",
            "\n",
            "\n",
            "\n",
            "\n",
            "\n",
            "\n",
            "\n",
            "\n",
            "\n",
            "\n",
            "\n",
            "\n",
            "\n",
            "\n",
            "\n",
            "\n",
            "\n",
            "\n",
            "\n",
            "\n",
            "\n",
            "\n",
            "\n",
            "\n",
            "\n",
            "\n",
            "\n",
            "\n",
            "\n",
            "\n",
            "\n",
            "\n",
            "\n",
            "\n",
            "\n",
            "\n",
            "\n",
            "\n",
            "\n",
            "<mark style='background-color: #FF6F61'>평등</mark>은 자유와 더불어 근대 사회의 핵심 이념으로 자리 잡고있다. <mark style='background-color: #FF6F61'>인간</mark>은 가령 인종이나 성별과 상관없이 누구나 <mark style='background-color: #FF6F61'>평등</mark>하다고 생각한다. <mark style='background-color: #FF6F61'>모든 인간은 평등</mark>하다고 말하는데, 이 말은 무슨 뜻일까? <mark style='background-color: #0F4C81'>그리고 그 근거는 무엇</mark>인가? \n",
            "일<mark style='background-color: #0F4C81'>단</mark> 이 말을 <mark style='background-color: #FF6F61'>모든 인간을 모든</mark> 측면에서 똑같이 <mark style='background-color: #FF6F61'>대우</mark>하는 절대칙 <mark style='background-color: #FF6F61'>평등</mark>으로 생각하는 이는 없다. <mark style='background-color: #FF6F61'>인간</mark>은 저마다 다르게 가지고 대어난 <mark style='background-color: #FF6F61'>능력</mark>과 소질을 똑같게 만들 수 없기 때문이다. 절대적 <mark style='background-color: #FF6F61'>평등</mark>은 개인의 개성이냐 자율성 등의 가치와 충돌하기도 한다. <mark style='background-color: #FF6F61'>평등에 대한 요구는 모든 불평등</mark>을 악으로 보는 것이 아니라 충분한 <mark style='background-color: #FF6F61'>이유가 제시</mark>되지 않은 불<mark style='background-color: #FF6F61'>평등</mark>을 제거하는 데 목표를 두고 있다. ‘<mark style='background-color: #FF6F61'>이유</mark> 없는 차별 금지’라는 조건적 <mark style='background-color: #FF6F61'>평등 원</mark>칙은 차별 <mark style='background-color: #FF6F61'>대우</mark>를 할 때는 <mark style='background-color: #FF6F61'>이유를 제시</mark>할 것을 요구하고 있다. 이것은 어떤 <mark style='background-color: #FF6F61'>이유가 제시</mark>된다면 특정한 부류에 속하는 <mark style='background-color: #FF6F61'>사람들에게는 평등한 대우</mark>를, 그 부류에 속하지 않는 <mark style='background-color: #FF6F61'>사람</mark>들에게는 차별저 <mark style='background-color: #FF6F61'>대우</mark>를 하는 것을 허용한다. 그렇다면 <mark style='background-color: #FF6F61'>사람</mark>들을 특정한 부류로 구분하는 기준은 <mark style='background-color: #FF6F61'>무엇</mark>인가? 이것은 바로 <mark style='background-color: #FF6F61'>평등의 근거에 대한</mark> 물음이다.\n",
            "근대의 여러 인권 선언에 나타난 <mark style='background-color: #FF6F61'>평등</mark> 개념은 개인들 사이의 <mark style='background-color: #FF6F61'>평등</mark>성을 타고난 <mark style='background-color: #FF6F61'>자연</mark>적 권리로 간주하였다. <mark style='background-color: #0F4C81'>하지만 이러한 자연</mark>권 이론은 <mark style='background-color: #FF6F61'>무엇이 자연</mark>적 권리이고 권리의 존재가 자명한 <mark style='background-color: #FF6F61'>이유가 무엇</mark>인지 등의 문제에 부딪히게 된다. <mark style='background-color: #0F4C81'>그래서 롤스</mark>는 기존의 <mark style='background-color: #FF6F61'>자연</mark>권 사상에 의존하지 않는 방시으로 <mark style='background-color: #FF6F61'>인간 평등의 근거</mark>를 마런하려고 한다. 그는 어떤 <mark style='background-color: #FF6F61'>규칙</mark>이 공평하고 일관되게 운영되며, 그 <mark style='background-color: #FF6F61'>규칙</mark>에 따라 유사한 경우는 유사하게 취급된다면 형식적 <mark style='background-color: #FF6F61'>정의</mark>는 실현된다고 본다. <mark style='background-color: #0F4C81'>하지만 롤스</mark>는 형식저 <mark style='background-color: #FF6F61'>정의에 따라 규칙</mark>을 준수하는 것만으로는 <mark style='background-color: #FF6F61'>정의</mark>를 담보할 수 없다고 생각한다. 그 <mark style='background-color: #FF6F61'>규칙</mark>이 더 높은 <mark style='background-color: #FF6F61'>도덕</mark>적 권위를 지닌 다른 이넘과 충돌할 수 었기에, 실질적 <mark style='background-color: #FF6F61'>정의</mark>가 보장되기 위해서는 <mark style='background-color: #FF6F61'>규칙</mark>의 내용이 중요한 것이다.\n",
            "<mark style='background-color: #FF6F61'>롤스는 인간 평등의 근거</mark>를 설명하면서 <mark style='background-color: #FF6F61'>영역 성질</mark> (range property) 개념을 도입한다. <mark style='background-color: #0F4C81'>예를 들어 어떤 원</mark>의 내부에 있는 점들은 그 위치가 서로 다르지만 <mark style='background-color: #FF6F61'>원</mark>의 내부에 있다는 점에서 동일한 <mark style='background-color: #FF6F61'>영역 성질</mark>을 갖는다. <mark style='background-color: #0F4C81'>반면에 원</mark>의 내부에 있는 집과 <mark style='background-color: #FF6F61'>원</mark>의 외부에 였는 점은<mark style='background-color: #FF6F61'>원</mark>의 경계선을 기준으로 서로 다른 <mark style='background-color: #FF6F61'>영역 성질</mark>을 갖는다. 그는 <mark style='background-color: #FF6F61'>평등한 대우</mark>를 받기 위한 <mark style='background-color: #FF6F61'>영역 성질로서 ‘도덕적 인격'을 제시한다. 도덕적 인격이란 도덕</mark>적 호소가 가능하고 그런 호소에 관심을 기이는 <mark style='background-color: #FF6F61'>능력</mark>이 있다는 것인데, 이 <mark style='background-color: #FF6F61'>능력</mark>을 최소치만 갖고 있다면 <mark style='background-color: #FF6F61'>평등한 대우에 대한</mark> 권한을 갖게 된다. <mark style='background-color: #FF6F61'>도덕적 인격</mark>이라고 해서 <mark style='background-color: #FF6F61'>도덕</mark>적으로 훌륭하다는 뜻이 아니라 <mark style='background-color: #FF6F61'>도덕</mark>과 무관하다는 말과 대비되는 뜻으로 쓰고 있다. <mark style='background-color: #0F4C81'>그런데</mark> 어린 아이는 <mark style='background-color: #FF6F61'>인격</mark>체로서의 최소한의 기준을 충족하고 있는지가 논란이 될 수 있다. 이에 대해 <mark style='background-color: #FF6F61'>롤스는 도덕적 인격</mark>을 규정하는 최소한의 요구 조건은 잠재적 <mark style='background-color: #FF6F61'>능력</mark>이지 그것의 실현 여부가 아니기에 어린 아이도 <mark style='background-color: #FF6F61'>평등</mark>한 존재라고 말한다. 싱어는 위와 같은 <mark style='background-color: #FF6F61'>롤스</mark>의 시도를 비판한다. <mark style='background-color: #FF6F61'>도덕에 대한</mark> 민감성의 수준은 <mark style='background-color: #FF6F61'>사람</mark>에 따라 다르다. <mark style='background-color: #0F4C81'>그래서 도덕적 인격의 능력</mark>이 그렇게 중요하다면 그것을 갖춘 정도에 따라 <mark style='background-color: #FF6F61'>도덕</mark>적 위계를 다르게 하지 말아야 할 <mark style='background-color: #FF6F61'>이유</mark>가 분명하지 않다고 말한다. \n",
            "\n"
          ],
          "name": "stdout"
        }
      ]
    },
    {
      "cell_type": "code",
      "metadata": {
        "id": "svmbjT-Ly_pP",
        "colab_type": "code",
        "colab": {
          "base_uri": "https://localhost:8080/",
          "height": 54
        },
        "outputId": "19215a2c-b49a-4b56-ae85-cd7f7d9394a0"
      },
      "source": [
        "w = [i[7:-40] for i in re.findall(\"</mark>.{0,5}<mark style='background-color: #FF6F61'>\",result)]\n",
        "len(\"<mark style='background-color: #FF6F61'>\")\n",
        "print"
      ],
      "execution_count": null,
      "outputs": [
        {
          "output_type": "stream",
          "text": [
            "[' ', '은 ', ' 그 ', '는 ', ' ', '을 ', '에 ', ' 요구는 ', ' 불', '가 ', ' ', '를 ', '가 ', '들에게는 ', '한 ', '의 ', '에 ', ' 이러한 ', '이 ', '가 ', ' ', ' ', '의 ', ' ', '에 따라 ', '는 ', ' ', '의 ', ' ', ' 어떤 ', ' ', ' ', ' ', '한 ', ' ', '로서 ‘', '적 ', \"'을 \", '한다. ', '적 ', '이란 ', '한 ', '에 ', '적 ', '는 ', '적 ', '에 ', ' ', '적 ', '의 ']\n"
          ],
          "name": "stdout"
        }
      ]
    },
    {
      "cell_type": "code",
      "metadata": {
        "id": "kF7XQkityZWL",
        "colab_type": "code",
        "colab": {
          "base_uri": "https://localhost:8080/",
          "height": 1000
        },
        "outputId": "76cef5bf-82f8-492f-9341-c4e1e72a1d38"
      },
      "source": [
        "dir(re)"
      ],
      "execution_count": null,
      "outputs": [
        {
          "output_type": "execute_result",
          "data": {
            "text/plain": [
              "['A',\n",
              " 'ASCII',\n",
              " 'DEBUG',\n",
              " 'DOTALL',\n",
              " 'I',\n",
              " 'IGNORECASE',\n",
              " 'L',\n",
              " 'LOCALE',\n",
              " 'M',\n",
              " 'MULTILINE',\n",
              " 'RegexFlag',\n",
              " 'S',\n",
              " 'Scanner',\n",
              " 'T',\n",
              " 'TEMPLATE',\n",
              " 'U',\n",
              " 'UNICODE',\n",
              " 'VERBOSE',\n",
              " 'X',\n",
              " '_MAXCACHE',\n",
              " '__all__',\n",
              " '__builtins__',\n",
              " '__cached__',\n",
              " '__doc__',\n",
              " '__file__',\n",
              " '__loader__',\n",
              " '__name__',\n",
              " '__package__',\n",
              " '__spec__',\n",
              " '__version__',\n",
              " '_alphanum_bytes',\n",
              " '_alphanum_str',\n",
              " '_cache',\n",
              " '_compile',\n",
              " '_compile_repl',\n",
              " '_expand',\n",
              " '_locale',\n",
              " '_pattern_type',\n",
              " '_pickle',\n",
              " '_subx',\n",
              " 'compile',\n",
              " 'copyreg',\n",
              " 'enum',\n",
              " 'error',\n",
              " 'escape',\n",
              " 'findall',\n",
              " 'finditer',\n",
              " 'fullmatch',\n",
              " 'functools',\n",
              " 'match',\n",
              " 'purge',\n",
              " 'search',\n",
              " 'split',\n",
              " 'sre_compile',\n",
              " 'sre_parse',\n",
              " 'sub',\n",
              " 'subn',\n",
              " 'template']"
            ]
          },
          "metadata": {
            "tags": []
          },
          "execution_count": 100
        }
      ]
    },
    {
      "cell_type": "markdown",
      "metadata": {
        "id": "cuHEQofWAsnA",
        "colab_type": "text"
      },
      "source": [
        "### Linked List Implemented to Show the whole list of sentences and their parsed tags in a consecutive manner"
      ]
    },
    {
      "cell_type": "code",
      "metadata": {
        "colab_type": "code",
        "id": "9Af1flDKI9M8",
        "colab": {
          "base_uri": "https://localhost:8080/",
          "height": 255
        },
        "outputId": "9ab2e118-386e-4968-8a8e-7f91bc59e170"
      },
      "source": [
        "path=\"/content/mnt/Shared drives/BigDATA TEAM 10/OpenInformationExtraction\"\n",
        "parser = frame_parser.FrameParser(model_path=path, language='ko')"
      ],
      "execution_count": null,
      "outputs": [
        {
          "output_type": "stream",
          "text": [
            "srl model: framenet\n",
            "language: ko\n",
            "version: 1.2\n",
            "using viterbi: False\n",
            "using masking: True\n",
            "pretrained BERT: bert-base-multilingual-cased\n",
            "using TGT special token: True\n",
            "used dictionary:\n",
            "\t /content/mnt/Shared drives/BigDATA TEAM 10/OpenInformationExtraction/frameBERT/src/../koreanframenet/resource/info/kfn1.2_lu2idx.json\n",
            "\t /content/mnt/Shared drives/BigDATA TEAM 10/OpenInformationExtraction/frameBERT/src/../koreanframenet/resource/info/kfn1.2_lufrmap.json\n",
            "\t /content/mnt/Shared drives/BigDATA TEAM 10/OpenInformationExtraction/frameBERT/src/../koreanframenet/resource/info/mul_bio_frargmap.json\n",
            "...loaded model path: /content/mnt/Shared drives/BigDATA TEAM 10/OpenInformationExtraction\n",
            "/content/mnt/Shared drives/BigDATA TEAM 10/OpenInformationExtraction\n",
            "...model is loaded\n"
          ],
          "name": "stdout"
        }
      ]
    },
    {
      "cell_type": "code",
      "metadata": {
        "colab_type": "code",
        "id": "wIph64I5OnLZ",
        "colab": {}
      },
      "source": [
        "def split_into_sentences(object):\n",
        "  ls = kss.split_sentences(object)\n",
        "  return ls\n",
        "\n",
        "def frameParse(text):\n",
        "  parser = frame_parser.FrameParser(model_path=path, language='ko')\n",
        "  parsed = parser.parser(text, sent_id='1', result_format='conll')\n",
        "  return parsed\n",
        "  \n",
        "\n",
        "def sortCandidate(parsed, num_candidates):\n",
        "  for i in range(len(parsed)):\n",
        "    count=0\n",
        "    for element in parsed[i][3]:\n",
        "      if element.startswith(\"O\"):\n",
        "        count+=1\n",
        "  q[i] = len(words) - count\n",
        "  hq = heapq.nlargest(num_candidates, q)\n",
        "  indices.append(q.index(hq[idx]))\n",
        "  # for idx in range(num_candidates):\n",
        "  #   temp = parsed[q.index(hq[idx])]\n",
        "  #   words = temp[0]\n",
        "  #   [[row[i] for row in temp] for i in range(len(words))]\n",
        "  return indices\n",
        "\n",
        "\n",
        "def findConsecutiveBIO(words, tag):\n",
        "  began = False\n",
        "  count = 0\n",
        "  q = deque(words)\n",
        "  for i in range(len(words)):\n",
        "    if tag[i]=='O':\n",
        "      q.popleft()\n",
        "    if tag[i].startswith('B'):\n",
        "      began=True\n",
        "    if began & tag[i].startswith('I'):\n",
        "      count+=1\n",
        "  return q\n",
        "\n",
        "# Linked List 구현해서 parsed 후보군에 사용\n",
        "class Node:\n",
        "    def __init__(self, data):\n",
        "        self.words = data[0]\n",
        "        self.tags = data[3]\n",
        "        self.next = None\n",
        "\n",
        "    def __repr__(self):\n",
        "        return str((self.words, self.tags))\n",
        "\n",
        "class LinkedList:\n",
        "  def __init__(self):\n",
        "      self.head = None\n",
        "\n",
        "  def __repr__(self):\n",
        "      node = self.head\n",
        "      nodes = []\n",
        "      while node is not None:\n",
        "          nodes.append(str(node.tags))\n",
        "          node = node.next\n",
        "      nodes.append(\"None\")\n",
        "      return ' -> '.join(nodes)\n",
        "  \n",
        "class LinkedList:\n",
        "  def __init__(self):\n",
        "      self.head = None\n",
        "\n",
        "  def __repr__(self):\n",
        "      node = self.head\n",
        "      nodes = []\n",
        "      while node is not None:\n",
        "          nodes.append(str(node.tags))\n",
        "          node = node.next\n",
        "      nodes.append(\"None\")\n",
        "      return ' -> '.join(nodes)\n",
        "\n",
        "def extractFrame(text):\n",
        "  ls = split_into_sentences(text)\n",
        "  final = {}\n",
        "  \n",
        "  for idx in range(len(ls)):\n",
        "    parsed = frameParse(ls[idx]) # candidates 생성\n",
        "    final.setdefault(idx,str)\n",
        "    parsedList =  LinkedList()\n",
        "    for j in range(len(parsed)):\n",
        "      parsed_candidate = parsed[j]\n",
        "      new_node = Node(parsed_candidate)\n",
        "      if j == 0:\n",
        "        old_node = new_node\n",
        "        parsedList.head = old_node\n",
        "      elif j==len(parsed)-1:\n",
        "        old_node.next = new_node\n",
        "        new_node.next = None\n",
        "        print(idx,'  ',parsedList)\n",
        "        final[idx] = parsedList\n",
        "      else:\n",
        "        old_node.next = new_node\n",
        "        old_node = new_node\n",
        "  return final\n",
        "\n"
      ],
      "execution_count": null,
      "outputs": []
    },
    {
      "cell_type": "code",
      "metadata": {
        "id": "XD2QZjRqZaM8",
        "colab_type": "code",
        "colab": {}
      },
      "source": [
        "def main(text):\n",
        "  all = extractFrame(text)\n",
        "  s = \"\"\n",
        "  res = {}\n",
        "\n",
        "  i = 1\n",
        "  res.setdefault(i,tuple)\n",
        "  for k, v in all.items():\n",
        "    a = v.head\n",
        "    while a is not None:\n",
        "      temp = \" \"\n",
        "      if len(a.words) == len(a.tags):\n",
        "        q = findConsecutiveBIO(a.words, a.tags)\n",
        "      else:\n",
        "        print(\"ERROR OCCURED\")\n",
        "        \n",
        "      count = len(a.words)\n",
        "      for tag in a.tags:\n",
        "       if tag.startswith(\"O\"):\n",
        "          count -= 1\n",
        "      if count > len(a.words)*0.5:\n",
        "        print(\"The threshold is reached !! 😛 😝 😜 🤪 🤨 🧐 🤓 😎 🤩 🥳 😏\")\n",
        "        temp = \" \".join(q) \n",
        "        print(temp)\n",
        "        words = a.words\n",
        "        tags = a.tags\n",
        "      res[i] = (a.words, a.tags , \" \".join(q))\n",
        "      a = a.next\n",
        "    i+=1\n",
        "  return res\n"
      ],
      "execution_count": null,
      "outputs": []
    },
    {
      "cell_type": "code",
      "metadata": {
        "id": "dIIiD0vrpdmD",
        "colab_type": "code",
        "colab": {}
      },
      "source": [
        "extracted = main(text)\n",
        "pprint(extracted)"
      ],
      "execution_count": null,
      "outputs": []
    },
    {
      "cell_type": "code",
      "metadata": {
        "id": "Vvm4aMtEz1A1",
        "colab_type": "code",
        "colab": {}
      },
      "source": [
        "pprint(extracted)"
      ],
      "execution_count": null,
      "outputs": []
    },
    {
      "cell_type": "markdown",
      "metadata": {
        "id": "kQNkF3aGty_0",
        "colab_type": "text"
      },
      "source": [
        "### TODO : 여기서부터 extracted를 가지고 purpose / goal / effect / entity 등을 찾아야함"
      ]
    },
    {
      "cell_type": "code",
      "metadata": {
        "id": "mf62cktfw2C1",
        "colab_type": "code",
        "colab": {}
      },
      "source": [
        "for k, tup in extracted.items():\n",
        "  a, b, c = tup\n",
        "  roles = [0]*len(b)\n",
        "  words = [0]*len(b)\n",
        "  for i in range(len(b)):\n",
        "    try: \n",
        "      roles[i] = b[i].split(\"-\")[1] \n",
        "      \n",
        "    except: \n",
        "      roles[i] = b[i].split(\"-\")[0]\n",
        "  print(roles)\n",
        "  for _ in roles:\n",
        "    pass"
      ],
      "execution_count": null,
      "outputs": []
    },
    {
      "cell_type": "code",
      "metadata": {
        "colab_type": "code",
        "id": "S7zGTQO4BUO7",
        "colab": {}
      },
      "source": [
        "# 1st sentence : GOALS & MEANS \n",
        "\n",
        "parsed = parser.parser(ls[0], sent_id='1', result_format='conll')\n",
        "words = parsed[0][0]\n",
        "print(\"😀 Words vector from sentence \",words)\n",
        "q = [-1]*len(parsed)\n",
        "for i in range(len(parsed)):\n",
        "  count=0\n",
        "  for element in parsed[i][3]:\n",
        "    if element.startswith(\"O\"):\n",
        "      count+=1\n",
        "  q[i] = len(words) - count\n",
        "hq = heapq.nlargest(2, q)\n",
        "\n",
        "\n",
        "print(\"Number of parsed candidates \",len(parsed))\n",
        "print(q, heapq.nlargest(2, q)) # 첫번째 경우 사용\n",
        "\n",
        "\n",
        "words = parsed[0][0]\n",
        "roles = parsed[0][2]\n",
        "tagged = parsed[0][3]\n",
        "for idx in range(len(tagged)):\n",
        "  try:\n",
        "    roles[i] = tagged[i].split(\"-\")[1]\n",
        "  except:\n",
        "    roles[i] = tagged[i].split(\"-\")[0]\n",
        "\n",
        "print(\"roles \",roles)\n",
        "\n",
        "goals = []\n",
        "means = []\n",
        "for _ in range(len(words)):\n",
        "  if roles[_]==\"Goal\":\n",
        "    goals.append(words[_])\n",
        "  if roles[_]=='Means':\n",
        "    means.append(words[_])\n",
        "\n",
        "# MEANS\n",
        "MEANS = ' '.join(means)\n",
        "pos = h.pos(MEANS)\n",
        "imp = []\n",
        "for tup in h.pos(MEANS):\n",
        "  if tup[1]==\"N\":\n",
        "    imp.append(tup[0])\n",
        "MEANS_TRUNCATED = ' '.join(imp)\n",
        "print(MEANS_TRUNCATED)\n",
        "\n",
        "# GOALS\n",
        "GOAL = ' '.join(goals)\n",
        "pos = h.pos(GOAL)\n",
        "imp = []\n",
        "for tup in h.pos(GOAL):\n",
        "  if tup[1]==\"N\":\n",
        "    imp.append(tup[0])\n",
        "GOAL_TRUNCATED = ' '.join(imp)\n",
        "print(GOAL_TRUNCATED)\n",
        "\n",
        "final_string = MEANS_TRUNCATED + ' -- >' + GOAL_TRUNCATED\n",
        "print(\"😀 final string to be inserted\",final_string)"
      ],
      "execution_count": null,
      "outputs": []
    },
    {
      "cell_type": "code",
      "metadata": {
        "colab_type": "code",
        "id": "F9zsJryuBRri",
        "colab": {}
      },
      "source": [
        "# 2nd sentence : PURPOSE & INSTRUMENT\n",
        "parsed = parser.parser(ls[1], sent_id='1', result_format='conll')\n",
        "words = parsed[0][0]\n",
        "print(\"😀 Words vector from sentence \",words)\n",
        "q = [-1]*len(parsed)\n",
        "for i in range(len(parsed)):\n",
        "  count=0\n",
        "  for element in parsed[i][3]:\n",
        "    if element.startswith(\"O\"):\n",
        "      count+=1\n",
        "  q[i] = len(words) - count\n",
        "\n",
        "\n",
        "print(\"Number of parsed candidates \",len(parsed))\n",
        "print(q, heapq.nlargest(3, q))\n",
        "print(itemgetter(*[1,5])(parsed))\n",
        "candidates = itemgetter(*[1,8])(parsed)\n",
        "for _ in candidates:\n",
        "  words = _[0]\n",
        "  tagged = _[3]\n",
        "  print(\"tagged vector of candidates: \",tagged)\n",
        "  roles = _[2]\n",
        "  for i in range(len(parsed)):\n",
        "    try:\n",
        "      roles[i] = tagged[i].split(\"-\")[1]\n",
        "    except:\n",
        "      roles[i] = tagged[i].split(\"-\")[0]\n",
        "  print(roles,f'Tagged words for the roles : {tagged}')\n",
        "# roles are selected as the one with purpose and instrument\n",
        "\n",
        "purpose = []\n",
        "instrument = []\n",
        "for _ in range(len(words)):\n",
        "  if roles[_]==\"Purpose\":\n",
        "    purpose.append(words[_])\n",
        "    \n",
        "  elif roles[_]==\"Instrument\":\n",
        "    instrument.append(words[_])\n",
        "    \n",
        "  elif roles[_]!=\"_\": # using 포함\n",
        "    instrument.append(words[_])\n",
        "print(\"Instrument: \",instrument)\n",
        "print(\"Purpose: \",purpose)\n",
        "\n",
        "\n",
        "\n",
        "\n",
        "\n",
        "# PURPOSE\n",
        "PURPOSE = ' '.join(purpose)\n",
        "pos = h.pos(PURPOSE)\n",
        "imp = []\n",
        "for tup in pos:\n",
        "  if tup[1]==\"N\":\n",
        "    imp.append(tup[0])\n",
        "PURPOSE_TRUNCATED = ' '.join(imp)\n",
        "print(PURPOSE_TRUNCATED)\n",
        "\n",
        "# INSTRUMENT\n",
        "INSTRUMENT = ' '.join(instrument)\n",
        "pos = h.pos(INSTRUMENT)\n",
        "imp = []\n",
        "for tup in pos:\n",
        "  if tup[1]==\"N\":\n",
        "    imp.append(tup[0])\n",
        "INST_TRUNCATED = ' '.join(imp)\n",
        "print(INST_TRUNCATED)\n",
        "\n",
        "final_string = INST_TRUNCATED+ ' ➡️' + PURPOSE_TRUNCATED \n",
        "print(\"😀 final string to be inserted \", final_string)\n",
        "\n",
        "    \n",
        "    "
      ],
      "execution_count": null,
      "outputs": []
    },
    {
      "cell_type": "code",
      "metadata": {
        "colab_type": "code",
        "id": "HxZxxnMiVuKw",
        "colab": {}
      },
      "source": [
        "# 3rd sentence : Goal - Means\n",
        "parsed = parser.parser(ls[2], sent_id='1', result_format='conll')\n",
        "words = parsed[0][0]\n",
        "print(\"Words vector from sentence \",words)\n",
        "q = [-1]*len(parsed)\n",
        "for i in range(len(parsed)):\n",
        "  count=0\n",
        "  for element in parsed[i][3]:\n",
        "    if element.startswith(\"O\"):\n",
        "      count+=1\n",
        "  q[i] = len(words) - count\n",
        "\n",
        "print(q, heapq.nlargest(3, q))\n",
        "\n",
        "a,b,c=parsed\n",
        "tagged = b[3]\n",
        "for i in range(len(tagged)):\n",
        "  try:\n",
        "    roles[i] = tagged[i].split(\"-\")[1]\n",
        "  except:\n",
        "    roles[i] = tagged[i].split(\"-\")[0]\n",
        "\n",
        "\n",
        "\n",
        "goals = []\n",
        "means = []\n",
        "for _ in range(len(words)):\n",
        "  if roles[_]==\"Goal\":\n",
        "    goals.append(words[_])\n",
        "  if roles[_]=='Means':\n",
        "    means.append(words[_])\n",
        "\n",
        "# MEANS\n",
        "MEANS = ' '.join(means)\n",
        "pos = h.pos(MEANS)\n",
        "imp = []\n",
        "for tup in h.pos(MEANS):\n",
        "  if tup[1]==\"N\":\n",
        "    imp.append(tup[0])\n",
        "MEANS_TRUNCATED = ' '.join(imp)\n",
        "print(MEANS_TRUNCATED)\n",
        "\n",
        "# GOALS\n",
        "GOAL = ' '.join(goals)\n",
        "pos = h.pos(GOAL)\n",
        "imp = []\n",
        "for tup in h.pos(GOAL):\n",
        "  if tup[1]==\"N\":\n",
        "    imp.append(tup[0])\n",
        "GOAL_TRUNCATED = ' '.join(imp)\n",
        "print(GOAL_TRUNCATED)\n",
        "\n",
        "final_string = MEANS_TRUNCATED + ' -- >' + GOAL_TRUNCATED\n",
        "print(\"😀 final string to be inserted\",final_string)\n"
      ],
      "execution_count": null,
      "outputs": []
    },
    {
      "cell_type": "markdown",
      "metadata": {
        "id": "I_vBkRqWXnfr",
        "colab_type": "text"
      },
      "source": [
        "## PPTX에 활용"
      ]
    },
    {
      "cell_type": "code",
      "metadata": {
        "id": "hZ_738Krj4Wm",
        "colab_type": "code",
        "colab": {}
      },
      "source": [
        "prs = Presentation(\"final_template.pptx\")  # 원하는 template 종류 불러오기\n",
        "slide_0 = prs.slides[0] # 제복 slide (제목 슬라이드)\n",
        "slide_2 = prs.slides[2] # 두 번째 slide"
      ],
      "execution_count": null,
      "outputs": []
    },
    {
      "cell_type": "code",
      "metadata": {
        "id": "jJ_iciyKj4Wp",
        "colab_type": "code",
        "colab": {}
      },
      "source": [
        "slide_2.placeholders.element[3][2][2][1][1].text = \"Two Track Process\" # 여덟 번째 슬라이드 제목\n",
        "slide_2.placeholders.element[5][2][2][1][1].text = \"\"\n",
        "slide_2.placeholders.element[6][2][2][1][1].text = \"\"\n",
        "slide_2.placeholders.element[17][2][2][1][1].text = \"\"\n",
        "slide_2.placeholders.element[18][2][2][1][1].text = \"\"\n",
        "slide_2.placeholders.element[19][2][2][1][1].text = \"TEXT2PPTX\"\n",
        "slide_2.placeholders.element[11][2][2][1][1].text = \"자연어처리의 최신 기술을 다수 사용\"\n",
        "slide_2.placeholders.element[10][2][2][1][1].text = \"대본을 피피티로 옮기기 전에 요약하고 분석\"\n",
        "slide_2.placeholders.element[14][2][2][1][1].text = \"파이썬에서 파워포인트의 소스에 접근하기 위해 xml 코드를 심층적으로 분석\"\n",
        "slide_2.placeholders.element[13][2][2][1][1].text = \"사용자가 자연어로 쓰인 대본을 텍2피에 제공하면 높은 수준의 피피티로 제공\""
      ],
      "execution_count": null,
      "outputs": []
    },
    {
      "cell_type": "markdown",
      "metadata": {
        "id": "lEgNzSF4Xq8a",
        "colab_type": "text"
      },
      "source": [
        "## 교육용 교재에 활용"
      ]
    },
    {
      "cell_type": "code",
      "metadata": {
        "id": "VRL1bZb4XusT",
        "colab_type": "code",
        "colab": {}
      },
      "source": [
        ""
      ],
      "execution_count": null,
      "outputs": []
    }
  ]
}