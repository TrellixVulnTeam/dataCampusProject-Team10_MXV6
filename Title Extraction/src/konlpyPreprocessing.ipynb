{
 "nbformat": 4,
 "nbformat_minor": 0,
 "metadata": {
  "kernelspec": {
   "display_name": "Python 3",
   "language": "python",
   "name": "python3"
  },
  "language_info": {
   "codemirror_mode": {
    "name": "ipython",
    "version": 3
   },
   "file_extension": ".py",
   "mimetype": "text/x-python",
   "name": "python",
   "nbconvert_exporter": "python",
   "pygments_lexer": "ipython3",
   "version": "3.7.6"
  },
  "colab": {
   "name": "konlpyPreprocessing.ipynb",
   "provenance": []
  }
 },
 "cells": [
  {
   "cell_type": "code",
   "metadata": {
    "id": "Gp85zUPg8DIB",
    "colab_type": "code",
    "colab": {}
   },
   "source": [
    "import json\n",
    "import os\n",
    "from pandas.io.json import json_normalize\n",
    "# from konlpy.tag import *\n",
    "import numpy as np\n",
    "import pandas as pd\n",
    "import re\n",
    "import matplotlib.pyplot as plt\n",
    "from nltk.corpus import stopwords\n",
    "from bs4 import BeautifulSoup \n",
    "from tensorflow.keras.preprocessing.text import Tokenizer \n",
    "from tensorflow.keras.preprocessing.sequence import pad_sequences"
   ],
   "execution_count": 38,
   "outputs": []
  },
  {
   "cell_type": "code",
   "metadata": {
    "id": "LD5ZZmQv8DIH",
    "colab_type": "code",
    "colab": {}
   },
   "source": [
    "# def ask_user(query, retries):\n",
    "#     while True:\n",
    "#         inp = input(query)\n",
    "#         if inp in ['y','Y','yes','Yes']:\n",
    "#             return True\n",
    "#             break\n",
    "#         if inp in ['n','No','NO']:\n",
    "#             return False\n",
    "#             break\n",
    "#         retries = retries - 1\n",
    "#         if retries < 1:\n",
    "#             raise ValueError(\"잘못된 답변입니다\")\n",
    "#         ask_user(query,retries)"
   ],
   "execution_count": null,
   "outputs": []
  },
  {
   "cell_type": "code",
   "metadata": {
    "id": "wdZT9NV58DIK",
    "colab_type": "code",
    "colab": {}
   },
   "source": [
    "path = \"/content/drive/Shared drives/BigDATA TEAM 10/dataset/korquadV2/Processed/\"\n",
    "# file_name = \"KorQuAD_v1.0_dev.json\"\n",
    "csv_name = \"konlpy comparison.csv\""
   ],
   "execution_count": 3,
   "outputs": []
  },
  {
   "cell_type": "code",
   "metadata": {
    "id": "Kkrh2owy8I11",
    "colab_type": "code",
    "colab": {
     "base_uri": "https://localhost:8080/",
     "height": 122
    },
    "outputId": "c20822f5-fa9c-49d5-8faa-4a042119fbcc"
   },
   "source": [
    "from google.colab import drive\n",
    "drive.mount('/content/drive')"
   ],
   "execution_count": 2,
   "outputs": [
    {
     "output_type": "stream",
     "text": [
      "Go to this URL in a browser: https://accounts.google.com/o/oauth2/auth?client_id=947318989803-6bn6qk8qdgf4n4g3pfee6491hc0brc4i.apps.googleusercontent.com&redirect_uri=urn%3aietf%3awg%3aoauth%3a2.0%3aoob&response_type=code&scope=email%20https%3a%2f%2fwww.googleapis.com%2fauth%2fdocs.test%20https%3a%2f%2fwww.googleapis.com%2fauth%2fdrive%20https%3a%2f%2fwww.googleapis.com%2fauth%2fdrive.photos.readonly%20https%3a%2f%2fwww.googleapis.com%2fauth%2fpeopleapi.readonly\n",
      "\n",
      "Enter your authorization code:\n",
      "··········\n",
      "Mounted at /content/drive\n"
     ],
     "name": "stdout"
    }
   ]
  },
  {
   "cell_type": "code",
   "metadata": {
    "id": "S7CFFcZx8DIR",
    "colab_type": "code",
    "colab": {}
   },
   "source": [
    "df = pd.read_csv(os.path.join(path,csv_name))\n",
    "def extractNN(tagger, obj):\n",
    "    t = tagger()\n",
    "    res = [t.nouns(i) for i in obj['question']]\n",
    "    return res\n",
    "kkma_nouns = extractNN(Kkma, df)\n",
    "komoran_nouns = extractNN(Komoran, df)\n",
    "okt_nouns = extractNN(Okt, df)\n",
    "hannanum_nouns = extractNN(Hannanum,df)\n",
    "\n",
    "df['kkma']=kkma_nouns\n",
    "df['komoran']=komoran_nouns\n",
    "df['okt']=okt_nouns\n",
    "df['hannanum']=hannanum_nouns"
   ],
   "execution_count": null,
   "outputs": []
  },
  {
   "cell_type": "code",
   "metadata": {
    "id": "PTPXYFII8DIV",
    "colab_type": "code",
    "colab": {}
   },
   "source": [
    "df.to_csv(\"korquad_noun_ver2.csv\",encoding = 'utf-8-sig', index = False)"
   ],
   "execution_count": null,
   "outputs": []
  },
  {
   "cell_type": "code",
   "execution_count": null,
   "outputs": [],
   "source": [
    "raw = pd.read_csv(os.path.join(path,csv_name))\n",
    "i = 0\n",
    "for row in raw.itertuples():\n",
    "  print(row)\n",
    "  old = row\n",
    "  if row.context != old.context:\n",
    "    break"
   ],
   "metadata": {
    "collapsed": false,
    "pycharm": {
     "name": "#%%\n"
    }
   }
  },
  {
   "cell_type": "code",
   "execution_count": null,
   "outputs": [],
   "source": [
    "context = iter([_ for _ in raw.context])\n",
    "nouns = iter([_ for _ in raw.komoran])"
   ],
   "metadata": {
    "collapsed": false,
    "pycharm": {
     "name": "#%%\n"
    }
   }
  },
  {
   "cell_type": "code",
   "execution_count": null,
   "outputs": [],
   "source": [
    "class Collection:\n",
    "    def __init__(self, object):\n",
    "        self.object = object\n",
    "        self.size = len(object)\n",
    "        self.context = iter([_ for _ in object.context])\n",
    "        self.nouns = iter([_ for _ in object.komoran])\n",
    " \n",
    "    def process(self):\n",
    "        re.search\n",
    " \n",
    " \n",
    "coll = MyCollection()\n",
    "for x in coll:\n",
    "    print(x)"
   ],
   "metadata": {
    "collapsed": false,
    "pycharm": {
     "name": "#%%\n"
    }
   }
  },
  {
   "cell_type": "code",
   "execution_count": null,
   "outputs": [],
   "source": [],
   "metadata": {
    "collapsed": false,
    "pycharm": {
     "name": "#%%\n"
    }
   }
  },
  {
   "cell_type": "code",
   "execution_count": null,
   "outputs": [],
   "source": [
    "curr = next(nouns)[1:-1]\n",
    "curr = curr.replace(\"' \", '').replace(\"'\",'')\n",
    "print(curr)\n",
    "a = curr.split(\",\")\n",
    "print(a)\n",
    "print(type(a))"
   ],
   "metadata": {
    "collapsed": false,
    "pycharm": {
     "name": "#%%\n"
    }
   }
  },
  {
   "cell_type": "code",
   "execution_count": null,
   "outputs": [],
   "source": [
    "i = 0\n",
    "keys = (,)\n",
    "curr_text = next(context)\n",
    "while next(context)==curr_text:\n",
    "current_set = set()\n",
    "while True:\n",
    "  try: \n",
    "    curr = next(nouns)[1:-1]\n",
    "    curr = curr.replace(\"' \", '').replace(\"'\",'')\n",
    "    temp = curr.split(\",\")\n",
    "    current_list.update(temp)\n",
    "    \n",
    "    i+=1\n",
    "    if i == 30:\n",
    "      break\n",
    "  except StopIteration:\n",
    "    break\n",
    "\n"
   ],
   "metadata": {
    "collapsed": false,
    "pycharm": {
     "name": "#%%\n"
    }
   }
  },
  {
   "cell_type": "code",
   "execution_count": null,
   "outputs": [],
   "source": [
    "print(current_list)"
   ],
   "metadata": {
    "collapsed": false,
    "pycharm": {
     "name": "#%%\n"
    }
   }
  },
  {
   "cell_type": "code",
   "execution_count": null,
   "outputs": [],
   "source": [
    "keys = (,)"
   ],
   "metadata": {
    "collapsed": false,
    "pycharm": {
     "name": "#%%\n"
    }
   }
  },
  {
   "cell_type": "code",
   "metadata": {
    "id": "knivcqNx8DIY",
    "colab_type": "code",
    "colab": {
     "base_uri": "https://localhost:8080/",
     "height": 187
    },
    "outputId": "b1ba5085-76f7-4a13-e781-87768f05fbbd"
   },
   "source": [],
   "execution_count": 97,
   "outputs": [
    {
     "output_type": "stream",
     "text": [
      "IOPub data rate exceeded.\n",
      "The notebook server will temporarily stop sending output\n",
      "to the client in order to avoid crashing it.\n",
      "To change this limit, set the config variable\n",
      "`--NotebookApp.iopub_data_rate_limit`.\n",
      "\n",
      "Current values:\n",
      "NotebookApp.iopub_data_rate_limit=1000000.0 (bytes/sec)\n",
      "NotebookApp.rate_limit_window=3.0 (secs)\n",
      "\n"
     ],
     "name": "stderr"
    }
   ]
  },
  {
   "cell_type": "code",
   "metadata": {
    "id": "81iQXXfeA1Z9",
    "colab_type": "code",
    "colab": {}
   },
   "source": [
    "context = iter([_ for _ in raw.context])\n",
    "nouns = iter([_ for _ in raw.komoran])"
   ],
   "execution_count": 40,
   "outputs": []
  },
  {
   "cell_type": "code",
   "metadata": {
    "id": "M_CQKcBN8r_V",
    "colab_type": "code",
    "colab": {
     "base_uri": "https://localhost:8080/",
     "height": 71
    },
    "outputId": "af3ab450-6ba5-4edc-e7cb-6d23d03c408e"
   },
   "source": [
    "class Collection:\n",
    "    def __init__(self, object):\n",
    "        self.object = object\n",
    "        self.size = len(object)\n",
    "        self.context = iter([_ for _ in object.context])\n",
    "        self.nouns = iter([_ for _ in object.komoran])\n",
    " \n",
    "    def process(self):\n",
    "        re.search\n",
    " \n",
    " \n",
    "coll = MyCollection()\n",
    "for x in coll:\n",
    "    print(x)"
   ],
   "execution_count": 21,
   "outputs": [
    {
     "output_type": "stream",
     "text": [
      "['__add__', '__class__', '__contains__', '__delattr__', '__dir__', '__doc__', '__eq__', '__format__', '__ge__', '__getattribute__', '__getitem__', '__getnewargs__', '__gt__', '__hash__', '__init__', '__init_subclass__', '__iter__', '__le__', '__len__', '__lt__', '__mul__', '__ne__', '__new__', '__reduce__', '__reduce_ex__', '__repr__', '__rmul__', '__setattr__', '__sizeof__', '__str__', '__subclasshook__', 'count', 'index']\n"
     ],
     "name": "stdout"
    },
    {
     "output_type": "execute_result",
     "data": {
      "text/plain": [
       "tuple"
      ]
     },
     "metadata": {
      "tags": []
     },
     "execution_count": 21
    }
   ]
  },
  {
   "cell_type": "code",
   "metadata": {
    "id": "YxBkwIWFFcVw",
    "colab_type": "code",
    "colab": {}
   },
   "source": [
    ""
   ],
   "execution_count": null,
   "outputs": []
  },
  {
   "cell_type": "code",
   "metadata": {
    "id": "T-MBV57hER9T",
    "colab_type": "code",
    "colab": {
     "base_uri": "https://localhost:8080/",
     "height": 68
    },
    "outputId": "769c80c3-bb10-44f6-f993-fac996ad41ab"
   },
   "source": [
    "curr = next(nouns)[1:-1]\n",
    "curr = curr.replace(\"' \", '').replace(\"'\",'')\n",
    "print(curr)\n",
    "a = curr.split(\",\")\n",
    "print(a)\n",
    "print(type(a))"
   ],
   "execution_count": 85,
   "outputs": [
    {
     "output_type": "stream",
     "text": [
      "헤이그, 정계, 년대\n",
      "['헤이그', ' 정계', ' 년대']\n",
      "<class 'list'>\n"
     ],
     "name": "stdout"
    }
   ]
  },
  {
   "cell_type": "code",
   "metadata": {
    "id": "MEcmEJmp_Deu",
    "colab_type": "code",
    "colab": {}
   },
   "source": [
    "i = 0\n",
    "keys = (,)\n",
    "curr_text = next(context)\n",
    "while next(context)==curr_text:\n",
    "current_set = set()\n",
    "while True:\n",
    "  try: \n",
    "    curr = next(nouns)[1:-1]\n",
    "    curr = curr.replace(\"' \", '').replace(\"'\",'')\n",
    "    temp = curr.split(\",\")\n",
    "    current_list.update(temp)\n",
    "    \n",
    "    i+=1\n",
    "    if i == 30:\n",
    "      break\n",
    "  except StopIteration:\n",
    "    break\n",
    "\n"
   ],
   "execution_count": 90,
   "outputs": []
  },
  {
   "cell_type": "code",
   "metadata": {
    "id": "p6xlsbvSHPue",
    "colab_type": "code",
    "colab": {
     "base_uri": "https://localhost:8080/",
     "height": 54
    },
    "outputId": "4dd82bf2-244e-4de3-d54e-c99cac5396d6"
   },
   "source": [
    "print(current_list)"
   ],
   "execution_count": 91,
   "outputs": [
    {
     "output_type": "stream",
     "text": [
      "{' 스페인', ' 미비', ' 기독교', ' 진행', ' 존재', ' 이름', ' 프랑스', '폭우', ' 발달', ' 재질', ' 년', ' 물류', ' 기술', ' 근원', ' 종분화', '일', '노아의 방주', ' 의사과학', '담수', ' 학계', ' 근거', '유사', ' 해석', ' 중국', ' 나라', ' 만', ' 전통', ' 담수', ' 종류', ' 인식', ' 실재', ' 파편', ' 탐험가', ' 대부분', ' 때문', ' 근본주의', ' 주장', ' 염', '대홍수', ' 지질학자', '고대', ' 시작', ' 이외', ' 이자', ' 것', ' 진화', ' 계열', ' 폐사', '현재', ' 창조과학', ' 수', ' 신학', ' 상당', ' 예시', '중국', ' 이유', ' 유사', ' 종교', '역사학', ' 성경', ' 현', ' 곳', ' 다양성', ' 권위', ' 사회', ' 뿐', ' 목재', ' 학문', ' 의미', ' 보수주의', ' 회의', ' 과학', ' 세계', ' 원인', '전통', ' 층', ' 지구의', ' 노아', ' 얼마', ' 화석', ' 홍수', ' 노아의 방주', ' 경우', ' 교', ' 교리', ' 제기', ' 생물', ' 방송사', ' 가짜', ' 사실', '년', '극', ' 발견', ' 지질학', ' 대학', '한국', '노아', ' 이내', ' 상징', ' 증명', ' 안식', ' 연구소', '현대', ' 현재', ' 때', '특성', ' 집단', ' 책', ' 실존', ' 인가', ' 종', ' 변화', ' 역사', ' 보도', ' 의문'}\n"
     ],
     "name": "stdout"
    }
   ]
  },
  {
   "cell_type": "code",
   "metadata": {
    "id": "IyvPSammN37L",
    "colab_type": "code",
    "colab": {
     "base_uri": "https://localhost:8080/",
     "height": 130
    },
    "outputId": "9297ebee-f842-4de3-8270-e0cbfd91dc8b"
   },
   "source": [
    "keys = (,)"
   ],
   "execution_count": 92,
   "outputs": [
    {
     "output_type": "error",
     "ename": "SyntaxError",
     "evalue": "ignored",
     "traceback": [
      "\u001B[0;36m  File \u001B[0;32m\"<ipython-input-92-320b2be4455f>\"\u001B[0;36m, line \u001B[0;32m1\u001B[0m\n\u001B[0;31m    keys = (,)\u001B[0m\n\u001B[0m            ^\u001B[0m\n\u001B[0;31mSyntaxError\u001B[0m\u001B[0;31m:\u001B[0m invalid syntax\n"
     ]
    }
   ]
  },
  {
   "cell_type": "code",
   "metadata": {
    "id": "HAoWEq1uOnCX",
    "colab_type": "code",
    "colab": {}
   },
   "source": [
    ""
   ],
   "execution_count": null,
   "outputs": []
  }
 ]
}