{
 "cells": [
  {
   "cell_type": "code",
   "execution_count": 3,
   "metadata": {
    "colab": {},
    "colab_type": "code",
    "id": "Gp85zUPg8DIB"
   },
   "outputs": [],
   "source": [
    "import json\n",
    "import os\n",
    "from pandas.io.json import json_normalize\n",
    "# from konlpy.tag import *\n",
    "import numpy as np\n",
    "import pandas as pd\n",
    "import re\n",
    "import matplotlib.pyplot as plt\n",
    "from nltk.corpus import stopwords\n",
    "from bs4 import BeautifulSoup \n",
    "from tensorflow.keras.preprocessing.text import Tokenizer \n",
    "from tensorflow.keras.preprocessing.sequence import pad_sequences"
   ]
  },
  {
   "cell_type": "code",
   "execution_count": null,
   "metadata": {
    "colab": {},
    "colab_type": "code",
    "id": "LD5ZZmQv8DIH"
   },
   "outputs": [],
   "source": [
    "# def ask_user(query, retries):\n",
    "#     while True:\n",
    "#         inp = input(query)\n",
    "#         if inp in ['y','Y','yes','Yes']:\n",
    "#             return True\n",
    "#             break\n",
    "#         if inp in ['n','No','NO']:\n",
    "#             return False\n",
    "#             break\n",
    "#         retries = retries - 1\n",
    "#         if retries < 1:\n",
    "#             raise ValueError(\"잘못된 답변입니다\")\n",
    "#         ask_user(query,retries)"
   ]
  },
  {
   "cell_type": "code",
   "execution_count": 4,
   "metadata": {
    "colab": {},
    "colab_type": "code",
    "id": "wdZT9NV58DIK"
   },
   "outputs": [],
   "source": [
    "path = \"/content/drive/Shared drives/BigDATA TEAM 10/dataset/korquadV2/Processed/\"\n",
    "# file_name = \"KorQuAD_v1.0_dev.json\"\n",
    "csv_name = \"konlpy comparison.csv\""
   ]
  },
  {
   "cell_type": "code",
   "execution_count": 5,
   "metadata": {
    "colab": {
     "base_uri": "https://localhost:8080/",
     "height": 122
    },
    "colab_type": "code",
    "id": "Kkrh2owy8I11",
    "outputId": "c20822f5-fa9c-49d5-8faa-4a042119fbcc"
   },
   "outputs": [
    {
     "ename": "ModuleNotFoundError",
     "evalue": "No module named 'google.colab'",
     "output_type": "error",
     "traceback": [
      "\u001b[0;31m---------------------------------------------------------------------------\u001b[0m",
      "\u001b[0;31mModuleNotFoundError\u001b[0m                       Traceback (most recent call last)",
      "\u001b[0;32m<ipython-input-5-d5df0069828e>\u001b[0m in \u001b[0;36m<module>\u001b[0;34m\u001b[0m\n\u001b[0;32m----> 1\u001b[0;31m \u001b[0;32mfrom\u001b[0m \u001b[0mgoogle\u001b[0m\u001b[0;34m.\u001b[0m\u001b[0mcolab\u001b[0m \u001b[0;32mimport\u001b[0m \u001b[0mdrive\u001b[0m\u001b[0;34m\u001b[0m\u001b[0;34m\u001b[0m\u001b[0m\n\u001b[0m\u001b[1;32m      2\u001b[0m \u001b[0mdrive\u001b[0m\u001b[0;34m.\u001b[0m\u001b[0mmount\u001b[0m\u001b[0;34m(\u001b[0m\u001b[0;34m'/content/drive'\u001b[0m\u001b[0;34m)\u001b[0m\u001b[0;34m\u001b[0m\u001b[0;34m\u001b[0m\u001b[0m\n",
      "\u001b[0;31mModuleNotFoundError\u001b[0m: No module named 'google.colab'"
     ]
    }
   ],
   "source": [
    "from google.colab import drive\n",
    "drive.mount('/content/drive')"
   ]
  },
  {
   "cell_type": "code",
   "execution_count": null,
   "metadata": {
    "colab": {},
    "colab_type": "code",
    "id": "S7CFFcZx8DIR"
   },
   "outputs": [],
   "source": [
    "df = pd.read_csv(os.path.join(path,csv_name))\n",
    "def extractNN(tagger, obj):\n",
    "    t = tagger()\n",
    "    res = [t.nouns(i) for i in obj['question']]\n",
    "    return res\n",
    "kkma_nouns = extractNN(Kkma, df)\n",
    "komoran_nouns = extractNN(Komoran, df)\n",
    "okt_nouns = extractNN(Okt, df)\n",
    "hannanum_nouns = extractNN(Hannanum,df)\n",
    "\n",
    "df['kkma']=kkma_nouns\n",
    "df['komoran']=komoran_nouns\n",
    "df['okt']=okt_nouns\n",
    "df['hannanum']=hannanum_nouns"
   ]
  },
  {
   "cell_type": "code",
   "execution_count": null,
   "metadata": {
    "colab": {},
    "colab_type": "code",
    "id": "PTPXYFII8DIV"
   },
   "outputs": [],
   "source": [
    "df.to_csv(\"korquad_noun_ver2.csv\",encoding = 'utf-8-sig', index = False)"
   ]
  },
  {
   "cell_type": "code",
   "execution_count": 2,
   "metadata": {
    "colab": {
     "base_uri": "https://localhost:8080/",
     "height": 187
    },
    "colab_type": "code",
    "id": "knivcqNx8DIY",
    "outputId": "b1ba5085-76f7-4a13-e781-87768f05fbbd"
   },
   "outputs": [
    {
     "ename": "NameError",
     "evalue": "name 'pd' is not defined",
     "output_type": "error",
     "traceback": [
      "\u001b[0;31m---------------------------------------------------------------------------\u001b[0m",
      "\u001b[0;31mNameError\u001b[0m                                 Traceback (most recent call last)",
      "\u001b[0;32m<ipython-input-2-d017f1f6884b>\u001b[0m in \u001b[0;36m<module>\u001b[0;34m\u001b[0m\n\u001b[0;32m----> 1\u001b[0;31m \u001b[0mraw\u001b[0m \u001b[0;34m=\u001b[0m \u001b[0mpd\u001b[0m\u001b[0;34m.\u001b[0m\u001b[0mread_csv\u001b[0m\u001b[0;34m(\u001b[0m\u001b[0mos\u001b[0m\u001b[0;34m.\u001b[0m\u001b[0mpath\u001b[0m\u001b[0;34m.\u001b[0m\u001b[0mjoin\u001b[0m\u001b[0;34m(\u001b[0m\u001b[0mpath\u001b[0m\u001b[0;34m,\u001b[0m\u001b[0mcsv_name\u001b[0m\u001b[0;34m)\u001b[0m\u001b[0;34m)\u001b[0m\u001b[0;34m\u001b[0m\u001b[0;34m\u001b[0m\u001b[0m\n\u001b[0m\u001b[1;32m      2\u001b[0m \u001b[0mi\u001b[0m \u001b[0;34m=\u001b[0m \u001b[0;36m0\u001b[0m\u001b[0;34m\u001b[0m\u001b[0;34m\u001b[0m\u001b[0m\n\u001b[1;32m      3\u001b[0m \u001b[0;32mfor\u001b[0m \u001b[0mrow\u001b[0m \u001b[0;32min\u001b[0m \u001b[0mraw\u001b[0m\u001b[0;34m.\u001b[0m\u001b[0mitertuples\u001b[0m\u001b[0;34m(\u001b[0m\u001b[0;34m)\u001b[0m\u001b[0;34m:\u001b[0m\u001b[0;34m\u001b[0m\u001b[0;34m\u001b[0m\u001b[0m\n\u001b[1;32m      4\u001b[0m   \u001b[0mprint\u001b[0m\u001b[0;34m(\u001b[0m\u001b[0mrow\u001b[0m\u001b[0;34m)\u001b[0m\u001b[0;34m\u001b[0m\u001b[0;34m\u001b[0m\u001b[0m\n\u001b[1;32m      5\u001b[0m   \u001b[0mold\u001b[0m \u001b[0;34m=\u001b[0m \u001b[0mrow\u001b[0m\u001b[0;34m\u001b[0m\u001b[0;34m\u001b[0m\u001b[0m\n",
      "\u001b[0;31mNameError\u001b[0m: name 'pd' is not defined"
     ]
    }
   ],
   "source": [
    "raw = pd.read_csv(os.path.join(path,csv_name))\n",
    "i = 0\n",
    "for row in raw.itertuples():\n",
    "  print(row)\n",
    "  old = row\n",
    "  if row.context != old.context:\n",
    "    break"
   ]
  },
  {
   "cell_type": "code",
   "execution_count": 40,
   "metadata": {
    "colab": {},
    "colab_type": "code",
    "id": "81iQXXfeA1Z9"
   },
   "outputs": [],
   "source": [
    "context = iter([_ for _ in raw.context])\n",
    "nouns = iter([_ for _ in raw.komoran])"
   ]
  },
  {
   "cell_type": "code",
   "execution_count": 21,
   "metadata": {
    "colab": {
     "base_uri": "https://localhost:8080/",
     "height": 71
    },
    "colab_type": "code",
    "id": "M_CQKcBN8r_V",
    "outputId": "af3ab450-6ba5-4edc-e7cb-6d23d03c408e"
   },
   "outputs": [
    {
     "name": "stdout",
     "output_type": "stream",
     "text": [
      "['__add__', '__class__', '__contains__', '__delattr__', '__dir__', '__doc__', '__eq__', '__format__', '__ge__', '__getattribute__', '__getitem__', '__getnewargs__', '__gt__', '__hash__', '__init__', '__init_subclass__', '__iter__', '__le__', '__len__', '__lt__', '__mul__', '__ne__', '__new__', '__reduce__', '__reduce_ex__', '__repr__', '__rmul__', '__setattr__', '__sizeof__', '__str__', '__subclasshook__', 'count', 'index']\n"
     ]
    },
    {
     "data": {
      "text/plain": [
       "tuple"
      ]
     },
     "execution_count": 21,
     "metadata": {
      "tags": []
     },
     "output_type": "execute_result"
    }
   ],
   "source": [
    "class Collection:\n",
    "    def __init__(self, object):\n",
    "        self.object = object\n",
    "        self.size = len(object)\n",
    "        self.context = iter([_ for _ in object.context])\n",
    "        self.nouns = iter([_ for _ in object.komoran])\n",
    " \n",
    "    def process(self):\n",
    "        re.search\n",
    " \n",
    " \n",
    "coll = MyCollection()\n",
    "for x in coll:\n",
    "    print(x)"
   ]
  },
  {
   "cell_type": "code",
   "execution_count": null,
   "metadata": {
    "colab": {},
    "colab_type": "code",
    "id": "YxBkwIWFFcVw"
   },
   "outputs": [],
   "source": []
  },
  {
   "cell_type": "code",
   "execution_count": 85,
   "metadata": {
    "colab": {
     "base_uri": "https://localhost:8080/",
     "height": 68
    },
    "colab_type": "code",
    "id": "T-MBV57hER9T",
    "outputId": "769c80c3-bb10-44f6-f993-fac996ad41ab"
   },
   "outputs": [
    {
     "name": "stdout",
     "output_type": "stream",
     "text": [
      "헤이그, 정계, 년대\n",
      "['헤이그', ' 정계', ' 년대']\n",
      "<class 'list'>\n"
     ]
    }
   ],
   "source": [
    "curr = next(nouns)[1:-1]\n",
    "curr = curr.replace(\"' \", '').replace(\"'\",'')\n",
    "print(curr)\n",
    "a = curr.split(\",\")\n",
    "print(a)\n",
    "print(type(a))"
   ]
  },
  {
   "cell_type": "code",
   "execution_count": 1,
   "metadata": {},
   "outputs": [
    {
     "ename": "NameError",
     "evalue": "name 'context' is not defined",
     "output_type": "error",
     "traceback": [
      "\u001b[0;31m---------------------------------------------------------------------------\u001b[0m",
      "\u001b[0;31mNameError\u001b[0m                                 Traceback (most recent call last)",
      "\u001b[0;32m<ipython-input-1-d0f0426115b3>\u001b[0m in \u001b[0;36m<module>\u001b[0;34m\u001b[0m\n\u001b[0;32m----> 1\u001b[0;31m \u001b[0mold\u001b[0m \u001b[0;34m=\u001b[0m \u001b[0mnext\u001b[0m\u001b[0;34m(\u001b[0m\u001b[0mcontext\u001b[0m\u001b[0;34m)\u001b[0m\u001b[0;34m\u001b[0m\u001b[0;34m\u001b[0m\u001b[0m\n\u001b[0m\u001b[1;32m      2\u001b[0m \u001b[0mnew\u001b[0m \u001b[0;34m=\u001b[0m \u001b[0mnext\u001b[0m\u001b[0;34m(\u001b[0m\u001b[0mcontext\u001b[0m\u001b[0;34m)\u001b[0m\u001b[0;34m\u001b[0m\u001b[0;34m\u001b[0m\u001b[0m\n\u001b[1;32m      3\u001b[0m \u001b[0;32massert\u001b[0m \u001b[0mold\u001b[0m \u001b[0;34m==\u001b[0m \u001b[0mnew\u001b[0m\u001b[0;34m\u001b[0m\u001b[0;34m\u001b[0m\u001b[0m\n",
      "\u001b[0;31mNameError\u001b[0m: name 'context' is not defined"
     ]
    }
   ],
   "source": [
    "old = next(context)\n",
    "new = next(context)\n",
    "assert old == new"
   ]
  },
  {
   "cell_type": "code",
   "execution_count": 90,
   "metadata": {
    "colab": {},
    "colab_type": "code",
    "id": "MEcmEJmp_Deu"
   },
   "outputs": [],
   "source": [
    "\n",
    "while (curr = next(context)) == old:\n",
    "    old = curr_text\n",
    "    current_set = set()\n",
    "while True:\n",
    "  try: \n",
    "    curr = next(nouns)[1:-1]\n",
    "    curr = curr.replace(\"' \", '').replace(\"'\",'')\n",
    "    temp = curr.split(\",\")\n",
    "    current_list.update(temp)\n",
    "    \n",
    "    i+=1\n",
    "    if i == 30:\n",
    "      break\n",
    "  except StopIteration:\n",
    "    break\n",
    "\n"
   ]
  },
  {
   "cell_type": "code",
   "execution_count": 91,
   "metadata": {
    "colab": {
     "base_uri": "https://localhost:8080/",
     "height": 54
    },
    "colab_type": "code",
    "id": "p6xlsbvSHPue",
    "outputId": "4dd82bf2-244e-4de3-d54e-c99cac5396d6"
   },
   "outputs": [
    {
     "name": "stdout",
     "output_type": "stream",
     "text": [
      "{' 스페인', ' 미비', ' 기독교', ' 진행', ' 존재', ' 이름', ' 프랑스', '폭우', ' 발달', ' 재질', ' 년', ' 물류', ' 기술', ' 근원', ' 종분화', '일', '노아의 방주', ' 의사과학', '담수', ' 학계', ' 근거', '유사', ' 해석', ' 중국', ' 나라', ' 만', ' 전통', ' 담수', ' 종류', ' 인식', ' 실재', ' 파편', ' 탐험가', ' 대부분', ' 때문', ' 근본주의', ' 주장', ' 염', '대홍수', ' 지질학자', '고대', ' 시작', ' 이외', ' 이자', ' 것', ' 진화', ' 계열', ' 폐사', '현재', ' 창조과학', ' 수', ' 신학', ' 상당', ' 예시', '중국', ' 이유', ' 유사', ' 종교', '역사학', ' 성경', ' 현', ' 곳', ' 다양성', ' 권위', ' 사회', ' 뿐', ' 목재', ' 학문', ' 의미', ' 보수주의', ' 회의', ' 과학', ' 세계', ' 원인', '전통', ' 층', ' 지구의', ' 노아', ' 얼마', ' 화석', ' 홍수', ' 노아의 방주', ' 경우', ' 교', ' 교리', ' 제기', ' 생물', ' 방송사', ' 가짜', ' 사실', '년', '극', ' 발견', ' 지질학', ' 대학', '한국', '노아', ' 이내', ' 상징', ' 증명', ' 안식', ' 연구소', '현대', ' 현재', ' 때', '특성', ' 집단', ' 책', ' 실존', ' 인가', ' 종', ' 변화', ' 역사', ' 보도', ' 의문'}\n"
     ]
    }
   ],
   "source": [
    "print(current_list)"
   ]
  },
  {
   "cell_type": "code",
   "execution_count": 92,
   "metadata": {
    "colab": {
     "base_uri": "https://localhost:8080/",
     "height": 130
    },
    "colab_type": "code",
    "id": "IyvPSammN37L",
    "outputId": "9297ebee-f842-4de3-8270-e0cbfd91dc8b"
   },
   "outputs": [
    {
     "ename": "SyntaxError",
     "evalue": "ignored",
     "output_type": "error",
     "traceback": [
      "\u001b[0;36m  File \u001b[0;32m\"<ipython-input-92-320b2be4455f>\"\u001b[0;36m, line \u001b[0;32m1\u001b[0m\n\u001b[0;31m    keys = (,)\u001b[0m\n\u001b[0m            ^\u001b[0m\n\u001b[0;31mSyntaxError\u001b[0m\u001b[0;31m:\u001b[0m invalid syntax\n"
     ]
    }
   ],
   "source": [
    "keys = (,)"
   ]
  },
  {
   "cell_type": "code",
   "execution_count": null,
   "metadata": {
    "colab": {},
    "colab_type": "code",
    "id": "HAoWEq1uOnCX"
   },
   "outputs": [],
   "source": []
  }
 ],
 "metadata": {
  "colab": {
   "name": "konlpyPreprocessing.ipynb",
   "provenance": []
  },
  "kernelspec": {
   "display_name": "Python 3",
   "language": "python",
   "name": "python3"
  },
  "language_info": {
   "codemirror_mode": {
    "name": "ipython",
    "version": 3
   },
   "file_extension": ".py",
   "mimetype": "text/x-python",
   "name": "python",
   "nbconvert_exporter": "python",
   "pygments_lexer": "ipython3",
   "version": "3.7.6"
  }
 },
 "nbformat": 4,
 "nbformat_minor": 1
}
