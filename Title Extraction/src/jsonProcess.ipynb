{
 "cells": [
  {
   "cell_type": "code",
   "execution_count": 1,
   "metadata": {},
   "outputs": [],
   "source": [
    "import json\n",
    "import os\n",
    "import pandas as pd\n",
    "from pandas.io.json import json_normalize"
   ]
  },
  {
   "cell_type": "code",
   "execution_count": null,
   "metadata": {},
   "outputs": [],
   "source": [
    "# pptx 에서 사용할 함수\n",
    "# def ask_user(query, retries):\n",
    "#     while True:\n",
    "#         inp = input(query)\n",
    "#         if inp in ['y','Y','yes','Yes']:\n",
    "#             return True\n",
    "#             break\n",
    "#         if inp in ['n','No','NO']:\n",
    "#             return False\n",
    "#             break\n",
    "#         retries = retries - 1\n",
    "#         if retries < 1:\n",
    "#             raise ValueError(\"잘못된 답변입니다\")\n",
    "#         ask_user(query,retries)"
   ]
  },
  {
   "cell_type": "code",
   "execution_count": 6,
   "metadata": {},
   "outputs": [],
   "source": [
    "path = \"/Users/yoonk/Desktop/lectures/project\"\n",
    "file_name = \"KorQuAD_v1.0_dev.json\"\n",
    "csv_name = 'title_korquad_dev_dataset.csv'\n"
   ]
  },
  {
   "cell_type": "code",
   "execution_count": 3,
   "metadata": {},
   "outputs": [
    {
     "name": "stdout",
     "output_type": "stream",
     "text": [
      "dict_keys(['paragraphs', 'title'])\n",
      "140\n"
     ]
    }
   ],
   "source": [
    "with open(os.path.join(path, file_name)) as file:\n",
    "    obj = json.load(file)\n",
    "    data = obj['data']\n",
    "    print(data[0].keys())\n",
    "    print(len(data))\n",
    "    paragraphs = []\n",
    "    text = []\n",
    "    title = []\n",
    "    for i in range(len(data)):\n",
    "        paragraphs.append(data[i])\n",
    "        text.append(paragraphs[i]['paragraphs'])\n",
    "        title.append(paragraphs[i]['title'])"
   ]
  },
  {
   "cell_type": "code",
   "execution_count": null,
   "metadata": {},
   "outputs": [],
   "source": [
    "qas = []\n",
    "context = []\n",
    "for num in range(len(text)):\n",
    "    for idx in range(len(text[num])):\n",
    "        qas.append(text[num][idx]['qas'])\n",
    "        context.append(text[num][idx]['context'])\n",
    "        "
   ]
  },
  {
   "cell_type": "code",
   "execution_count": null,
   "metadata": {},
   "outputs": [],
   "source": [
    "print(len(qas))\n",
    "print(len(context))"
   ]
  },
  {
   "cell_type": "code",
   "execution_count": null,
   "metadata": {},
   "outputs": [],
   "source": [
    "print(type(qas[0][0]))\n",
    "print(qas[0][0]['question'])\n",
    "questions = []\n",
    "contexts = []\n",
    "for i in range(len(qas)):\n",
    "    for j in range(len(qas[i])):\n",
    "        questions.append(qas[i][j]['question'])\n",
    "        contexts.append(context[i])"
   ]
  },
  {
   "cell_type": "code",
   "execution_count": 4,
   "metadata": {},
   "outputs": [],
   "source": [
    "import pandas as pd"
   ]
  },
  {
   "cell_type": "code",
   "execution_count": null,
   "metadata": {},
   "outputs": [],
   "source": [
    "df = pd.DataFrame({\"context\":contexts,\"question\":questions})\n"
   ]
  },
  {
   "cell_type": "code",
   "execution_count": null,
   "metadata": {},
   "outputs": [],
   "source": [
    "df.to_csv(\"title_korquad_dev_dataset.csv\",encoding = \"utf8\")"
   ]
  },
  {
   "cell_type": "code",
   "execution_count": null,
   "metadata": {},
   "outputs": [],
   "source": [
    "from bs4 import BeautifulSoup\n",
    "import re\n"
   ]
  },
  {
   "cell_type": "code",
   "execution_count": 7,
   "metadata": {},
   "outputs": [],
   "source": [
    "df=pd.read_csv(os.path.join(path, csv_name))"
   ]
  },
  {
   "cell_type": "code",
   "execution_count": 8,
   "metadata": {},
   "outputs": [
    {
     "data": {
      "text/html": [
       "<div>\n",
       "<style scoped>\n",
       "    .dataframe tbody tr th:only-of-type {\n",
       "        vertical-align: middle;\n",
       "    }\n",
       "\n",
       "    .dataframe tbody tr th {\n",
       "        vertical-align: top;\n",
       "    }\n",
       "\n",
       "    .dataframe thead th {\n",
       "        text-align: right;\n",
       "    }\n",
       "</style>\n",
       "<table border=\"1\" class=\"dataframe\">\n",
       "  <thead>\n",
       "    <tr style=\"text-align: right;\">\n",
       "      <th></th>\n",
       "      <th>Unnamed: 0</th>\n",
       "      <th>context</th>\n",
       "      <th>question</th>\n",
       "    </tr>\n",
       "  </thead>\n",
       "  <tbody>\n",
       "    <tr>\n",
       "      <th>0</th>\n",
       "      <td>0</td>\n",
       "      <td>1989년 2월 15일 여의도 농민 폭력 시위를 주도한 혐의(폭력행위등처벌에관한법률...</td>\n",
       "      <td>임종석이 여의도 농민 폭력 시위를 주도한 혐의로 지명수배 된 날은?</td>\n",
       "    </tr>\n",
       "    <tr>\n",
       "      <th>1</th>\n",
       "      <td>1</td>\n",
       "      <td>1989년 2월 15일 여의도 농민 폭력 시위를 주도한 혐의(폭력행위등처벌에관한법률...</td>\n",
       "      <td>1989년 6월 30일 평양축전에 대표로 파견 된 인물은?</td>\n",
       "    </tr>\n",
       "    <tr>\n",
       "      <th>2</th>\n",
       "      <td>2</td>\n",
       "      <td>1989년 2월 15일 여의도 농민 폭력 시위를 주도한 혐의(폭력행위등처벌에관한법률...</td>\n",
       "      <td>임종석이 여의도 농민 폭력 시위를 주도한 혐의로 지명수배된 연도는?</td>\n",
       "    </tr>\n",
       "    <tr>\n",
       "      <th>3</th>\n",
       "      <td>3</td>\n",
       "      <td>1989년 2월 15일 여의도 농민 폭력 시위를 주도한 혐의(폭력행위등처벌에관한법률...</td>\n",
       "      <td>임종석을 검거한 장소는 경희대 내 어디인가?</td>\n",
       "    </tr>\n",
       "    <tr>\n",
       "      <th>4</th>\n",
       "      <td>4</td>\n",
       "      <td>1989년 2월 15일 여의도 농민 폭력 시위를 주도한 혐의(폭력행위등처벌에관한법률...</td>\n",
       "      <td>임종석이 조사를 받은 뒤 인계된 곳은 어딘가?</td>\n",
       "    </tr>\n",
       "  </tbody>\n",
       "</table>\n",
       "</div>"
      ],
      "text/plain": [
       "   Unnamed: 0                                            context  \\\n",
       "0           0  1989년 2월 15일 여의도 농민 폭력 시위를 주도한 혐의(폭력행위등처벌에관한법률...   \n",
       "1           1  1989년 2월 15일 여의도 농민 폭력 시위를 주도한 혐의(폭력행위등처벌에관한법률...   \n",
       "2           2  1989년 2월 15일 여의도 농민 폭력 시위를 주도한 혐의(폭력행위등처벌에관한법률...   \n",
       "3           3  1989년 2월 15일 여의도 농민 폭력 시위를 주도한 혐의(폭력행위등처벌에관한법률...   \n",
       "4           4  1989년 2월 15일 여의도 농민 폭력 시위를 주도한 혐의(폭력행위등처벌에관한법률...   \n",
       "\n",
       "                                question  \n",
       "0  임종석이 여의도 농민 폭력 시위를 주도한 혐의로 지명수배 된 날은?  \n",
       "1       1989년 6월 30일 평양축전에 대표로 파견 된 인물은?  \n",
       "2  임종석이 여의도 농민 폭력 시위를 주도한 혐의로 지명수배된 연도는?  \n",
       "3               임종석을 검거한 장소는 경희대 내 어디인가?  \n",
       "4              임종석이 조사를 받은 뒤 인계된 곳은 어딘가?  "
      ]
     },
     "execution_count": 8,
     "metadata": {},
     "output_type": "execute_result"
    }
   ],
   "source": [
    "df.head(5)"
   ]
  },
  {
   "cell_type": "code",
   "execution_count": 20,
   "metadata": {},
   "outputs": [],
   "source": [
    "from konlpy.tag import *\n",
    "def extractNouns(tagger, obj):\n",
    "    t = tagger()\n",
    "    res = [t.nouns(i) for i in obj['question']]\n",
    "    return res\n",
    "\n",
    "\n",
    "okt_nouns = extractNouns(Okt, df)\n",
    "kkma_nouns = extractNouns(Kkma, df)\n",
    "komoran_nounns = extractNouns(Komoran, df)\n",
    "hannanum_nouns = extractNouns(Hannanum,df)"
   ]
  },
  {
   "cell_type": "code",
   "execution_count": 24,
   "metadata": {},
   "outputs": [],
   "source": [
    "df['okt_nounts'] = okt_nouns\n",
    "df['kkma_nouns'] = kkma_nouns\n",
    "df['komoran_nouns'] = komoran_nounns\n",
    "df['hannanum_nouns'] = hannanum_nouns"
   ]
  },
  {
   "cell_type": "code",
   "execution_count": 33,
   "metadata": {},
   "outputs": [],
   "source": [
    "df = df.drop(columns = ['Unnamed: 0'])"
   ]
  },
  {
   "cell_type": "code",
   "execution_count": 34,
   "metadata": {},
   "outputs": [],
   "source": [
    "df.to_csv('korquad_noun_processing_result.csv', index=False)"
   ]
  },
  {
   "cell_type": "code",
   "execution_count": null,
   "metadata": {},
   "outputs": [],
   "source": []
  }
 ],
 "metadata": {
  "kernelspec": {
   "display_name": "Python 3",
   "language": "python",
   "name": "python3"
  },
  "language_info": {
   "codemirror_mode": {
    "name": "ipython",
    "version": 3
   },
   "file_extension": ".py",
   "mimetype": "text/x-python",
   "name": "python",
   "nbconvert_exporter": "python",
   "pygments_lexer": "ipython3",
   "version": "3.7.6"
  }
 },
 "nbformat": 4,
 "nbformat_minor": 4
}
