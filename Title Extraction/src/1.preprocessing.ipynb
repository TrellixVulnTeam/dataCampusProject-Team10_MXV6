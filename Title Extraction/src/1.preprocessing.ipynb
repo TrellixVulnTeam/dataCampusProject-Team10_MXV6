{
  "nbformat": 4,
  "nbformat_minor": 0,
  "metadata": {
    "colab": {
      "name": "korquadPreprocessing(1).ipynb",
      "provenance": [],
      "collapsed_sections": []
    },
    "kernelspec": {
      "name": "python3",
      "display_name": "Python 3"
    }
  },
  "cells": [
    {
      "cell_type": "code",
      "metadata": {
        "id": "ZIn0IBB3dVNb",
        "colab_type": "code",
        "colab": {}
      },
      "source": [
        "abs_path = \"/content/drive/Shared drives/BigDATA TEAM 10\""
      ],
      "execution_count": null,
      "outputs": []
    },
    {
      "cell_type": "code",
      "metadata": {
        "id": "g5oXp8X_e5u3",
        "colab_type": "code",
        "colab": {
          "base_uri": "https://localhost:8080/",
          "height": 598
        },
        "outputId": "8d9906f9-5a85-4283-f6d1-92aa087ebbe7"
      },
      "source": [
        "!pip install konlpy"
      ],
      "execution_count": null,
      "outputs": [
        {
          "output_type": "stream",
          "text": [
            "Collecting konlpy\n",
            "\u001b[?25l  Downloading https://files.pythonhosted.org/packages/85/0e/f385566fec837c0b83f216b2da65db9997b35dd675e107752005b7d392b1/konlpy-0.5.2-py2.py3-none-any.whl (19.4MB)\n",
            "\u001b[K     |████████████████████████████████| 19.4MB 1.4MB/s \n",
            "\u001b[?25hRequirement already satisfied: lxml>=4.1.0 in /usr/local/lib/python3.6/dist-packages (from konlpy) (4.2.6)\n",
            "Collecting beautifulsoup4==4.6.0\n",
            "\u001b[?25l  Downloading https://files.pythonhosted.org/packages/9e/d4/10f46e5cfac773e22707237bfcd51bbffeaf0a576b0a847ec7ab15bd7ace/beautifulsoup4-4.6.0-py3-none-any.whl (86kB)\n",
            "\u001b[K     |████████████████████████████████| 92kB 6.9MB/s \n",
            "\u001b[?25hRequirement already satisfied: numpy>=1.6 in /usr/local/lib/python3.6/dist-packages (from konlpy) (1.18.5)\n",
            "Collecting JPype1>=0.7.0\n",
            "\u001b[?25l  Downloading https://files.pythonhosted.org/packages/50/49/725710351d78d26c65337b1e3b322d7b27b34b704535ab56afc0d9ab0ffd/JPype1-1.0.1-cp36-cp36m-manylinux2010_x86_64.whl (3.8MB)\n",
            "\u001b[K     |████████████████████████████████| 3.8MB 43.6MB/s \n",
            "\u001b[?25hCollecting tweepy>=3.7.0\n",
            "  Downloading https://files.pythonhosted.org/packages/bb/7c/99d51f80f3b77b107ebae2634108717362c059a41384a1810d13e2429a81/tweepy-3.9.0-py2.py3-none-any.whl\n",
            "Collecting colorama\n",
            "  Downloading https://files.pythonhosted.org/packages/c9/dc/45cdef1b4d119eb96316b3117e6d5708a08029992b2fee2c143c7a0a5cc5/colorama-0.4.3-py2.py3-none-any.whl\n",
            "Requirement already satisfied: typing-extensions; python_version < \"3.8\" in /usr/local/lib/python3.6/dist-packages (from JPype1>=0.7.0->konlpy) (3.7.4.2)\n",
            "Requirement already satisfied: requests-oauthlib>=0.7.0 in /usr/local/lib/python3.6/dist-packages (from tweepy>=3.7.0->konlpy) (1.3.0)\n",
            "Requirement already satisfied: six>=1.10.0 in /usr/local/lib/python3.6/dist-packages (from tweepy>=3.7.0->konlpy) (1.15.0)\n",
            "Requirement already satisfied: requests[socks]>=2.11.1 in /usr/local/lib/python3.6/dist-packages (from tweepy>=3.7.0->konlpy) (2.23.0)\n",
            "Requirement already satisfied: oauthlib>=3.0.0 in /usr/local/lib/python3.6/dist-packages (from requests-oauthlib>=0.7.0->tweepy>=3.7.0->konlpy) (3.1.0)\n",
            "Requirement already satisfied: idna<3,>=2.5 in /usr/local/lib/python3.6/dist-packages (from requests[socks]>=2.11.1->tweepy>=3.7.0->konlpy) (2.10)\n",
            "Requirement already satisfied: urllib3!=1.25.0,!=1.25.1,<1.26,>=1.21.1 in /usr/local/lib/python3.6/dist-packages (from requests[socks]>=2.11.1->tweepy>=3.7.0->konlpy) (1.24.3)\n",
            "Requirement already satisfied: certifi>=2017.4.17 in /usr/local/lib/python3.6/dist-packages (from requests[socks]>=2.11.1->tweepy>=3.7.0->konlpy) (2020.6.20)\n",
            "Requirement already satisfied: chardet<4,>=3.0.2 in /usr/local/lib/python3.6/dist-packages (from requests[socks]>=2.11.1->tweepy>=3.7.0->konlpy) (3.0.4)\n",
            "Requirement already satisfied: PySocks!=1.5.7,>=1.5.6; extra == \"socks\" in /usr/local/lib/python3.6/dist-packages (from requests[socks]>=2.11.1->tweepy>=3.7.0->konlpy) (1.7.1)\n",
            "Installing collected packages: beautifulsoup4, JPype1, tweepy, colorama, konlpy\n",
            "  Found existing installation: beautifulsoup4 4.6.3\n",
            "    Uninstalling beautifulsoup4-4.6.3:\n",
            "      Successfully uninstalled beautifulsoup4-4.6.3\n",
            "  Found existing installation: tweepy 3.6.0\n",
            "    Uninstalling tweepy-3.6.0:\n",
            "      Successfully uninstalled tweepy-3.6.0\n",
            "Successfully installed JPype1-1.0.1 beautifulsoup4-4.6.0 colorama-0.4.3 konlpy-0.5.2 tweepy-3.9.0\n"
          ],
          "name": "stdout"
        }
      ]
    },
    {
      "cell_type": "code",
      "metadata": {
        "id": "kDV9WGcod1F9",
        "colab_type": "code",
        "colab": {}
      },
      "source": [
        "import json\n",
        "import os\n",
        "import glob\n",
        "import pandas as pd\n",
        "from pandas.io.json import json_normalize\n",
        "from konlpy.tag import *\n",
        "from bs4 import BeautifulSoup\n"
      ],
      "execution_count": null,
      "outputs": []
    },
    {
      "cell_type": "code",
      "metadata": {
        "id": "ZC_NOQCEeH_A",
        "colab_type": "code",
        "colab": {}
      },
      "source": [
        "def extractNN(tagger, obj):\n",
        "    t = tagger()\n",
        "    res = [t.nouns(i) for i in obj['question']]\n",
        "    return res\n",
        "kkma_nouns = extractNN(Kkma, df)\n",
        "komoran_nouns = extractNN(Komoran, df)\n",
        "okt_nouns = extractNN(Okt, df)\n",
        "hannanum_nouns = extractNN(Hannanum,df)\n"
      ],
      "execution_count": null,
      "outputs": []
    },
    {
      "cell_type": "markdown",
      "metadata": {
        "id": "A44CRn-AlH_8",
        "colab_type": "text"
      },
      "source": [
        "#### Korquad version 2 json\n",
        "obj \n",
        "1. data\n",
        "    1000개의 data\n",
        "    \n",
        "    1. title\n",
        "    2. url\n",
        "    3. context # 이거 사용하기 bs4로 정리\n",
        "\n",
        "    4. raw_html\n",
        "    5. qas # list\n",
        "        list\n",
        "            1. answer\n",
        "            2. question\n",
        "2. version"
      ]
    },
    {
      "cell_type": "code",
      "metadata": {
        "id": "tznLRBl7eP7B",
        "colab_type": "code",
        "colab": {
          "base_uri": "https://localhost:8080/",
          "height": 119
        },
        "outputId": "78c2a2d9-9bac-4142-9190-0ad2e24d7f2d"
      },
      "source": [
        "# korquad version 2\n",
        "paths = glob.glob(os.path.join(abs_path,\"KorQuAD_2.1_train_??/*.json\"))\n",
        "\n",
        "idx = 0\n",
        "for file in paths:\n",
        "    \n",
        "    idx += 1 \n",
        "    print(idx)\n",
        "    f = open(file)\n",
        "    obj = json.load(f)\n",
        "    data = obj['data']\n",
        "    text = []\n",
        "    question = []\n",
        "    answer = []\n",
        "    for i in range(len(data)):\n",
        "        paragraphs.append(data[i])\n",
        "        html = paragraphs[i]['context']\n",
        "        soup = BeautifulSoup(html,'lxml')\n",
        "        processed = soup.get_text()\n",
        "        qas = paragraphs[i]['qas']\n",
        "        for j in range(len(qas)):\n",
        "\n",
        "          txt = qas[j]['question']\n",
        "          soup = BeautifulSoup(txt,'lxml')\n",
        "          processed_question = soup.get_text()\n",
        "         \n",
        "          txt = qas[j]['answer']['text']\n",
        "          soup = BeautifulSoup(txt,'lxml')\n",
        "          processed_answer = soup.get_text()\n",
        "\n",
        "          \n",
        "          text.append(processed.replace('\\n', '').replace('\\r', ''))\n",
        "          question.append(processed_question.replace('\\n', '').replace('\\r', ''))\n",
        "          answer.append(processed_answer.replace('\\n', '').replace('\\r', ''))\n",
        "          df = pd.DataFrame({'context':text,'question':question,'answer':answer})\n",
        "    print(\"working\")\n",
        "    df.to_csv(f\"processed_korquad{idx}.csv\",encoding = 'utf-8-sig', index = False)\n",
        "    \n"
      ],
      "execution_count": null,
      "outputs": [
        {
          "output_type": "stream",
          "text": [
            "1\n",
            "working\n",
            "2\n",
            "working\n",
            "3\n",
            "working\n"
          ],
          "name": "stdout"
        }
      ]
    },
    {
      "cell_type": "code",
      "metadata": {
        "id": "z6nPUCNnj5AS",
        "colab_type": "code",
        "colab": {
          "base_uri": "https://localhost:8080/",
          "height": 35
        },
        "outputId": "7c86bcd4-18c0-46e4-8972-e0a93d95abdc"
      },
      "source": [
        "f = open(paths[0])\n",
        "obj = json.load(f)\n",
        "obj['data'][999]['qas'][0]['question']\n"
      ],
      "execution_count": null,
      "outputs": [
        {
          "output_type": "execute_result",
          "data": {
            "application/vnd.google.colaboratory.intrinsic+json": {
              "type": "string"
            },
            "text/plain": [
              "'일본에 불교가 어떻게 들어오게 되었을까?'"
            ]
          },
          "metadata": {
            "tags": []
          },
          "execution_count": 69
        }
      ]
    },
    {
      "cell_type": "code",
      "metadata": {
        "id": "WicMf-1MkeEU",
        "colab_type": "code",
        "colab": {
          "base_uri": "https://localhost:8080/",
          "height": 34
        },
        "outputId": "f5a3a92b-9864-4988-edcc-c308dd3b0ab2"
      },
      "source": [
        "len(text)"
      ],
      "execution_count": null,
      "outputs": [
        {
          "output_type": "execute_result",
          "data": {
            "text/plain": [
              "1741"
            ]
          },
          "metadata": {
            "tags": []
          },
          "execution_count": 64
        }
      ]
    },
    {
      "cell_type": "code",
      "metadata": {
        "id": "Y4FwjUDvrzhk",
        "colab_type": "code",
        "colab": {
          "base_uri": "https://localhost:8080/",
          "height": 120
        },
        "outputId": "7e2e986f-43a1-4f31-ebb7-2999c02b7cfb"
      },
      "source": [
        "answer[10]"
      ],
      "execution_count": null,
      "outputs": [
        {
          "output_type": "execute_result",
          "data": {
            "application/vnd.google.colaboratory.intrinsic+json": {
              "type": "string"
            },
            "text/plain": [
              "'\\n\\n대한민국 제20대 국회의원 선거 인천광역시\\xa0중구·동구·강화군·옹진군에서 무소속\\xa0안상수 후보가\\xa01,662표차로 당선됨.\\n\\n\\n선거구 보기 | 당선자 보기 \\n\\n기호\\n후보\\n정당\\n득표\\n득표율\\n비고\\n\\n\\n\\n\\n1\\n배준영\\n새누리당\\n\\n39,842표\\n\\n\\n\\n\\n\\n30.6%\\n\\n\\n\\n\\n\\n\\n\\n3\\n김회창\\n국민의당\\n\\n19,405표\\n\\n\\n\\n\\n\\n14.9%\\n\\n\\n\\n\\n\\n\\n\\n4\\n조택상\\n정의당\\n\\n29,455표\\n\\n\\n\\n\\n\\n22.62%\\n\\n\\n\\n\\n\\n\\n\\n5\\n안상수\\n무소속\\n\\n41,504표\\n\\n\\n\\n\\n\\n31.88%\\n\\n\\n\\n\\n\\n계\\n\\n130,206표\\n\\n투표율_57.35%\\n\\n\\n\\n\\n\\n선거구_중구·동구·강화군·옹진군\\xa0\\xa0\\xa0\\xa0|\\xa0\\xa0\\xa0\\xa0선거인수_230,632명\\xa0\\xa0\\xa0\\xa0|\\xa0\\xa0\\xa0\\xa0기권수_98,375명\\xa0\\xa0\\xa0\\xa0|\\xa0\\xa0\\xa0\\xa0투표수_132,257표\\xa0\\xa0\\xa0\\xa0|\\xa0\\xa0\\xa0\\xa0무효투표수_2,051표\\n'"
            ]
          },
          "metadata": {
            "tags": []
          },
          "execution_count": 67
        }
      ]
    },
    {
      "cell_type": "code",
      "metadata": {
        "id": "W4m0Jm1kr18B",
        "colab_type": "code",
        "colab": {
          "base_uri": "https://localhost:8080/",
          "height": 122
        },
        "outputId": "7fc69417-5820-4f51-da25-f6bf8c44eda6"
      },
      "source": [
        "df = pd.DataFrame({'context':text,'question':answer})\n",
        "print(df.head(4))"
      ],
      "execution_count": null,
      "outputs": [
        {
          "output_type": "stream",
          "text": [
            "                                             context                                           question\n",
            "0  \\n\\n\\n예고범 - 위키백과, 우리 모두의 백과사전\\n\\n\\n\\n\\n\\n\\n\\n\\...                     나카무라 요시히로, 히라바야시 카츠토시, 사와다 메구미\n",
            "1  \\n\\n\\n심규언 - 위키백과, 우리 모두의 백과사전\\n\\n\\n\\n\\n\\n\\n\\n\\...                                           20,890 표\n",
            "2  \\n\\n\\n장기 이식 - 위키백과, 우리 모두의 백과사전\\n\\n\\n\\n\\n\\n\\n\\...             자유 시장이 장기 이식에서의 희소성 문제를 해결할 수 있다고 말했다.\n",
            "3  \\n\\n\\n이윤성 (1944년) - 위키백과, 우리 모두의 백과사전\\n\\n\\n\\n\\...  전국 동시 지방 선거를 앞두고 있던 2010년 5월 31일, 이윤성 의원은 여의도 ...\n"
          ],
          "name": "stdout"
        }
      ]
    },
    {
      "cell_type": "code",
      "metadata": {
        "id": "L06l6Qm6tZZe",
        "colab_type": "code",
        "colab": {}
      },
      "source": [
        "!pwd"
      ],
      "execution_count": null,
      "outputs": []
    },
    {
      "cell_type": "code",
      "metadata": {
        "id": "iTmgQdj5xkAj",
        "colab_type": "code",
        "colab": {
          "base_uri": "https://localhost:8080/",
          "height": 1000
        },
        "outputId": "e9a14683-4710-4ec0-b6dc-02a37ffda6d1"
      },
      "source": [
        "!ls"
      ],
      "execution_count": null,
      "outputs": [
        {
          "output_type": "stream",
          "text": [
            "drive\t\t   processed298_.csv  processed495_.csv  processed692_.csv\n",
            "processed100_.csv  processed299_.csv  processed496_.csv  processed693_.csv\n",
            "processed101_.csv  processed29_.csv   processed497_.csv  processed694_.csv\n",
            "processed102_.csv  processed2_.csv    processed498_.csv  processed695_.csv\n",
            "processed103_.csv  processed300_.csv  processed499_.csv  processed696_.csv\n",
            "processed104_.csv  processed301_.csv  processed49_.csv\t processed697_.csv\n",
            "processed105_.csv  processed302_.csv  processed4_.csv\t processed698_.csv\n",
            "processed106_.csv  processed303_.csv  processed500_.csv  processed699_.csv\n",
            "processed107_.csv  processed304_.csv  processed501_.csv  processed69_.csv\n",
            "processed108_.csv  processed305_.csv  processed502_.csv  processed6_.csv\n",
            "processed109_.csv  processed306_.csv  processed503_.csv  processed700_.csv\n",
            "processed10_.csv   processed307_.csv  processed504_.csv  processed701_.csv\n",
            "processed110_.csv  processed308_.csv  processed505_.csv  processed702_.csv\n",
            "processed111_.csv  processed309_.csv  processed506_.csv  processed703_.csv\n",
            "processed112_.csv  processed30_.csv   processed507_.csv  processed704_.csv\n",
            "processed113_.csv  processed310_.csv  processed508_.csv  processed705_.csv\n",
            "processed114_.csv  processed311_.csv  processed509_.csv  processed706_.csv\n",
            "processed115_.csv  processed312_.csv  processed50_.csv\t processed707_.csv\n",
            "processed116_.csv  processed313_.csv  processed510_.csv  processed708_.csv\n",
            "processed117_.csv  processed314_.csv  processed511_.csv  processed709_.csv\n",
            "processed118_.csv  processed315_.csv  processed512_.csv  processed70_.csv\n",
            "processed119_.csv  processed316_.csv  processed513_.csv  processed710_.csv\n",
            "processed11_.csv   processed317_.csv  processed514_.csv  processed711_.csv\n",
            "processed120_.csv  processed318_.csv  processed515_.csv  processed712_.csv\n",
            "processed121_.csv  processed319_.csv  processed516_.csv  processed713_.csv\n",
            "processed122_.csv  processed31_.csv   processed517_.csv  processed714_.csv\n",
            "processed123_.csv  processed320_.csv  processed518_.csv  processed715_.csv\n",
            "processed124_.csv  processed321_.csv  processed519_.csv  processed716_.csv\n",
            "processed125_.csv  processed322_.csv  processed51_.csv\t processed717_.csv\n",
            "processed126_.csv  processed323_.csv  processed520_.csv  processed718_.csv\n",
            "processed127_.csv  processed324_.csv  processed521_.csv  processed719_.csv\n",
            "processed128_.csv  processed325_.csv  processed522_.csv  processed71_.csv\n",
            "processed129_.csv  processed326_.csv  processed523_.csv  processed720_.csv\n",
            "processed12_.csv   processed327_.csv  processed524_.csv  processed721_.csv\n",
            "processed130_.csv  processed328_.csv  processed525_.csv  processed722_.csv\n",
            "processed131_.csv  processed329_.csv  processed526_.csv  processed723_.csv\n",
            "processed132_.csv  processed32_.csv   processed527_.csv  processed724_.csv\n",
            "processed133_.csv  processed330_.csv  processed528_.csv  processed725_.csv\n",
            "processed134_.csv  processed331_.csv  processed529_.csv  processed726_.csv\n",
            "processed135_.csv  processed332_.csv  processed52_.csv\t processed727_.csv\n",
            "processed136_.csv  processed333_.csv  processed530_.csv  processed728_.csv\n",
            "processed137_.csv  processed334_.csv  processed531_.csv  processed729_.csv\n",
            "processed138_.csv  processed335_.csv  processed532_.csv  processed72_.csv\n",
            "processed139_.csv  processed336_.csv  processed533_.csv  processed730_.csv\n",
            "processed13_.csv   processed337_.csv  processed534_.csv  processed731_.csv\n",
            "processed140_.csv  processed338_.csv  processed535_.csv  processed732_.csv\n",
            "processed141_.csv  processed339_.csv  processed536_.csv  processed733_.csv\n",
            "processed142_.csv  processed33_.csv   processed537_.csv  processed734_.csv\n",
            "processed143_.csv  processed340_.csv  processed538_.csv  processed735_.csv\n",
            "processed144_.csv  processed341_.csv  processed539_.csv  processed736_.csv\n",
            "processed145_.csv  processed342_.csv  processed53_.csv\t processed737_.csv\n",
            "processed146_.csv  processed343_.csv  processed540_.csv  processed738_.csv\n",
            "processed147_.csv  processed344_.csv  processed541_.csv  processed739_.csv\n",
            "processed148_.csv  processed345_.csv  processed542_.csv  processed73_.csv\n",
            "processed149_.csv  processed346_.csv  processed543_.csv  processed740_.csv\n",
            "processed14_.csv   processed347_.csv  processed544_.csv  processed741_.csv\n",
            "processed150_.csv  processed348_.csv  processed545_.csv  processed742_.csv\n",
            "processed151_.csv  processed349_.csv  processed546_.csv  processed743_.csv\n",
            "processed152_.csv  processed34_.csv   processed547_.csv  processed744_.csv\n",
            "processed153_.csv  processed350_.csv  processed548_.csv  processed745_.csv\n",
            "processed154_.csv  processed351_.csv  processed549_.csv  processed746_.csv\n",
            "processed155_.csv  processed352_.csv  processed54_.csv\t processed747_.csv\n",
            "processed156_.csv  processed353_.csv  processed550_.csv  processed748_.csv\n",
            "processed157_.csv  processed354_.csv  processed551_.csv  processed749_.csv\n",
            "processed158_.csv  processed355_.csv  processed552_.csv  processed74_.csv\n",
            "processed159_.csv  processed356_.csv  processed553_.csv  processed750_.csv\n",
            "processed15_.csv   processed357_.csv  processed554_.csv  processed751_.csv\n",
            "processed160_.csv  processed358_.csv  processed555_.csv  processed752_.csv\n",
            "processed161_.csv  processed359_.csv  processed556_.csv  processed753_.csv\n",
            "processed162_.csv  processed35_.csv   processed557_.csv  processed754_.csv\n",
            "processed163_.csv  processed360_.csv  processed558_.csv  processed755_.csv\n",
            "processed164_.csv  processed361_.csv  processed559_.csv  processed756_.csv\n",
            "processed165_.csv  processed362_.csv  processed55_.csv\t processed757_.csv\n",
            "processed166_.csv  processed363_.csv  processed560_.csv  processed758_.csv\n",
            "processed167_.csv  processed364_.csv  processed561_.csv  processed759_.csv\n",
            "processed168_.csv  processed365_.csv  processed562_.csv  processed75_.csv\n",
            "processed169_.csv  processed366_.csv  processed563_.csv  processed760_.csv\n",
            "processed16_.csv   processed367_.csv  processed564_.csv  processed761_.csv\n",
            "processed170_.csv  processed368_.csv  processed565_.csv  processed762_.csv\n",
            "processed171_.csv  processed369_.csv  processed566_.csv  processed763_.csv\n",
            "processed172_.csv  processed36_.csv   processed567_.csv  processed764_.csv\n",
            "processed173_.csv  processed370_.csv  processed568_.csv  processed765_.csv\n",
            "processed174_.csv  processed371_.csv  processed569_.csv  processed766_.csv\n",
            "processed175_.csv  processed372_.csv  processed56_.csv\t processed767_.csv\n",
            "processed176_.csv  processed373_.csv  processed570_.csv  processed768_.csv\n",
            "processed177_.csv  processed374_.csv  processed571_.csv  processed769_.csv\n",
            "processed178_.csv  processed375_.csv  processed572_.csv  processed76_.csv\n",
            "processed179_.csv  processed376_.csv  processed573_.csv  processed770_.csv\n",
            "processed17_.csv   processed377_.csv  processed574_.csv  processed771_.csv\n",
            "processed180_.csv  processed378_.csv  processed575_.csv  processed772_.csv\n",
            "processed181_.csv  processed379_.csv  processed576_.csv  processed773_.csv\n",
            "processed182_.csv  processed37_.csv   processed577_.csv  processed774_.csv\n",
            "processed183_.csv  processed380_.csv  processed578_.csv  processed775_.csv\n",
            "processed184_.csv  processed381_.csv  processed579_.csv  processed776_.csv\n",
            "processed185_.csv  processed382_.csv  processed57_.csv\t processed777_.csv\n",
            "processed186_.csv  processed383_.csv  processed580_.csv  processed778_.csv\n",
            "processed187_.csv  processed384_.csv  processed581_.csv  processed779_.csv\n",
            "processed188_.csv  processed385_.csv  processed582_.csv  processed77_.csv\n",
            "processed189_.csv  processed386_.csv  processed583_.csv  processed780_.csv\n",
            "processed18_.csv   processed387_.csv  processed584_.csv  processed781_.csv\n",
            "processed190_.csv  processed388_.csv  processed585_.csv  processed782_.csv\n",
            "processed191_.csv  processed389_.csv  processed586_.csv  processed783_.csv\n",
            "processed192_.csv  processed38_.csv   processed587_.csv  processed784_.csv\n",
            "processed193_.csv  processed390_.csv  processed588_.csv  processed785_.csv\n",
            "processed194_.csv  processed391_.csv  processed589_.csv  processed786_.csv\n",
            "processed195_.csv  processed392_.csv  processed58_.csv\t processed787_.csv\n",
            "processed196_.csv  processed393_.csv  processed590_.csv  processed788_.csv\n",
            "processed197_.csv  processed394_.csv  processed591_.csv  processed789_.csv\n",
            "processed198_.csv  processed395_.csv  processed592_.csv  processed78_.csv\n",
            "processed199_.csv  processed396_.csv  processed593_.csv  processed790_.csv\n",
            "processed19_.csv   processed397_.csv  processed594_.csv  processed791_.csv\n",
            "processed1_.csv    processed398_.csv  processed595_.csv  processed792_.csv\n",
            "processed200_.csv  processed399_.csv  processed596_.csv  processed793_.csv\n",
            "processed201_.csv  processed39_.csv   processed597_.csv  processed794_.csv\n",
            "processed202_.csv  processed3_.csv    processed598_.csv  processed795_.csv\n",
            "processed203_.csv  processed400_.csv  processed599_.csv  processed796_.csv\n",
            "processed204_.csv  processed401_.csv  processed59_.csv\t processed797_.csv\n",
            "processed205_.csv  processed402_.csv  processed5_.csv\t processed798_.csv\n",
            "processed206_.csv  processed403_.csv  processed600_.csv  processed799_.csv\n",
            "processed207_.csv  processed404_.csv  processed601_.csv  processed79_.csv\n",
            "processed208_.csv  processed405_.csv  processed602_.csv  processed7_.csv\n",
            "processed209_.csv  processed406_.csv  processed603_.csv  processed800_.csv\n",
            "processed20_.csv   processed407_.csv  processed604_.csv  processed801_.csv\n",
            "processed210_.csv  processed408_.csv  processed605_.csv  processed802_.csv\n",
            "processed211_.csv  processed409_.csv  processed606_.csv  processed803_.csv\n",
            "processed212_.csv  processed40_.csv   processed607_.csv  processed804_.csv\n",
            "processed213_.csv  processed410_.csv  processed608_.csv  processed805_.csv\n",
            "processed214_.csv  processed411_.csv  processed609_.csv  processed806_.csv\n",
            "processed215_.csv  processed412_.csv  processed60_.csv\t processed807_.csv\n",
            "processed216_.csv  processed413_.csv  processed610_.csv  processed808_.csv\n",
            "processed217_.csv  processed414_.csv  processed611_.csv  processed809_.csv\n",
            "processed218_.csv  processed415_.csv  processed612_.csv  processed80_.csv\n",
            "processed219_.csv  processed416_.csv  processed613_.csv  processed810_.csv\n",
            "processed21_.csv   processed417_.csv  processed614_.csv  processed811_.csv\n",
            "processed220_.csv  processed418_.csv  processed615_.csv  processed812_.csv\n",
            "processed221_.csv  processed419_.csv  processed616_.csv  processed813_.csv\n",
            "processed222_.csv  processed41_.csv   processed617_.csv  processed814_.csv\n",
            "processed223_.csv  processed420_.csv  processed618_.csv  processed815_.csv\n",
            "processed224_.csv  processed421_.csv  processed619_.csv  processed816_.csv\n",
            "processed225_.csv  processed422_.csv  processed61_.csv\t processed817_.csv\n",
            "processed226_.csv  processed423_.csv  processed620_.csv  processed818_.csv\n",
            "processed227_.csv  processed424_.csv  processed621_.csv  processed819_.csv\n",
            "processed228_.csv  processed425_.csv  processed622_.csv  processed81_.csv\n",
            "processed229_.csv  processed426_.csv  processed623_.csv  processed820_.csv\n",
            "processed22_.csv   processed427_.csv  processed624_.csv  processed821_.csv\n",
            "processed230_.csv  processed428_.csv  processed625_.csv  processed822_.csv\n",
            "processed231_.csv  processed429_.csv  processed626_.csv  processed823_.csv\n",
            "processed232_.csv  processed42_.csv   processed627_.csv  processed824_.csv\n",
            "processed233_.csv  processed430_.csv  processed628_.csv  processed825_.csv\n",
            "processed234_.csv  processed431_.csv  processed629_.csv  processed826_.csv\n",
            "processed235_.csv  processed432_.csv  processed62_.csv\t processed827_.csv\n",
            "processed236_.csv  processed433_.csv  processed630_.csv  processed828_.csv\n",
            "processed237_.csv  processed434_.csv  processed631_.csv  processed829_.csv\n",
            "processed238_.csv  processed435_.csv  processed632_.csv  processed82_.csv\n",
            "processed239_.csv  processed436_.csv  processed633_.csv  processed830_.csv\n",
            "processed23_.csv   processed437_.csv  processed634_.csv  processed831_.csv\n",
            "processed240_.csv  processed438_.csv  processed635_.csv  processed832_.csv\n",
            "processed241_.csv  processed439_.csv  processed636_.csv  processed833_.csv\n",
            "processed242_.csv  processed43_.csv   processed637_.csv  processed834_.csv\n",
            "processed243_.csv  processed440_.csv  processed638_.csv  processed835_.csv\n",
            "processed244_.csv  processed441_.csv  processed639_.csv  processed836_.csv\n",
            "processed245_.csv  processed442_.csv  processed63_.csv\t processed837_.csv\n",
            "processed246_.csv  processed443_.csv  processed640_.csv  processed838_.csv\n",
            "processed247_.csv  processed444_.csv  processed641_.csv  processed839_.csv\n",
            "processed248_.csv  processed445_.csv  processed642_.csv  processed83_.csv\n",
            "processed249_.csv  processed446_.csv  processed643_.csv  processed840_.csv\n",
            "processed24_.csv   processed447_.csv  processed644_.csv  processed841_.csv\n",
            "processed250_.csv  processed448_.csv  processed645_.csv  processed842_.csv\n",
            "processed251_.csv  processed449_.csv  processed646_.csv  processed843_.csv\n",
            "processed252_.csv  processed44_.csv   processed647_.csv  processed844_.csv\n",
            "processed253_.csv  processed450_.csv  processed648_.csv  processed845_.csv\n",
            "processed254_.csv  processed451_.csv  processed649_.csv  processed846_.csv\n",
            "processed255_.csv  processed452_.csv  processed64_.csv\t processed847_.csv\n",
            "processed256_.csv  processed453_.csv  processed650_.csv  processed848_.csv\n",
            "processed257_.csv  processed454_.csv  processed651_.csv  processed849_.csv\n",
            "processed258_.csv  processed455_.csv  processed652_.csv  processed84_.csv\n",
            "processed259_.csv  processed456_.csv  processed653_.csv  processed850_.csv\n",
            "processed25_.csv   processed457_.csv  processed654_.csv  processed851_.csv\n",
            "processed260_.csv  processed458_.csv  processed655_.csv  processed852_.csv\n",
            "processed261_.csv  processed459_.csv  processed656_.csv  processed853_.csv\n",
            "processed262_.csv  processed45_.csv   processed657_.csv  processed854_.csv\n",
            "processed263_.csv  processed460_.csv  processed658_.csv  processed855_.csv\n",
            "processed264_.csv  processed461_.csv  processed659_.csv  processed856_.csv\n",
            "processed265_.csv  processed462_.csv  processed65_.csv\t processed857_.csv\n",
            "processed266_.csv  processed463_.csv  processed660_.csv  processed858_.csv\n",
            "processed267_.csv  processed464_.csv  processed661_.csv  processed859_.csv\n",
            "processed268_.csv  processed465_.csv  processed662_.csv  processed85_.csv\n",
            "processed269_.csv  processed466_.csv  processed663_.csv  processed860_.csv\n",
            "processed26_.csv   processed467_.csv  processed664_.csv  processed861_.csv\n",
            "processed270_.csv  processed468_.csv  processed665_.csv  processed862_.csv\n",
            "processed271_.csv  processed469_.csv  processed666_.csv  processed863_.csv\n",
            "processed272_.csv  processed46_.csv   processed667_.csv  processed864_.csv\n",
            "processed273_.csv  processed470_.csv  processed668_.csv  processed865_.csv\n",
            "processed274_.csv  processed471_.csv  processed669_.csv  processed866_.csv\n",
            "processed275_.csv  processed472_.csv  processed66_.csv\t processed867_.csv\n",
            "processed276_.csv  processed473_.csv  processed670_.csv  processed868_.csv\n",
            "processed277_.csv  processed474_.csv  processed671_.csv  processed869_.csv\n",
            "processed278_.csv  processed475_.csv  processed672_.csv  processed86_.csv\n",
            "processed279_.csv  processed476_.csv  processed673_.csv  processed870_.csv\n",
            "processed27_.csv   processed477_.csv  processed674_.csv  processed871_.csv\n",
            "processed280_.csv  processed478_.csv  processed675_.csv  processed87_.csv\n",
            "processed281_.csv  processed479_.csv  processed676_.csv  processed88_.csv\n",
            "processed282_.csv  processed47_.csv   processed677_.csv  processed89_.csv\n",
            "processed283_.csv  processed480_.csv  processed678_.csv  processed8_.csv\n",
            "processed284_.csv  processed481_.csv  processed679_.csv  processed90_.csv\n",
            "processed285_.csv  processed482_.csv  processed67_.csv\t processed91_.csv\n",
            "processed286_.csv  processed483_.csv  processed680_.csv  processed92_.csv\n",
            "processed287_.csv  processed484_.csv  processed681_.csv  processed93_.csv\n",
            "processed288_.csv  processed485_.csv  processed682_.csv  processed94_.csv\n",
            "processed289_.csv  processed486_.csv  processed683_.csv  processed95_.csv\n",
            "processed28_.csv   processed487_.csv  processed684_.csv  processed96_.csv\n",
            "processed290_.csv  processed488_.csv  processed685_.csv  processed97_.csv\n",
            "processed291_.csv  processed489_.csv  processed686_.csv  processed98_.csv\n",
            "processed292_.csv  processed48_.csv   processed687_.csv  processed_korquad1.csv\n",
            "processed293_.csv  processed490_.csv  processed688_.csv  processed_korquad2.csv\n",
            "processed294_.csv  processed491_.csv  processed689_.csv  processed_korquad3.csv\n",
            "processed295_.csv  processed492_.csv  processed68_.csv\t sample_data\n",
            "processed296_.csv  processed493_.csv  processed690_.csv\n",
            "processed297_.csv  processed494_.csv  processed691_.csv\n"
          ],
          "name": "stdout"
        }
      ]
    },
    {
      "cell_type": "code",
      "metadata": {
        "id": "Zp9rogkGzLMp",
        "colab_type": "code",
        "colab": {
          "base_uri": "https://localhost:8080/",
          "height": 17
        },
        "outputId": "f228407c-71ef-4d16-8ebc-6c4fa0b8c111"
      },
      "source": [
        "from google.colab import files"
      ],
      "execution_count": null,
      "outputs": [
        {
          "output_type": "display_data",
          "data": {
            "application/javascript": [
              "\n",
              "    async function download(id, filename, size) {\n",
              "      if (!google.colab.kernel.accessAllowed) {\n",
              "        return;\n",
              "      }\n",
              "      const div = document.createElement('div');\n",
              "      const label = document.createElement('label');\n",
              "      label.textContent = `Downloading \"${filename}\": `;\n",
              "      div.appendChild(label);\n",
              "      const progress = document.createElement('progress');\n",
              "      progress.max = size;\n",
              "      div.appendChild(progress);\n",
              "      document.body.appendChild(div);\n",
              "\n",
              "      const buffers = [];\n",
              "      let downloaded = 0;\n",
              "\n",
              "      const channel = await google.colab.kernel.comms.open(id);\n",
              "      // Send a message to notify the kernel that we're ready.\n",
              "      channel.send({})\n",
              "\n",
              "      for await (const message of channel.messages) {\n",
              "        // Send a message to notify the kernel that we're ready.\n",
              "        channel.send({})\n",
              "        if (message.buffers) {\n",
              "          for (const buffer of message.buffers) {\n",
              "            buffers.push(buffer);\n",
              "            downloaded += buffer.byteLength;\n",
              "            progress.value = downloaded;\n",
              "          }\n",
              "        }\n",
              "      }\n",
              "      const blob = new Blob(buffers, {type: 'application/binary'});\n",
              "      const a = document.createElement('a');\n",
              "      a.href = window.URL.createObjectURL(blob);\n",
              "      a.download = filename;\n",
              "      div.appendChild(a);\n",
              "      a.click();\n",
              "      div.remove();\n",
              "    }\n",
              "  "
            ],
            "text/plain": [
              "<IPython.core.display.Javascript object>"
            ]
          },
          "metadata": {
            "tags": []
          }
        },
        {
          "output_type": "display_data",
          "data": {
            "application/javascript": [
              "download(\"download_2116dc94-9c55-48bc-befa-6230ba8777c1\", \"processed_korquad3.csv\", 36519191)"
            ],
            "text/plain": [
              "<IPython.core.display.Javascript object>"
            ]
          },
          "metadata": {
            "tags": []
          }
        }
      ]
    },
    {
      "cell_type": "code",
      "metadata": {
        "id": "a2udke11zP5G",
        "colab_type": "code",
        "colab": {
          "base_uri": "https://localhost:8080/",
          "height": 34
        },
        "outputId": "10c8949c-a879-45c2-c1dd-22cea88a2437"
      },
      "source": [
        "files.download('processed_korquad3.csv')"
      ],
      "execution_count": null,
      "outputs": [
        {
          "output_type": "display_data",
          "data": {
            "application/javascript": [
              "\n",
              "    async function download(id, filename, size) {\n",
              "      if (!google.colab.kernel.accessAllowed) {\n",
              "        return;\n",
              "      }\n",
              "      const div = document.createElement('div');\n",
              "      const label = document.createElement('label');\n",
              "      label.textContent = `Downloading \"${filename}\": `;\n",
              "      div.appendChild(label);\n",
              "      const progress = document.createElement('progress');\n",
              "      progress.max = size;\n",
              "      div.appendChild(progress);\n",
              "      document.body.appendChild(div);\n",
              "\n",
              "      const buffers = [];\n",
              "      let downloaded = 0;\n",
              "\n",
              "      const channel = await google.colab.kernel.comms.open(id);\n",
              "      // Send a message to notify the kernel that we're ready.\n",
              "      channel.send({})\n",
              "\n",
              "      for await (const message of channel.messages) {\n",
              "        // Send a message to notify the kernel that we're ready.\n",
              "        channel.send({})\n",
              "        if (message.buffers) {\n",
              "          for (const buffer of message.buffers) {\n",
              "            buffers.push(buffer);\n",
              "            downloaded += buffer.byteLength;\n",
              "            progress.value = downloaded;\n",
              "          }\n",
              "        }\n",
              "      }\n",
              "      const blob = new Blob(buffers, {type: 'application/binary'});\n",
              "      const a = document.createElement('a');\n",
              "      a.href = window.URL.createObjectURL(blob);\n",
              "      a.download = filename;\n",
              "      div.appendChild(a);\n",
              "      a.click();\n",
              "      div.remove();\n",
              "    }\n",
              "  "
            ],
            "text/plain": [
              "<IPython.core.display.Javascript object>"
            ]
          },
          "metadata": {
            "tags": []
          }
        },
        {
          "output_type": "display_data",
          "data": {
            "application/javascript": [
              "download(\"download_6f030a3d-343e-4a3c-9158-37e915eca263\", \"processed_korquad3.csv\", 36519191)"
            ],
            "text/plain": [
              "<IPython.core.display.Javascript object>"
            ]
          },
          "metadata": {
            "tags": []
          }
        }
      ]
    },
    {
      "cell_type": "code",
      "metadata": {
        "id": "bAIMqRSx1-xG",
        "colab_type": "code",
        "colab": {}
      },
      "source": [
        ""
      ],
      "execution_count": null,
      "outputs": []
    }
  ]
}