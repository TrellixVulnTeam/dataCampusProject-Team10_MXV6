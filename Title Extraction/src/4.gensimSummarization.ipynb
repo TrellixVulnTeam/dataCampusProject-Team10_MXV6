{
 "cells": [
  {
   "cell_type": "code",
   "execution_count": 1,
   "metadata": {
    "colab": {
     "base_uri": "https://localhost:8080/",
     "height": 54
    },
    "colab_type": "code",
    "id": "Tzdph7X_4yq9",
    "outputId": "dfec0459-88d1-4a6d-f3cd-0ceebb65508e"
   },
   "outputs": [
    {
     "name": "stdout",
     "output_type": "stream",
     "text": [
      "'petitions_dataset'에 복제합니다...\n",
      "remote: Enumerating objects: 20, done.\u001b[K\n",
      "remote: Counting objects: 100% (20/20), done.\u001b[K\n",
      "remote: Compressing objects: 100% (15/15), done.\u001b[K\n",
      "remote: Total 112 (delta 5), reused 15 (delta 5), pack-reused 92\u001b[K\n",
      "오브젝트를 받는 중: 100% (112/112), 20.29 KiB | 6.76 MiB/s, 완료.\n",
      "델타를 알아내는 중: 100% (53/53), 완료.\n"
     ]
    }
   ],
   "source": [
    "# 구글 드라이브 코랩에 연동해서 바로 실행 가능토록 만듦\n",
    "!git clone https://github.com/lovit/petitions_dataset.git"
   ]
  },
  {
   "cell_type": "code",
   "execution_count": null,
   "metadata": {},
   "outputs": [],
   "source": []
  },
  {
   "cell_type": "code",
   "execution_count": 2,
   "metadata": {
    "colab": {
     "base_uri": "https://localhost:8080/",
     "height": 666
    },
    "colab_type": "code",
    "id": "o-yjJA1u6hFG",
    "outputId": "c7ca3be1-2f48-4d83-f0d0-b2e99cdd4de4"
   },
   "outputs": [
    {
     "name": "stdout",
     "output_type": "stream",
     "text": [
      "/Users/yoonk/Desktop/lectures/petitions_dataset\n",
      "running install\n",
      "running bdist_egg\n",
      "running egg_info\n",
      "creating petitions_dataset.egg-info\n",
      "writing petitions_dataset.egg-info/PKG-INFO\n",
      "writing dependency_links to petitions_dataset.egg-info/dependency_links.txt\n",
      "writing top-level names to petitions_dataset.egg-info/top_level.txt\n",
      "writing manifest file 'petitions_dataset.egg-info/SOURCES.txt'\n",
      "reading manifest file 'petitions_dataset.egg-info/SOURCES.txt'\n",
      "writing manifest file 'petitions_dataset.egg-info/SOURCES.txt'\n",
      "installing library code to build/bdist.macosx-10.9-x86_64/egg\n",
      "running install_lib\n",
      "running build_py\n",
      "creating build\n",
      "creating build/lib\n",
      "creating build/lib/petitions_dataset\n",
      "copying petitions_dataset/__init__.py -> build/lib/petitions_dataset\n",
      "copying petitions_dataset/utils.py -> build/lib/petitions_dataset\n",
      "copying petitions_dataset/loader.py -> build/lib/petitions_dataset\n",
      "creating build/bdist.macosx-10.9-x86_64\n",
      "creating build/bdist.macosx-10.9-x86_64/egg\n",
      "creating build/bdist.macosx-10.9-x86_64/egg/petitions_dataset\n",
      "copying build/lib/petitions_dataset/__init__.py -> build/bdist.macosx-10.9-x86_64/egg/petitions_dataset\n",
      "copying build/lib/petitions_dataset/utils.py -> build/bdist.macosx-10.9-x86_64/egg/petitions_dataset\n",
      "copying build/lib/petitions_dataset/loader.py -> build/bdist.macosx-10.9-x86_64/egg/petitions_dataset\n",
      "byte-compiling build/bdist.macosx-10.9-x86_64/egg/petitions_dataset/__init__.py to __init__.cpython-37.pyc\n",
      "byte-compiling build/bdist.macosx-10.9-x86_64/egg/petitions_dataset/utils.py to utils.cpython-37.pyc\n",
      "byte-compiling build/bdist.macosx-10.9-x86_64/egg/petitions_dataset/loader.py to loader.cpython-37.pyc\n",
      "creating build/bdist.macosx-10.9-x86_64/egg/EGG-INFO\n",
      "copying petitions_dataset.egg-info/PKG-INFO -> build/bdist.macosx-10.9-x86_64/egg/EGG-INFO\n",
      "copying petitions_dataset.egg-info/SOURCES.txt -> build/bdist.macosx-10.9-x86_64/egg/EGG-INFO\n",
      "copying petitions_dataset.egg-info/dependency_links.txt -> build/bdist.macosx-10.9-x86_64/egg/EGG-INFO\n",
      "copying petitions_dataset.egg-info/top_level.txt -> build/bdist.macosx-10.9-x86_64/egg/EGG-INFO\n",
      "zip_safe flag not set; analyzing archive contents...\n",
      "petitions_dataset.__pycache__.utils.cpython-37: module references __file__\n",
      "creating dist\n",
      "creating 'dist/petitions_dataset-1.0.0-py3.7.egg' and adding 'build/bdist.macosx-10.9-x86_64/egg' to it\n",
      "removing 'build/bdist.macosx-10.9-x86_64/egg' (and everything under it)\n",
      "Processing petitions_dataset-1.0.0-py3.7.egg\n",
      "removing '/Users/yoonk/opt/anaconda3/lib/python3.7/site-packages/petitions_dataset-1.0.0-py3.7.egg' (and everything under it)\n",
      "creating /Users/yoonk/opt/anaconda3/lib/python3.7/site-packages/petitions_dataset-1.0.0-py3.7.egg\n",
      "Extracting petitions_dataset-1.0.0-py3.7.egg to /Users/yoonk/opt/anaconda3/lib/python3.7/site-packages\n",
      "petitions-dataset 1.0.0 is already the active version in easy-install.pth\n",
      "\n",
      "Installed /Users/yoonk/opt/anaconda3/lib/python3.7/site-packages/petitions_dataset-1.0.0-py3.7.egg\n",
      "Processing dependencies for petitions-dataset==1.0.0\n",
      "Finished processing dependencies for petitions-dataset==1.0.0\n"
     ]
    }
   ],
   "source": [
    "%cd petitions_dataset\n",
    "!python setup.py install"
   ]
  },
  {
   "cell_type": "code",
   "execution_count": 3,
   "metadata": {
    "colab": {
     "base_uri": "https://localhost:8080/",
     "height": 54
    },
    "colab_type": "code",
    "id": "Hr_ZKLodxv4l",
    "outputId": "336d0f7f-b097-410c-fbb3-000fa3dfeb74"
   },
   "outputs": [
    {
     "ename": "ModuleNotFoundError",
     "evalue": "No module named 'google.colab'",
     "output_type": "error",
     "traceback": [
      "\u001b[0;31m---------------------------------------------------------------------------\u001b[0m",
      "\u001b[0;31mModuleNotFoundError\u001b[0m                       Traceback (most recent call last)",
      "\u001b[0;32m<ipython-input-3-91874b305a32>\u001b[0m in \u001b[0;36m<module>\u001b[0;34m\u001b[0m\n\u001b[0;32m----> 1\u001b[0;31m \u001b[0;32mfrom\u001b[0m \u001b[0mgoogle\u001b[0m\u001b[0;34m.\u001b[0m\u001b[0mcolab\u001b[0m \u001b[0;32mimport\u001b[0m \u001b[0mdrive\u001b[0m\u001b[0;34m\u001b[0m\u001b[0;34m\u001b[0m\u001b[0m\n\u001b[0m\u001b[1;32m      2\u001b[0m \u001b[0mdrive\u001b[0m\u001b[0;34m.\u001b[0m\u001b[0mmount\u001b[0m\u001b[0;34m(\u001b[0m\u001b[0;34m'/content/drive/'\u001b[0m\u001b[0;34m)\u001b[0m\u001b[0;34m\u001b[0m\u001b[0;34m\u001b[0m\u001b[0m\n",
      "\u001b[0;31mModuleNotFoundError\u001b[0m: No module named 'google.colab'"
     ]
    }
   ],
   "source": [
    "from google.colab import drive\n",
    "drive.mount('/content/drive/')"
   ]
  },
  {
   "cell_type": "code",
   "execution_count": 4,
   "metadata": {
    "colab": {},
    "colab_type": "code",
    "id": "9Nna7AZGydf5"
   },
   "outputs": [
    {
     "ename": "FileNotFoundError",
     "evalue": "[Errno 2] No such file or directory: '/content/drive/Shared drives/빅데이터 청년인재 10조♪/Gensim Summarize/petition_dataset/download_petitions'",
     "output_type": "error",
     "traceback": [
      "\u001b[0;31m---------------------------------------------------------------------------\u001b[0m",
      "\u001b[0;31mFileNotFoundError\u001b[0m                         Traceback (most recent call last)",
      "\u001b[0;32m<ipython-input-4-9837a2926ab0>\u001b[0m in \u001b[0;36m<module>\u001b[0;34m\u001b[0m\n\u001b[1;32m      1\u001b[0m \u001b[0;32mfrom\u001b[0m \u001b[0mos\u001b[0m \u001b[0;32mimport\u001b[0m \u001b[0mlistdir\u001b[0m\u001b[0;34m\u001b[0m\u001b[0;34m\u001b[0m\u001b[0m\n\u001b[1;32m      2\u001b[0m \u001b[0;32mfrom\u001b[0m \u001b[0mos\u001b[0m\u001b[0;34m.\u001b[0m\u001b[0mpath\u001b[0m \u001b[0;32mimport\u001b[0m \u001b[0misfile\u001b[0m\u001b[0;34m,\u001b[0m \u001b[0mjoin\u001b[0m\u001b[0;34m\u001b[0m\u001b[0;34m\u001b[0m\u001b[0m\n\u001b[0;32m----> 3\u001b[0;31m \u001b[0mdata_dir\u001b[0m \u001b[0;34m=\u001b[0m \u001b[0;34m[\u001b[0m\u001b[0mf\u001b[0m \u001b[0;32mfor\u001b[0m \u001b[0mf\u001b[0m \u001b[0;32min\u001b[0m \u001b[0mlistdir\u001b[0m\u001b[0;34m(\u001b[0m\u001b[0;34m\"/content/drive/Shared drives/빅데이터 청년인재 10조♪/Gensim Summarize/petition_dataset/download_petitions\"\u001b[0m\u001b[0;34m)\u001b[0m \u001b[0;32mif\u001b[0m \u001b[0misfile\u001b[0m\u001b[0;34m(\u001b[0m\u001b[0mjoin\u001b[0m\u001b[0;34m(\u001b[0m\u001b[0;34m\"/content/drive/Shared drives/빅데이터 청년인재 10조♪/Gensim Summarize/petition_dataset/download_petitions\"\u001b[0m\u001b[0;34m,\u001b[0m \u001b[0mf\u001b[0m\u001b[0;34m)\u001b[0m\u001b[0;34m)\u001b[0m\u001b[0;34m]\u001b[0m\u001b[0;34m\u001b[0m\u001b[0;34m\u001b[0m\u001b[0m\n\u001b[0m",
      "\u001b[0;31mFileNotFoundError\u001b[0m: [Errno 2] No such file or directory: '/content/drive/Shared drives/빅데이터 청년인재 10조♪/Gensim Summarize/petition_dataset/download_petitions'"
     ]
    }
   ],
   "source": [
    "from os import listdir\n",
    "from os.path import isfile, join\n",
    "data_dir = [f for f in listdir(\"/content/drive/Shared drives/빅데이터 청년인재 10조♪/Gensim Summarize/petition_dataset/download_petitions\") if isfile(join(\"/content/drive/Shared drives/빅데이터 청년인재 10조♪/Gensim Summarize/petition_dataset/download_petitions\", f))]"
   ]
  },
  {
   "cell_type": "code",
   "execution_count": 6,
   "metadata": {
    "colab": {
     "base_uri": "https://localhost:8080/",
     "height": 119
    },
    "colab_type": "code",
    "id": "3xUasRj08uzi",
    "outputId": "8887416a-b52b-44bd-c780-0b2b8f9e769b"
   },
   "outputs": [
    {
     "name": "stdin",
     "output_type": "stream",
     "text": [
      "It needs about 0.65 GB storage. Continue to download? ([Y]es, [N]o)\n",
      " Y\n"
     ]
    },
    {
     "name": "stdout",
     "output_type": "stream",
     "text": [
      "All data are downloaded\n"
     ]
    }
   ],
   "source": [
    "from petitions_dataset import fetch\n",
    "data_dir = \"/Users/yoonk/Desktop/lectures/download_petitions/\"\n",
    "fetch(data_dir)"
   ]
  },
  {
   "cell_type": "code",
   "execution_count": 7,
   "metadata": {
    "colab": {
     "base_uri": "https://localhost:8080/",
     "height": 156
    },
    "colab_type": "code",
    "id": "UrPTT48x_f7A",
    "outputId": "301199b2-26d0-48d9-9032-4d54f0c4429b"
   },
   "outputs": [
    {
     "name": "stdout",
     "output_type": "stream",
     "text": [
      "안녕하세요. 현재 사대, 교대 등 교원양성학교들의 예비교사들이 임용절벽에 매우 힘들어 하고 있는 줄로 압니다. 정부 부처에서는 영양사의 영양'교사'화, 폭발적인 영양'교사' 채용, 기간제 교사, 영전강, 스강의 무기계약직화가 그들의 임용 절벽과는 전혀 무관한 일이라고 주장하고 있지만 조금만 생각해보면 전혀 설득력 없는 말이라고 생각합니다. 학교 수가 같고, 학생 수가 동일한데 영양교사와 기간제 교사, 영전강 스강이 학교에 늘어나게 되면 당연히 정규 교원의 수는 줄어들게 되지 않겠습니까? 기간제 교사, 영전강, 스강의 무기계약직화, 정규직화 꼭 전면 백지화해주십시오. 백년대계인 국가의 교육에 달린 문제입니다. 단순히 대통령님의 일자리 공약, 81만개 일자리 창출 공약을 지키시고자 돌이킬 수 없는 실수는 하지 않으시길 바랍니다. 세계 어느 나라와 비교해도, 한국 교원의 수준과 질은 최고 수준입니다. 고등교육을 받고 어려운 국가 고시를 통과해야만 대한민국 공립 학교의 교단에 설 수 있고, 이러한 과정이 힘들기는 하지만 교원들이 교육자로서의 사명감과 자부심을 갖고 교육하게 되는 원동력이기도 합니다. 자격도 없는 비정규 인력들을 일자리 늘리기 명목 하에 학교로 들이게 되면, 그들이 무슨 낯으로 대한민국이 '공정한 사회' 라고 아이들에게 가르칠 수 있겠습니까? 그들이 가르치는 것을 학부모와 학생들이 납득할 수 있겠으며, 학생들은 공부를 열심히 해야하는 이유를 찾을 수나 있겠습니까? 열심히 안 해도 떼 쓰면 되는 세상이라고 생각하지 않겠습니까? 영양사의 영양교사화도 재고해주십시오. 영양사분들 정말 너무나 고마운 분들입니다. 학생들의 건강과 영양? 당연히 성장기에 있는 아이들에게 필수적이고 중요한 문제입니다. 하지만 이들이 왜 교사입니까. 유래를 찾아 볼 수 없는 영양사의 '교사'화. 정말 대통령님이 생각하신 아이디어라고 믿기 싫을 정도로 납득하기 어렵습니다. 중등은 실과교과 교사가 존재하지요? 초등 역시 임용 시험에 실과가 포함돼 있으며 학교 현장에서도 정규 교원이 직접 실과 과목을 학생들에게 가르칩니다. 영양'교사', 아니 영양사가 학생들에게 실과를 가르치지 않습니다. 아니 그 어떤 것도 가르치지 않습니다. 올해 대통령님 취임 후에 초등, 중등 임용 티오가 초전박살 나는 동안 영양'교사' 티오는 폭발적으로 확대된 줄로 압니다. 학생들의 교육을 위해 정말 교원의 수를 줄이고, 영양 교사의 수를 늘리는 것이 올바른 해답인지 묻고 싶습니다. 마지막으로 교원 당 학생 수. 이 통계도 제대로 내주시기 바랍니다. 다른 나라들은 '정규 교원', 즉 담임이나 교과 교사들로만 통계를 내는데(너무나 당연한 것이지요) 왜 한국은 보건, 영양, 기간제, 영전강, 스강 까지 다 포함해서 교원 수 통계를 내는건가요? 이런 통계의 장난을 통해 OECD 평균 교원 당 학생 수와 거의 비슷한 수준에 이르렀다고 주장하시는건가요? 학교는 교육의 장이고 학생들의 공간이지, 인력 센터가 아닙니다. 부탁드립니다. 부디 넓은 안목으로 멀리 내다봐주시길 간곡히 부탁드립니다. 학교는 인력센터, 취업센터가 아닙니다. 정말 간곡히 부탁드립니다.\n",
      "서울시에서는 ’10년부터 정수지와 배수지 청소용 화학제품인 “세정제”에 대하여 첨부 와 같이 자체 성분검사 기준을 제정하여 사용하고 있으며, 같은 해 환경부에 지침 개정을 요청한바있습니다. 3. 전국적으로 수도시설의 청소 등에 사용되는 세정제를 제조 판매하는 업체가 2개사에 불과하여 자체 지침을 제정하여 사용함에도 불구하고 시장 경쟁에 따른 민원이 지속되고 있는 등 관련법에 근거하는 법적 기준 제정이 시급하게 요구 되는 실정입니다. 4. 또한 '13.1.26일 이후에는 수도시설에 사용되는 도료 등 그 밖의 자재 및 제품에 대하여 상하수도협회의 KC인증을 획득하도록 규정하고 있어, 우수한 자재 선정이 손 쉬워지고, 자재의 품질 정도가 우수해지는 등의 장점이 있으나, 세정제는 KC인증 대상 에서도 제외되어 현장에서의 안전한 수도 시설 관리가 어려운 사항입니다. 5. 정수지 및 배수지에 저장되는 수돗물은 시설물의 특성상 시민들의 수도꼭지 까지 바로 전달되는 중요한 시설로 세정제에 대하여도 법적 기준이 마련되어야 하며 이에 따라 아래와 같이 우리시 건의사항을 통보하오니 검토 반영하여 주시기 바랍니다. <건 의 사 항> 가) 수도시설의 청소용 세정제에 대한 법적 기준 제정 요청 - 정수지 이후 수도시설의 청소 등에 사용되는 세정제에 대한 관리 기준 제정 - 세정제 성분검사 기준 및 세척 잔수 배출기준 등의 관리기준 마련 - 관련법인 “수도시설의 청소 및 위생관리 등에 관한 규칙” 내 기준으로 제정 나) 수도시설 청소용 세정제에 대한 상하수도협회의 KC인증제도 도입 - 정수지 이후 수도시설의 청소 등에 사용되는 세정제에 대한 관리 기준 제정 필요 - 유독물이 포함된 세정제 등을 인증을 거쳐 안전하고 손쉽게 사용할 수 있는 환경조성 함께 만드는 서울, 함께 누리는 서울 상수도사업본부 수신 수신자참조 (경유) 제목 정수지 및 배수지 수도시설 청소용 세정제 사용기준 제정 요청 <서울시 세정제 성분검사 기준> 구 분 세정제 성분검사 기준 검사시료수 pH 1.0 이상 원액의 50배 희석수 메틸알콜(고형, 분말, 과립상 제외) 1㎎/g 이하 원액 비 소 0.05㎎/L 이하 원액 중금속(납) 1.0㎎/L 이하 원액 형광증백제 불검출 원액 계면활성제(총 세제) 0.1% 이하 원액 첨부 : 서울시 수도시설 청소용 세정제 관리지침 1부. 끝. 서울특별시상수도사업본부장 수신자 환경부장관(수도정책과장),한국상하수도협회장 ★주무관 이규현 생산관리과장 노영석 생산부장 02/12 박용철 협조자 시행 생산관리과-1323 ( 2015.2.12. ) 접수 ( ) 우 120-030 서울 서대문구 서소문로 51 상수도사업본부 3층 생 산부 생산관리과 / http://arisu.seoul.go.kr 전화 3146-1316 /전송 3146-1319 / bolhert@seou.go.kr / 대시민공 아파트 물탱크 청소용 NEP인증세제 사용 강제 요청건의서\n",
      "얼마 전 살충제 계란 파동 등으로 씨끄러웠던 중 친환경업체(한살림 등)의 DDT파동으로 또 다시 술렁였습니다. 그러나 이는 농장주의 의도가 아닌 토양 속 DDT였습니다. 예전 미군 등이 DDT를 한국인에게 스프레이하는 장면 등이 떠 올랐고 아주 오랫동안 몸 속이나 토양 등에 남아있었음을 알고 다시 한 번 놀랐습니다. 그러나 해당 농장주는 인지하지도 못한 채 벌어진 일이고 오늘 인터넷 기사를 보니 폐업을 선언하고 8천마리를 스스로 처분한다고 하네요. 해당 농장주 2분이 이를 크게 낙담하여 행여 불상사가 일어날까 걱정이 되었습니다. 이런 문제는 정부가 보상금을 해주던지 아님 재기의 기회라도 주어야 문재인 정부에 대한 신뢰가 더 쌓이지 않을까요. 한살림 또한 억울해합니다. 저는 소비자로서도 속상하던 걸요^^ 잘 해결되리라 믿습니다. 김대중 노무현 문재인님을 지지하고 사랑하고 오늘처럼 행복한 날을 주심을 감사드립니다. 앞으로도 정직하게 살아온 이력만큼 뚜벅뚜벅 길을 걸어가 주십시오^^ 청와대 임종석 실장님 조국님 조현옥님 장하성임 김상조님 기타 윤석렬님 등 너무 존경스러운 분들이 많아 행복한 정치 일상을 보는 국민으로서 자부심을 느낌니다. 건강 유의하시며 국정운영에 힘 써 주시기 바랍니다. 감사합니다. DDT농가에 대한 배려\n",
      "길고양이들 밥주고있는 사람입니다. 최근에 동네주민과 트러블이 생겨 싸움이 일어났습니다. 길고양이들이 모여든다고 밥주지마라고 윽박지르셨습니다. 쓰레기봉투를 뜯는다거나 사람에게 해끼치거나 하지 않았습니다. 단순히 고양이가 모여드는게 싫답니다. 그럼 애들은 굶어죽어야하나요? 길고양이들이 맘놓고 쉬고 밥먹을 수 있는 환경이 전혀 없는데 무작정 밥안주고 물 안주면 얘네는 어떻게 하나요? 안그래도 수명도 짧은데다가 길고양이를 상대로 학대하는 사람들도 많은데 너무 가엾습니다. 강동구청은 고양이 급식소라고 만들어주셨던데 동네마다 한개씩이라도 만들어 주셨으면좋겠어요.. 밥에다가 이상한짓 하는 사람 있을 수 있으니까 cctv도 설치도 해주셨으면 합니다.. (급식소에 쥐약을 뿌려 고양이가 죽은 사례가 있습니다) 지구가 사람껀 아니잖아요 동물과도 더불어 살줄 알아야죠 문대통령님께서 동물복지 관련 공략을 내셨지만 나아진게 전혀 없는거같아요. 공략 꼭 지켜주세요.. 믿고 뽑았는데 전혀 나아지고 바뀐게 없으면 너무 실망스럽잖아요.. 그리고 길고양이뿐만 아니라 다른 동물 학대하는 부분도 처벌 강화 부탁드립니다 길고양이를 도와주세요\n",
      "안녕하세요 지인분이 성관계 몰래카메라가 유출되어 방송통신 심의 위원회에 접수해서 처리중인데 신청이 한달이 넘었는데도 아직 처리가 되질않아 금일 심의 위원회에 문의한 결과 심의위원이 현재 공석인관계로 처리가 되질않는다고 합니다. 올 6월부터 공석이라고 하는데.. 언제 그분들이 배정될지도 모른다고 하시고. 어디서 배정하는지도 모른다고 방송통신심의위원회 쪽 답변입니다. 몰래카메라가 현재 계속 유출되고있는 상황에서 사설업체에 문의해서 처리하는 방법 밖에 없다구 하는데 사설업체 의뢰시 최소 월300만원이라고 하네요.. 일반인 직장인으로써는 감당이 안되는 상황입니다. 이미 경찰서에 신고가 되있는 상태인데.. 경찰서에서 처리가 안되고.. 대체 이런경우에는 무작정 기다리고 하루하루가 지옥이라는 지인은 지금현재 밥도 안먹고 술만 먹고 있습니다. 어떻게 심의위원회를 빨리 배정을 해주시던지. 처리좀 부탁드립니다. 몰래카메라 유출 방송통신심의위원회 심의 배정\n",
      "369872\n",
      "<petitions_dataset.loader.Petitions object at 0x7fb4140ce210>\n"
     ]
    }
   ],
   "source": [
    "from petitions_dataset import Petitions\n",
    "petitions = Petitions(data_dir)\n",
    "petitions.set_keys('content','title')\n",
    "dic = {}\n",
    "for idx, ls in enumerate(petitions):\n",
    "    if idx == 5:\n",
    "        break;\n",
    "    print(ls[0],ls[1])\n",
    "    dic[ls[1]] = ls[0]\n",
    "print(len(petitions))\n",
    "print(petitions)"
   ]
  },
  {
   "cell_type": "code",
   "execution_count": null,
   "metadata": {
    "colab": {},
    "colab_type": "code",
    "id": "eBJfvyG3-EZc"
   },
   "outputs": [],
   "source": [
    "# content = []\n",
    "# title = []\n",
    "# petitions.set_keys('content','title')\n",
    "# for idx, tup in enumerate(petitions):\n",
    "#     if idx == 5:\n",
    "#         break;\n",
    "#     content.append(tup[idx][0])\n",
    "#     title.append(tup[idx][1])\n",
    "# #     ls.title = ls[1]\n",
    "#     print(tup[idx][0],'\\n',tup[idx][1])"
   ]
  },
  {
   "cell_type": "code",
   "execution_count": 7,
   "metadata": {
    "colab": {
     "base_uri": "https://localhost:8080/",
     "height": 394
    },
    "colab_type": "code",
    "id": "NOpzWPYwwhaa",
    "outputId": "875808d7-2942-4227-8efe-99f951d941bb"
   },
   "outputs": [
    {
     "name": "stdout",
     "output_type": "stream",
     "text": [
      "Requirement already satisfied: textrankr in /usr/local/lib/python3.6/dist-packages (0.3)\n",
      "Requirement already satisfied: networkx in /usr/local/lib/python3.6/dist-packages (from textrankr) (2.4)\n",
      "Requirement already satisfied: konlpy in /usr/local/lib/python3.6/dist-packages (from textrankr) (0.5.2)\n",
      "Requirement already satisfied: jpype1-py3 in /usr/local/lib/python3.6/dist-packages (from textrankr) (0.5.5.4)\n",
      "Requirement already satisfied: setuptools in /usr/local/lib/python3.6/dist-packages (from textrankr) (49.1.0)\n",
      "Requirement already satisfied: decorator>=4.3.0 in /usr/local/lib/python3.6/dist-packages (from networkx->textrankr) (4.4.2)\n",
      "Requirement already satisfied: tweepy>=3.7.0 in /usr/local/lib/python3.6/dist-packages (from konlpy->textrankr) (3.9.0)\n",
      "Requirement already satisfied: JPype1>=0.7.0 in /usr/local/lib/python3.6/dist-packages (from konlpy->textrankr) (0.7.5)\n",
      "Requirement already satisfied: beautifulsoup4==4.6.0 in /usr/local/lib/python3.6/dist-packages (from konlpy->textrankr) (4.6.0)\n",
      "Requirement already satisfied: lxml>=4.1.0 in /usr/local/lib/python3.6/dist-packages (from konlpy->textrankr) (4.2.6)\n",
      "Requirement already satisfied: colorama in /usr/local/lib/python3.6/dist-packages (from konlpy->textrankr) (0.4.3)\n",
      "Requirement already satisfied: numpy>=1.6 in /usr/local/lib/python3.6/dist-packages (from konlpy->textrankr) (1.18.5)\n",
      "Requirement already satisfied: requests[socks]>=2.11.1 in /usr/local/lib/python3.6/dist-packages (from tweepy>=3.7.0->konlpy->textrankr) (2.23.0)\n",
      "Requirement already satisfied: six>=1.10.0 in /usr/local/lib/python3.6/dist-packages (from tweepy>=3.7.0->konlpy->textrankr) (1.12.0)\n",
      "Requirement already satisfied: requests-oauthlib>=0.7.0 in /usr/local/lib/python3.6/dist-packages (from tweepy>=3.7.0->konlpy->textrankr) (1.3.0)\n",
      "Requirement already satisfied: idna<3,>=2.5 in /usr/local/lib/python3.6/dist-packages (from requests[socks]>=2.11.1->tweepy>=3.7.0->konlpy->textrankr) (2.10)\n",
      "Requirement already satisfied: chardet<4,>=3.0.2 in /usr/local/lib/python3.6/dist-packages (from requests[socks]>=2.11.1->tweepy>=3.7.0->konlpy->textrankr) (3.0.4)\n",
      "Requirement already satisfied: urllib3!=1.25.0,!=1.25.1,<1.26,>=1.21.1 in /usr/local/lib/python3.6/dist-packages (from requests[socks]>=2.11.1->tweepy>=3.7.0->konlpy->textrankr) (1.24.3)\n",
      "Requirement already satisfied: certifi>=2017.4.17 in /usr/local/lib/python3.6/dist-packages (from requests[socks]>=2.11.1->tweepy>=3.7.0->konlpy->textrankr) (2020.6.20)\n",
      "Requirement already satisfied: PySocks!=1.5.7,>=1.5.6; extra == \"socks\" in /usr/local/lib/python3.6/dist-packages (from requests[socks]>=2.11.1->tweepy>=3.7.0->konlpy->textrankr) (1.7.1)\n",
      "Requirement already satisfied: oauthlib>=3.0.0 in /usr/local/lib/python3.6/dist-packages (from requests-oauthlib>=0.7.0->tweepy>=3.7.0->konlpy->textrankr) (3.1.0)\n"
     ]
    }
   ],
   "source": [
    "# !pip install textrankr"
   ]
  },
  {
   "cell_type": "code",
   "execution_count": 8,
   "metadata": {
    "colab": {},
    "colab_type": "code",
    "id": "VbOLVa8c-EZf"
   },
   "outputs": [],
   "source": [
    "import gensim\n",
    "from gensim.summarization.summarizer import summarize"
   ]
  },
  {
   "cell_type": "code",
   "execution_count": 21,
   "metadata": {
    "colab": {
     "base_uri": "https://localhost:8080/",
     "height": 409
    },
    "colab_type": "code",
    "id": "kQm3BWGt-EZi",
    "outputId": "acc66e9e-aef9-4702-a4a5-70fda2ac1df7"
   },
   "outputs": [
    {
     "ename": "TypeError",
     "evalue": "startJVM() got an unexpected keyword argument 'convertStrings'",
     "output_type": "error",
     "traceback": [
      "\u001b[0;31m---------------------------------------------------------------------------\u001b[0m",
      "\u001b[0;31mTypeError\u001b[0m                                 Traceback (most recent call last)",
      "\u001b[0;32m<ipython-input-21-a4f2d69cf77d>\u001b[0m in \u001b[0;36m<module>\u001b[0;34m\u001b[0m\n\u001b[1;32m      2\u001b[0m \u001b[0;32mimport\u001b[0m \u001b[0mre\u001b[0m\u001b[0;34m\u001b[0m\u001b[0;34m\u001b[0m\u001b[0m\n\u001b[1;32m      3\u001b[0m \u001b[0;32mimport\u001b[0m \u001b[0mstring\u001b[0m\u001b[0;34m\u001b[0m\u001b[0;34m\u001b[0m\u001b[0m\n\u001b[0;32m----> 4\u001b[0;31m \u001b[0;32mfrom\u001b[0m \u001b[0mtextrankr\u001b[0m \u001b[0;32mimport\u001b[0m \u001b[0mTextRank\u001b[0m\u001b[0;34m\u001b[0m\u001b[0;34m\u001b[0m\u001b[0m\n\u001b[0m\u001b[1;32m      5\u001b[0m \u001b[0;32mfrom\u001b[0m \u001b[0mlexrankr\u001b[0m \u001b[0;32mimport\u001b[0m \u001b[0mLexRank\u001b[0m\u001b[0;34m\u001b[0m\u001b[0;34m\u001b[0m\u001b[0m\n",
      "\u001b[0;32m~/opt/anaconda3/lib/python3.7/site-packages/textrankr/__init__.py\u001b[0m in \u001b[0;36m<module>\u001b[0;34m\u001b[0m\n\u001b[1;32m     11\u001b[0m \u001b[0;34m\u001b[0m\u001b[0m\n\u001b[1;32m     12\u001b[0m \u001b[0;34m\u001b[0m\u001b[0m\n\u001b[0;32m---> 13\u001b[0;31m \u001b[0m_kkma\u001b[0m \u001b[0;34m=\u001b[0m \u001b[0mKkma\u001b[0m\u001b[0;34m(\u001b[0m\u001b[0;34m)\u001b[0m\u001b[0;34m\u001b[0m\u001b[0;34m\u001b[0m\u001b[0m\n\u001b[0m\u001b[1;32m     14\u001b[0m \u001b[0m_stopwords\u001b[0m \u001b[0;34m=\u001b[0m \u001b[0;34m[\u001b[0m\u001b[0;34m\"아\"\u001b[0m\u001b[0;34m,\u001b[0m \u001b[0;34m\"휴\"\u001b[0m\u001b[0;34m,\u001b[0m \u001b[0;34m\"아이구\"\u001b[0m\u001b[0;34m,\u001b[0m \u001b[0;34m\"아이쿠\"\u001b[0m\u001b[0;34m,\u001b[0m \u001b[0;34m\"아이고\"\u001b[0m\u001b[0;34m,\u001b[0m \u001b[0;34m\"어\"\u001b[0m\u001b[0;34m,\u001b[0m \u001b[0;34m\"나\"\u001b[0m\u001b[0;34m,\u001b[0m \u001b[0;34m\"우리\"\u001b[0m\u001b[0;34m,\u001b[0m \u001b[0;34m\"저희\"\u001b[0m\u001b[0;34m,\u001b[0m \u001b[0;34m\"따라\"\u001b[0m\u001b[0;34m,\u001b[0m \u001b[0;34m\"의해\"\u001b[0m\u001b[0;34m,\u001b[0m \u001b[0;34m\"을\"\u001b[0m\u001b[0;34m,\u001b[0m \u001b[0;34m\"를\"\u001b[0m\u001b[0;34m,\u001b[0m \u001b[0;34m\"에\"\u001b[0m\u001b[0;34m,\u001b[0m \u001b[0;34m\"의\"\u001b[0m\u001b[0;34m,\u001b[0m \u001b[0;34m\"가\"\u001b[0m\u001b[0;34m,\u001b[0m \u001b[0;34m\"으로\"\u001b[0m\u001b[0;34m,\u001b[0m \u001b[0;34m\"로\"\u001b[0m\u001b[0;34m,\u001b[0m \u001b[0;34m\"에게\"\u001b[0m\u001b[0;34m,\u001b[0m \u001b[0;34m\"뿐이다\"\u001b[0m\u001b[0;34m,\u001b[0m \u001b[0;34m\"의거하여\"\u001b[0m\u001b[0;34m,\u001b[0m \u001b[0;34m\"근거하여\"\u001b[0m\u001b[0;34m,\u001b[0m \u001b[0;34m\"입각하여\"\u001b[0m\u001b[0;34m,\u001b[0m \u001b[0;34m\"기준으로\"\u001b[0m\u001b[0;34m,\u001b[0m \u001b[0;34m\"예하면\"\u001b[0m\u001b[0;34m,\u001b[0m \u001b[0;34m\"예를\"\u001b[0m\u001b[0;34m,\u001b[0m \u001b[0;34m\"들면\"\u001b[0m\u001b[0;34m,\u001b[0m \u001b[0;34m\"들자면\"\u001b[0m\u001b[0;34m,\u001b[0m \u001b[0;34m\"저\"\u001b[0m\u001b[0;34m,\u001b[0m \u001b[0;34m\"소인\"\u001b[0m\u001b[0;34m,\u001b[0m \u001b[0;34m\"소생\"\u001b[0m\u001b[0;34m,\u001b[0m \u001b[0;34m\"저희\"\u001b[0m\u001b[0;34m,\u001b[0m \u001b[0;34m\"지말고\"\u001b[0m\u001b[0;34m,\u001b[0m \u001b[0;34m\"하지마\"\u001b[0m\u001b[0;34m,\u001b[0m \u001b[0;34m\"하지마라\"\u001b[0m\u001b[0;34m,\u001b[0m \u001b[0;34m\"다른\"\u001b[0m\u001b[0;34m,\u001b[0m \u001b[0;34m\"물론\"\u001b[0m\u001b[0;34m,\u001b[0m \u001b[0;34m\"또한\"\u001b[0m\u001b[0;34m,\u001b[0m \u001b[0;34m\"그리고\"\u001b[0m\u001b[0;34m,\u001b[0m \u001b[0;34m\"비길수\"\u001b[0m\u001b[0;34m,\u001b[0m \u001b[0;34m\"없다\"\u001b[0m\u001b[0;34m,\u001b[0m \u001b[0;34m\"해서는\"\u001b[0m\u001b[0;34m,\u001b[0m \u001b[0;34m\"안된다\"\u001b[0m\u001b[0;34m,\u001b[0m \u001b[0;34m\"뿐만\"\u001b[0m\u001b[0;34m,\u001b[0m \u001b[0;34m\"아니라\"\u001b[0m\u001b[0;34m,\u001b[0m \u001b[0;34m\"만이\"\u001b[0m\u001b[0;34m,\u001b[0m \u001b[0;34m\"아니다\"\u001b[0m\u001b[0;34m,\u001b[0m \u001b[0;34m\"만은\"\u001b[0m\u001b[0;34m,\u001b[0m \u001b[0;34m\"아니다\"\u001b[0m\u001b[0;34m,\u001b[0m \u001b[0;34m\"막론하고\"\u001b[0m\u001b[0;34m,\u001b[0m \u001b[0;34m\"관계없이\"\u001b[0m\u001b[0;34m,\u001b[0m \u001b[0;34m\"그치지\"\u001b[0m\u001b[0;34m,\u001b[0m \u001b[0;34m\"않다\"\u001b[0m\u001b[0;34m,\u001b[0m \u001b[0;34m\"그러나\"\u001b[0m\u001b[0;34m,\u001b[0m \u001b[0;34m\"그런데\"\u001b[0m\u001b[0;34m,\u001b[0m \u001b[0;34m\"하지만\"\u001b[0m\u001b[0;34m,\u001b[0m \u001b[0;34m\"든간에\"\u001b[0m\u001b[0;34m,\u001b[0m \u001b[0;34m\"논하지\"\u001b[0m\u001b[0;34m,\u001b[0m \u001b[0;34m\"않다\"\u001b[0m\u001b[0;34m,\u001b[0m \u001b[0;34m\"따지지\"\u001b[0m\u001b[0;34m,\u001b[0m \u001b[0;34m\"않다\"\u001b[0m\u001b[0;34m,\u001b[0m \u001b[0;34m\"설사\"\u001b[0m\u001b[0;34m,\u001b[0m \u001b[0;34m\"비록\"\u001b[0m\u001b[0;34m,\u001b[0m \u001b[0;34m\"더라도\"\u001b[0m\u001b[0;34m,\u001b[0m \u001b[0;34m\"아니면\"\u001b[0m\u001b[0;34m,\u001b[0m \u001b[0;34m\"만\"\u001b[0m\u001b[0;34m,\u001b[0m \u001b[0;34m\"못하다\"\u001b[0m\u001b[0;34m,\u001b[0m \u001b[0;34m\"하는\"\u001b[0m\u001b[0;34m,\u001b[0m \u001b[0;34m\"편이\"\u001b[0m\u001b[0;34m,\u001b[0m \u001b[0;34m\"낫다\"\u001b[0m\u001b[0;34m,\u001b[0m \u001b[0;34m\"불문하고\"\u001b[0m\u001b[0;34m,\u001b[0m \u001b[0;34m\"향하여\"\u001b[0m\u001b[0;34m,\u001b[0m \u001b[0;34m\"향해서\"\u001b[0m\u001b[0;34m,\u001b[0m \u001b[0;34m\"향하다\"\u001b[0m\u001b[0;34m,\u001b[0m \u001b[0;34m\"쪽으로\"\u001b[0m\u001b[0;34m,\u001b[0m \u001b[0;34m\"틈타\"\u001b[0m\u001b[0;34m,\u001b[0m \u001b[0;34m\"이용하여\"\u001b[0m\u001b[0;34m,\u001b[0m \u001b[0;34m\"타다\"\u001b[0m\u001b[0;34m,\u001b[0m \u001b[0;34m\"오르다\"\u001b[0m\u001b[0;34m,\u001b[0m \u001b[0;34m\"제외하고\"\u001b[0m\u001b[0;34m,\u001b[0m \u001b[0;34m\"이\"\u001b[0m\u001b[0;34m,\u001b[0m \u001b[0;34m\"외에\"\u001b[0m\u001b[0;34m,\u001b[0m \u001b[0;34m\"이\"\u001b[0m\u001b[0;34m,\u001b[0m \u001b[0;34m\"밖에\"\u001b[0m\u001b[0;34m,\u001b[0m \u001b[0;34m\"하여야\"\u001b[0m\u001b[0;34m,\u001b[0m \u001b[0;34m\"비로소\"\u001b[0m\u001b[0;34m,\u001b[0m \u001b[0;34m\"한다면\"\u001b[0m\u001b[0;34m,\u001b[0m \u001b[0;34m\"몰라도\"\u001b[0m\u001b[0;34m,\u001b[0m \u001b[0;34m\"외에도\"\u001b[0m\u001b[0;34m,\u001b[0m \u001b[0;34m\"이곳\"\u001b[0m\u001b[0;34m,\u001b[0m \u001b[0;34m\"여기\"\u001b[0m\u001b[0;34m,\u001b[0m \u001b[0;34m\"부터\"\u001b[0m\u001b[0;34m,\u001b[0m \u001b[0;34m\"기점으로\"\u001b[0m\u001b[0;34m,\u001b[0m \u001b[0;34m\"따라서\"\u001b[0m\u001b[0;34m,\u001b[0m \u001b[0;34m\"할\"\u001b[0m\u001b[0;34m,\u001b[0m \u001b[0;34m\"생각이다\"\u001b[0m\u001b[0;34m,\u001b[0m \u001b[0;34m\"하려고하다\"\u001b[0m\u001b[0;34m,\u001b[0m \u001b[0;34m\"이리하여\"\u001b[0m\u001b[0;34m,\u001b[0m \u001b[0;34m\"그리하여\"\u001b[0m\u001b[0;34m,\u001b[0m \u001b[0;34m\"그렇게\"\u001b[0m\u001b[0;34m,\u001b[0m \u001b[0;34m\"함으로써\"\u001b[0m\u001b[0;34m,\u001b[0m \u001b[0;34m\"하지만\"\u001b[0m\u001b[0;34m,\u001b[0m \u001b[0;34m\"일때\"\u001b[0m\u001b[0;34m,\u001b[0m \u001b[0;34m\"할때\"\u001b[0m\u001b[0;34m,\u001b[0m \u001b[0;34m\"앞에서\"\u001b[0m\u001b[0;34m,\u001b[0m \u001b[0;34m\"중에서\"\u001b[0m\u001b[0;34m,\u001b[0m \u001b[0;34m\"보는데서\"\u001b[0m\u001b[0;34m,\u001b[0m \u001b[0;34m\"으로써\"\u001b[0m\u001b[0;34m,\u001b[0m \u001b[0;34m\"로써\"\u001b[0m\u001b[0;34m,\u001b[0m \u001b[0;34m\"까지\"\u001b[0m\u001b[0;34m,\u001b[0m \u001b[0;34m\"해야한다\"\u001b[0m\u001b[0;34m,\u001b[0m \u001b[0;34m\"일것이다\"\u001b[0m\u001b[0;34m,\u001b[0m \u001b[0;34m\"반드시\"\u001b[0m\u001b[0;34m,\u001b[0m \u001b[0;34m\"할줄알다\"\u001b[0m\u001b[0;34m,\u001b[0m \u001b[0;34m\"할수있다\"\u001b[0m\u001b[0;34m,\u001b[0m \u001b[0;34m\"할수있어\"\u001b[0m\u001b[0;34m,\u001b[0m \u001b[0;34m\"임에\"\u001b[0m\u001b[0;34m,\u001b[0m \u001b[0;34m\"틀림없다\"\u001b[0m\u001b[0;34m,\u001b[0m \u001b[0;34m\"한다면\"\u001b[0m\u001b[0;34m,\u001b[0m \u001b[0;34m\"등\"\u001b[0m\u001b[0;34m,\u001b[0m \u001b[0;34m\"등등\"\u001b[0m\u001b[0;34m,\u001b[0m \u001b[0;34m\"제\"\u001b[0m\u001b[0;34m,\u001b[0m \u001b[0;34m\"겨우\"\u001b[0m\u001b[0;34m,\u001b[0m \u001b[0;34m\"단지\"\u001b[0m\u001b[0;34m,\u001b[0m \u001b[0;34m\"다만\"\u001b[0m\u001b[0;34m,\u001b[0m \u001b[0;34m\"할뿐\"\u001b[0m\u001b[0;34m,\u001b[0m \u001b[0;34m\"딩동\"\u001b[0m\u001b[0;34m,\u001b[0m \u001b[0;34m\"댕그\"\u001b[0m\u001b[0;34m,\u001b[0m \u001b[0;34m\"대해서\"\u001b[0m\u001b[0;34m,\u001b[0m \u001b[0;34m\"대하여\"\u001b[0m\u001b[0;34m,\u001b[0m \u001b[0;34m\"대하면\"\u001b[0m\u001b[0;34m,\u001b[0m \u001b[0;34m\"훨씬\"\u001b[0m\u001b[0;34m,\u001b[0m \u001b[0;34m\"얼마나\"\u001b[0m\u001b[0;34m,\u001b[0m \u001b[0;34m\"얼마만큼\"\u001b[0m\u001b[0;34m,\u001b[0m \u001b[0;34m\"얼마큼\"\u001b[0m\u001b[0;34m,\u001b[0m \u001b[0;34m\"남짓\"\u001b[0m\u001b[0;34m,\u001b[0m \u001b[0;34m\"여\"\u001b[0m\u001b[0;34m,\u001b[0m \u001b[0;34m\"얼마간\"\u001b[0m\u001b[0;34m,\u001b[0m \u001b[0;34m\"약간\"\u001b[0m\u001b[0;34m,\u001b[0m \u001b[0;34m\"다소\"\u001b[0m\u001b[0;34m,\u001b[0m \u001b[0;34m\"좀\"\u001b[0m\u001b[0;34m,\u001b[0m \u001b[0;34m\"조금\"\u001b[0m\u001b[0;34m,\u001b[0m \u001b[0;34m\"다수\"\u001b[0m\u001b[0;34m,\u001b[0m \u001b[0;34m\"몇\"\u001b[0m\u001b[0;34m,\u001b[0m \u001b[0;34m\"얼마\"\u001b[0m\u001b[0;34m,\u001b[0m \u001b[0;34m\"지만\"\u001b[0m\u001b[0;34m,\u001b[0m \u001b[0;34m\"하물며\"\u001b[0m\u001b[0;34m,\u001b[0m \u001b[0;34m\"또한\"\u001b[0m\u001b[0;34m,\u001b[0m \u001b[0;34m\"그러나\"\u001b[0m\u001b[0;34m,\u001b[0m \u001b[0;34m\"그렇지만\"\u001b[0m\u001b[0;34m,\u001b[0m \u001b[0;34m\"하지만\"\u001b[0m\u001b[0;34m,\u001b[0m \u001b[0;34m\"이외에도\"\u001b[0m\u001b[0;34m,\u001b[0m \u001b[0;34m\"대해\"\u001b[0m\u001b[0;34m,\u001b[0m \u001b[0;34m\"말하자면\"\u001b[0m\u001b[0;34m,\u001b[0m \u001b[0;34m\"뿐이다\"\u001b[0m\u001b[0;34m,\u001b[0m \u001b[0;34m\"다음에\"\u001b[0m\u001b[0;34m,\u001b[0m \u001b[0;34m\"반대로\"\u001b[0m\u001b[0;34m,\u001b[0m \u001b[0;34m\"반대로\"\u001b[0m\u001b[0;34m,\u001b[0m \u001b[0;34m\"말하자면\"\u001b[0m\u001b[0;34m,\u001b[0m \u001b[0;34m\"이와\"\u001b[0m\u001b[0;34m,\u001b[0m \u001b[0;34m\"반대로\"\u001b[0m\u001b[0;34m,\u001b[0m \u001b[0;34m\"바꾸어서\"\u001b[0m\u001b[0;34m,\u001b[0m \u001b[0;34m\"말하면\"\u001b[0m\u001b[0;34m,\u001b[0m \u001b[0;34m\"바꾸어서\"\u001b[0m\u001b[0;34m,\u001b[0m \u001b[0;34m\"한다면\"\u001b[0m\u001b[0;34m,\u001b[0m \u001b[0;34m\"만약\"\u001b[0m\u001b[0;34m,\u001b[0m \u001b[0;34m\"그렇지않으면\"\u001b[0m\u001b[0;34m,\u001b[0m \u001b[0;34m\"까악\"\u001b[0m\u001b[0;34m,\u001b[0m \u001b[0;34m\"툭\"\u001b[0m\u001b[0;34m,\u001b[0m \u001b[0;34m\"딱\"\u001b[0m\u001b[0;34m,\u001b[0m \u001b[0;34m\"삐걱거리다\"\u001b[0m\u001b[0;34m,\u001b[0m \u001b[0;34m\"보드득\"\u001b[0m\u001b[0;34m,\u001b[0m \u001b[0;34m\"비걱거리다\"\u001b[0m\u001b[0;34m,\u001b[0m \u001b[0;34m\"꽈당\"\u001b[0m\u001b[0;34m,\u001b[0m \u001b[0;34m\"응당\"\u001b[0m\u001b[0;34m,\u001b[0m \u001b[0;34m\"해야한다\"\u001b[0m\u001b[0;34m,\u001b[0m \u001b[0;34m\"에\"\u001b[0m\u001b[0;34m,\u001b[0m \u001b[0;34m\"가서\"\u001b[0m\u001b[0;34m,\u001b[0m \u001b[0;34m\"각\"\u001b[0m\u001b[0;34m,\u001b[0m \u001b[0;34m\"각각\"\u001b[0m\u001b[0;34m,\u001b[0m \u001b[0;34m\"여러분\"\u001b[0m\u001b[0;34m,\u001b[0m \u001b[0;34m\"각종\"\u001b[0m\u001b[0;34m,\u001b[0m \u001b[0;34m\"각자\"\u001b[0m\u001b[0;34m,\u001b[0m \u001b[0;34m\"제각기\"\u001b[0m\u001b[0;34m,\u001b[0m \u001b[0;34m\"하도록하다\"\u001b[0m\u001b[0;34m,\u001b[0m \u001b[0;34m\"와\"\u001b[0m\u001b[0;34m,\u001b[0m \u001b[0;34m\"과\"\u001b[0m\u001b[0;34m,\u001b[0m \u001b[0;34m\"그러므로\"\u001b[0m\u001b[0;34m,\u001b[0m \u001b[0;34m\"그래서\"\u001b[0m\u001b[0;34m,\u001b[0m \u001b[0;34m\"고로\"\u001b[0m\u001b[0;34m,\u001b[0m \u001b[0;34m\"한\"\u001b[0m\u001b[0;34m,\u001b[0m \u001b[0;34m\"까닭에\"\u001b[0m\u001b[0;34m,\u001b[0m \u001b[0;34m\"하기\"\u001b[0m\u001b[0;34m,\u001b[0m \u001b[0;34m\"때문에\"\u001b[0m\u001b[0;34m,\u001b[0m \u001b[0;34m\"거니와\"\u001b[0m\u001b[0;34m,\u001b[0m \u001b[0;34m\"이지만\"\u001b[0m\u001b[0;34m,\u001b[0m \u001b[0;34m\"대하여\"\u001b[0m\u001b[0;34m,\u001b[0m \u001b[0;34m\"관하여\"\u001b[0m\u001b[0;34m,\u001b[0m \u001b[0;34m\"관한\"\u001b[0m\u001b[0;34m,\u001b[0m \u001b[0;34m\"과연\"\u001b[0m\u001b[0;34m,\u001b[0m \u001b[0;34m\"실로\"\u001b[0m\u001b[0;34m,\u001b[0m \u001b[0;34m\"아니나다를가\"\u001b[0m\u001b[0;34m,\u001b[0m \u001b[0;34m\"생각한대로\"\u001b[0m\u001b[0;34m,\u001b[0m \u001b[0;34m\"진짜로\"\u001b[0m\u001b[0;34m,\u001b[0m \u001b[0;34m\"한적이있다\"\u001b[0m\u001b[0;34m,\u001b[0m \u001b[0;34m\"하곤하였다\"\u001b[0m\u001b[0;34m,\u001b[0m \u001b[0;34m\"하\"\u001b[0m\u001b[0;34m,\u001b[0m \u001b[0;34m\"하하\"\u001b[0m\u001b[0;34m,\u001b[0m \u001b[0;34m\"허허\"\u001b[0m\u001b[0;34m,\u001b[0m \u001b[0;34m\"아하\"\u001b[0m\u001b[0;34m,\u001b[0m \u001b[0;34m\"거바\"\u001b[0m\u001b[0;34m,\u001b[0m \u001b[0;34m\"와\"\u001b[0m\u001b[0;34m,\u001b[0m \u001b[0;34m\"오\"\u001b[0m\u001b[0;34m,\u001b[0m \u001b[0;34m\"왜\"\u001b[0m\u001b[0;34m,\u001b[0m \u001b[0;34m\"어째서\"\u001b[0m\u001b[0;34m,\u001b[0m \u001b[0;34m\"무엇때문에\"\u001b[0m\u001b[0;34m,\u001b[0m \u001b[0;34m\"어찌\"\u001b[0m\u001b[0;34m,\u001b[0m \u001b[0;34m\"하겠는가\"\u001b[0m\u001b[0;34m,\u001b[0m \u001b[0;34m\"무슨\"\u001b[0m\u001b[0;34m,\u001b[0m \u001b[0;34m\"어디\"\u001b[0m\u001b[0;34m,\u001b[0m \u001b[0;34m\"어느곳\"\u001b[0m\u001b[0;34m,\u001b[0m \u001b[0;34m\"더군다나\"\u001b[0m\u001b[0;34m,\u001b[0m \u001b[0;34m\"하물며\"\u001b[0m\u001b[0;34m,\u001b[0m \u001b[0;34m\"더욱이는\"\u001b[0m\u001b[0;34m,\u001b[0m \u001b[0;34m\"어느때\"\u001b[0m\u001b[0;34m,\u001b[0m \u001b[0;34m\"언제\"\u001b[0m\u001b[0;34m,\u001b[0m \u001b[0;34m\"야\"\u001b[0m\u001b[0;34m,\u001b[0m \u001b[0;34m\"이봐\"\u001b[0m\u001b[0;34m,\u001b[0m \u001b[0;34m\"어이\"\u001b[0m\u001b[0;34m,\u001b[0m \u001b[0;34m\"여보시오\"\u001b[0m\u001b[0;34m,\u001b[0m \u001b[0;34m\"흐흐\"\u001b[0m\u001b[0;34m,\u001b[0m \u001b[0;34m\"흥\"\u001b[0m\u001b[0;34m,\u001b[0m \u001b[0;34m\"휴\"\u001b[0m\u001b[0;34m,\u001b[0m \u001b[0;34m\"헉헉\"\u001b[0m\u001b[0;34m,\u001b[0m \u001b[0;34m\"헐떡헐떡\"\u001b[0m\u001b[0;34m,\u001b[0m \u001b[0;34m\"영차\"\u001b[0m\u001b[0;34m,\u001b[0m \u001b[0;34m\"여차\"\u001b[0m\u001b[0;34m,\u001b[0m \u001b[0;34m\"어기여차\"\u001b[0m\u001b[0;34m,\u001b[0m \u001b[0;34m\"끙끙\"\u001b[0m\u001b[0;34m,\u001b[0m \u001b[0;34m\"아야\"\u001b[0m\u001b[0;34m,\u001b[0m \u001b[0;34m\"앗\"\u001b[0m\u001b[0;34m,\u001b[0m \u001b[0;34m\"아야\"\u001b[0m\u001b[0;34m,\u001b[0m \u001b[0;34m\"콸콸\"\u001b[0m\u001b[0;34m,\u001b[0m \u001b[0;34m\"졸졸\"\u001b[0m\u001b[0;34m,\u001b[0m \u001b[0;34m\"좍좍\"\u001b[0m\u001b[0;34m,\u001b[0m \u001b[0;34m\"뚝뚝\"\u001b[0m\u001b[0;34m,\u001b[0m \u001b[0;34m\"주룩주룩\"\u001b[0m\u001b[0;34m,\u001b[0m \u001b[0;34m\"솨\"\u001b[0m\u001b[0;34m,\u001b[0m \u001b[0;34m\"우르르\"\u001b[0m\u001b[0;34m,\u001b[0m \u001b[0;34m\"그래도\"\u001b[0m\u001b[0;34m,\u001b[0m \u001b[0;34m\"또\"\u001b[0m\u001b[0;34m,\u001b[0m \u001b[0;34m\"그리고\"\u001b[0m\u001b[0;34m,\u001b[0m \u001b[0;34m\"바꾸어말하면\"\u001b[0m\u001b[0;34m,\u001b[0m \u001b[0;34m\"바꾸어말하자면\"\u001b[0m\u001b[0;34m,\u001b[0m \u001b[0;34m\"혹은\"\u001b[0m\u001b[0;34m,\u001b[0m \u001b[0;34m\"혹시\"\u001b[0m\u001b[0;34m,\u001b[0m \u001b[0;34m\"답다\"\u001b[0m\u001b[0;34m,\u001b[0m \u001b[0;34m\"및\"\u001b[0m\u001b[0;34m,\u001b[0m \u001b[0;34m\"그에\"\u001b[0m\u001b[0;34m,\u001b[0m \u001b[0;34m\"따르는\"\u001b[0m\u001b[0;34m,\u001b[0m \u001b[0;34m\"때가\"\u001b[0m\u001b[0;34m,\u001b[0m \u001b[0;34m\"되어\"\u001b[0m\u001b[0;34m,\u001b[0m \u001b[0;34m\"즉\"\u001b[0m\u001b[0;34m,\u001b[0m \u001b[0;34m\"지든지\"\u001b[0m\u001b[0;34m,\u001b[0m \u001b[0;34m\"설령\"\u001b[0m\u001b[0;34m,\u001b[0m \u001b[0;34m\"가령\"\u001b[0m\u001b[0;34m,\u001b[0m \u001b[0;34m\"하더라도\"\u001b[0m\u001b[0;34m,\u001b[0m \u001b[0;34m\"할지라도\"\u001b[0m\u001b[0;34m,\u001b[0m \u001b[0;34m\"일지라도\"\u001b[0m\u001b[0;34m,\u001b[0m \u001b[0;34m\"지든지\"\u001b[0m\u001b[0;34m,\u001b[0m \u001b[0;34m\"몇\"\u001b[0m\u001b[0;34m,\u001b[0m \u001b[0;34m\"거의\"\u001b[0m\u001b[0;34m,\u001b[0m \u001b[0;34m\"하마터면\"\u001b[0m\u001b[0;34m,\u001b[0m \u001b[0;34m\"인젠\"\u001b[0m\u001b[0;34m,\u001b[0m \u001b[0;34m\"이젠\"\u001b[0m\u001b[0;34m,\u001b[0m \u001b[0;34m\"된바에야\"\u001b[0m\u001b[0;34m,\u001b[0m \u001b[0;34m\"된이상\"\u001b[0m\u001b[0;34m,\u001b[0m \u001b[0;34m\"만큼 어찌됏든\"\u001b[0m\u001b[0;34m,\u001b[0m \u001b[0;34m\"그위에\"\u001b[0m\u001b[0;34m,\u001b[0m \u001b[0;34m\"게다가\"\u001b[0m\u001b[0;34m,\u001b[0m \u001b[0;34m\"점에서\"\u001b[0m\u001b[0;34m,\u001b[0m \u001b[0;34m\"보아\"\u001b[0m\u001b[0;34m,\u001b[0m \u001b[0;34m\"비추어\"\u001b[0m\u001b[0;34m,\u001b[0m \u001b[0;34m\"보아\"\u001b[0m\u001b[0;34m,\u001b[0m \u001b[0;34m\"고려하면\"\u001b[0m\u001b[0;34m,\u001b[0m \u001b[0;34m\"하게될것이다\"\u001b[0m\u001b[0;34m,\u001b[0m \u001b[0;34m\"일것이다\"\u001b[0m\u001b[0;34m,\u001b[0m \u001b[0;34m\"비교적\"\u001b[0m\u001b[0;34m,\u001b[0m \u001b[0;34m\"좀\"\u001b[0m\u001b[0;34m,\u001b[0m \u001b[0;34m\"보다더\"\u001b[0m\u001b[0;34m,\u001b[0m \u001b[0;34m\"비하면\"\u001b[0m\u001b[0;34m,\u001b[0m \u001b[0;34m\"시키다\"\u001b[0m\u001b[0;34m,\u001b[0m \u001b[0;34m\"하게하다\"\u001b[0m\u001b[0;34m,\u001b[0m \u001b[0;34m\"할만하다\"\u001b[0m\u001b[0;34m,\u001b[0m \u001b[0;34m\"의해서\"\u001b[0m\u001b[0;34m,\u001b[0m \u001b[0;34m\"연이서\"\u001b[0m\u001b[0;34m,\u001b[0m \u001b[0;34m\"이어서\"\u001b[0m\u001b[0;34m,\u001b[0m \u001b[0;34m\"잇따라\"\u001b[0m\u001b[0;34m,\u001b[0m \u001b[0;34m\"뒤따라\"\u001b[0m\u001b[0;34m,\u001b[0m \u001b[0;34m\"뒤이어\"\u001b[0m\u001b[0;34m,\u001b[0m \u001b[0;34m\"결국\"\u001b[0m\u001b[0;34m,\u001b[0m \u001b[0;34m\"의지하여\"\u001b[0m\u001b[0;34m,\u001b[0m \u001b[0;34m\"기대여\"\u001b[0m\u001b[0;34m,\u001b[0m \u001b[0;34m\"통하여\"\u001b[0m\u001b[0;34m,\u001b[0m \u001b[0;34m\"자마자\"\u001b[0m\u001b[0;34m,\u001b[0m \u001b[0;34m\"더욱더\"\u001b[0m\u001b[0;34m,\u001b[0m \u001b[0;34m\"불구하고\"\u001b[0m\u001b[0;34m,\u001b[0m \u001b[0;34m\"얼마든지\"\u001b[0m\u001b[0;34m,\u001b[0m \u001b[0;34m\"마음대로\"\u001b[0m\u001b[0;34m,\u001b[0m \u001b[0;34m\"주저하지\"\u001b[0m\u001b[0;34m,\u001b[0m \u001b[0;34m\"않고\"\u001b[0m\u001b[0;34m,\u001b[0m \u001b[0;34m\"곧\"\u001b[0m\u001b[0;34m,\u001b[0m \u001b[0;34m\"즉시\"\u001b[0m\u001b[0;34m,\u001b[0m \u001b[0;34m\"바로\"\u001b[0m\u001b[0;34m,\u001b[0m \u001b[0;34m\"당장\"\u001b[0m\u001b[0;34m,\u001b[0m \u001b[0;34m\"하자마자\"\u001b[0m\u001b[0;34m,\u001b[0m \u001b[0;34m\"밖에\"\u001b[0m\u001b[0;34m,\u001b[0m \u001b[0;34m\"안된다\"\u001b[0m\u001b[0;34m,\u001b[0m \u001b[0;34m\"하면된다\"\u001b[0m\u001b[0;34m,\u001b[0m \u001b[0;34m\"그래\"\u001b[0m\u001b[0;34m,\u001b[0m \u001b[0;34m\"그렇지\"\u001b[0m\u001b[0;34m,\u001b[0m \u001b[0;34m\"요컨대\"\u001b[0m\u001b[0;34m,\u001b[0m \u001b[0;34m\"다시\"\u001b[0m\u001b[0;34m,\u001b[0m \u001b[0;34m\"말하자면\"\u001b[0m\u001b[0;34m,\u001b[0m \u001b[0;34m\"바꿔\"\u001b[0m\u001b[0;34m,\u001b[0m \u001b[0;34m\"말하면\"\u001b[0m\u001b[0;34m,\u001b[0m \u001b[0;34m\"즉\"\u001b[0m\u001b[0;34m,\u001b[0m \u001b[0;34m\"구체적으로\"\u001b[0m\u001b[0;34m,\u001b[0m \u001b[0;34m\"말하자면\"\u001b[0m\u001b[0;34m,\u001b[0m \u001b[0;34m\"시작하여\"\u001b[0m\u001b[0;34m,\u001b[0m \u001b[0;34m\"시초에\"\u001b[0m\u001b[0;34m,\u001b[0m \u001b[0;34m\"이상\"\u001b[0m\u001b[0;34m,\u001b[0m \u001b[0;34m\"허\"\u001b[0m\u001b[0;34m,\u001b[0m \u001b[0;34m\"헉\"\u001b[0m\u001b[0;34m,\u001b[0m \u001b[0;34m\"허걱\"\u001b[0m\u001b[0;34m,\u001b[0m \u001b[0;34m\"바와같이\"\u001b[0m\u001b[0;34m,\u001b[0m \u001b[0;34m\"해도좋다\"\u001b[0m\u001b[0;34m,\u001b[0m \u001b[0;34m\"해도된다\"\u001b[0m\u001b[0;34m,\u001b[0m \u001b[0;34m\"게다가\"\u001b[0m\u001b[0;34m,\u001b[0m \u001b[0;34m\"더구나\"\u001b[0m\u001b[0;34m,\u001b[0m \u001b[0;34m\"하물며\"\u001b[0m\u001b[0;34m,\u001b[0m \u001b[0;34m\"와르르\"\u001b[0m\u001b[0;34m,\u001b[0m \u001b[0;34m\"팍\"\u001b[0m\u001b[0;34m,\u001b[0m \u001b[0;34m\"퍽\"\u001b[0m\u001b[0;34m,\u001b[0m \u001b[0;34m\"펄렁\"\u001b[0m\u001b[0;34m,\u001b[0m \u001b[0;34m\"동안\"\u001b[0m\u001b[0;34m,\u001b[0m \u001b[0;34m\"이래\"\u001b[0m\u001b[0;34m,\u001b[0m \u001b[0;34m\"하고있었다\"\u001b[0m\u001b[0;34m,\u001b[0m \u001b[0;34m\"이었다\"\u001b[0m\u001b[0;34m,\u001b[0m \u001b[0;34m\"에서\"\u001b[0m\u001b[0;34m,\u001b[0m \u001b[0;34m\"로부터\"\u001b[0m\u001b[0;34m,\u001b[0m \u001b[0;34m\"까지\"\u001b[0m\u001b[0;34m,\u001b[0m \u001b[0;34m\"예하면\"\u001b[0m\u001b[0;34m,\u001b[0m \u001b[0;34m\"했어요\"\u001b[0m\u001b[0;34m,\u001b[0m \u001b[0;34m\"해요\"\u001b[0m\u001b[0;34m,\u001b[0m \u001b[0;34m\"함께\"\u001b[0m\u001b[0;34m,\u001b[0m \u001b[0;34m\"같이\"\u001b[0m\u001b[0;34m,\u001b[0m \u001b[0;34m\"더불어\"\u001b[0m\u001b[0;34m,\u001b[0m \u001b[0;34m\"마저\"\u001b[0m\u001b[0;34m,\u001b[0m \u001b[0;34m\"마저도\"\u001b[0m\u001b[0;34m,\u001b[0m \u001b[0;34m\"양자\"\u001b[0m\u001b[0;34m,\u001b[0m \u001b[0;34m\"모두\"\u001b[0m\u001b[0;34m,\u001b[0m \u001b[0;34m\"습니다\"\u001b[0m\u001b[0;34m,\u001b[0m \u001b[0;34m\"가까스로\"\u001b[0m\u001b[0;34m,\u001b[0m \u001b[0;34m\"하려고하다\"\u001b[0m\u001b[0;34m,\u001b[0m \u001b[0;34m\"즈음하여\"\u001b[0m\u001b[0;34m,\u001b[0m \u001b[0;34m\"다른\"\u001b[0m\u001b[0;34m,\u001b[0m \u001b[0;34m\"다른\"\u001b[0m\u001b[0;34m,\u001b[0m \u001b[0;34m\"방면으로\"\u001b[0m\u001b[0;34m,\u001b[0m \u001b[0;34m\"해봐요\"\u001b[0m\u001b[0;34m,\u001b[0m \u001b[0;34m\"습니까\"\u001b[0m\u001b[0;34m,\u001b[0m \u001b[0;34m\"했어요\"\u001b[0m\u001b[0;34m,\u001b[0m \u001b[0;34m\"말할것도\"\u001b[0m\u001b[0;34m,\u001b[0m \u001b[0;34m\"없고\"\u001b[0m\u001b[0;34m,\u001b[0m \u001b[0;34m\"무릎쓰고\"\u001b[0m\u001b[0;34m,\u001b[0m \u001b[0;34m\"개의치않고\"\u001b[0m\u001b[0;34m,\u001b[0m \u001b[0;34m\"하는것만\"\u001b[0m\u001b[0;34m,\u001b[0m \u001b[0;34m\"못하다\"\u001b[0m\u001b[0;34m,\u001b[0m \u001b[0;34m\"하는것이\"\u001b[0m\u001b[0;34m,\u001b[0m \u001b[0;34m\"낫다\"\u001b[0m\u001b[0;34m,\u001b[0m \u001b[0;34m\"매\"\u001b[0m\u001b[0;34m,\u001b[0m \u001b[0;34m\"매번\"\u001b[0m\u001b[0;34m,\u001b[0m \u001b[0;34m\"들\"\u001b[0m\u001b[0;34m,\u001b[0m \u001b[0;34m\"모\"\u001b[0m\u001b[0;34m,\u001b[0m \u001b[0;34m\"어느것\"\u001b[0m\u001b[0;34m,\u001b[0m \u001b[0;34m\"어느\"\u001b[0m\u001b[0;34m,\u001b[0m \u001b[0;34m\"로써\"\u001b[0m\u001b[0;34m,\u001b[0m \u001b[0;34m\"갖고말하자면\"\u001b[0m\u001b[0;34m,\u001b[0m \u001b[0;34m\"어디\"\u001b[0m\u001b[0;34m,\u001b[0m \u001b[0;34m\"어느쪽\"\u001b[0m\u001b[0;34m,\u001b[0m \u001b[0;34m\"어느것\"\u001b[0m\u001b[0;34m,\u001b[0m \u001b[0;34m\"어느해\"\u001b[0m\u001b[0;34m,\u001b[0m \u001b[0;34m\"어느\"\u001b[0m\u001b[0;34m,\u001b[0m \u001b[0;34m\"년도\"\u001b[0m\u001b[0;34m,\u001b[0m \u001b[0;34m\"라\"\u001b[0m\u001b[0;34m,\u001b[0m \u001b[0;34m\"해도\"\u001b[0m\u001b[0;34m,\u001b[0m \u001b[0;34m\"언젠가\"\u001b[0m\u001b[0;34m,\u001b[0m \u001b[0;34m\"어떤것\"\u001b[0m\u001b[0;34m,\u001b[0m \u001b[0;34m\"어느것\"\u001b[0m\u001b[0;34m,\u001b[0m \u001b[0;34m\"저기\"\u001b[0m\u001b[0;34m,\u001b[0m \u001b[0;34m\"저쪽\"\u001b[0m\u001b[0;34m,\u001b[0m \u001b[0;34m\"저것\"\u001b[0m\u001b[0;34m,\u001b[0m \u001b[0;34m\"그때\"\u001b[0m\u001b[0;34m,\u001b[0m \u001b[0;34m\"그럼\"\u001b[0m\u001b[0;34m,\u001b[0m \u001b[0;34m\"그러면\"\u001b[0m\u001b[0;34m,\u001b[0m \u001b[0;34m\"요만한걸\"\u001b[0m\u001b[0;34m,\u001b[0m \u001b[0;34m\"그래\"\u001b[0m\u001b[0;34m,\u001b[0m \u001b[0;34m\"그때\"\u001b[0m\u001b[0;34m,\u001b[0m \u001b[0;34m\"저것만큼\"\u001b[0m\u001b[0;34m,\u001b[0m \u001b[0;34m\"그저\"\u001b[0m\u001b[0;34m,\u001b[0m \u001b[0;34m\"이르기까지\"\u001b[0m\u001b[0;34m,\u001b[0m \u001b[0;34m\"할\"\u001b[0m\u001b[0;34m,\u001b[0m \u001b[0;34m\"줄\"\u001b[0m\u001b[0;34m,\u001b[0m \u001b[0;34m\"안다\"\u001b[0m\u001b[0;34m,\u001b[0m \u001b[0;34m\"할\"\u001b[0m\u001b[0;34m,\u001b[0m \u001b[0;34m\"힘이\"\u001b[0m\u001b[0;34m,\u001b[0m \u001b[0;34m\"있다\"\u001b[0m\u001b[0;34m,\u001b[0m \u001b[0;34m\"너\"\u001b[0m\u001b[0;34m,\u001b[0m \u001b[0;34m\"너희\"\u001b[0m\u001b[0;34m,\u001b[0m \u001b[0;34m\"당신\"\u001b[0m\u001b[0;34m,\u001b[0m \u001b[0;34m\"어찌\"\u001b[0m\u001b[0;34m,\u001b[0m \u001b[0;34m\"설마\"\u001b[0m\u001b[0;34m,\u001b[0m \u001b[0;34m\"차라리\"\u001b[0m\u001b[0;34m,\u001b[0m \u001b[0;34m\"할지언정\"\u001b[0m\u001b[0;34m,\u001b[0m \u001b[0;34m\"할지라도\"\u001b[0m\u001b[0;34m,\u001b[0m \u001b[0;34m\"할망정\"\u001b[0m\u001b[0;34m,\u001b[0m \u001b[0;34m\"할지언정\"\u001b[0m\u001b[0;34m,\u001b[0m \u001b[0;34m\"구토하다\"\u001b[0m\u001b[0;34m,\u001b[0m \u001b[0;34m\"게우다\"\u001b[0m\u001b[0;34m,\u001b[0m \u001b[0;34m\"토하다\"\u001b[0m\u001b[0;34m,\u001b[0m \u001b[0;34m\"메쓰겁다\"\u001b[0m\u001b[0;34m,\u001b[0m \u001b[0;34m\"옆사람\"\u001b[0m\u001b[0;34m,\u001b[0m \u001b[0;34m\"퉤\"\u001b[0m\u001b[0;34m,\u001b[0m \u001b[0;34m\"쳇\"\u001b[0m\u001b[0;34m,\u001b[0m \u001b[0;34m\"의거하여\"\u001b[0m\u001b[0;34m,\u001b[0m \u001b[0;34m\"근거하여\"\u001b[0m\u001b[0;34m,\u001b[0m \u001b[0;34m\"의해\"\u001b[0m\u001b[0;34m,\u001b[0m \u001b[0;34m\"따라\"\u001b[0m\u001b[0;34m,\u001b[0m \u001b[0;34m\"힘입어\"\u001b[0m\u001b[0;34m,\u001b[0m \u001b[0;34m\"그\"\u001b[0m\u001b[0;34m,\u001b[0m \u001b[0;34m\"다음\"\u001b[0m\u001b[0;34m,\u001b[0m \u001b[0;34m\"버금\"\u001b[0m\u001b[0;34m,\u001b[0m \u001b[0;34m\"두번째로\"\u001b[0m\u001b[0;34m,\u001b[0m \u001b[0;34m\"기타\"\u001b[0m\u001b[0;34m,\u001b[0m \u001b[0;34m\"첫번째로\"\u001b[0m\u001b[0;34m,\u001b[0m \u001b[0;34m\"나머지는\"\u001b[0m\u001b[0;34m,\u001b[0m \u001b[0;34m\"그중에서\"\u001b[0m\u001b[0;34m,\u001b[0m \u001b[0;34m\"견지에서\"\u001b[0m\u001b[0;34m,\u001b[0m \u001b[0;34m\"형식으로\"\u001b[0m\u001b[0;34m,\u001b[0m \u001b[0;34m\"쓰여\"\u001b[0m\u001b[0;34m,\u001b[0m \u001b[0;34m\"입장에서\"\u001b[0m\u001b[0;34m,\u001b[0m \u001b[0;34m\"위해서\"\u001b[0m\u001b[0;34m,\u001b[0m \u001b[0;34m\"단지\"\u001b[0m\u001b[0;34m,\u001b[0m \u001b[0;34m\"의해되다\"\u001b[0m\u001b[0;34m,\u001b[0m \u001b[0;34m\"하도록시키다\"\u001b[0m\u001b[0;34m,\u001b[0m \u001b[0;34m\"뿐만아니라\"\u001b[0m\u001b[0;34m,\u001b[0m \u001b[0;34m\"반대로\"\u001b[0m\u001b[0;34m,\u001b[0m \u001b[0;34m\"전후\"\u001b[0m\u001b[0;34m,\u001b[0m \u001b[0;34m\"전자\"\u001b[0m\u001b[0;34m,\u001b[0m \u001b[0;34m\"앞의것\"\u001b[0m\u001b[0;34m,\u001b[0m \u001b[0;34m\"잠시\"\u001b[0m\u001b[0;34m,\u001b[0m \u001b[0;34m\"잠깐\"\u001b[0m\u001b[0;34m,\u001b[0m \u001b[0;34m\"하면서\"\u001b[0m\u001b[0;34m,\u001b[0m \u001b[0;34m\"그렇지만\"\u001b[0m\u001b[0;34m,\u001b[0m \u001b[0;34m\"다음에\"\u001b[0m\u001b[0;34m,\u001b[0m \u001b[0;34m\"그러한즉\"\u001b[0m\u001b[0;34m,\u001b[0m \u001b[0;34m\"그런즉\"\u001b[0m\u001b[0;34m,\u001b[0m \u001b[0;34m\"남들\"\u001b[0m\u001b[0;34m,\u001b[0m \u001b[0;34m\"아무거나\"\u001b[0m\u001b[0;34m,\u001b[0m \u001b[0;34m\"어찌하든지\"\u001b[0m\u001b[0;34m,\u001b[0m \u001b[0;34m\"같다\"\u001b[0m\u001b[0;34m,\u001b[0m \u001b[0;34m\"비슷하다\"\u001b[0m\u001b[0;34m,\u001b[0m \u001b[0;34m\"예컨대\"\u001b[0m\u001b[0;34m,\u001b[0m \u001b[0;34m\"이럴정도로\"\u001b[0m\u001b[0;34m,\u001b[0m \u001b[0;34m\"어떻게\"\u001b[0m\u001b[0;34m,\u001b[0m \u001b[0;34m\"만약\"\u001b[0m\u001b[0;34m,\u001b[0m \u001b[0;34m\"만일\"\u001b[0m\u001b[0;34m,\u001b[0m \u001b[0;34m\"위에서\"\u001b[0m\u001b[0;34m,\u001b[0m \u001b[0;34m\"서술한바와같이\"\u001b[0m\u001b[0;34m,\u001b[0m \u001b[0;34m\"인\"\u001b[0m\u001b[0;34m,\u001b[0m \u001b[0;34m\"듯하다\"\u001b[0m\u001b[0;34m,\u001b[0m \u001b[0;34m\"하지\"\u001b[0m\u001b[0;34m,\u001b[0m \u001b[0;34m\"않는다면\"\u001b[0m\u001b[0;34m,\u001b[0m \u001b[0;34m\"만약에\"\u001b[0m\u001b[0;34m,\u001b[0m \u001b[0;34m\"무엇\"\u001b[0m\u001b[0;34m,\u001b[0m \u001b[0;34m\"무슨\"\u001b[0m\u001b[0;34m,\u001b[0m \u001b[0;34m\"어느\"\u001b[0m\u001b[0;34m,\u001b[0m \u001b[0;34m\"어떤\"\u001b[0m\u001b[0;34m,\u001b[0m \u001b[0;34m\"아래윗\"\u001b[0m\u001b[0;34m,\u001b[0m \u001b[0;34m\"조차\"\u001b[0m\u001b[0;34m,\u001b[0m \u001b[0;34m\"한데\"\u001b[0m\u001b[0;34m,\u001b[0m \u001b[0;34m\"그럼에도\"\u001b[0m\u001b[0;34m,\u001b[0m \u001b[0;34m\"불구하고\"\u001b[0m\u001b[0;34m,\u001b[0m \u001b[0;34m\"여전히\"\u001b[0m\u001b[0;34m,\u001b[0m \u001b[0;34m\"심지어\"\u001b[0m\u001b[0;34m,\u001b[0m \u001b[0;34m\"까지도\"\u001b[0m\u001b[0;34m,\u001b[0m \u001b[0;34m\"조차도\"\u001b[0m\u001b[0;34m,\u001b[0m \u001b[0;34m\"하지\"\u001b[0m\u001b[0;34m,\u001b[0m \u001b[0;34m\"않도록\"\u001b[0m\u001b[0;34m,\u001b[0m \u001b[0;34m\"않기\"\u001b[0m\u001b[0;34m,\u001b[0m \u001b[0;34m\"위하여\"\u001b[0m\u001b[0;34m,\u001b[0m \u001b[0;34m\"때\"\u001b[0m\u001b[0;34m,\u001b[0m \u001b[0;34m\"시각\"\u001b[0m\u001b[0;34m,\u001b[0m \u001b[0;34m\"무렵\"\u001b[0m\u001b[0;34m,\u001b[0m \u001b[0;34m\"시간\"\u001b[0m\u001b[0;34m,\u001b[0m \u001b[0;34m\"동안\"\u001b[0m\u001b[0;34m,\u001b[0m \u001b[0;34m\"어때\"\u001b[0m\u001b[0;34m,\u001b[0m \u001b[0;34m\"어떠한\"\u001b[0m\u001b[0;34m,\u001b[0m \u001b[0;34m\"하여금\"\u001b[0m\u001b[0;34m,\u001b[0m \u001b[0;34m\"네\"\u001b[0m\u001b[0;34m,\u001b[0m \u001b[0;34m\"예\"\u001b[0m\u001b[0;34m,\u001b[0m \u001b[0;34m\"우선\"\u001b[0m\u001b[0;34m,\u001b[0m \u001b[0;34m\"누구\"\u001b[0m\u001b[0;34m,\u001b[0m \u001b[0;34m\"누가\"\u001b[0m\u001b[0;34m,\u001b[0m \u001b[0;34m\"알겠는가\"\u001b[0m\u001b[0;34m,\u001b[0m \u001b[0;34m\"아무도\"\u001b[0m\u001b[0;34m,\u001b[0m \u001b[0;34m\"줄은모른다\"\u001b[0m\u001b[0;34m,\u001b[0m \u001b[0;34m\"줄은\"\u001b[0m\u001b[0;34m,\u001b[0m \u001b[0;34m\"몰랏다\"\u001b[0m\u001b[0;34m,\u001b[0m \u001b[0;34m\"하는\"\u001b[0m\u001b[0;34m,\u001b[0m \u001b[0;34m\"김에\"\u001b[0m\u001b[0;34m,\u001b[0m \u001b[0;34m\"겸사겸사\"\u001b[0m\u001b[0;34m,\u001b[0m \u001b[0;34m\"하는바\"\u001b[0m\u001b[0;34m,\u001b[0m \u001b[0;34m\"그런\"\u001b[0m\u001b[0;34m,\u001b[0m \u001b[0;34m\"까닭에\"\u001b[0m\u001b[0;34m,\u001b[0m \u001b[0;34m\"한\"\u001b[0m\u001b[0;34m,\u001b[0m \u001b[0;34m\"이유는\"\u001b[0m\u001b[0;34m,\u001b[0m \u001b[0;34m\"그러니\"\u001b[0m\u001b[0;34m,\u001b[0m \u001b[0;34m\"그러니까\"\u001b[0m\u001b[0;34m,\u001b[0m \u001b[0;34m\"때문에\"\u001b[0m\u001b[0;34m,\u001b[0m \u001b[0;34m\"그\"\u001b[0m\u001b[0;34m,\u001b[0m \u001b[0;34m\"너희\"\u001b[0m\u001b[0;34m,\u001b[0m \u001b[0;34m\"그들\"\u001b[0m\u001b[0;34m,\u001b[0m \u001b[0;34m\"너희들\"\u001b[0m\u001b[0;34m,\u001b[0m \u001b[0;34m\"타인\"\u001b[0m\u001b[0;34m,\u001b[0m \u001b[0;34m\"것\"\u001b[0m\u001b[0;34m,\u001b[0m \u001b[0;34m\"것들\"\u001b[0m\u001b[0;34m,\u001b[0m \u001b[0;34m\"너\"\u001b[0m\u001b[0;34m,\u001b[0m \u001b[0;34m\"위하여\"\u001b[0m\u001b[0;34m,\u001b[0m \u001b[0;34m\"공동으로\"\u001b[0m\u001b[0;34m,\u001b[0m \u001b[0;34m\"동시에\"\u001b[0m\u001b[0;34m,\u001b[0m \u001b[0;34m\"하기\"\u001b[0m\u001b[0;34m,\u001b[0m \u001b[0;34m\"위하여\"\u001b[0m\u001b[0;34m,\u001b[0m \u001b[0;34m\"어찌하여\"\u001b[0m\u001b[0;34m,\u001b[0m \u001b[0;34m\"무엇때문에\"\u001b[0m\u001b[0;34m,\u001b[0m \u001b[0;34m\"붕붕\"\u001b[0m\u001b[0;34m,\u001b[0m \u001b[0;34m\"윙윙\"\u001b[0m\u001b[0;34m,\u001b[0m \u001b[0;34m\"나\"\u001b[0m\u001b[0;34m,\u001b[0m \u001b[0;34m\"우리\"\u001b[0m\u001b[0;34m,\u001b[0m \u001b[0;34m\"엉엉\"\u001b[0m\u001b[0;34m,\u001b[0m \u001b[0;34m\"휘익\"\u001b[0m\u001b[0;34m,\u001b[0m \u001b[0;34m\"윙윙\"\u001b[0m\u001b[0;34m,\u001b[0m \u001b[0;34m\"오호\"\u001b[0m\u001b[0;34m,\u001b[0m \u001b[0;34m\"아하\"\u001b[0m\u001b[0;34m,\u001b[0m \u001b[0;34m\"어쨋든\"\u001b[0m\u001b[0;34m,\u001b[0m \u001b[0;34m\"만\"\u001b[0m\u001b[0;34m,\u001b[0m \u001b[0;34m\"못하다    하기보다는\"\u001b[0m\u001b[0;34m,\u001b[0m \u001b[0;34m\"차라리\"\u001b[0m\u001b[0;34m,\u001b[0m \u001b[0;34m\"하는\"\u001b[0m\u001b[0;34m,\u001b[0m \u001b[0;34m\"편이\"\u001b[0m\u001b[0;34m,\u001b[0m \u001b[0;34m\"낫다\"\u001b[0m\u001b[0;34m,\u001b[0m \u001b[0;34m\"흐흐\"\u001b[0m\u001b[0;34m,\u001b[0m \u001b[0;34m\"놀라다\"\u001b[0m\u001b[0;34m,\u001b[0m \u001b[0;34m\"상대적으로\"\u001b[0m\u001b[0;34m,\u001b[0m \u001b[0;34m\"말하자면\"\u001b[0m\u001b[0;34m,\u001b[0m \u001b[0;34m\"마치\"\u001b[0m\u001b[0;34m,\u001b[0m \u001b[0;34m\"아니라면\"\u001b[0m\u001b[0;34m,\u001b[0m \u001b[0;34m\"쉿\"\u001b[0m\u001b[0;34m,\u001b[0m \u001b[0;34m\"그렇지\"\u001b[0m\u001b[0;34m,\u001b[0m \u001b[0;34m\"않으면\"\u001b[0m\u001b[0;34m,\u001b[0m \u001b[0;34m\"그렇지\"\u001b[0m\u001b[0;34m,\u001b[0m \u001b[0;34m\"않다면\"\u001b[0m\u001b[0;34m,\u001b[0m \u001b[0;34m\"안\"\u001b[0m\u001b[0;34m,\u001b[0m \u001b[0;34m\"그러면\"\u001b[0m\u001b[0;34m,\u001b[0m \u001b[0;34m\"아니었다면\"\u001b[0m\u001b[0;34m,\u001b[0m \u001b[0;34m\"하든지\"\u001b[0m\u001b[0;34m,\u001b[0m \u001b[0;34m\"아니면\"\u001b[0m\u001b[0;34m,\u001b[0m \u001b[0;34m\"이라면\"\u001b[0m\u001b[0;34m,\u001b[0m \u001b[0;34m\"좋아\"\u001b[0m\u001b[0;34m,\u001b[0m \u001b[0;34m\"알았어\"\u001b[0m\u001b[0;34m,\u001b[0m \u001b[0;34m\"하는것도\"\u001b[0m\u001b[0;34m,\u001b[0m \u001b[0;34m\"그만이다\"\u001b[0m\u001b[0;34m,\u001b[0m \u001b[0;34m\"어쩔수\"\u001b[0m\u001b[0;34m,\u001b[0m \u001b[0;34m\"없다\"\u001b[0m\u001b[0;34m,\u001b[0m \u001b[0;34m\"하나\"\u001b[0m\u001b[0;34m,\u001b[0m \u001b[0;34m\"일\"\u001b[0m\u001b[0;34m,\u001b[0m \u001b[0;34m\"일반적으로\"\u001b[0m\u001b[0;34m,\u001b[0m \u001b[0;34m\"일단\"\u001b[0m\u001b[0;34m,\u001b[0m \u001b[0;34m\"한켠으로는\"\u001b[0m\u001b[0;34m,\u001b[0m \u001b[0;34m\"오자마자\"\u001b[0m\u001b[0;34m,\u001b[0m \u001b[0;34m\"이렇게되면\"\u001b[0m\u001b[0;34m,\u001b[0m \u001b[0;34m\"이와같다면\"\u001b[0m\u001b[0;34m,\u001b[0m \u001b[0;34m\"전부\"\u001b[0m\u001b[0;34m,\u001b[0m \u001b[0;34m\"한마디\"\u001b[0m\u001b[0;34m,\u001b[0m \u001b[0;34m\"한항목\"\u001b[0m\u001b[0;34m,\u001b[0m \u001b[0;34m\"근거로\"\u001b[0m\u001b[0;34m,\u001b[0m \u001b[0;34m\"하기에\"\u001b[0m\u001b[0;34m,\u001b[0m \u001b[0;34m\"아울러\"\u001b[0m\u001b[0;34m,\u001b[0m \u001b[0;34m\"하지\"\u001b[0m\u001b[0;34m,\u001b[0m \u001b[0;34m\"않도록\"\u001b[0m\u001b[0;34m,\u001b[0m \u001b[0;34m\"않기\"\u001b[0m\u001b[0;34m,\u001b[0m \u001b[0;34m\"위해서\"\u001b[0m\u001b[0;34m,\u001b[0m \u001b[0;34m\"이르기까지\"\u001b[0m\u001b[0;34m,\u001b[0m \u001b[0;34m\"이\"\u001b[0m\u001b[0;34m,\u001b[0m \u001b[0;34m\"되다\"\u001b[0m\u001b[0;34m,\u001b[0m \u001b[0;34m\"로\"\u001b[0m\u001b[0;34m,\u001b[0m \u001b[0;34m\"인하여\"\u001b[0m\u001b[0;34m,\u001b[0m \u001b[0;34m\"까닭으로\"\u001b[0m\u001b[0;34m,\u001b[0m \u001b[0;34m\"이유만으로\"\u001b[0m\u001b[0;34m,\u001b[0m \u001b[0;34m\"이로\"\u001b[0m\u001b[0;34m,\u001b[0m \u001b[0;34m\"인하여\"\u001b[0m\u001b[0;34m,\u001b[0m \u001b[0;34m\"그래서\"\u001b[0m\u001b[0;34m,\u001b[0m \u001b[0;34m\"이\"\u001b[0m\u001b[0;34m,\u001b[0m \u001b[0;34m\"때문에\"\u001b[0m\u001b[0;34m,\u001b[0m \u001b[0;34m\"그러므로\"\u001b[0m\u001b[0;34m,\u001b[0m \u001b[0;34m\"그런\"\u001b[0m\u001b[0;34m,\u001b[0m \u001b[0;34m\"까닭에\"\u001b[0m\u001b[0;34m,\u001b[0m \u001b[0;34m\"알\"\u001b[0m\u001b[0;34m,\u001b[0m \u001b[0;34m\"수\"\u001b[0m\u001b[0;34m,\u001b[0m \u001b[0;34m\"있다\"\u001b[0m\u001b[0;34m,\u001b[0m \u001b[0;34m\"결론을\"\u001b[0m\u001b[0;34m,\u001b[0m \u001b[0;34m\"낼\"\u001b[0m\u001b[0;34m,\u001b[0m \u001b[0;34m\"수\"\u001b[0m\u001b[0;34m,\u001b[0m \u001b[0;34m\"있다\"\u001b[0m\u001b[0;34m,\u001b[0m \u001b[0;34m\"으로\"\u001b[0m\u001b[0;34m,\u001b[0m \u001b[0;34m\"인하여\"\u001b[0m\u001b[0;34m,\u001b[0m \u001b[0;34m\"있다\"\u001b[0m\u001b[0;34m,\u001b[0m \u001b[0;34m\"어떤것\"\u001b[0m\u001b[0;34m,\u001b[0m \u001b[0;34m\"관계가\"\u001b[0m\u001b[0;34m,\u001b[0m \u001b[0;34m\"있다\"\u001b[0m\u001b[0;34m,\u001b[0m \u001b[0;34m\"관련이\"\u001b[0m\u001b[0;34m,\u001b[0m \u001b[0;34m\"있다\"\u001b[0m\u001b[0;34m,\u001b[0m \u001b[0;34m\"연관되다\"\u001b[0m\u001b[0;34m,\u001b[0m \u001b[0;34m\"어떤것들\"\u001b[0m\u001b[0;34m,\u001b[0m \u001b[0;34m\"에\"\u001b[0m\u001b[0;34m,\u001b[0m \u001b[0;34m\"대해\"\u001b[0m\u001b[0;34m,\u001b[0m \u001b[0;34m\"이리하여\"\u001b[0m\u001b[0;34m,\u001b[0m \u001b[0;34m\"그리하여\"\u001b[0m\u001b[0;34m,\u001b[0m \u001b[0;34m\"여부\"\u001b[0m\u001b[0;34m,\u001b[0m \u001b[0;34m\"하기보다는\"\u001b[0m\u001b[0;34m,\u001b[0m \u001b[0;34m\"하느니\"\u001b[0m\u001b[0;34m,\u001b[0m \u001b[0;34m\"하면\"\u001b[0m\u001b[0;34m,\u001b[0m \u001b[0;34m\"할수록\"\u001b[0m\u001b[0;34m,\u001b[0m \u001b[0;34m\"운운\"\u001b[0m\u001b[0;34m,\u001b[0m \u001b[0;34m\"이러이러하다\"\u001b[0m\u001b[0;34m,\u001b[0m \u001b[0;34m\"하구나\"\u001b[0m\u001b[0;34m,\u001b[0m \u001b[0;34m\"하도다\"\u001b[0m\u001b[0;34m,\u001b[0m \u001b[0;34m\"다시말하면\"\u001b[0m\u001b[0;34m,\u001b[0m \u001b[0;34m\"다음으로\"\u001b[0m\u001b[0;34m,\u001b[0m \u001b[0;34m\"에\"\u001b[0m\u001b[0;34m,\u001b[0m \u001b[0;34m\"있다\"\u001b[0m\u001b[0;34m,\u001b[0m \u001b[0;34m\"에\"\u001b[0m\u001b[0;34m,\u001b[0m \u001b[0;34m\"달려\"\u001b[0m\u001b[0;34m,\u001b[0m \u001b[0;34m\"있다\"\u001b[0m\u001b[0;34m,\u001b[0m \u001b[0;34m\"우리\"\u001b[0m\u001b[0;34m,\u001b[0m \u001b[0;34m\"우리들\"\u001b[0m\u001b[0;34m,\u001b[0m \u001b[0;34m\"오히려\"\u001b[0m\u001b[0;34m,\u001b[0m \u001b[0;34m\"하기는한데\"\u001b[0m\u001b[0;34m,\u001b[0m \u001b[0;34m\"어떻게\"\u001b[0m\u001b[0;34m,\u001b[0m \u001b[0;34m\"어떻해\"\u001b[0m\u001b[0;34m,\u001b[0m \u001b[0;34m\"어찌됏어\"\u001b[0m\u001b[0;34m,\u001b[0m \u001b[0;34m\"어때\"\u001b[0m\u001b[0;34m,\u001b[0m \u001b[0;34m\"어째서\"\u001b[0m\u001b[0;34m,\u001b[0m \u001b[0;34m\"본대로\"\u001b[0m\u001b[0;34m,\u001b[0m \u001b[0;34m\"자\"\u001b[0m\u001b[0;34m,\u001b[0m \u001b[0;34m\"이\"\u001b[0m\u001b[0;34m,\u001b[0m \u001b[0;34m\"이쪽\"\u001b[0m\u001b[0;34m,\u001b[0m \u001b[0;34m\"여기\"\u001b[0m\u001b[0;34m,\u001b[0m \u001b[0;34m\"이것\"\u001b[0m\u001b[0;34m,\u001b[0m \u001b[0;34m\"이번\"\u001b[0m\u001b[0;34m,\u001b[0m \u001b[0;34m\"이렇게말하자면\"\u001b[0m\u001b[0;34m,\u001b[0m \u001b[0;34m\"이런\"\u001b[0m\u001b[0;34m,\u001b[0m \u001b[0;34m\"이러한\"\u001b[0m\u001b[0;34m,\u001b[0m \u001b[0;34m\"이와\"\u001b[0m\u001b[0;34m,\u001b[0m \u001b[0;34m\"같은\"\u001b[0m\u001b[0;34m,\u001b[0m \u001b[0;34m\"요만큼\"\u001b[0m\u001b[0;34m,\u001b[0m \u001b[0;34m\"요만한\"\u001b[0m\u001b[0;34m,\u001b[0m \u001b[0;34m\"것\"\u001b[0m\u001b[0;34m,\u001b[0m \u001b[0;34m\"얼마\"\u001b[0m\u001b[0;34m,\u001b[0m \u001b[0;34m\"안\"\u001b[0m\u001b[0;34m,\u001b[0m \u001b[0;34m\"되는\"\u001b[0m\u001b[0;34m,\u001b[0m \u001b[0;34m\"것\"\u001b[0m\u001b[0;34m,\u001b[0m \u001b[0;34m\"이만큼\"\u001b[0m\u001b[0;34m,\u001b[0m \u001b[0;34m\"이\"\u001b[0m\u001b[0;34m,\u001b[0m \u001b[0;34m\"정도의\"\u001b[0m\u001b[0;34m,\u001b[0m \u001b[0;34m\"이렇게\"\u001b[0m\u001b[0;34m,\u001b[0m \u001b[0;34m\"많은\"\u001b[0m\u001b[0;34m,\u001b[0m \u001b[0;34m\"것\"\u001b[0m\u001b[0;34m,\u001b[0m \u001b[0;34m\"이와\"\u001b[0m\u001b[0;34m,\u001b[0m \u001b[0;34m\"같다\"\u001b[0m\u001b[0;34m,\u001b[0m \u001b[0;34m\"이때\"\u001b[0m\u001b[0;34m,\u001b[0m \u001b[0;34m\"이렇구나\"\u001b[0m\u001b[0;34m,\u001b[0m \u001b[0;34m\"것과\"\u001b[0m\u001b[0;34m,\u001b[0m \u001b[0;34m\"같이\"\u001b[0m\u001b[0;34m,\u001b[0m \u001b[0;34m\"끼익\"\u001b[0m\u001b[0;34m,\u001b[0m \u001b[0;34m\"삐걱\"\u001b[0m\u001b[0;34m,\u001b[0m \u001b[0;34m\"따위\"\u001b[0m\u001b[0;34m,\u001b[0m \u001b[0;34m\"와\"\u001b[0m\u001b[0;34m,\u001b[0m \u001b[0;34m\"같은\"\u001b[0m\u001b[0;34m,\u001b[0m \u001b[0;34m\"사람들\"\u001b[0m\u001b[0;34m,\u001b[0m \u001b[0;34m\"부류의\"\u001b[0m\u001b[0;34m,\u001b[0m \u001b[0;34m\"사람들\"\u001b[0m\u001b[0;34m,\u001b[0m \u001b[0;34m\"왜냐하면\"\u001b[0m\u001b[0;34m,\u001b[0m \u001b[0;34m\"중의하나\"\u001b[0m\u001b[0;34m,\u001b[0m \u001b[0;34m\"오직\"\u001b[0m\u001b[0;34m,\u001b[0m \u001b[0;34m\"오로지\"\u001b[0m\u001b[0;34m,\u001b[0m \u001b[0;34m\"에\"\u001b[0m\u001b[0;34m,\u001b[0m \u001b[0;34m\"한하다\"\u001b[0m\u001b[0;34m,\u001b[0m \u001b[0;34m\"하기만\"\u001b[0m\u001b[0;34m,\u001b[0m \u001b[0;34m\"하면\"\u001b[0m\u001b[0;34m,\u001b[0m \u001b[0;34m\"도착하다\"\u001b[0m\u001b[0;34m,\u001b[0m \u001b[0;34m\"까지\"\u001b[0m\u001b[0;34m,\u001b[0m \u001b[0;34m\"미치다\"\u001b[0m\u001b[0;34m,\u001b[0m \u001b[0;34m\"도달하다\"\u001b[0m\u001b[0;34m,\u001b[0m \u001b[0;34m\"정도에\"\u001b[0m\u001b[0;34m,\u001b[0m \u001b[0;34m\"이르다\"\u001b[0m\u001b[0;34m,\u001b[0m \u001b[0;34m\"할\"\u001b[0m\u001b[0;34m,\u001b[0m \u001b[0;34m\"지경이다\"\u001b[0m\u001b[0;34m,\u001b[0m \u001b[0;34m\"결과에\"\u001b[0m\u001b[0;34m,\u001b[0m \u001b[0;34m\"이르다\"\u001b[0m\u001b[0;34m,\u001b[0m \u001b[0;34m\"관해서는\"\u001b[0m\u001b[0;34m,\u001b[0m \u001b[0;34m\"여러분\"\u001b[0m\u001b[0;34m,\u001b[0m \u001b[0;34m\"하고\"\u001b[0m\u001b[0;34m,\u001b[0m \u001b[0;34m\"있다\"\u001b[0m\u001b[0;34m,\u001b[0m \u001b[0;34m\"한\"\u001b[0m\u001b[0;34m,\u001b[0m \u001b[0;34m\"후\"\u001b[0m\u001b[0;34m,\u001b[0m \u001b[0;34m\"혼자\"\u001b[0m\u001b[0;34m,\u001b[0m \u001b[0;34m\"자기\"\u001b[0m\u001b[0;34m,\u001b[0m \u001b[0;34m\"자기집\"\u001b[0m\u001b[0;34m,\u001b[0m \u001b[0;34m\"자신\"\u001b[0m\u001b[0;34m,\u001b[0m \u001b[0;34m\"우에\"\u001b[0m\u001b[0;34m,\u001b[0m \u001b[0;34m\"종합한것과같이\"\u001b[0m\u001b[0;34m,\u001b[0m \u001b[0;34m\"총적으로\"\u001b[0m\u001b[0;34m,\u001b[0m \u001b[0;34m\"보면\"\u001b[0m\u001b[0;34m,\u001b[0m \u001b[0;34m\"총적으로\"\u001b[0m\u001b[0;34m,\u001b[0m \u001b[0;34m\"말하면\"\u001b[0m\u001b[0;34m,\u001b[0m \u001b[0;34m\"총적으로\"\u001b[0m\u001b[0;34m,\u001b[0m \u001b[0;34m\"대로\"\u001b[0m\u001b[0;34m,\u001b[0m \u001b[0;34m\"하다\"\u001b[0m\u001b[0;34m,\u001b[0m \u001b[0;34m\"으로서\"\u001b[0m\u001b[0;34m,\u001b[0m \u001b[0;34m\"참\"\u001b[0m\u001b[0;34m,\u001b[0m \u001b[0;34m\"그만이다\"\u001b[0m\u001b[0;34m,\u001b[0m \u001b[0;34m\"할\"\u001b[0m\u001b[0;34m,\u001b[0m \u001b[0;34m\"따름이다\"\u001b[0m\u001b[0;34m,\u001b[0m \u001b[0;34m\"쿵\"\u001b[0m\u001b[0;34m,\u001b[0m \u001b[0;34m\"탕탕\"\u001b[0m\u001b[0;34m,\u001b[0m \u001b[0;34m\"쾅쾅\"\u001b[0m\u001b[0;34m,\u001b[0m \u001b[0;34m\"둥둥\"\u001b[0m\u001b[0;34m,\u001b[0m \u001b[0;34m\"봐\"\u001b[0m\u001b[0;34m,\u001b[0m \u001b[0;34m\"봐라\"\u001b[0m\u001b[0;34m,\u001b[0m \u001b[0;34m\"아이야\"\u001b[0m\u001b[0;34m,\u001b[0m \u001b[0;34m\"아니\"\u001b[0m\u001b[0;34m,\u001b[0m \u001b[0;34m\"와아\"\u001b[0m\u001b[0;34m,\u001b[0m \u001b[0;34m\"응\"\u001b[0m\u001b[0;34m,\u001b[0m \u001b[0;34m\"아이\"\u001b[0m\u001b[0;34m,\u001b[0m \u001b[0;34m\"참나\"\u001b[0m\u001b[0;34m,\u001b[0m \u001b[0;34m\"년\"\u001b[0m\u001b[0;34m,\u001b[0m \u001b[0;34m\"월\"\u001b[0m\u001b[0;34m,\u001b[0m \u001b[0;34m\"일\"\u001b[0m\u001b[0;34m,\u001b[0m \u001b[0;34m\"령\"\u001b[0m\u001b[0;34m,\u001b[0m \u001b[0;34m\"영\"\u001b[0m\u001b[0;34m,\u001b[0m \u001b[0;34m\"일\"\u001b[0m\u001b[0;34m,\u001b[0m \u001b[0;34m\"이\"\u001b[0m\u001b[0;34m,\u001b[0m \u001b[0;34m\"삼\"\u001b[0m\u001b[0;34m,\u001b[0m \u001b[0;34m\"사\"\u001b[0m\u001b[0;34m,\u001b[0m \u001b[0;34m\"오\"\u001b[0m\u001b[0;34m,\u001b[0m \u001b[0;34m\"육\"\u001b[0m\u001b[0;34m,\u001b[0m \u001b[0;34m\"륙\"\u001b[0m\u001b[0;34m,\u001b[0m \u001b[0;34m\"칠\"\u001b[0m\u001b[0;34m,\u001b[0m \u001b[0;34m\"팔\"\u001b[0m\u001b[0;34m,\u001b[0m \u001b[0;34m\"구\"\u001b[0m\u001b[0;34m,\u001b[0m \u001b[0;34m\"이천육\"\u001b[0m\u001b[0;34m,\u001b[0m \u001b[0;34m\"이천칠\"\u001b[0m\u001b[0;34m,\u001b[0m \u001b[0;34m\"이천팔\"\u001b[0m\u001b[0;34m,\u001b[0m \u001b[0;34m\"이천구\"\u001b[0m\u001b[0;34m,\u001b[0m \u001b[0;34m\"하나\"\u001b[0m\u001b[0;34m,\u001b[0m \u001b[0;34m\"둘\"\u001b[0m\u001b[0;34m,\u001b[0m \u001b[0;34m\"셋\"\u001b[0m\u001b[0;34m,\u001b[0m \u001b[0;34m\"넷\"\u001b[0m\u001b[0;34m,\u001b[0m \u001b[0;34m\"다섯\"\u001b[0m\u001b[0;34m,\u001b[0m \u001b[0;34m\"여섯\"\u001b[0m\u001b[0;34m,\u001b[0m \u001b[0;34m\"일곱\"\u001b[0m\u001b[0;34m,\u001b[0m \u001b[0;34m\"여덟\"\u001b[0m\u001b[0;34m,\u001b[0m \u001b[0;34m\"아홉\"\u001b[0m\u001b[0;34m,\u001b[0m \u001b[0;34m\"령\"\u001b[0m\u001b[0;34m,\u001b[0m \u001b[0;34m\"영\"\u001b[0m\u001b[0;34m]\u001b[0m\u001b[0;34m\u001b[0m\u001b[0;34m\u001b[0m\u001b[0m\n\u001b[1;32m     15\u001b[0m \u001b[0;34m\u001b[0m\u001b[0m\n",
      "\u001b[0;32m~/opt/anaconda3/lib/python3.7/site-packages/konlpy/tag/_kkma.py\u001b[0m in \u001b[0;36m__init__\u001b[0;34m(self, jvmpath, max_heap_size)\u001b[0m\n\u001b[1;32m     93\u001b[0m     \u001b[0;32mdef\u001b[0m \u001b[0m__init__\u001b[0m\u001b[0;34m(\u001b[0m\u001b[0mself\u001b[0m\u001b[0;34m,\u001b[0m \u001b[0mjvmpath\u001b[0m\u001b[0;34m=\u001b[0m\u001b[0;32mNone\u001b[0m\u001b[0;34m,\u001b[0m \u001b[0mmax_heap_size\u001b[0m\u001b[0;34m=\u001b[0m\u001b[0;36m1024\u001b[0m\u001b[0;34m)\u001b[0m\u001b[0;34m:\u001b[0m\u001b[0;34m\u001b[0m\u001b[0;34m\u001b[0m\u001b[0m\n\u001b[1;32m     94\u001b[0m         \u001b[0;32mif\u001b[0m \u001b[0;32mnot\u001b[0m \u001b[0mjpype\u001b[0m\u001b[0;34m.\u001b[0m\u001b[0misJVMStarted\u001b[0m\u001b[0;34m(\u001b[0m\u001b[0;34m)\u001b[0m\u001b[0;34m:\u001b[0m\u001b[0;34m\u001b[0m\u001b[0;34m\u001b[0m\u001b[0m\n\u001b[0;32m---> 95\u001b[0;31m             \u001b[0mjvm\u001b[0m\u001b[0;34m.\u001b[0m\u001b[0minit_jvm\u001b[0m\u001b[0;34m(\u001b[0m\u001b[0mjvmpath\u001b[0m\u001b[0;34m,\u001b[0m \u001b[0mmax_heap_size\u001b[0m\u001b[0;34m)\u001b[0m\u001b[0;34m\u001b[0m\u001b[0;34m\u001b[0m\u001b[0m\n\u001b[0m\u001b[1;32m     96\u001b[0m \u001b[0;34m\u001b[0m\u001b[0m\n\u001b[1;32m     97\u001b[0m         \u001b[0mkkmaJavaPackage\u001b[0m \u001b[0;34m=\u001b[0m \u001b[0mjpype\u001b[0m\u001b[0;34m.\u001b[0m\u001b[0mJPackage\u001b[0m\u001b[0;34m(\u001b[0m\u001b[0;34m'kr.lucypark.kkma'\u001b[0m\u001b[0;34m)\u001b[0m\u001b[0;34m\u001b[0m\u001b[0;34m\u001b[0m\u001b[0m\n",
      "\u001b[0;32m~/opt/anaconda3/lib/python3.7/site-packages/konlpy/jvm.py\u001b[0m in \u001b[0;36minit_jvm\u001b[0;34m(jvmpath, max_heap_size)\u001b[0m\n\u001b[1;32m     65\u001b[0m                                 \u001b[0;34m'-Dfile.encoding=UTF8'\u001b[0m\u001b[0;34m,\u001b[0m\u001b[0;34m\u001b[0m\u001b[0;34m\u001b[0m\u001b[0m\n\u001b[1;32m     66\u001b[0m                                 '-ea', '-Xmx{}m'.format(max_heap_size))\n\u001b[0;32m---> 67\u001b[0;31m     \u001b[0;32melse\u001b[0m\u001b[0;34m:\u001b[0m\u001b[0;34m\u001b[0m\u001b[0;34m\u001b[0m\u001b[0m\n\u001b[0m\u001b[1;32m     68\u001b[0m         \u001b[0;32mraise\u001b[0m \u001b[0mValueError\u001b[0m\u001b[0;34m(\u001b[0m\u001b[0;34m\"Please specify the JVM path.\"\u001b[0m\u001b[0;34m)\u001b[0m\u001b[0;34m\u001b[0m\u001b[0;34m\u001b[0m\u001b[0m\n",
      "\u001b[0;31mTypeError\u001b[0m: startJVM() got an unexpected keyword argument 'convertStrings'"
     ]
    }
   ],
   "source": [
    "from bs4 import BeautifulSoup\n",
    "import re\n",
    "import string\n",
    "from textrankr import TextRank\n",
    "from lexrankr import LexRank"
   ]
  },
  {
   "cell_type": "code",
   "execution_count": null,
   "metadata": {
    "colab": {},
    "colab_type": "code",
    "id": "uXlC6PY_-EZs",
    "outputId": "6bd78260-e462-4dcb-dd59-df239df24f97"
   },
   "outputs": [
    {
     "name": "stdout",
     "output_type": "stream",
     "text": [
      "5\n",
      "정부 부처에서는 영양사의 영양교사화 폭발적인 영양교사 채용 기간제 교사 영전강 스강의 무기계약직화가 그들의 임용 절벽과는 전혀 무관한 일이라고 주장하고 있지만 조금만 생각해보면 전혀 설득력 없는 말이라고 생각합니다.\n",
      "학교 수가 같고 학생 수가 동일한데 영양교사와 기간제 교사 영전강 스강이 학교에 늘어나게 되면 당연히 정규 교원의 수는 줄어들게 되지 않겠습니까 기간제 교사 영전강 스강의 무기계약직화 정규직화 꼭 전면 백지화해주십시오.\n",
      "학생들의 건강과 영양 당연히 성장기에 있는 아이들에게 필수적이고 중요한 문제입니다.\n",
      "영양교사 아니 영양사가 학생들에게 실과를 가르치지 않습니다.\n"
     ]
    }
   ],
   "source": [
    "txt = \"\"\n",
    "textrank = TextRank(txt)\n",
    "print(textrank.summarize())  # gives you some text\n",
    "print(textrank.summarize(3)) # 3문장으로 요약"
   ]
  },
  {
   "cell_type": "code",
   "execution_count": 22,
   "metadata": {},
   "outputs": [
    {
     "ename": "TypeError",
     "evalue": "startJVM() got an unexpected keyword argument 'convertStrings'",
     "output_type": "error",
     "traceback": [
      "\u001b[0;31m---------------------------------------------------------------------------\u001b[0m",
      "\u001b[0;31mTypeError\u001b[0m                                 Traceback (most recent call last)",
      "\u001b[0;32m<ipython-input-22-fe58b8cffc1b>\u001b[0m in \u001b[0;36m<module>\u001b[0;34m\u001b[0m\n\u001b[0;32m----> 1\u001b[0;31m \u001b[0mlexrank\u001b[0m \u001b[0;34m=\u001b[0m \u001b[0mLexRank\u001b[0m\u001b[0;34m(\u001b[0m\u001b[0;34m)\u001b[0m  \u001b[0;31m# can init with various settings\u001b[0m\u001b[0;34m\u001b[0m\u001b[0;34m\u001b[0m\u001b[0m\n\u001b[0m\u001b[1;32m      2\u001b[0m \u001b[0mtxt\u001b[0m \u001b[0;34m=\u001b[0m\u001b[0;31m \u001b[0m\u001b[0;31m\"\u001b[0m\u001b[0m정부\u001b[0m \u001b[0m부처에서는\u001b[0m \u001b[0m영양사의\u001b[0m \u001b[0m영양교사화\u001b[0m \u001b[0m폭발적인\u001b[0m \u001b[0m영양교사\u001b[0m \u001b[0m채용\u001b[0m \u001b[0m기간제\u001b[0m \u001b[0m교사\u001b[0m \u001b[0m영전강\u001b[0m \u001b[0m스강의\u001b[0m \u001b[0m무기계약직화가\u001b[0m \u001b[0m그들의\u001b[0m \u001b[0m임용\u001b[0m \u001b[0m절벽과는\u001b[0m \u001b[0m전혀\u001b[0m \u001b[0m무관한\u001b[0m \u001b[0m일이라고\u001b[0m \u001b[0m주장하고\u001b[0m \u001b[0m있지만\u001b[0m \u001b[0m조금만\u001b[0m \u001b[0m생각해보면\u001b[0m \u001b[0m전혀\u001b[0m \u001b[0m설득력\u001b[0m \u001b[0m없는\u001b[0m \u001b[0m말이라고\u001b[0m \u001b[0m생각합니다\u001b[0m\u001b[0;34m.\u001b[0m \u001b[0m학교\u001b[0m \u001b[0m수가\u001b[0m \u001b[0m같고\u001b[0m \u001b[0m학생\u001b[0m \u001b[0m수가\u001b[0m \u001b[0m동일한데\u001b[0m \u001b[0m영양교사와\u001b[0m \u001b[0m기간제\u001b[0m \u001b[0m교사\u001b[0m \u001b[0m영전강\u001b[0m \u001b[0m스강이\u001b[0m \u001b[0m학교에\u001b[0m \u001b[0m늘어나게\u001b[0m \u001b[0m되면\u001b[0m \u001b[0m당연히\u001b[0m \u001b[0m정규\u001b[0m \u001b[0m교원의\u001b[0m \u001b[0m수는\u001b[0m \u001b[0m줄어들게\u001b[0m \u001b[0m되지\u001b[0m \u001b[0m않겠습니까\u001b[0m \u001b[0m기간제\u001b[0m \u001b[0m교사\u001b[0m \u001b[0m영전강\u001b[0m \u001b[0m스강의\u001b[0m \u001b[0m무기계약직화\u001b[0m \u001b[0m정규직화\u001b[0m \u001b[0m꼭\u001b[0m \u001b[0m전면\u001b[0m \u001b[0m백지화해주십시오\u001b[0m\u001b[0;34m.\u001b[0m\u001b[0;31m\\\u001b[0m\u001b[0;34m\u001b[0m\u001b[0;34m\u001b[0m\u001b[0m\n\u001b[1;32m      3\u001b[0m \u001b[0m학생들의\u001b[0m \u001b[0m건강과\u001b[0m \u001b[0m영양\u001b[0m \u001b[0m당연히\u001b[0m \u001b[0m성장기에\u001b[0m \u001b[0m있는\u001b[0m \u001b[0m아이들에게\u001b[0m \u001b[0m필수적이고\u001b[0m \u001b[0m중요한\u001b[0m \u001b[0m문제입니다\u001b[0m\u001b[0;34m.\u001b[0m\u001b[0;31m\\\u001b[0m\u001b[0;34m\u001b[0m\u001b[0;34m\u001b[0m\u001b[0m\n\u001b[1;32m      4\u001b[0m \u001b[0m영양교사\u001b[0m \u001b[0m아니\u001b[0m \u001b[0m영양사가\u001b[0m \u001b[0m학생들에게\u001b[0m \u001b[0m실과를\u001b[0m \u001b[0m가르치지\u001b[0m \u001b[0m않습니다\u001b[0m\u001b[0;34m.\u001b[0m\u001b[0;31m\"\u001b[0m\u001b[0;34m\u001b[0m\u001b[0;34m\u001b[0m\u001b[0m\n\u001b[1;32m      5\u001b[0m \u001b[0mlexrank\u001b[0m\u001b[0;34m.\u001b[0m\u001b[0msummarize\u001b[0m\u001b[0;34m(\u001b[0m\u001b[0mtxt\u001b[0m\u001b[0;34m)\u001b[0m\u001b[0;34m\u001b[0m\u001b[0;34m\u001b[0m\u001b[0m\n",
      "\u001b[0;32m~/opt/anaconda3/lib/python3.7/site-packages/lexrankr/lexrankr.py\u001b[0m in \u001b[0;36m__init__\u001b[0;34m(self, similarity, decay_window, decay_alpha, clustering, tagger, useful_tags, delimiters, min_token_length, stopwords, no_below_word_count, no_above_word_portion, max_dictionary_size, min_cluster_size, similarity_threshold, matrix_smoothing, n_clusters, compactify, **kwargs)\u001b[0m\n\u001b[1;32m    152\u001b[0m             \u001b[0;32mraise\u001b[0m \u001b[0mLexRankError\u001b[0m\u001b[0;34m(\u001b[0m\u001b[0;34m\"available similarity functions are: cosine, jaccard, normalized_cooccurrence\"\u001b[0m\u001b[0;34m)\u001b[0m\u001b[0;34m\u001b[0m\u001b[0;34m\u001b[0m\u001b[0m\n\u001b[1;32m    153\u001b[0m         \u001b[0mself\u001b[0m\u001b[0;34m.\u001b[0m\u001b[0msim\u001b[0m \u001b[0;34m=\u001b[0m \u001b[0;32mlambda\u001b[0m \u001b[0msentence1\u001b[0m\u001b[0;34m,\u001b[0m \u001b[0msentence2\u001b[0m\u001b[0;34m:\u001b[0m \u001b[0mself\u001b[0m\u001b[0;34m.\u001b[0m\u001b[0mdecay\u001b[0m\u001b[0;34m(\u001b[0m\u001b[0msentence1\u001b[0m\u001b[0;34m,\u001b[0m \u001b[0msentence2\u001b[0m\u001b[0;34m)\u001b[0m \u001b[0;34m*\u001b[0m \u001b[0mself\u001b[0m\u001b[0;34m.\u001b[0m\u001b[0muniform_sim\u001b[0m\u001b[0;34m(\u001b[0m\u001b[0msentence1\u001b[0m\u001b[0;34m,\u001b[0m \u001b[0msentence2\u001b[0m\u001b[0;34m)\u001b[0m\u001b[0;34m\u001b[0m\u001b[0;34m\u001b[0m\u001b[0m\n\u001b[0;32m--> 154\u001b[0;31m         \u001b[0mself\u001b[0m\u001b[0;34m.\u001b[0m\u001b[0mfactory\u001b[0m \u001b[0;34m=\u001b[0m \u001b[0mSentenceFactory\u001b[0m\u001b[0;34m(\u001b[0m\u001b[0mtagger\u001b[0m\u001b[0;34m=\u001b[0m\u001b[0mtagger\u001b[0m\u001b[0;34m,\u001b[0m \u001b[0museful_tags\u001b[0m\u001b[0;34m=\u001b[0m\u001b[0museful_tags\u001b[0m\u001b[0;34m,\u001b[0m \u001b[0mdelimiters\u001b[0m\u001b[0;34m=\u001b[0m\u001b[0mdelimiters\u001b[0m\u001b[0;34m,\u001b[0m \u001b[0mmin_token_length\u001b[0m\u001b[0;34m=\u001b[0m\u001b[0mmin_token_length\u001b[0m\u001b[0;34m,\u001b[0m \u001b[0mstopwords\u001b[0m\u001b[0;34m=\u001b[0m\u001b[0mstopwords\u001b[0m\u001b[0;34m,\u001b[0m \u001b[0;34m**\u001b[0m\u001b[0mkwargs\u001b[0m\u001b[0;34m)\u001b[0m\u001b[0;34m\u001b[0m\u001b[0;34m\u001b[0m\u001b[0m\n\u001b[0m\u001b[1;32m    155\u001b[0m         \u001b[0;32mif\u001b[0m \u001b[0mclustering\u001b[0m \u001b[0;34m==\u001b[0m \u001b[0;34m'birch'\u001b[0m\u001b[0;34m:\u001b[0m\u001b[0;34m\u001b[0m\u001b[0;34m\u001b[0m\u001b[0m\n\u001b[1;32m    156\u001b[0m             \u001b[0mself\u001b[0m\u001b[0;34m.\u001b[0m\u001b[0m_birch\u001b[0m \u001b[0;34m=\u001b[0m \u001b[0mBirch\u001b[0m\u001b[0;34m(\u001b[0m\u001b[0mthreshold\u001b[0m\u001b[0;34m=\u001b[0m\u001b[0;36m0.99\u001b[0m\u001b[0;34m,\u001b[0m \u001b[0mn_clusters\u001b[0m\u001b[0;34m=\u001b[0m\u001b[0mn_clusters\u001b[0m\u001b[0;34m)\u001b[0m\u001b[0;34m\u001b[0m\u001b[0;34m\u001b[0m\u001b[0m\n",
      "\u001b[0;32m~/opt/anaconda3/lib/python3.7/site-packages/lexrankr/lexrankr.py\u001b[0m in \u001b[0;36m__init__\u001b[0;34m(self, tagger, useful_tags, delimiters, min_token_length, stopwords, **kwargs)\u001b[0m\n\u001b[1;32m     54\u001b[0m     \u001b[0;32mdef\u001b[0m \u001b[0m__init__\u001b[0m\u001b[0;34m(\u001b[0m\u001b[0mself\u001b[0m\u001b[0;34m,\u001b[0m \u001b[0mtagger\u001b[0m\u001b[0;34m,\u001b[0m \u001b[0museful_tags\u001b[0m\u001b[0;34m,\u001b[0m \u001b[0mdelimiters\u001b[0m\u001b[0;34m,\u001b[0m \u001b[0mmin_token_length\u001b[0m\u001b[0;34m,\u001b[0m \u001b[0mstopwords\u001b[0m\u001b[0;34m,\u001b[0m \u001b[0;34m**\u001b[0m\u001b[0mkwargs\u001b[0m\u001b[0;34m)\u001b[0m\u001b[0;34m:\u001b[0m\u001b[0;34m\u001b[0m\u001b[0;34m\u001b[0m\u001b[0m\n\u001b[1;32m     55\u001b[0m         \u001b[0;32mif\u001b[0m \u001b[0mtagger\u001b[0m \u001b[0;34m==\u001b[0m \u001b[0;34m'twitter'\u001b[0m\u001b[0;34m:\u001b[0m\u001b[0;34m\u001b[0m\u001b[0;34m\u001b[0m\u001b[0m\n\u001b[0;32m---> 56\u001b[0;31m             \u001b[0mself\u001b[0m\u001b[0;34m.\u001b[0m\u001b[0mtagger\u001b[0m \u001b[0;34m=\u001b[0m \u001b[0mtaggers\u001b[0m\u001b[0;34m.\u001b[0m\u001b[0mTwitter\u001b[0m\u001b[0;34m(\u001b[0m\u001b[0;34m)\u001b[0m\u001b[0;34m\u001b[0m\u001b[0;34m\u001b[0m\u001b[0m\n\u001b[0m\u001b[1;32m     57\u001b[0m             self.tagger_options = {\n\u001b[1;32m     58\u001b[0m                 \u001b[0;34m'norm'\u001b[0m\u001b[0;34m:\u001b[0m \u001b[0mbool\u001b[0m\u001b[0;34m(\u001b[0m\u001b[0mkwargs\u001b[0m\u001b[0;34m.\u001b[0m\u001b[0mget\u001b[0m\u001b[0;34m(\u001b[0m\u001b[0;34m'norm'\u001b[0m\u001b[0;34m,\u001b[0m \u001b[0;32mTrue\u001b[0m\u001b[0;34m)\u001b[0m\u001b[0;34m)\u001b[0m\u001b[0;34m,\u001b[0m\u001b[0;34m\u001b[0m\u001b[0;34m\u001b[0m\u001b[0m\n",
      "\u001b[0;32m~/opt/anaconda3/lib/python3.7/site-packages/konlpy/tag/_okt.py\u001b[0m in \u001b[0;36mTwitter\u001b[0;34m(jvmpath)\u001b[0m\n\u001b[1;32m     15\u001b[0m     \u001b[0;32mfrom\u001b[0m \u001b[0mwarnings\u001b[0m \u001b[0;32mimport\u001b[0m \u001b[0mwarn\u001b[0m\u001b[0;34m\u001b[0m\u001b[0;34m\u001b[0m\u001b[0m\n\u001b[1;32m     16\u001b[0m     \u001b[0mwarn\u001b[0m\u001b[0;34m(\u001b[0m\u001b[0;34m'\"Twitter\" has changed to \"Okt\" since KoNLPy v0.4.5.'\u001b[0m\u001b[0;34m)\u001b[0m\u001b[0;34m\u001b[0m\u001b[0;34m\u001b[0m\u001b[0m\n\u001b[0;32m---> 17\u001b[0;31m     \u001b[0;32mreturn\u001b[0m \u001b[0mOkt\u001b[0m\u001b[0;34m(\u001b[0m\u001b[0mjvmpath\u001b[0m\u001b[0;34m)\u001b[0m\u001b[0;34m\u001b[0m\u001b[0;34m\u001b[0m\u001b[0m\n\u001b[0m\u001b[1;32m     18\u001b[0m \u001b[0;34m\u001b[0m\u001b[0m\n\u001b[1;32m     19\u001b[0m \u001b[0;34m\u001b[0m\u001b[0m\n",
      "\u001b[0;32m~/opt/anaconda3/lib/python3.7/site-packages/konlpy/tag/_okt.py\u001b[0m in \u001b[0;36m__init__\u001b[0;34m(self, jvmpath, max_heap_size)\u001b[0m\n\u001b[1;32m     89\u001b[0m     \u001b[0;32mdef\u001b[0m \u001b[0m__init__\u001b[0m\u001b[0;34m(\u001b[0m\u001b[0mself\u001b[0m\u001b[0;34m,\u001b[0m \u001b[0mjvmpath\u001b[0m\u001b[0;34m=\u001b[0m\u001b[0;32mNone\u001b[0m\u001b[0;34m,\u001b[0m \u001b[0mmax_heap_size\u001b[0m\u001b[0;34m=\u001b[0m\u001b[0;36m1024\u001b[0m\u001b[0;34m)\u001b[0m\u001b[0;34m:\u001b[0m\u001b[0;34m\u001b[0m\u001b[0;34m\u001b[0m\u001b[0m\n\u001b[1;32m     90\u001b[0m         \u001b[0;32mif\u001b[0m \u001b[0;32mnot\u001b[0m \u001b[0mjpype\u001b[0m\u001b[0;34m.\u001b[0m\u001b[0misJVMStarted\u001b[0m\u001b[0;34m(\u001b[0m\u001b[0;34m)\u001b[0m\u001b[0;34m:\u001b[0m\u001b[0;34m\u001b[0m\u001b[0;34m\u001b[0m\u001b[0m\n\u001b[0;32m---> 91\u001b[0;31m             \u001b[0mjvm\u001b[0m\u001b[0;34m.\u001b[0m\u001b[0minit_jvm\u001b[0m\u001b[0;34m(\u001b[0m\u001b[0mjvmpath\u001b[0m\u001b[0;34m,\u001b[0m \u001b[0mmax_heap_size\u001b[0m\u001b[0;34m)\u001b[0m\u001b[0;34m\u001b[0m\u001b[0;34m\u001b[0m\u001b[0m\n\u001b[0m\u001b[1;32m     92\u001b[0m \u001b[0;34m\u001b[0m\u001b[0m\n\u001b[1;32m     93\u001b[0m         \u001b[0moktJavaPackage\u001b[0m \u001b[0;34m=\u001b[0m \u001b[0mjpype\u001b[0m\u001b[0;34m.\u001b[0m\u001b[0mJPackage\u001b[0m\u001b[0;34m(\u001b[0m\u001b[0;34m'kr.lucypark.okt'\u001b[0m\u001b[0;34m)\u001b[0m\u001b[0;34m\u001b[0m\u001b[0;34m\u001b[0m\u001b[0m\n",
      "\u001b[0;32m~/opt/anaconda3/lib/python3.7/site-packages/konlpy/jvm.py\u001b[0m in \u001b[0;36minit_jvm\u001b[0;34m(jvmpath, max_heap_size)\u001b[0m\n\u001b[1;32m     65\u001b[0m                                 \u001b[0;34m'-Dfile.encoding=UTF8'\u001b[0m\u001b[0;34m,\u001b[0m\u001b[0;34m\u001b[0m\u001b[0;34m\u001b[0m\u001b[0m\n\u001b[1;32m     66\u001b[0m                                 '-ea', '-Xmx{}m'.format(max_heap_size))\n\u001b[0;32m---> 67\u001b[0;31m     \u001b[0;32melse\u001b[0m\u001b[0;34m:\u001b[0m\u001b[0;34m\u001b[0m\u001b[0;34m\u001b[0m\u001b[0m\n\u001b[0m\u001b[1;32m     68\u001b[0m         \u001b[0;32mraise\u001b[0m \u001b[0mValueError\u001b[0m\u001b[0;34m(\u001b[0m\u001b[0;34m\"Please specify the JVM path.\"\u001b[0m\u001b[0;34m)\u001b[0m\u001b[0;34m\u001b[0m\u001b[0;34m\u001b[0m\u001b[0m\n",
      "\u001b[0;31mTypeError\u001b[0m: startJVM() got an unexpected keyword argument 'convertStrings'"
     ]
    }
   ],
   "source": [
    "lexrank = LexRank()  # can init with various settings\n",
    "txt = \"정부 부처에서는 영양사의 영양교사화 폭발적인 영양교사 채용 기간제 교사 영전강 스강의 무기계약직화가 그들의 임용 절벽과는 전혀 무관한 일이라고 주장하고 있지만 조금만 생각해보면 전혀 설득력 없는 말이라고 생각합니다. 학교 수가 같고 학생 수가 동일한데 영양교사와 기간제 교사 영전강 스강이 학교에 늘어나게 되면 당연히 정규 교원의 수는 줄어들게 되지 않겠습니까 기간제 교사 영전강 스강의 무기계약직화 정규직화 꼭 전면 백지화해주십시오.\\\n",
    "학생들의 건강과 영양 당연히 성장기에 있는 아이들에게 필수적이고 중요한 문제입니다.\\\n",
    "영양교사 아니 영양사가 학생들에게 실과를 가르치지 않습니다.\"\n",
    "lexrank.summarize(txt)\n",
    "# summaries = lexrank.probe(num_summaries)  # `num_summaries` can be `None` (using auto-detected topics)\n",
    "# for summary in summaries:\n",
    "#     print(summary)"
   ]
  },
  {
   "cell_type": "code",
   "execution_count": null,
   "metadata": {},
   "outputs": [],
   "source": []
  }
 ],
 "metadata": {
  "colab": {
   "collapsed_sections": [],
   "name": "gensim_summarization.ipynb",
   "provenance": []
  },
  "kernelspec": {
   "display_name": "Python 3",
   "language": "python",
   "name": "python3"
  },
  "language_info": {
   "codemirror_mode": {
    "name": "ipython",
    "version": 3
   },
   "file_extension": ".py",
   "mimetype": "text/x-python",
   "name": "python",
   "nbconvert_exporter": "python",
   "pygments_lexer": "ipython3",
   "version": "3.7.6"
  }
 },
 "nbformat": 4,
 "nbformat_minor": 4
}
