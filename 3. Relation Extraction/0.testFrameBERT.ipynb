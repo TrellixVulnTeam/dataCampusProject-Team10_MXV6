{
 "cells": [
  {
   "cell_type": "code",
   "execution_count": 2,
   "metadata": {
    "colab": {
     "base_uri": "https://localhost:8080/",
     "height": 122
    },
    "colab_type": "code",
    "executionInfo": {
     "elapsed": 18565,
     "status": "ok",
     "timestamp": 1595587533664,
     "user": {
      "displayName": "Yoonjeon Kim",
      "photoUrl": "https://lh3.googleusercontent.com/a-/AOh14GiwaMRrOvoFoaX4ZDTuyd4tmn6XrIW4Bk84KDUU_Q=s64",
      "userId": "06334217385143836304"
     },
     "user_tz": -540
    },
    "id": "NQNVaYsaazfP",
    "outputId": "bbbe91ed-6ea4-4be7-aed7-3fda176dde3f"
   },
   "outputs": [
    {
     "name": "stdout",
     "output_type": "stream",
     "text": [
      "Go to this URL in a browser: https://accounts.google.com/o/oauth2/auth?client_id=947318989803-6bn6qk8qdgf4n4g3pfee6491hc0brc4i.apps.googleusercontent.com&redirect_uri=urn%3aietf%3awg%3aoauth%3a2.0%3aoob&response_type=code&scope=email%20https%3a%2f%2fwww.googleapis.com%2fauth%2fdocs.test%20https%3a%2f%2fwww.googleapis.com%2fauth%2fdrive%20https%3a%2f%2fwww.googleapis.com%2fauth%2fdrive.photos.readonly%20https%3a%2f%2fwww.googleapis.com%2fauth%2fpeopleapi.readonly\n",
      "\n",
      "Enter your authorization code:\n",
      "··········\n",
      "Mounted at /content/drive\n"
     ]
    }
   ],
   "source": [
    "from google.colab import drive\n",
    "drive.mount('/content/drive')"
   ]
  },
  {
   "cell_type": "code",
   "execution_count": 3,
   "metadata": {
    "colab": {
     "base_uri": "https://localhost:8080/",
     "height": 377
    },
    "colab_type": "code",
    "executionInfo": {
     "elapsed": 4062,
     "status": "ok",
     "timestamp": 1595587539593,
     "user": {
      "displayName": "Yoonjeon Kim",
      "photoUrl": "https://lh3.googleusercontent.com/a-/AOh14GiwaMRrOvoFoaX4ZDTuyd4tmn6XrIW4Bk84KDUU_Q=s64",
      "userId": "06334217385143836304"
     },
     "user_tz": -540
    },
    "id": "I2DHBZzwbRQI",
    "outputId": "075bf7b4-cdc7-4efa-c79d-6ffbdfd239e1"
   },
   "outputs": [
    {
     "name": "stdout",
     "output_type": "stream",
     "text": [
      "Fri Jul 24 10:45:36 2020       \n",
      "+-----------------------------------------------------------------------------+\n",
      "| NVIDIA-SMI 450.51.05    Driver Version: 418.67       CUDA Version: 10.1     |\n",
      "|-------------------------------+----------------------+----------------------+\n",
      "| GPU  Name        Persistence-M| Bus-Id        Disp.A | Volatile Uncorr. ECC |\n",
      "| Fan  Temp  Perf  Pwr:Usage/Cap|         Memory-Usage | GPU-Util  Compute M. |\n",
      "|                               |                      |               MIG M. |\n",
      "|===============================+======================+======================|\n",
      "|   0  Tesla K80           Off  | 00000000:00:04.0 Off |                    0 |\n",
      "| N/A   69C    P8    33W / 149W |      0MiB / 11441MiB |      0%      Default |\n",
      "|                               |                      |                 ERR! |\n",
      "+-------------------------------+----------------------+----------------------+\n",
      "                                                                               \n",
      "+-----------------------------------------------------------------------------+\n",
      "| Processes:                                                                  |\n",
      "|  GPU   GI   CI        PID   Type   Process name                  GPU Memory |\n",
      "|        ID   ID                                                   Usage      |\n",
      "|=============================================================================|\n",
      "|  No running processes found                                                 |\n",
      "+-----------------------------------------------------------------------------+\n"
     ]
    }
   ],
   "source": [
    "!nvidia-smi"
   ]
  },
  {
   "cell_type": "code",
   "execution_count": 4,
   "metadata": {
    "colab": {
     "base_uri": "https://localhost:8080/",
     "height": 615
    },
    "colab_type": "code",
    "executionInfo": {
     "elapsed": 9386,
     "status": "ok",
     "timestamp": 1595587549823,
     "user": {
      "displayName": "Yoonjeon Kim",
      "photoUrl": "https://lh3.googleusercontent.com/a-/AOh14GiwaMRrOvoFoaX4ZDTuyd4tmn6XrIW4Bk84KDUU_Q=s64",
      "userId": "06334217385143836304"
     },
     "user_tz": -540
    },
    "id": "qouy81a_a6vB",
    "outputId": "abbd7d79-9637-480e-d90a-6ef96aa72173"
   },
   "outputs": [
    {
     "name": "stdout",
     "output_type": "stream",
     "text": [
      "Collecting transformers\n",
      "\u001b[?25l  Downloading https://files.pythonhosted.org/packages/27/3c/91ed8f5c4e7ef3227b4119200fc0ed4b4fd965b1f0172021c25701087825/transformers-3.0.2-py3-none-any.whl (769kB)\n",
      "\u001b[K     |████████████████████████████████| 778kB 2.7MB/s \n",
      "\u001b[?25hCollecting sacremoses\n",
      "\u001b[?25l  Downloading https://files.pythonhosted.org/packages/7d/34/09d19aff26edcc8eb2a01bed8e98f13a1537005d31e95233fd48216eed10/sacremoses-0.0.43.tar.gz (883kB)\n",
      "\u001b[K     |████████████████████████████████| 890kB 12.8MB/s \n",
      "\u001b[?25hRequirement already satisfied: requests in /usr/local/lib/python3.6/dist-packages (from transformers) (2.23.0)\n",
      "Requirement already satisfied: dataclasses; python_version < \"3.7\" in /usr/local/lib/python3.6/dist-packages (from transformers) (0.7)\n",
      "Requirement already satisfied: numpy in /usr/local/lib/python3.6/dist-packages (from transformers) (1.18.5)\n",
      "Collecting tokenizers==0.8.1.rc1\n",
      "\u001b[?25l  Downloading https://files.pythonhosted.org/packages/40/d0/30d5f8d221a0ed981a186c8eb986ce1c94e3a6e87f994eae9f4aa5250217/tokenizers-0.8.1rc1-cp36-cp36m-manylinux1_x86_64.whl (3.0MB)\n",
      "\u001b[K     |████████████████████████████████| 3.0MB 11.4MB/s \n",
      "\u001b[?25hRequirement already satisfied: filelock in /usr/local/lib/python3.6/dist-packages (from transformers) (3.0.12)\n",
      "Collecting sentencepiece!=0.1.92\n",
      "\u001b[?25l  Downloading https://files.pythonhosted.org/packages/d4/a4/d0a884c4300004a78cca907a6ff9a5e9fe4f090f5d95ab341c53d28cbc58/sentencepiece-0.1.91-cp36-cp36m-manylinux1_x86_64.whl (1.1MB)\n",
      "\u001b[K     |████████████████████████████████| 1.1MB 37.5MB/s \n",
      "\u001b[?25hRequirement already satisfied: packaging in /usr/local/lib/python3.6/dist-packages (from transformers) (20.4)\n",
      "Requirement already satisfied: regex!=2019.12.17 in /usr/local/lib/python3.6/dist-packages (from transformers) (2019.12.20)\n",
      "Requirement already satisfied: tqdm>=4.27 in /usr/local/lib/python3.6/dist-packages (from transformers) (4.41.1)\n",
      "Requirement already satisfied: six in /usr/local/lib/python3.6/dist-packages (from sacremoses->transformers) (1.15.0)\n",
      "Requirement already satisfied: click in /usr/local/lib/python3.6/dist-packages (from sacremoses->transformers) (7.1.2)\n",
      "Requirement already satisfied: joblib in /usr/local/lib/python3.6/dist-packages (from sacremoses->transformers) (0.16.0)\n",
      "Requirement already satisfied: idna<3,>=2.5 in /usr/local/lib/python3.6/dist-packages (from requests->transformers) (2.10)\n",
      "Requirement already satisfied: urllib3!=1.25.0,!=1.25.1,<1.26,>=1.21.1 in /usr/local/lib/python3.6/dist-packages (from requests->transformers) (1.24.3)\n",
      "Requirement already satisfied: chardet<4,>=3.0.2 in /usr/local/lib/python3.6/dist-packages (from requests->transformers) (3.0.4)\n",
      "Requirement already satisfied: certifi>=2017.4.17 in /usr/local/lib/python3.6/dist-packages (from requests->transformers) (2020.6.20)\n",
      "Requirement already satisfied: pyparsing>=2.0.2 in /usr/local/lib/python3.6/dist-packages (from packaging->transformers) (2.4.7)\n",
      "Building wheels for collected packages: sacremoses\n",
      "  Building wheel for sacremoses (setup.py) ... \u001b[?25l\u001b[?25hdone\n",
      "  Created wheel for sacremoses: filename=sacremoses-0.0.43-cp36-none-any.whl size=893260 sha256=29d7f5d15933d5e4188a645c602e451a6667603b81b33de25854e20348cc9f71\n",
      "  Stored in directory: /root/.cache/pip/wheels/29/3c/fd/7ce5c3f0666dab31a50123635e6fb5e19ceb42ce38d4e58f45\n",
      "Successfully built sacremoses\n",
      "Installing collected packages: sacremoses, tokenizers, sentencepiece, transformers\n",
      "Successfully installed sacremoses-0.0.43 sentencepiece-0.1.91 tokenizers-0.8.1rc1 transformers-3.0.2\n"
     ]
    }
   ],
   "source": [
    "!pip install transformers"
   ]
  },
  {
   "cell_type": "code",
   "execution_count": 9,
   "metadata": {
    "colab": {
     "base_uri": "https://localhost:8080/",
     "height": 1000
    },
    "colab_type": "code",
    "executionInfo": {
     "elapsed": 44470,
     "status": "ok",
     "timestamp": 1595587679031,
     "user": {
      "displayName": "Yoonjeon Kim",
      "photoUrl": "https://lh3.googleusercontent.com/a-/AOh14GiwaMRrOvoFoaX4ZDTuyd4tmn6XrIW4Bk84KDUU_Q=s64",
      "userId": "06334217385143836304"
     },
     "user_tz": -540
    },
    "id": "fGYQ5nnYbx0I",
    "outputId": "bb5c7df7-de9c-489c-ade1-1f9c2f9c8d74"
   },
   "outputs": [
    {
     "name": "stdout",
     "output_type": "stream",
     "text": [
      "\r",
      "0% [Working]\r",
      "            \r",
      "Ign:1 https://developer.download.nvidia.com/compute/cuda/repos/ubuntu1804/x86_64  InRelease\n",
      "\r",
      "0% [Connecting to archive.ubuntu.com (91.189.88.152)] [Waiting for headers] [Wa\r",
      "                                                                               \r",
      "Ign:2 https://developer.download.nvidia.com/compute/machine-learning/repos/ubuntu1804/x86_64  InRelease\n",
      "\r",
      "0% [Connecting to archive.ubuntu.com (91.189.88.152)] [Waiting for headers] [Wa\r",
      "                                                                               \r",
      "Get:3 https://developer.download.nvidia.com/compute/cuda/repos/ubuntu1804/x86_64  Release [697 B]\n",
      "\r",
      "0% [Connecting to archive.ubuntu.com (91.189.88.152)] [Waiting for headers] [Wa\r",
      "0% [Connecting to archive.ubuntu.com (91.189.88.152)] [Waiting for headers] [Wa\r",
      "                                                                               \r",
      "Hit:4 https://developer.download.nvidia.com/compute/machine-learning/repos/ubuntu1804/x86_64  Release\n",
      "\r",
      "0% [Connecting to archive.ubuntu.com (91.189.88.152)] [Waiting for headers] [Wa\r",
      "                                                                               \r",
      "Get:5 http://security.ubuntu.com/ubuntu bionic-security InRelease [88.7 kB]\n",
      "Get:6 https://cloud.r-project.org/bin/linux/ubuntu bionic-cran35/ InRelease [3,626 B]\n",
      "Get:7 http://ppa.launchpad.net/graphics-drivers/ppa/ubuntu bionic InRelease [21.3 kB]\n",
      "Get:8 https://developer.download.nvidia.com/compute/cuda/repos/ubuntu1804/x86_64  Release.gpg [836 B]\n",
      "Hit:9 http://archive.ubuntu.com/ubuntu bionic InRelease\n",
      "Get:11 http://archive.ubuntu.com/ubuntu bionic-updates InRelease [88.7 kB]\n",
      "Get:12 http://ppa.launchpad.net/marutter/c2d4u3.5/ubuntu bionic InRelease [15.4 kB]\n",
      "Ign:13 https://developer.download.nvidia.com/compute/cuda/repos/ubuntu1804/x86_64  Packages\n",
      "Get:13 https://developer.download.nvidia.com/compute/cuda/repos/ubuntu1804/x86_64  Packages [215 kB]\n",
      "Get:14 http://archive.ubuntu.com/ubuntu bionic-backports InRelease [74.6 kB]\n",
      "Get:15 http://security.ubuntu.com/ubuntu bionic-security/main amd64 Packages [1,023 kB]\n",
      "Get:16 http://ppa.launchpad.net/graphics-drivers/ppa/ubuntu bionic/main amd64 Packages [43.3 kB]\n",
      "Get:17 http://archive.ubuntu.com/ubuntu bionic-updates/main amd64 Packages [1,322 kB]\n",
      "Get:18 http://ppa.launchpad.net/marutter/c2d4u3.5/ubuntu bionic/main Sources [1,850 kB]\n",
      "Get:19 http://security.ubuntu.com/ubuntu bionic-security/restricted amd64 Packages [98.3 kB]\n",
      "Get:20 http://security.ubuntu.com/ubuntu bionic-security/universe amd64 Packages [870 kB]\n",
      "Get:21 http://security.ubuntu.com/ubuntu bionic-security/multiverse amd64 Packages [9,279 B]\n",
      "Get:22 http://archive.ubuntu.com/ubuntu bionic-updates/multiverse amd64 Packages [13.6 kB]\n",
      "Get:23 http://archive.ubuntu.com/ubuntu bionic-updates/universe amd64 Packages [1,409 kB]\n",
      "Get:24 http://archive.ubuntu.com/ubuntu bionic-updates/restricted amd64 Packages [111 kB]\n",
      "Get:25 http://archive.ubuntu.com/ubuntu bionic-backports/universe amd64 Packages [8,432 B]\n",
      "Get:26 http://ppa.launchpad.net/marutter/c2d4u3.5/ubuntu bionic/main amd64 Packages [893 kB]\n",
      "Fetched 8,160 kB in 6s (1,286 kB/s)\n",
      "Reading package lists... Done\n",
      "Reading package lists... Done\n",
      "Building dependency tree       \n",
      "Reading state information... Done\n",
      "g++ is already the newest version (4:7.4.0-1ubuntu2.3).\n",
      "g++ set to manually installed.\n",
      "The following package was automatically installed and is no longer required:\n",
      "  libnvidia-common-440\n",
      "Use 'apt autoremove' to remove it.\n",
      "The following additional packages will be installed:\n",
      "  fonts-dejavu-core fonts-dejavu-extra libatk-wrapper-java\n",
      "  libatk-wrapper-java-jni libxxf86dga1 openjdk-8-jdk-headless openjdk-8-jre\n",
      "  openjdk-8-jre-headless x11-utils\n",
      "Suggested packages:\n",
      "  openjdk-8-demo openjdk-8-source visualvm icedtea-8-plugin libnss-mdns\n",
      "  fonts-ipafont-gothic fonts-ipafont-mincho fonts-wqy-microhei\n",
      "  fonts-wqy-zenhei fonts-indic mesa-utils\n",
      "The following NEW packages will be installed:\n",
      "  fonts-dejavu-core fonts-dejavu-extra libatk-wrapper-java\n",
      "  libatk-wrapper-java-jni libxxf86dga1 openjdk-8-jdk openjdk-8-jdk-headless\n",
      "  openjdk-8-jre openjdk-8-jre-headless x11-utils\n",
      "0 upgraded, 10 newly installed, 0 to remove and 103 not upgraded.\n",
      "Need to get 40.7 MB of archives.\n",
      "After this operation, 153 MB of additional disk space will be used.\n",
      "Get:1 http://archive.ubuntu.com/ubuntu bionic/main amd64 libxxf86dga1 amd64 2:1.1.4-1 [13.7 kB]\n",
      "Get:2 http://archive.ubuntu.com/ubuntu bionic/main amd64 fonts-dejavu-core all 2.37-1 [1,041 kB]\n",
      "Get:3 http://archive.ubuntu.com/ubuntu bionic/main amd64 fonts-dejavu-extra all 2.37-1 [1,953 kB]\n",
      "Get:4 http://archive.ubuntu.com/ubuntu bionic/main amd64 x11-utils amd64 7.7+3build1 [196 kB]\n",
      "Get:5 http://archive.ubuntu.com/ubuntu bionic/main amd64 libatk-wrapper-java all 0.33.3-20ubuntu0.1 [34.7 kB]\n",
      "Get:6 http://archive.ubuntu.com/ubuntu bionic/main amd64 libatk-wrapper-java-jni amd64 0.33.3-20ubuntu0.1 [28.3 kB]\n",
      "Get:7 http://archive.ubuntu.com/ubuntu bionic-updates/universe amd64 openjdk-8-jre-headless amd64 8u252-b09-1~18.04 [27.5 MB]\n",
      "Get:8 http://archive.ubuntu.com/ubuntu bionic-updates/universe amd64 openjdk-8-jre amd64 8u252-b09-1~18.04 [69.8 kB]\n",
      "Get:9 http://archive.ubuntu.com/ubuntu bionic-updates/universe amd64 openjdk-8-jdk-headless amd64 8u252-b09-1~18.04 [8,250 kB]\n",
      "Get:10 http://archive.ubuntu.com/ubuntu bionic-updates/universe amd64 openjdk-8-jdk amd64 8u252-b09-1~18.04 [1,622 kB]\n",
      "Fetched 40.7 MB in 5s (7,681 kB/s)\n",
      "Selecting previously unselected package libxxf86dga1:amd64.\n",
      "(Reading database ... 144465 files and directories currently installed.)\n",
      "Preparing to unpack .../0-libxxf86dga1_2%3a1.1.4-1_amd64.deb ...\n",
      "Unpacking libxxf86dga1:amd64 (2:1.1.4-1) ...\n",
      "Selecting previously unselected package fonts-dejavu-core.\n",
      "Preparing to unpack .../1-fonts-dejavu-core_2.37-1_all.deb ...\n",
      "Unpacking fonts-dejavu-core (2.37-1) ...\n",
      "Selecting previously unselected package fonts-dejavu-extra.\n",
      "Preparing to unpack .../2-fonts-dejavu-extra_2.37-1_all.deb ...\n",
      "Unpacking fonts-dejavu-extra (2.37-1) ...\n",
      "Selecting previously unselected package x11-utils.\n",
      "Preparing to unpack .../3-x11-utils_7.7+3build1_amd64.deb ...\n",
      "Unpacking x11-utils (7.7+3build1) ...\n",
      "Selecting previously unselected package libatk-wrapper-java.\n",
      "Preparing to unpack .../4-libatk-wrapper-java_0.33.3-20ubuntu0.1_all.deb ...\n",
      "Unpacking libatk-wrapper-java (0.33.3-20ubuntu0.1) ...\n",
      "Selecting previously unselected package libatk-wrapper-java-jni:amd64.\n",
      "Preparing to unpack .../5-libatk-wrapper-java-jni_0.33.3-20ubuntu0.1_amd64.deb ...\n",
      "Unpacking libatk-wrapper-java-jni:amd64 (0.33.3-20ubuntu0.1) ...\n",
      "Selecting previously unselected package openjdk-8-jre-headless:amd64.\n",
      "Preparing to unpack .../6-openjdk-8-jre-headless_8u252-b09-1~18.04_amd64.deb ...\n",
      "Unpacking openjdk-8-jre-headless:amd64 (8u252-b09-1~18.04) ...\n",
      "Selecting previously unselected package openjdk-8-jre:amd64.\n",
      "Preparing to unpack .../7-openjdk-8-jre_8u252-b09-1~18.04_amd64.deb ...\n",
      "Unpacking openjdk-8-jre:amd64 (8u252-b09-1~18.04) ...\n",
      "Selecting previously unselected package openjdk-8-jdk-headless:amd64.\n",
      "Preparing to unpack .../8-openjdk-8-jdk-headless_8u252-b09-1~18.04_amd64.deb ...\n",
      "Unpacking openjdk-8-jdk-headless:amd64 (8u252-b09-1~18.04) ...\n",
      "Selecting previously unselected package openjdk-8-jdk:amd64.\n",
      "Preparing to unpack .../9-openjdk-8-jdk_8u252-b09-1~18.04_amd64.deb ...\n",
      "Unpacking openjdk-8-jdk:amd64 (8u252-b09-1~18.04) ...\n",
      "Setting up fonts-dejavu-core (2.37-1) ...\n",
      "Setting up libxxf86dga1:amd64 (2:1.1.4-1) ...\n",
      "Setting up fonts-dejavu-extra (2.37-1) ...\n",
      "Setting up openjdk-8-jre-headless:amd64 (8u252-b09-1~18.04) ...\n",
      "update-alternatives: using /usr/lib/jvm/java-8-openjdk-amd64/jre/bin/orbd to provide /usr/bin/orbd (orbd) in auto mode\n",
      "update-alternatives: using /usr/lib/jvm/java-8-openjdk-amd64/jre/bin/servertool to provide /usr/bin/servertool (servertool) in auto mode\n",
      "update-alternatives: using /usr/lib/jvm/java-8-openjdk-amd64/jre/bin/tnameserv to provide /usr/bin/tnameserv (tnameserv) in auto mode\n",
      "Setting up openjdk-8-jdk-headless:amd64 (8u252-b09-1~18.04) ...\n",
      "update-alternatives: using /usr/lib/jvm/java-8-openjdk-amd64/bin/idlj to provide /usr/bin/idlj (idlj) in auto mode\n",
      "update-alternatives: using /usr/lib/jvm/java-8-openjdk-amd64/bin/wsimport to provide /usr/bin/wsimport (wsimport) in auto mode\n",
      "update-alternatives: using /usr/lib/jvm/java-8-openjdk-amd64/bin/jsadebugd to provide /usr/bin/jsadebugd (jsadebugd) in auto mode\n",
      "update-alternatives: using /usr/lib/jvm/java-8-openjdk-amd64/bin/native2ascii to provide /usr/bin/native2ascii (native2ascii) in auto mode\n",
      "update-alternatives: using /usr/lib/jvm/java-8-openjdk-amd64/bin/javah to provide /usr/bin/javah (javah) in auto mode\n",
      "update-alternatives: using /usr/lib/jvm/java-8-openjdk-amd64/bin/clhsdb to provide /usr/bin/clhsdb (clhsdb) in auto mode\n",
      "update-alternatives: using /usr/lib/jvm/java-8-openjdk-amd64/bin/extcheck to provide /usr/bin/extcheck (extcheck) in auto mode\n",
      "update-alternatives: using /usr/lib/jvm/java-8-openjdk-amd64/bin/hsdb to provide /usr/bin/hsdb (hsdb) in auto mode\n",
      "update-alternatives: using /usr/lib/jvm/java-8-openjdk-amd64/bin/schemagen to provide /usr/bin/schemagen (schemagen) in auto mode\n",
      "update-alternatives: using /usr/lib/jvm/java-8-openjdk-amd64/bin/xjc to provide /usr/bin/xjc (xjc) in auto mode\n",
      "update-alternatives: using /usr/lib/jvm/java-8-openjdk-amd64/bin/jhat to provide /usr/bin/jhat (jhat) in auto mode\n",
      "update-alternatives: using /usr/lib/jvm/java-8-openjdk-amd64/bin/wsgen to provide /usr/bin/wsgen (wsgen) in auto mode\n",
      "Setting up x11-utils (7.7+3build1) ...\n",
      "Setting up libatk-wrapper-java (0.33.3-20ubuntu0.1) ...\n",
      "Setting up libatk-wrapper-java-jni:amd64 (0.33.3-20ubuntu0.1) ...\n",
      "Setting up openjdk-8-jre:amd64 (8u252-b09-1~18.04) ...\n",
      "update-alternatives: using /usr/lib/jvm/java-8-openjdk-amd64/jre/bin/policytool to provide /usr/bin/policytool (policytool) in auto mode\n",
      "Setting up openjdk-8-jdk:amd64 (8u252-b09-1~18.04) ...\n",
      "update-alternatives: using /usr/lib/jvm/java-8-openjdk-amd64/bin/appletviewer to provide /usr/bin/appletviewer (appletviewer) in auto mode\n",
      "update-alternatives: using /usr/lib/jvm/java-8-openjdk-amd64/bin/jconsole to provide /usr/bin/jconsole (jconsole) in auto mode\n",
      "Processing triggers for man-db (2.8.3-2ubuntu0.1) ...\n",
      "Processing triggers for hicolor-icon-theme (0.17-2) ...\n",
      "Processing triggers for fontconfig (2.12.6-0ubuntu2) ...\n",
      "Processing triggers for mime-support (3.60ubuntu1) ...\n",
      "Processing triggers for libc-bin (2.27-3ubuntu1) ...\n",
      "/sbin/ldconfig.real: /usr/local/lib/python3.6/dist-packages/ideep4py/lib/libmkldnn.so.0 is not a symbolic link\n",
      "\n",
      "Collecting konlpy\n",
      "\u001b[?25l  Downloading https://files.pythonhosted.org/packages/85/0e/f385566fec837c0b83f216b2da65db9997b35dd675e107752005b7d392b1/konlpy-0.5.2-py2.py3-none-any.whl (19.4MB)\n",
      "\u001b[K     |████████████████████████████████| 19.4MB 161kB/s \n",
      "\u001b[?25hCollecting colorama\n",
      "  Downloading https://files.pythonhosted.org/packages/c9/dc/45cdef1b4d119eb96316b3117e6d5708a08029992b2fee2c143c7a0a5cc5/colorama-0.4.3-py2.py3-none-any.whl\n",
      "Collecting tweepy>=3.7.0\n",
      "  Downloading https://files.pythonhosted.org/packages/bb/7c/99d51f80f3b77b107ebae2634108717362c059a41384a1810d13e2429a81/tweepy-3.9.0-py2.py3-none-any.whl\n",
      "Collecting beautifulsoup4==4.6.0\n",
      "\u001b[?25l  Downloading https://files.pythonhosted.org/packages/9e/d4/10f46e5cfac773e22707237bfcd51bbffeaf0a576b0a847ec7ab15bd7ace/beautifulsoup4-4.6.0-py3-none-any.whl (86kB)\n",
      "\u001b[K     |████████████████████████████████| 92kB 10.1MB/s \n",
      "\u001b[?25hRequirement already satisfied: numpy>=1.6 in /usr/local/lib/python3.6/dist-packages (from konlpy) (1.18.5)\n",
      "Collecting JPype1>=0.7.0\n",
      "\u001b[?25l  Downloading https://files.pythonhosted.org/packages/50/49/725710351d78d26c65337b1e3b322d7b27b34b704535ab56afc0d9ab0ffd/JPype1-1.0.1-cp36-cp36m-manylinux2010_x86_64.whl (3.8MB)\n",
      "\u001b[K     |████████████████████████████████| 3.8MB 38.9MB/s \n",
      "\u001b[?25hRequirement already satisfied: lxml>=4.1.0 in /usr/local/lib/python3.6/dist-packages (from konlpy) (4.2.6)\n",
      "Requirement already satisfied: requests-oauthlib>=0.7.0 in /usr/local/lib/python3.6/dist-packages (from tweepy>=3.7.0->konlpy) (1.3.0)\n",
      "Requirement already satisfied: six>=1.10.0 in /usr/local/lib/python3.6/dist-packages (from tweepy>=3.7.0->konlpy) (1.15.0)\n",
      "Requirement already satisfied: requests[socks]>=2.11.1 in /usr/local/lib/python3.6/dist-packages (from tweepy>=3.7.0->konlpy) (2.23.0)\n",
      "Requirement already satisfied: typing-extensions; python_version < \"3.8\" in /usr/local/lib/python3.6/dist-packages (from JPype1>=0.7.0->konlpy) (3.7.4.2)\n",
      "Requirement already satisfied: oauthlib>=3.0.0 in /usr/local/lib/python3.6/dist-packages (from requests-oauthlib>=0.7.0->tweepy>=3.7.0->konlpy) (3.1.0)\n",
      "Requirement already satisfied: urllib3!=1.25.0,!=1.25.1,<1.26,>=1.21.1 in /usr/local/lib/python3.6/dist-packages (from requests[socks]>=2.11.1->tweepy>=3.7.0->konlpy) (1.24.3)\n",
      "Requirement already satisfied: idna<3,>=2.5 in /usr/local/lib/python3.6/dist-packages (from requests[socks]>=2.11.1->tweepy>=3.7.0->konlpy) (2.10)\n",
      "Requirement already satisfied: chardet<4,>=3.0.2 in /usr/local/lib/python3.6/dist-packages (from requests[socks]>=2.11.1->tweepy>=3.7.0->konlpy) (3.0.4)\n",
      "Requirement already satisfied: certifi>=2017.4.17 in /usr/local/lib/python3.6/dist-packages (from requests[socks]>=2.11.1->tweepy>=3.7.0->konlpy) (2020.6.20)\n",
      "Requirement already satisfied: PySocks!=1.5.7,>=1.5.6; extra == \"socks\" in /usr/local/lib/python3.6/dist-packages (from requests[socks]>=2.11.1->tweepy>=3.7.0->konlpy) (1.7.1)\n",
      "Installing collected packages: colorama, tweepy, beautifulsoup4, JPype1, konlpy\n",
      "  Found existing installation: tweepy 3.6.0\n",
      "    Uninstalling tweepy-3.6.0:\n",
      "      Successfully uninstalled tweepy-3.6.0\n",
      "  Found existing installation: beautifulsoup4 4.6.3\n",
      "    Uninstalling beautifulsoup4-4.6.3:\n",
      "      Successfully uninstalled beautifulsoup4-4.6.3\n",
      "Successfully installed JPype1-1.0.1 beautifulsoup4-4.6.0 colorama-0.4.3 konlpy-0.5.2 tweepy-3.9.0\n"
     ]
    }
   ],
   "source": [
    "!apt-get update\n",
    "!apt-get install g++ openjdk-8-jdk \n",
    "!pip3 install konlpy"
   ]
  },
  {
   "cell_type": "code",
   "execution_count": 5,
   "metadata": {
    "colab": {
     "base_uri": "https://localhost:8080/",
     "height": 34
    },
    "colab_type": "code",
    "executionInfo": {
     "elapsed": 1318,
     "status": "ok",
     "timestamp": 1595587554737,
     "user": {
      "displayName": "Yoonjeon Kim",
      "photoUrl": "https://lh3.googleusercontent.com/a-/AOh14GiwaMRrOvoFoaX4ZDTuyd4tmn6XrIW4Bk84KDUU_Q=s64",
      "userId": "06334217385143836304"
     },
     "user_tz": -540
    },
    "id": "BAYgc4Qda1d7",
    "outputId": "778e78e4-665a-4379-b107-ec219ab44830"
   },
   "outputs": [
    {
     "name": "stdout",
     "output_type": "stream",
     "text": [
      "/content/drive/Shared drives/BigDATA TEAM 10/OpenInformationExtraction\n"
     ]
    }
   ],
   "source": [
    "%cd /content/drive/Shared drives/BigDATA TEAM 10/OpenInformationExtraction"
   ]
  },
  {
   "cell_type": "code",
   "execution_count": 6,
   "metadata": {
    "colab": {
     "base_uri": "https://localhost:8080/",
     "height": 34
    },
    "colab_type": "code",
    "executionInfo": {
     "elapsed": 3105,
     "status": "ok",
     "timestamp": 1595587558935,
     "user": {
      "displayName": "Yoonjeon Kim",
      "photoUrl": "https://lh3.googleusercontent.com/a-/AOh14GiwaMRrOvoFoaX4ZDTuyd4tmn6XrIW4Bk84KDUU_Q=s64",
      "userId": "06334217385143836304"
     },
     "user_tz": -540
    },
    "id": "Lu2y4Jx7a3If",
    "outputId": "019c4804-3548-4d56-cd72-d14c847f2ce2"
   },
   "outputs": [
    {
     "name": "stdout",
     "output_type": "stream",
     "text": [
      "/content/drive/Shared drives/BigDATA TEAM 10/OpenInformationExtraction\n"
     ]
    }
   ],
   "source": [
    "!pwd"
   ]
  },
  {
   "cell_type": "code",
   "execution_count": 7,
   "metadata": {
    "colab": {
     "base_uri": "https://localhost:8080/",
     "height": 68
    },
    "colab_type": "code",
    "executionInfo": {
     "elapsed": 32061,
     "status": "ok",
     "timestamp": 1595587592331,
     "user": {
      "displayName": "Yoonjeon Kim",
      "photoUrl": "https://lh3.googleusercontent.com/a-/AOh14GiwaMRrOvoFoaX4ZDTuyd4tmn6XrIW4Bk84KDUU_Q=s64",
      "userId": "06334217385143836304"
     },
     "user_tz": -540
    },
    "id": "Efp6Ttkia577",
    "outputId": "b09b40ab-cc8e-4631-ab1e-3d720ff7d4cf"
   },
   "outputs": [
    {
     "name": "stderr",
     "output_type": "stream",
     "text": [
      "Using TensorFlow backend.\n"
     ]
    },
    {
     "name": "stdout",
     "output_type": "stream",
     "text": [
      "\n",
      "###DEVICE: cuda\n"
     ]
    }
   ],
   "source": [
    "from frameBERT import frame_parser\n",
    "\n",
    "path=\"/content/drive/Shared drives/BigDATA TEAM 10/OpenInformationExtraction\"\n"
   ]
  },
  {
   "cell_type": "code",
   "execution_count": 10,
   "metadata": {
    "colab": {
     "base_uri": "https://localhost:8080/",
     "height": 309
    },
    "colab_type": "code",
    "executionInfo": {
     "elapsed": 49920,
     "status": "ok",
     "timestamp": 1595587732823,
     "user": {
      "displayName": "Yoonjeon Kim",
      "photoUrl": "https://lh3.googleusercontent.com/a-/AOh14GiwaMRrOvoFoaX4ZDTuyd4tmn6XrIW4Bk84KDUU_Q=s64",
      "userId": "06334217385143836304"
     },
     "user_tz": -540
    },
    "id": "EWUIbASgbgDx",
    "outputId": "3e303310-a2a9-45ce-a9ab-2c18fb851a06"
   },
   "outputs": [
    {
     "name": "stdout",
     "output_type": "stream",
     "text": [
      "srl model: framenet\n",
      "language: ko\n",
      "version: 1.2\n",
      "using viterbi: False\n",
      "using masking: True\n",
      "pretrained BERT: bert-base-multilingual-cased\n",
      "using TGT special token: True\n",
      "used dictionary:\n",
      "\t /content/drive/Shared drives/BigDATA TEAM 10/OpenInformationExtraction/frameBERT/src/../koreanframenet/resource/info/kfn1.2_lu2idx.json\n",
      "\t /content/drive/Shared drives/BigDATA TEAM 10/OpenInformationExtraction/frameBERT/src/../koreanframenet/resource/info/kfn1.2_lufrmap.json\n",
      "\t /content/drive/Shared drives/BigDATA TEAM 10/OpenInformationExtraction/frameBERT/src/../koreanframenet/resource/info/mul_bio_frargmap.json\n",
      "...loaded model path: /content/drive/Shared drives/BigDATA TEAM 10/OpenInformationExtraction\n",
      "/content/drive/Shared drives/BigDATA TEAM 10/OpenInformationExtraction\n",
      "...model is loaded\n"
     ]
    },
    {
     "name": "stderr",
     "output_type": "stream",
     "text": [
      "/content/drive/Shared drives/BigDATA TEAM 10/OpenInformationExtraction/frameBERT/src/utils.py:279: UserWarning: Implicit dimension choice for softmax has been deprecated. Change the call to include dim=X as an argument.\n",
      "  pred_logits = sm(masked_logit).view(1,-1)\n"
     ]
    }
   ],
   "source": [
    "parser = frame_parser.FrameParser(model_path=path, language='ko')\n",
    "text = '헤밍웨이는 1899년 7월 21일 미국 일리노이에서 태어났고 62세에 자살로 사망했다.'\n",
    "parsed = parser.parser(text, sent_id='1', result_format='all')"
   ]
  },
  {
   "cell_type": "markdown",
   "metadata": {
    "colab_type": "text",
    "id": "YW7IeQ95dzuo"
   },
   "source": [
    "\n",
    "\n",
    "```\n",
    "result_format = ['all','conll','graph','textae']\n",
    "```\n",
    "\n",
    "넷중에 하나로 사용 가능"
   ]
  },
  {
   "cell_type": "code",
   "execution_count": 16,
   "metadata": {
    "colab": {
     "base_uri": "https://localhost:8080/",
     "height": 360
    },
    "colab_type": "code",
    "executionInfo": {
     "elapsed": 1907,
     "status": "ok",
     "timestamp": 1595587912217,
     "user": {
      "displayName": "Yoonjeon Kim",
      "photoUrl": "https://lh3.googleusercontent.com/a-/AOh14GiwaMRrOvoFoaX4ZDTuyd4tmn6XrIW4Bk84KDUU_Q=s64",
      "userId": "06334217385143836304"
     },
     "user_tz": -540
    },
    "id": "SY5HrXrVcLSm",
    "outputId": "f45a7323-73a3-49b6-83a8-226c8f6bd819"
   },
   "outputs": [
    {
     "name": "stderr",
     "output_type": "stream",
     "text": [
      "/content/drive/Shared drives/BigDATA TEAM 10/OpenInformationExtraction/frameBERT/src/utils.py:279: UserWarning: Implicit dimension choice for softmax has been deprecated. Change the call to include dim=X as an argument.\n",
      "  pred_logits = sm(masked_logit).view(1,-1)\n"
     ]
    },
    {
     "data": {
      "text/plain": [
       "[('frame#1-0:Proper_reference', 'lu', '자신을'),\n",
       " ('frame#1-1:Appointing', 'lu', '임명한다는'),\n",
       " ('frame#1-1:Appointing', 'fe:Official', '자신'),\n",
       " ('frame#1-1:Appointing', 'fe:Role', '삼도 수군 통제사'),\n",
       " ('frame#1-2:Traversing', 'lu', '내려오기도'),\n",
       " ('frame#1-2:Traversing', 'fe:Theme', '이순신'),\n",
       " ('frame#1-2:Traversing', 'fe:Theme', '자신을 삼도 수군 통제사로 임명한다는 교서'),\n",
       " ('frame#1-3:Time_vector', 'lu', '전에'),\n",
       " ('frame#1-3:Time_vector',\n",
       "  'fe:Landmark_event',\n",
       "  '자신을 삼도 수군 통제사로 임명한다는 교서가 내려오기'),\n",
       " ('frame#1-3:Time_vector', 'fe:Event', '행동을 개시했다'),\n",
       " ('frame#1-4:Intentionally_act', 'lu', '행동을'),\n",
       " ('frame#1-5:Activity_start', 'lu', '개시했다'),\n",
       " ('frame#1-5:Activity_start', 'fe:Agent', '이순신'),\n",
       " ('frame#1-5:Activity_start', 'fe:Time', '자신을 삼도 수군 통제사로 임명한다는 교서가 내려오기도 전'),\n",
       " ('frame#1-5:Activity_start', 'fe:Activity', '행동')]"
      ]
     },
     "execution_count": 16,
     "metadata": {
      "tags": []
     },
     "output_type": "execute_result"
    }
   ],
   "source": [
    "text = \"이순신은 자신을 삼도 수군 통제사로 임명한다는 교서가 내려오기도 전에 행동을 개시했다\"\n",
    "parsed = parser.parser(text, sent_id='1', result_format='graph')\n",
    "parsed"
   ]
  },
  {
   "cell_type": "code",
   "execution_count": 19,
   "metadata": {
    "colab": {
     "base_uri": "https://localhost:8080/",
     "height": 1000
    },
    "colab_type": "code",
    "executionInfo": {
     "elapsed": 2811,
     "status": "ok",
     "timestamp": 1595588054657,
     "user": {
      "displayName": "Yoonjeon Kim",
      "photoUrl": "https://lh3.googleusercontent.com/a-/AOh14GiwaMRrOvoFoaX4ZDTuyd4tmn6XrIW4Bk84KDUU_Q=s64",
      "userId": "06334217385143836304"
     },
     "user_tz": -540
    },
    "id": "0DMsHnCwdF-u",
    "outputId": "63e5ebad-15c3-43e7-90fa-7429ddb9b721"
   },
   "outputs": [
    {
     "name": "stderr",
     "output_type": "stream",
     "text": [
      "/content/drive/Shared drives/BigDATA TEAM 10/OpenInformationExtraction/frameBERT/src/utils.py:279: UserWarning: Implicit dimension choice for softmax has been deprecated. Change the call to include dim=X as an argument.\n",
      "  pred_logits = sm(masked_logit).view(1,-1)\n"
     ]
    },
    {
     "data": {
      "text/plain": [
       "[{'denotations': [{'id': 1,\n",
       "    'obj': 'Military',\n",
       "    'role': 'TARGET',\n",
       "    'span': {'begin': 0, 'end': 2},\n",
       "    'text': '군이',\n",
       "    'token_span': [0]}],\n",
       "  'frame': 'Military',\n",
       "  'lu': '군.n.Military',\n",
       "  'relations': [],\n",
       "  'text': '군이 궤멸되었다는 소식을 접한 그날로 이순신은 백의종군하며 머무르고 있던 초계를 박차고 나와 각지를 돌아다니며 흩어진 장병들을 모으고 군량과 무기들을 입수했다'},\n",
       " {'denotations': [{'id': 1,\n",
       "    'obj': 'Encounter',\n",
       "    'role': 'TARGET',\n",
       "    'span': {'begin': 14, 'end': 16},\n",
       "    'text': '접한',\n",
       "    'token_span': [3]},\n",
       "   {'id': 2,\n",
       "    'obj': 'Party_2',\n",
       "    'role': 'ARGUMENT',\n",
       "    'span': {'begin': 0, 'end': 13},\n",
       "    'text': '군이 궤멸되었다는 소식을',\n",
       "    'token_span': [0, 1, 2]}],\n",
       "  'frame': 'Encounter',\n",
       "  'lu': '접하다.v.Encounter',\n",
       "  'relations': [{'obj': 2, 'pred': 'arg', 'subj': 1}],\n",
       "  'text': '군이 궤멸되었다는 소식을 접한 그날로 이순신은 백의종군하며 머무르고 있던 초계를 박차고 나와 각지를 돌아다니며 흩어진 장병들을 모으고 군량과 무기들을 입수했다'},\n",
       " {'denotations': [{'id': 1,\n",
       "    'obj': 'State_continue',\n",
       "    'role': 'TARGET',\n",
       "    'span': {'begin': 33, 'end': 37},\n",
       "    'text': '머무르고',\n",
       "    'token_span': [7]},\n",
       "   {'id': 2,\n",
       "    'obj': 'Entity',\n",
       "    'role': 'ARGUMENT',\n",
       "    'span': {'begin': 21, 'end': 25},\n",
       "    'text': '이순신은',\n",
       "    'token_span': [5]},\n",
       "   {'id': 3,\n",
       "    'obj': 'State',\n",
       "    'role': 'ARGUMENT',\n",
       "    'span': {'begin': 26, 'end': 32},\n",
       "    'text': '백의종군하며',\n",
       "    'token_span': [6]}],\n",
       "  'frame': 'State_continue',\n",
       "  'lu': '머무르다.v.State_continue',\n",
       "  'relations': [{'obj': 2, 'pred': 'arg', 'subj': 1},\n",
       "   {'obj': 3, 'pred': 'arg', 'subj': 1}],\n",
       "  'text': '군이 궤멸되었다는 소식을 접한 그날로 이순신은 백의종군하며 머무르고 있던 초계를 박차고 나와 각지를 돌아다니며 흩어진 장병들을 모으고 군량과 무기들을 입수했다'},\n",
       " {'denotations': [{'id': 1,\n",
       "    'obj': 'Capability',\n",
       "    'role': 'TARGET',\n",
       "    'span': {'begin': 38, 'end': 40},\n",
       "    'text': '있던',\n",
       "    'token_span': [8]}],\n",
       "  'frame': 'Capability',\n",
       "  'lu': '수_있다.v.Capability',\n",
       "  'relations': [],\n",
       "  'text': '군이 궤멸되었다는 소식을 접한 그날로 이순신은 백의종군하며 머무르고 있던 초계를 박차고 나와 각지를 돌아다니며 흩어진 장병들을 모으고 군량과 무기들을 입수했다'},\n",
       " {'denotations': [{'id': 1,\n",
       "    'obj': 'Self_motion',\n",
       "    'role': 'TARGET',\n",
       "    'span': {'begin': 49, 'end': 51},\n",
       "    'text': '나와',\n",
       "    'token_span': [11]}],\n",
       "  'frame': 'Self_motion',\n",
       "  'lu': '나오다.v.Self_motion',\n",
       "  'relations': [],\n",
       "  'text': '군이 궤멸되었다는 소식을 접한 그날로 이순신은 백의종군하며 머무르고 있던 초계를 박차고 나와 각지를 돌아다니며 흩어진 장병들을 모으고 군량과 무기들을 입수했다'},\n",
       " {'denotations': [{'id': 1,\n",
       "    'obj': 'Locale',\n",
       "    'role': 'TARGET',\n",
       "    'span': {'begin': 52, 'end': 55},\n",
       "    'text': '각지를',\n",
       "    'token_span': [12]}],\n",
       "  'frame': 'Locale',\n",
       "  'lu': '각지.n.Locale',\n",
       "  'relations': [],\n",
       "  'text': '군이 궤멸되었다는 소식을 접한 그날로 이순신은 백의종군하며 머무르고 있던 초계를 박차고 나와 각지를 돌아다니며 흩어진 장병들을 모으고 군량과 무기들을 입수했다'},\n",
       " {'denotations': [{'id': 1,\n",
       "    'obj': 'Motion',\n",
       "    'role': 'TARGET',\n",
       "    'span': {'begin': 56, 'end': 61},\n",
       "    'text': '돌아다니며',\n",
       "    'token_span': [13]},\n",
       "   {'id': 2,\n",
       "    'obj': 'Theme',\n",
       "    'role': 'ARGUMENT',\n",
       "    'span': {'begin': 21, 'end': 25},\n",
       "    'text': '이순신은',\n",
       "    'token_span': [5]},\n",
       "   {'id': 3,\n",
       "    'obj': 'Manner',\n",
       "    'role': 'ARGUMENT',\n",
       "    'span': {'begin': 26, 'end': 32},\n",
       "    'text': '백의종군하며',\n",
       "    'token_span': [6]},\n",
       "   {'id': 4,\n",
       "    'obj': 'Goal',\n",
       "    'role': 'ARGUMENT',\n",
       "    'span': {'begin': 52, 'end': 55},\n",
       "    'text': '각지를',\n",
       "    'token_span': [12]}],\n",
       "  'frame': 'Motion',\n",
       "  'lu': '돌아다니다.v.Motion',\n",
       "  'relations': [{'obj': 2, 'pred': 'arg', 'subj': 1},\n",
       "   {'obj': 3, 'pred': 'arg', 'subj': 1},\n",
       "   {'obj': 4, 'pred': 'arg', 'subj': 1}],\n",
       "  'text': '군이 궤멸되었다는 소식을 접한 그날로 이순신은 백의종군하며 머무르고 있던 초계를 박차고 나와 각지를 돌아다니며 흩어진 장병들을 모으고 군량과 무기들을 입수했다'},\n",
       " {'denotations': [{'id': 1,\n",
       "    'obj': 'Dispersal',\n",
       "    'role': 'TARGET',\n",
       "    'span': {'begin': 62, 'end': 65},\n",
       "    'text': '흩어진',\n",
       "    'token_span': [14]},\n",
       "   {'id': 2,\n",
       "    'obj': 'Individuals',\n",
       "    'role': 'ARGUMENT',\n",
       "    'span': {'begin': 66, 'end': 70},\n",
       "    'text': '장병들을',\n",
       "    'token_span': [15]}],\n",
       "  'frame': 'Dispersal',\n",
       "  'lu': '흩어지다.v.Dispersal',\n",
       "  'relations': [{'obj': 2, 'pred': 'arg', 'subj': 1}],\n",
       "  'text': '군이 궤멸되었다는 소식을 접한 그날로 이순신은 백의종군하며 머무르고 있던 초계를 박차고 나와 각지를 돌아다니며 흩어진 장병들을 모으고 군량과 무기들을 입수했다'},\n",
       " {'denotations': [{'id': 1,\n",
       "    'obj': 'Gathering_up',\n",
       "    'role': 'TARGET',\n",
       "    'span': {'begin': 71, 'end': 74},\n",
       "    'text': '모으고',\n",
       "    'token_span': [16]},\n",
       "   {'id': 2,\n",
       "    'obj': 'Agent',\n",
       "    'role': 'ARGUMENT',\n",
       "    'span': {'begin': 21, 'end': 25},\n",
       "    'text': '이순신은',\n",
       "    'token_span': [5]},\n",
       "   {'id': 3,\n",
       "    'obj': 'Individuals',\n",
       "    'role': 'ARGUMENT',\n",
       "    'span': {'begin': 62, 'end': 70},\n",
       "    'text': '흩어진 장병들을',\n",
       "    'token_span': [14, 15]}],\n",
       "  'frame': 'Gathering_up',\n",
       "  'lu': '모으다.v.Gathering_up',\n",
       "  'relations': [{'obj': 2, 'pred': 'arg', 'subj': 1},\n",
       "   {'obj': 3, 'pred': 'arg', 'subj': 1}],\n",
       "  'text': '군이 궤멸되었다는 소식을 접한 그날로 이순신은 백의종군하며 머무르고 있던 초계를 박차고 나와 각지를 돌아다니며 흩어진 장병들을 모으고 군량과 무기들을 입수했다'},\n",
       " {'denotations': [{'id': 1,\n",
       "    'obj': 'Weapon',\n",
       "    'role': 'TARGET',\n",
       "    'span': {'begin': 79, 'end': 83},\n",
       "    'text': '무기들을',\n",
       "    'token_span': [18]}],\n",
       "  'frame': 'Weapon',\n",
       "  'lu': '무기.n.Weapon',\n",
       "  'relations': [],\n",
       "  'text': '군이 궤멸되었다는 소식을 접한 그날로 이순신은 백의종군하며 머무르고 있던 초계를 박차고 나와 각지를 돌아다니며 흩어진 장병들을 모으고 군량과 무기들을 입수했다'},\n",
       " {'denotations': [{'id': 1,\n",
       "    'obj': 'Getting',\n",
       "    'role': 'TARGET',\n",
       "    'span': {'begin': 84, 'end': 88},\n",
       "    'text': '입수했다',\n",
       "    'token_span': [19]},\n",
       "   {'id': 2,\n",
       "    'obj': 'Recipient',\n",
       "    'role': 'ARGUMENT',\n",
       "    'span': {'begin': 21, 'end': 25},\n",
       "    'text': '이순신은',\n",
       "    'token_span': [5]},\n",
       "   {'id': 3,\n",
       "    'obj': 'Theme',\n",
       "    'role': 'ARGUMENT',\n",
       "    'span': {'begin': 75, 'end': 83},\n",
       "    'text': '군량과 무기들을',\n",
       "    'token_span': [17, 18]}],\n",
       "  'frame': 'Getting',\n",
       "  'lu': '입수하다.v.Getting',\n",
       "  'relations': [{'obj': 2, 'pred': 'arg', 'subj': 1},\n",
       "   {'obj': 3, 'pred': 'arg', 'subj': 1}],\n",
       "  'text': '군이 궤멸되었다는 소식을 접한 그날로 이순신은 백의종군하며 머무르고 있던 초계를 박차고 나와 각지를 돌아다니며 흩어진 장병들을 모으고 군량과 무기들을 입수했다'}]"
      ]
     },
     "execution_count": 19,
     "metadata": {
      "tags": []
     },
     "output_type": "execute_result"
    }
   ],
   "source": [
    "text = '군이 궤멸되었다는 소식을 접한 그날로 이순신은 백의종군하며 머무르고 있던 초계를 박차고 나와 각지를 돌아다니며 흩어진 장병들을 모으고 군량과 무기들을 입수했다'\n",
    "parsed = parser.parser(text, sent_id='1', result_format='textae')\n",
    "parsed\n"
   ]
  },
  {
   "cell_type": "code",
   "execution_count": null,
   "metadata": {
    "colab": {},
    "colab_type": "code",
    "id": "7Xbb0khgdKZq"
   },
   "outputs": [],
   "source": []
  }
 ],
 "metadata": {
  "accelerator": "GPU",
  "colab": {
   "authorship_tag": "ABX9TyN26UFcc/1Tz7rpZLtKwqjg",
   "collapsed_sections": [],
   "name": "testFrameBERT.ipynb",
   "provenance": []
  },
  "kernelspec": {
   "display_name": "Python 3",
   "language": "python",
   "name": "python3"
  },
  "language_info": {
   "codemirror_mode": {
    "name": "ipython",
    "version": 3
   },
   "file_extension": ".py",
   "mimetype": "text/x-python",
   "name": "python",
   "nbconvert_exporter": "python",
   "pygments_lexer": "ipython3",
   "version": "3.7.6"
  }
 },
 "nbformat": 4,
 "nbformat_minor": 1
}
