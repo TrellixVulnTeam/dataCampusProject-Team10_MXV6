{
 "cells": [
  {
   "cell_type": "code",
   "execution_count": null,
   "metadata": {},
   "outputs": [],
   "source": [
    "pip install python-pptx"
   ]
  },
  {
   "cell_type": "code",
   "execution_count": 5,
   "metadata": {},
   "outputs": [],
   "source": [
    "slide1 = [\"국민 여러분들의 위대한 선택\", \"거짓으로 불리한 여론\", \"한 번도 경험하지 못한 나라\"]"
   ]
  },
  {
   "cell_type": "code",
   "execution_count": 6,
   "metadata": {
    "collapsed": true,
    "jupyter": {
     "outputs_hidden": true
    }
   },
   "outputs": [
    {
     "data": {
      "text/plain": [
       "'국민 여러분들의 위대한 선택'"
      ]
     },
     "execution_count": 6,
     "metadata": {},
     "output_type": "execute_result"
    }
   ],
   "source": [
    "slide1[0]"
   ]
  },
  {
   "cell_type": "code",
   "execution_count": null,
   "metadata": {},
   "outputs": [],
   "source": [
    "prs = Presentation()\n",
    "title_only_slide_layout = prs.slide_layouts[5]\n",
    "slide = prs.slides.add_slide(title_only_slide_layout)\n",
    "shapes = slide.shapes\n",
    "\n",
    "shapes.title.text = 'SmartArt'\n",
    "\n",
    "left = Inches(0.93)  \n",
    "top = Inches(3.0)\n",
    "width = Inches(1.75)\n",
    "height = Inches(1.0)\n",
    "\n",
    "shape = shapes.add_shape(MSO_SHAPE.PENTAGON, left, top, width, height)\n",
    "shape.text = 'Step 1'\n",
    "\n",
    "left = left + width - Inches(0.4)\n",
    "width = Inches(2.0) \n",
    "\n",
    "for n in range(2, 6):\n",
    "    shape = shapes.add_shape(MSO_SHAPE.CHEVRON, left, top, width, height)\n",
    "    shape.text = 'Step %d' % n\n",
    "    left = left + width - Inches(0.4)"
   ]
  },
  {
   "cell_type": "code",
   "execution_count": null,
   "metadata": {},
   "outputs": [],
   "source": [
    "from pptx import Presentation\n",
    "from pptx.enum.shapes import MSO_SHAPE\n",
    "from pptx.util import Inches\n",
    "\n",
    "prs = Presentation(\"template1.pptx\") \n",
    "slide_0 = prs.slides[0]\n",
    "slide_0.placeholders.element[2][2][2][0][0].text = \"국민\" # slide title\n",
    "slide_0.placeholders.element[3][3][2][0].text = \"Yoonjeon\" # step 1이 있었던 자리\n",
    "slide_0.placeholders.element[4][3][2][0].text = \"Soyeon\"\n",
    "slide_0.placeholders.element[5][3][2][0].text = \"Junwon\"\n",
    "slide_0.placeholders.element[6][3][2][0].text = \"Yay\"\n",
    "slide_0.placeholders.element[7][3][2][0].text = \"gogo\"\n",
    "prs.save('test3.pptx') \n",
    "\n",
    "prs.save('test.pptx')"
   ]
  },
  {
   "cell_type": "code",
   "execution_count": 24,
   "metadata": {},
   "outputs": [],
   "source": [
    "from pptx import Presentation\n",
    "from pptx.enum.shapes import MSO_SHAPE\n",
    "from pptx.util import Inches, Pt\n",
    "\n",
    "prs = Presentation(\"template.pptx\") \n",
    "slide_0 = prs.slides[0]\n",
    "slide_0.shapes.title.text = #slide1[0]\n",
    "\n",
    "left = Inches(4)\n",
    "top = Inches(3)\n",
    "width = Inches(2)\n",
    "height = Inches(1)\n",
    "txBox = slide_0.shapes.add_textbox(left, top, width, height)\n",
    "tf = txBox.text_frame\n",
    "p = tf.add_paragraph()\n",
    "p.font.bold = True\n",
    "p.font.size = Pt(30)\n",
    "p.text = #slide1[1]\n",
    "\n",
    "top = Inches(5)\n",
    "txBox = slide_0.shapes.add_textbox(left, top, width, height)\n",
    "tf = txBox.text_frame\n",
    "p = tf.add_paragraph()\n",
    "p.font.bold = True\n",
    "p.font.size = Pt(30)\n",
    "p.text = #slide1[2]\n",
    "\n",
    "#prs.save('test.pptx')"
   ]
  }
 ],
 "metadata": {
  "kernelspec": {
   "display_name": "Python 3",
   "language": "python",
   "name": "python3"
  },
  "language_info": {
   "codemirror_mode": {
    "name": "ipython",
    "version": 3
   },
   "file_extension": ".py",
   "mimetype": "text/x-python",
   "name": "python",
   "nbconvert_exporter": "python",
   "pygments_lexer": "ipython3",
   "version": "3.7.3"
  }
 },
 "nbformat": 4,
 "nbformat_minor": 4
}
