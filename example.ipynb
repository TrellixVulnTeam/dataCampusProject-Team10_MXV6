{
 "cells": [
  {
   "cell_type": "code",
   "execution_count": null,
   "metadata": {},
   "outputs": [],
   "source": [
    "pip install python-pptx"
   ]
  },
  {
   "cell_type": "code",
   "execution_count": 5,
   "metadata": {},
   "outputs": [],
   "source": [
    "slide1 = [\"국민 여러분들의 위대한 선택\", \"거짓으로 불리한 여론\", \"한 번도 경험하지 못한 나라\"]"
   ]
  },
  {
   "cell_type": "code",
   "execution_count": 6,
   "metadata": {
    "collapsed": true,
    "jupyter": {
     "outputs_hidden": true
    }
   },
   "outputs": [
    {
     "data": {
      "text/plain": [
       "'국민 여러분들의 위대한 선택'"
      ]
     },
     "execution_count": 6,
     "metadata": {},
     "output_type": "execute_result"
    }
   ],
   "source": [
    "slide1[0]"
   ]
  },
  {
   "cell_type": "code",
   "execution_count": 24,
   "metadata": {},
   "outputs": [],
   "source": [
    "from pptx import Presentation\n",
    "from pptx.enum.shapes import MSO_SHAPE\n",
    "from pptx.util import Inches, Pt\n",
    "\n",
    "prs = Presentation(\"template.pptx\") \n",
    "slide_0 = prs.slides[0]\n",
    "slide_0.shapes.title.text = #slide1[0]\n",
    "\n",
    "left = Inches(4)\n",
    "top = Inches(3)\n",
    "width = Inches(2)\n",
    "height = Inches(1)\n",
    "txBox = slide_0.shapes.add_textbox(left, top, width, height)\n",
    "tf = txBox.text_frame\n",
    "p = tf.add_paragraph()\n",
    "p.font.bold = True\n",
    "p.font.size = Pt(30)\n",
    "p.text = #slide1[1]\n",
    "\n",
    "top = Inches(5)\n",
    "txBox = slide_0.shapes.add_textbox(left, top, width, height)\n",
    "tf = txBox.text_frame\n",
    "p = tf.add_paragraph()\n",
    "p.font.bold = True\n",
    "p.font.size = Pt(30)\n",
    "p.text = #slide1[2]\n",
    "\n",
    "#prs.save('test.pptx')"
   ]
  }
 ],
 "metadata": {
  "kernelspec": {
   "display_name": "Python 3",
   "language": "python",
   "name": "python3"
  },
  "language_info": {
   "codemirror_mode": {
    "name": "ipython",
    "version": 3
   },
   "file_extension": ".py",
   "mimetype": "text/x-python",
   "name": "python",
   "nbconvert_exporter": "python",
   "pygments_lexer": "ipython3",
   "version": "3.7.3"
  }
 },
 "nbformat": 4,
 "nbformat_minor": 4
}
