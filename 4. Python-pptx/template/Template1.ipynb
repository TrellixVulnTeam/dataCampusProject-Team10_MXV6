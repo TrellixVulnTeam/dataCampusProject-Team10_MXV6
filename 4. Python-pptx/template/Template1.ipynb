{
 "cells": [
  {
   "cell_type": "markdown",
   "metadata": {},
   "source": [
    "## Template 1 Customizing"
   ]
  },
  {
   "cell_type": "code",
   "execution_count": 5,
   "metadata": {},
   "outputs": [],
   "source": [
    "from pptx import Presentation\n",
    "from pptx.util import Inches\n",
    "from pptx.enum.shapes import MSO_SHAPE"
   ]
  },
  {
   "cell_type": "code",
   "execution_count": 7,
   "metadata": {},
   "outputs": [],
   "source": [
    "prs = Presentation(\"template1.pptx\")  # 원하는 template 종류 불러오기"
   ]
  },
  {
   "cell_type": "code",
   "execution_count": 850,
   "metadata": {},
   "outputs": [],
   "source": [
    "slide_0 = prs.slides[0] # 제복 slide (제목 슬라이드)"
   ]
  },
  {
   "cell_type": "code",
   "execution_count": 851,
   "metadata": {},
   "outputs": [],
   "source": [
    "slide_0.placeholders.element[4][2][2][1][1].text = \"2020 비즈니스 계획안\" # 슬라이드 제목"
   ]
  },
  {
   "cell_type": "code",
   "execution_count": 716,
   "metadata": {},
   "outputs": [],
   "source": [
    "slide_0.placeholders.element[5][2][2][1][1].text = \"IT개발 사업을 중심으로\" # 슬라이드 소제목"
   ]
  },
  {
   "cell_type": "code",
   "execution_count": 717,
   "metadata": {},
   "outputs": [],
   "source": [
    "slide_0.placeholders.element[6][2][2][1][1].text = \"데이터분석팀 이소연\" # 기타 (소제목보다 작은 )"
   ]
  },
  {
   "cell_type": "code",
   "execution_count": null,
   "metadata": {},
   "outputs": [],
   "source": []
  },
  {
   "cell_type": "code",
   "execution_count": 718,
   "metadata": {},
   "outputs": [],
   "source": [
    "slide_1 = prs.slides[1] # 첫 번째 slide (목차)"
   ]
  },
  {
   "cell_type": "code",
   "execution_count": 719,
   "metadata": {},
   "outputs": [],
   "source": [
    "slide_1.placeholders.element[3][2][2][1][1].text = \"목차\""
   ]
  },
  {
   "cell_type": "code",
   "execution_count": 720,
   "metadata": {},
   "outputs": [],
   "source": [
    "slide_1.placeholders.element[4][2][2][1][1].text = \"About Us\" # 첫 번째"
   ]
  },
  {
   "cell_type": "code",
   "execution_count": 721,
   "metadata": {},
   "outputs": [],
   "source": [
    "slide_1.placeholders.element[5][2][2][1][1].text = \"우리가 왜 대단한 지 알려드림\" # 첫 번째 설명"
   ]
  },
  {
   "cell_type": "code",
   "execution_count": 722,
   "metadata": {},
   "outputs": [],
   "source": [
    "slide_1.placeholders.element[9][2][2][1][1].text = \"Problem\" # 두 번째 "
   ]
  },
  {
   "cell_type": "code",
   "execution_count": 723,
   "metadata": {},
   "outputs": [],
   "source": [
    "slide_1.placeholders.element[22][2][2][1][1].text = \"현황 및 문제점\" # 두 번째 설명"
   ]
  },
  {
   "cell_type": "code",
   "execution_count": 724,
   "metadata": {},
   "outputs": [],
   "source": [
    "slide_1.placeholders.element[13][2][2][1][1].text = \"Research\" # 세 번째 "
   ]
  },
  {
   "cell_type": "code",
   "execution_count": 725,
   "metadata": {},
   "outputs": [],
   "source": [
    "slide_1.placeholders.element[23][2][2][1][1].text = \"해결책을 찾기 위해 연구\" # 세 번째 설명"
   ]
  },
  {
   "cell_type": "code",
   "execution_count": 726,
   "metadata": {},
   "outputs": [],
   "source": [
    "slide_1.placeholders.element[17][2][2][1][1].text = \"Solution\""
   ]
  },
  {
   "cell_type": "code",
   "execution_count": 727,
   "metadata": {},
   "outputs": [],
   "source": [
    "slide_1.placeholders.element[24][2][2][1][1].text = \"우리가 개발한 솔루션\" # 네 번째 설명"
   ]
  },
  {
   "cell_type": "code",
   "execution_count": null,
   "metadata": {},
   "outputs": [],
   "source": []
  },
  {
   "cell_type": "code",
   "execution_count": 837,
   "metadata": {},
   "outputs": [],
   "source": [
    "slide_2 = prs.slides[2] # 두 번째 slide"
   ]
  },
  {
   "cell_type": "code",
   "execution_count": 729,
   "metadata": {},
   "outputs": [],
   "source": [
    "slide_2.placeholders.element[3][2][2][1][1].text = \"About Us\" # 두 번째 슬라이드 제목"
   ]
  },
  {
   "cell_type": "code",
   "execution_count": 730,
   "metadata": {},
   "outputs": [],
   "source": [
    "slide_2.placeholders.element[22][2][2][1][1].text = \"우리 회사\" # 사진 제목"
   ]
  },
  {
   "cell_type": "code",
   "execution_count": 843,
   "metadata": {},
   "outputs": [
    {
     "data": {
      "text/plain": [
       "'blah'"
      ]
     },
     "execution_count": 843,
     "metadata": {},
     "output_type": "execute_result"
    }
   ],
   "source": [
    "slide_2.placeholders.element[4][2][2][1][1].text = \"우리 회사가 짱이예요!\" # 사진에 대한 추가 설명"
   ]
  },
  {
   "cell_type": "code",
   "execution_count": 732,
   "metadata": {},
   "outputs": [],
   "source": [
    "slide_2.placeholders.element[7][2][2][1][1].text = \"첫 번째\" # Top left box title"
   ]
  },
  {
   "cell_type": "code",
   "execution_count": 733,
   "metadata": {},
   "outputs": [],
   "source": [
    "slide_2.placeholders.element[8][2][2][1][1].text = \"우리는 예뻐요!\" # 첫번 째 box description"
   ]
  },
  {
   "cell_type": "code",
   "execution_count": 734,
   "metadata": {},
   "outputs": [],
   "source": [
    "slide_2.placeholders.element[18][2][2][1][1].text = \"두 번째\" # Top Right box title"
   ]
  },
  {
   "cell_type": "code",
   "execution_count": 735,
   "metadata": {},
   "outputs": [],
   "source": [
    "slide_2.placeholders.element[12][2][2][1][1].text = \"우리는 멋져요!\" # 두번 째 box description"
   ]
  },
  {
   "cell_type": "code",
   "execution_count": 736,
   "metadata": {},
   "outputs": [],
   "source": [
    "slide_2.placeholders.element[19][2][2][1][1].text = \"세 번째\" # Bottom left box title"
   ]
  },
  {
   "cell_type": "code",
   "execution_count": 737,
   "metadata": {},
   "outputs": [],
   "source": [
    "slide_2.placeholders.element[21][2][2][1][1].text = \"우리는 아름다워요!\" # 세번 째 box description"
   ]
  },
  {
   "cell_type": "code",
   "execution_count": 738,
   "metadata": {},
   "outputs": [],
   "source": [
    "slide_2.placeholders.element[20][2][2][1][1].text = \"네 번째\" # Bottom right box title"
   ]
  },
  {
   "cell_type": "code",
   "execution_count": 739,
   "metadata": {},
   "outputs": [],
   "source": [
    "slide_2.placeholders.element[22][2][2][1][1].text = \"우리는 최고에요!\""
   ]
  },
  {
   "cell_type": "code",
   "execution_count": null,
   "metadata": {},
   "outputs": [],
   "source": []
  },
  {
   "cell_type": "code",
   "execution_count": 740,
   "metadata": {},
   "outputs": [],
   "source": [
    "slide_3 = prs.slides[3] # 세 번째 slide"
   ]
  },
  {
   "cell_type": "code",
   "execution_count": 741,
   "metadata": {},
   "outputs": [],
   "source": [
    "slide_3.placeholders.element[3][2][2][1][1].text = \"Problem\" # 세 번째 장 제목"
   ]
  },
  {
   "cell_type": "code",
   "execution_count": 742,
   "metadata": {},
   "outputs": [],
   "source": [
    "slide_3.placeholders.element[18][2][2][1][1].text = \"세 번째 장 부제목\""
   ]
  },
  {
   "cell_type": "code",
   "execution_count": 743,
   "metadata": {},
   "outputs": [],
   "source": [
    "slide_3.placeholders.element[19][2][2][1][1].text = \"부제목에 대한 설명\""
   ]
  },
  {
   "cell_type": "code",
   "execution_count": 744,
   "metadata": {},
   "outputs": [],
   "source": [
    "slide_3.placeholders.element[5][2][2][1][1].text = \"1\" # 첫 번째 동그라미"
   ]
  },
  {
   "cell_type": "code",
   "execution_count": 745,
   "metadata": {},
   "outputs": [],
   "source": [
    "slide_3.placeholders.element[7][2][2][1][1].text = \"첫 번째\" "
   ]
  },
  {
   "cell_type": "code",
   "execution_count": 746,
   "metadata": {},
   "outputs": [],
   "source": [
    "slide_3.placeholders.element[6][2][2][1][1].text = \"첫 번째 목차에 대한 설명\""
   ]
  },
  {
   "cell_type": "code",
   "execution_count": 747,
   "metadata": {},
   "outputs": [],
   "source": [
    "slide_3.placeholders.element[22][2][2][1][1].text = \"0\" # 두 번째 동그라미"
   ]
  },
  {
   "cell_type": "code",
   "execution_count": 748,
   "metadata": {},
   "outputs": [],
   "source": [
    "slide_3.placeholders.element[9][2][2][1][1].text = \"두 번째\" "
   ]
  },
  {
   "cell_type": "code",
   "execution_count": 749,
   "metadata": {},
   "outputs": [],
   "source": [
    "slide_3.placeholders.element[8][2][2][1][1].text = \"두 번째 목차에 대한 설명\""
   ]
  },
  {
   "cell_type": "code",
   "execution_count": 750,
   "metadata": {},
   "outputs": [],
   "source": [
    "slide_3.placeholders.element[11][2][2][1][1].text = \"조\" # 세 번째 동그라미 "
   ]
  },
  {
   "cell_type": "code",
   "execution_count": 751,
   "metadata": {},
   "outputs": [],
   "source": [
    "slide_3.placeholders.element[12][2][2][1][1].text = \"세 번째 목차에 대한 설명\""
   ]
  },
  {
   "cell_type": "code",
   "execution_count": 752,
   "metadata": {},
   "outputs": [],
   "source": [
    "slide_3.placeholders.element[13][2][2][1][1].text = \"세 번째\""
   ]
  },
  {
   "cell_type": "code",
   "execution_count": 753,
   "metadata": {},
   "outputs": [],
   "source": [
    "slide_3.placeholders.element[15][2][2][1][1].text = \"짱\" # 네 번째 동그라미"
   ]
  },
  {
   "cell_type": "code",
   "execution_count": 754,
   "metadata": {},
   "outputs": [],
   "source": [
    "slide_3.placeholders.element[16][2][2][1][1].text = \"네 번째 목차에 대한 설명\""
   ]
  },
  {
   "cell_type": "code",
   "execution_count": 755,
   "metadata": {},
   "outputs": [],
   "source": [
    "slide_3.placeholders.element[17][2][2][1][1].text = \"네 번째\""
   ]
  },
  {
   "cell_type": "code",
   "execution_count": null,
   "metadata": {},
   "outputs": [],
   "source": []
  },
  {
   "cell_type": "code",
   "execution_count": 756,
   "metadata": {},
   "outputs": [],
   "source": [
    "slide_4 = prs.slides[4] # 네 번째 slide"
   ]
  },
  {
   "cell_type": "code",
   "execution_count": 757,
   "metadata": {},
   "outputs": [],
   "source": [
    "slide_4.placeholders.element[3][2][2][1][1].text = \"Problem\" # 네 번째 장 제목"
   ]
  },
  {
   "cell_type": "code",
   "execution_count": 758,
   "metadata": {},
   "outputs": [],
   "source": [
    "slide_4.placeholders.element[4][2][2][1][1].text = \"현황 분석\" # 네 번째 장 부제목"
   ]
  },
  {
   "cell_type": "code",
   "execution_count": 759,
   "metadata": {},
   "outputs": [],
   "source": [
    "slide_4.placeholders.element[5][2][2][1][1].text = \"다음은 현재 상황에 대한 설문조사 응답 차트입니다\" # 슬라이드 내 차트 설명"
   ]
  },
  {
   "cell_type": "code",
   "execution_count": 760,
   "metadata": {},
   "outputs": [],
   "source": [
    "slide_4.placeholders.element[18][2][2][1][1].text = \"Our Profits\" # 차트 제목"
   ]
  },
  {
   "cell_type": "code",
   "execution_count": 761,
   "metadata": {},
   "outputs": [],
   "source": [
    "slide_4.placeholders.element[21][2][2][1][1].text = \"1월 ~ 9월 현황조사\" # 차트 내 서브 타이틀"
   ]
  },
  {
   "cell_type": "code",
   "execution_count": 762,
   "metadata": {},
   "outputs": [],
   "source": [
    "slide_4.placeholders.element[19][2][2][1][1].text = \"This is out profits\" # 차트 내 추가 설명"
   ]
  },
  {
   "cell_type": "code",
   "execution_count": 763,
   "metadata": {},
   "outputs": [],
   "source": [
    "# 가로\n",
    "slide_4.placeholders.element[13][2][2][1][1].text = \"1월\"\n",
    "slide_4.placeholders.element[14][2][2][1][1].text = \"2월\"\n",
    "slide_4.placeholders.element[15][2][2][1][1].text = \"3월\"\n",
    "slide_4.placeholders.element[16][2][2][1][1].text = \"4월\"\n",
    "slide_4.placeholders.element[17][2][2][1][1].text = \"5월\"\n",
    "slide_4.placeholders.element[26][2][2][1][1].text = \"6월\"\n",
    "slide_4.placeholders.element[27][2][2][1][1].text = \"7월\"\n",
    "slide_4.placeholders.element[28][2][2][1][1].text = \"8월\"\n",
    "slide_4.placeholders.element[30][2][2][1][1].text = \"9월\""
   ]
  },
  {
   "cell_type": "code",
   "execution_count": 764,
   "metadata": {},
   "outputs": [],
   "source": [
    "# 세로\n",
    "slide_4.placeholders.element[22][2][2][1][1].text = \"500\"\n",
    "slide_4.placeholders.element[22][2][4][1][1].text = \"400\"\n",
    "slide_4.placeholders.element[22][2][6][1][1].text = \"300\"\n",
    "slide_4.placeholders.element[22][2][8][1][1].text = \"200\"\n",
    "slide_4.placeholders.element[22][2][10][1][1].text = \"100\""
   ]
  },
  {
   "cell_type": "code",
   "execution_count": null,
   "metadata": {},
   "outputs": [],
   "source": []
  },
  {
   "cell_type": "code",
   "execution_count": 765,
   "metadata": {},
   "outputs": [],
   "source": [
    "slide_5 = prs.slides[5] # 다섯 번째 slide"
   ]
  },
  {
   "cell_type": "code",
   "execution_count": 766,
   "metadata": {},
   "outputs": [],
   "source": [
    "slide_5.placeholders.element[3][2][2][1][1].text = \"Research\" # 다섯 번째 장 제목"
   ]
  },
  {
   "cell_type": "code",
   "execution_count": 767,
   "metadata": {},
   "outputs": [],
   "source": [
    "slide_5.placeholders.element[12][2][2][1][1].text = \"첫 번째 박스 제목\""
   ]
  },
  {
   "cell_type": "code",
   "execution_count": 768,
   "metadata": {},
   "outputs": [],
   "source": [
    "slide_5.placeholders.element[8][2][2][1][1].text = \"첫 번째 박스 설명\""
   ]
  },
  {
   "cell_type": "code",
   "execution_count": 769,
   "metadata": {},
   "outputs": [],
   "source": [
    "slide_5.placeholders.element[9][2][2][1][1].text = \"두 번째 박스 제목\""
   ]
  },
  {
   "cell_type": "code",
   "execution_count": 770,
   "metadata": {},
   "outputs": [],
   "source": [
    "slide_5.placeholders.element[10][2][2][1][1].text = \"두 번째 박스 설명\""
   ]
  },
  {
   "cell_type": "code",
   "execution_count": null,
   "metadata": {},
   "outputs": [],
   "source": []
  },
  {
   "cell_type": "code",
   "execution_count": 771,
   "metadata": {},
   "outputs": [],
   "source": [
    "slide_6 = prs.slides[6] # 여섯 번째 slide"
   ]
  },
  {
   "cell_type": "code",
   "execution_count": 772,
   "metadata": {},
   "outputs": [],
   "source": [
    "slide_6.placeholders.element[3][2][2][1][1].text = \"Research\" # 여섯 번째 장 제목"
   ]
  },
  {
   "cell_type": "code",
   "execution_count": 773,
   "metadata": {},
   "outputs": [],
   "source": [
    "slide_6.placeholders.element[8][2][2][1][1].text = \"01\" # 첫 번째 육각형"
   ]
  },
  {
   "cell_type": "code",
   "execution_count": 774,
   "metadata": {},
   "outputs": [],
   "source": [
    "slide_6.placeholders.element[22][2][2][1][1].text = \"첫 번째 육각형 밖 제목\""
   ]
  },
  {
   "cell_type": "code",
   "execution_count": 775,
   "metadata": {},
   "outputs": [],
   "source": [
    "slide_6.placeholders.element[21][2][2][1][1].text = \"첫 번째 육각형 밖 설명\""
   ]
  },
  {
   "cell_type": "code",
   "execution_count": 776,
   "metadata": {},
   "outputs": [],
   "source": [
    "slide_6.placeholders.element[23][2][2][1][1].text = \"첫 번째 육각형 안\""
   ]
  },
  {
   "cell_type": "code",
   "execution_count": 777,
   "metadata": {},
   "outputs": [],
   "source": [
    "slide_6.placeholders.element[9][2][2][1][1].text = \"02\" # 두 번째 육각형"
   ]
  },
  {
   "cell_type": "code",
   "execution_count": 778,
   "metadata": {},
   "outputs": [],
   "source": [
    "slide_6.placeholders.element[16][2][2][1][1].text = \"두 번째 육각형 밖 제목\""
   ]
  },
  {
   "cell_type": "code",
   "execution_count": 779,
   "metadata": {},
   "outputs": [],
   "source": [
    "slide_6.placeholders.element[15][2][2][1][1].text = \"두 번째 육각형 밖 설명\""
   ]
  },
  {
   "cell_type": "code",
   "execution_count": 780,
   "metadata": {},
   "outputs": [],
   "source": [
    "slide_6.placeholders.element[10][2][2][1][1].text = \"두 번째 육각형 안\""
   ]
  },
  {
   "cell_type": "code",
   "execution_count": 781,
   "metadata": {},
   "outputs": [],
   "source": [
    "slide_6.placeholders.element[13][2][2][1][1].text = \"03\" # 세 번째 육각형"
   ]
  },
  {
   "cell_type": "code",
   "execution_count": 782,
   "metadata": {},
   "outputs": [],
   "source": [
    "slide_6.placeholders.element[20][2][2][1][1].text = \"세 번째 육각형 밖 제목\""
   ]
  },
  {
   "cell_type": "code",
   "execution_count": 783,
   "metadata": {},
   "outputs": [],
   "source": [
    "slide_6.placeholders.element[19][2][2][1][1].text = \"세 번째 육각형 밖 설명\""
   ]
  },
  {
   "cell_type": "code",
   "execution_count": 784,
   "metadata": {},
   "outputs": [],
   "source": [
    "slide_6.placeholders.element[14][2][2][1][1].text = \"세 번째 육각형 안\""
   ]
  },
  {
   "cell_type": "code",
   "execution_count": 785,
   "metadata": {},
   "outputs": [],
   "source": [
    "slide_6.placeholders.element[11][2][2][1][1].text = \"04\" # 네 번째 육각형"
   ]
  },
  {
   "cell_type": "code",
   "execution_count": 786,
   "metadata": {},
   "outputs": [],
   "source": [
    "slide_6.placeholders.element[18][2][2][1][1].text = \"네 번째 육각형 밖 제목\""
   ]
  },
  {
   "cell_type": "code",
   "execution_count": 787,
   "metadata": {},
   "outputs": [],
   "source": [
    "slide_6.placeholders.element[17][2][2][1][1].text = \"네 번째 육각형 밖 설명\""
   ]
  },
  {
   "cell_type": "code",
   "execution_count": 788,
   "metadata": {},
   "outputs": [],
   "source": [
    "slide_6.placeholders.element[12][2][2][1][1].text = \"네 번째 육각형 안\""
   ]
  },
  {
   "cell_type": "code",
   "execution_count": null,
   "metadata": {},
   "outputs": [],
   "source": []
  },
  {
   "cell_type": "code",
   "execution_count": 789,
   "metadata": {},
   "outputs": [],
   "source": [
    "slide_7 = prs.slides[7] # 일곱 번째 slide"
   ]
  },
  {
   "cell_type": "code",
   "execution_count": 790,
   "metadata": {},
   "outputs": [],
   "source": [
    "slide_7.placeholders.element[7][2][2][1][1].text = \"Solution\" # 일곱 번째 장 제목"
   ]
  },
  {
   "cell_type": "code",
   "execution_count": 791,
   "metadata": {},
   "outputs": [],
   "source": [
    "slide_7.placeholders.element[11][2][2][1][1].text = \"01\" # 첫 번째"
   ]
  },
  {
   "cell_type": "code",
   "execution_count": 792,
   "metadata": {},
   "outputs": [],
   "source": [
    "slide_7.placeholders.element[10][2][2][1][1].text = \"첫 번째 주제\""
   ]
  },
  {
   "cell_type": "code",
   "execution_count": 793,
   "metadata": {},
   "outputs": [],
   "source": [
    "slide_7.placeholders.element[9][2][2][1][1].text = \"첫 번째 주제 내용\""
   ]
  },
  {
   "cell_type": "code",
   "execution_count": 794,
   "metadata": {},
   "outputs": [],
   "source": [
    "slide_7.placeholders.element[12][2][2][1][1].text = \"첫 번째 도형 제목\""
   ]
  },
  {
   "cell_type": "code",
   "execution_count": 795,
   "metadata": {},
   "outputs": [],
   "source": [
    "slide_7.placeholders.element[13][2][2][1][1].text = \"첫 번째 도형 내용\""
   ]
  },
  {
   "cell_type": "code",
   "execution_count": 796,
   "metadata": {},
   "outputs": [],
   "source": [
    "slide_7.placeholders.element[14][2][2][1][1].text = \"02\" # 두 번째"
   ]
  },
  {
   "cell_type": "code",
   "execution_count": 797,
   "metadata": {},
   "outputs": [],
   "source": [
    "slide_7.placeholders.element[25][2][2][1][1].text = \"두 번째 주제\""
   ]
  },
  {
   "cell_type": "code",
   "execution_count": 798,
   "metadata": {},
   "outputs": [],
   "source": [
    "slide_7.placeholders.element[24][2][2][1][1].text = \"두 번째 주제 내용\""
   ]
  },
  {
   "cell_type": "code",
   "execution_count": 799,
   "metadata": {},
   "outputs": [],
   "source": [
    "slide_7.placeholders.element[15][2][2][1][1].text = \"두 번째 도형 제목\""
   ]
  },
  {
   "cell_type": "code",
   "execution_count": 800,
   "metadata": {},
   "outputs": [],
   "source": [
    "slide_7.placeholders.element[16][2][2][1][1].text = \"두 번째 도형 내용\""
   ]
  },
  {
   "cell_type": "code",
   "execution_count": 801,
   "metadata": {},
   "outputs": [],
   "source": [
    "slide_7.placeholders.element[20][2][2][1][1].text = \"03\" # 세 번째"
   ]
  },
  {
   "cell_type": "code",
   "execution_count": 802,
   "metadata": {},
   "outputs": [],
   "source": [
    "slide_7.placeholders.element[28][2][2][1][1].text = \"세 번째 주제\""
   ]
  },
  {
   "cell_type": "code",
   "execution_count": 803,
   "metadata": {},
   "outputs": [],
   "source": [
    "slide_7.placeholders.element[27][2][2][1][1].text = \"세 번째 주제 내용\""
   ]
  },
  {
   "cell_type": "code",
   "execution_count": 804,
   "metadata": {},
   "outputs": [],
   "source": [
    "slide_7.placeholders.element[21][2][2][1][1].text = \"세 번째 도형 제목\""
   ]
  },
  {
   "cell_type": "code",
   "execution_count": 805,
   "metadata": {},
   "outputs": [],
   "source": [
    "slide_7.placeholders.element[22][2][2][1][1].text = \"세 번째 도형 내용\""
   ]
  },
  {
   "cell_type": "code",
   "execution_count": 806,
   "metadata": {},
   "outputs": [],
   "source": [
    "slide_7.placeholders.element[17][2][2][1][1].text = \"04\" # 네 번째"
   ]
  },
  {
   "cell_type": "code",
   "execution_count": 807,
   "metadata": {},
   "outputs": [],
   "source": [
    "slide_7.placeholders.element[31][2][2][1][1].text = \"네 번째 주제\""
   ]
  },
  {
   "cell_type": "code",
   "execution_count": 808,
   "metadata": {},
   "outputs": [],
   "source": [
    "slide_7.placeholders.element[30][2][2][1][1].text = \"네 번째 주제 내용\""
   ]
  },
  {
   "cell_type": "code",
   "execution_count": 809,
   "metadata": {},
   "outputs": [],
   "source": [
    "slide_7.placeholders.element[18][2][2][1][1].text = \"네 번째 도형 제목\""
   ]
  },
  {
   "cell_type": "code",
   "execution_count": 810,
   "metadata": {},
   "outputs": [],
   "source": [
    "slide_7.placeholders.element[19][2][2][1][1].text = \"네 번째 도형 내용\""
   ]
  },
  {
   "cell_type": "code",
   "execution_count": null,
   "metadata": {},
   "outputs": [],
   "source": []
  },
  {
   "cell_type": "code",
   "execution_count": 811,
   "metadata": {},
   "outputs": [],
   "source": [
    "slide_8 = prs.slides[8] # 여덟 번째 slide"
   ]
  },
  {
   "cell_type": "code",
   "execution_count": 812,
   "metadata": {},
   "outputs": [],
   "source": [
    "slide_8.placeholders.element[3][2][2][1][1].text = \"Solution\" # 여덟 번째 슬라이드 제목"
   ]
  },
  {
   "cell_type": "code",
   "execution_count": 813,
   "metadata": {},
   "outputs": [],
   "source": [
    "slide_8.placeholders.element[6][2][2][1][1].text = \"첫 번째 주제\""
   ]
  },
  {
   "cell_type": "code",
   "execution_count": 814,
   "metadata": {},
   "outputs": [],
   "source": [
    "slide_8.placeholders.element[7][2][2][1][1].text = \"첫 번째 주제에 대한 설명\""
   ]
  },
  {
   "cell_type": "code",
   "execution_count": 815,
   "metadata": {},
   "outputs": [],
   "source": [
    "slide_8.placeholders.element[18][2][2][1][1].text = \"두 번째 주제\""
   ]
  },
  {
   "cell_type": "code",
   "execution_count": 816,
   "metadata": {},
   "outputs": [],
   "source": [
    "slide_8.placeholders.element[19][2][2][1][1].text = \"두 번째 주제에 대한 설명\""
   ]
  },
  {
   "cell_type": "code",
   "execution_count": 817,
   "metadata": {},
   "outputs": [],
   "source": [
    "slide_8.placeholders.element[12][2][2][1][1].text = \"첫 번째 포인트\""
   ]
  },
  {
   "cell_type": "code",
   "execution_count": 818,
   "metadata": {},
   "outputs": [],
   "source": [
    "slide_8.placeholders.element[11][2][2][1][1].text = \"첫 번째 포인트에 대한 내용\""
   ]
  },
  {
   "cell_type": "code",
   "execution_count": 819,
   "metadata": {},
   "outputs": [],
   "source": [
    "slide_8.placeholders.element[15][2][2][1][1].text = \"두 번째 포인트\""
   ]
  },
  {
   "cell_type": "code",
   "execution_count": 820,
   "metadata": {},
   "outputs": [],
   "source": [
    "slide_8.placeholders.element[14][2][2][1][1].text = \"두 번째 포인트에 대한 내용\""
   ]
  },
  {
   "cell_type": "code",
   "execution_count": null,
   "metadata": {},
   "outputs": [],
   "source": []
  },
  {
   "cell_type": "code",
   "execution_count": 821,
   "metadata": {},
   "outputs": [],
   "source": [
    "slide_9 = prs.slides[9] # 아홉 번째 slide"
   ]
  },
  {
   "cell_type": "code",
   "execution_count": 822,
   "metadata": {},
   "outputs": [],
   "source": [
    "slide_9.placeholders.element[4][2][2][1][1].text = \"Solution\" # 아홉 번째 슬라이드 제목"
   ]
  },
  {
   "cell_type": "code",
   "execution_count": 823,
   "metadata": {},
   "outputs": [],
   "source": [
    "slide_9.placeholders.element[5][2][2][1][1].text = \"첫 번째 키워드\""
   ]
  },
  {
   "cell_type": "code",
   "execution_count": 824,
   "metadata": {},
   "outputs": [],
   "source": [
    "slide_9.placeholders.element[10][2][2][1][1].text = \"첫 번째 설명\""
   ]
  },
  {
   "cell_type": "code",
   "execution_count": 825,
   "metadata": {},
   "outputs": [],
   "source": [
    "slide_9.placeholders.element[6][2][2][1][1].text = \"두 번째 키워드\""
   ]
  },
  {
   "cell_type": "code",
   "execution_count": 826,
   "metadata": {},
   "outputs": [],
   "source": [
    "slide_9.placeholders.element[11][2][2][1][1].text = \"두 번째 설명\""
   ]
  },
  {
   "cell_type": "code",
   "execution_count": 827,
   "metadata": {},
   "outputs": [],
   "source": [
    "slide_9.placeholders.element[7][2][2][1][1].text = \"세 번째 키워드\""
   ]
  },
  {
   "cell_type": "code",
   "execution_count": 828,
   "metadata": {},
   "outputs": [],
   "source": [
    "slide_9.placeholders.element[12][2][2][1][1].text = \"세 번째 설명\""
   ]
  },
  {
   "cell_type": "code",
   "execution_count": 829,
   "metadata": {},
   "outputs": [],
   "source": [
    "slide_9.placeholders.element[8][2][2][1][1].text = \"네 번째 키워드\""
   ]
  },
  {
   "cell_type": "code",
   "execution_count": 830,
   "metadata": {},
   "outputs": [],
   "source": [
    "slide_9.placeholders.element[13][2][2][1][1].text = \"네 번째 설명\""
   ]
  },
  {
   "cell_type": "code",
   "execution_count": 831,
   "metadata": {},
   "outputs": [],
   "source": [
    "slide_9.placeholders.element[9][2][2][1][1].text = \"다섯 번째 키워드\""
   ]
  },
  {
   "cell_type": "code",
   "execution_count": 832,
   "metadata": {},
   "outputs": [],
   "source": [
    "slide_9.placeholders.element[14][2][2][1][1].text = \"다섯 번째 설명\""
   ]
  },
  {
   "cell_type": "code",
   "execution_count": null,
   "metadata": {},
   "outputs": [],
   "source": []
  },
  {
   "cell_type": "code",
   "execution_count": 833,
   "metadata": {},
   "outputs": [],
   "source": [
    "slide_10 = prs.slides[10] # 열 번째 slide"
   ]
  },
  {
   "cell_type": "code",
   "execution_count": 834,
   "metadata": {},
   "outputs": [],
   "source": [
    "slide_10.placeholders.element[4][2][2][1][1].text = \"감사합니다\""
   ]
  },
  {
   "cell_type": "code",
   "execution_count": 835,
   "metadata": {},
   "outputs": [],
   "source": [
    "slide_10.placeholders.element[5][2][2][1][1].text = \"디자인팀 이소연\""
   ]
  },
  {
   "cell_type": "code",
   "execution_count": null,
   "metadata": {},
   "outputs": [],
   "source": []
  },
  {
   "cell_type": "code",
   "execution_count": 836,
   "metadata": {},
   "outputs": [],
   "source": [
    "prs.save('test1.pptx') "
   ]
  },
  {
   "cell_type": "code",
   "execution_count": null,
   "metadata": {},
   "outputs": [],
   "source": []
  }
 ],
 "metadata": {
  "kernelspec": {
   "display_name": "Python 3",
   "language": "python",
   "name": "python3"
  },
  "language_info": {
   "codemirror_mode": {
    "name": "ipython",
    "version": 3
   },
   "file_extension": ".py",
   "mimetype": "text/x-python",
   "name": "python",
   "nbconvert_exporter": "python",
   "pygments_lexer": "ipython3",
   "version": "3.8.3"
  }
 },
 "nbformat": 4,
 "nbformat_minor": 4
}
