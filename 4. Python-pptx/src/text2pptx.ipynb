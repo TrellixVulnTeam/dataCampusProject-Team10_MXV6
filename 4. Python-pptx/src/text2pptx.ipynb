{
 "cells": [
  {
   "cell_type": "code",
   "execution_count": 219,
   "metadata": {},
   "outputs": [],
   "source": [
    "from pptx import Presentation\n",
    "from pptx.util import Inches\n",
    "from pptx.enum.shapes import MSO_SHAPE\n",
    "from konlpy.tag import Okt\n",
    "import os\n",
    "okt = Okt()"
   ]
  },
  {
   "cell_type": "code",
   "execution_count": 235,
   "metadata": {},
   "outputs": [],
   "source": [
    "def cleanText(relation, summary):\n",
    "    temp = relation.split(\"<br><br>\")\n",
    "    temp = [t.replace(\"\\n\",\"\") for t in temp]\n",
    "    temp = [t for t in temp if t]\n",
    "    total=[]\n",
    "    for tmp in temp:\n",
    "        if tmp:\n",
    "            q = tmp.split(\"<br>\")\n",
    "    total.append(q)\n",
    "    summary = [i for i in summary.split('\\n') if i]\n",
    "    return ep, summary\n",
    "def checkJosa(v):\n",
    "    stopwords=\"은 는 이 가 의 으로 하고 하는 데 할 에 에게는 가령 이나\"\n",
    "    stop_words=stopwords.split(' ')\n",
    "    word_tokens = okt.morphs(v)\n",
    "    result=[word for word in word_tokens if not word in stop_words and word]\n",
    "    return \" \".join(result)"
   ]
  },
  {
   "cell_type": "code",
   "execution_count": 236,
   "metadata": {},
   "outputs": [],
   "source": [
    "relation = '''\n",
    "근대 ➜ 사회 핵심 이념<br>인간 ➜ 가령 인종 이나 성별 과 상관없이 누구 나 평등하다고<br>모든 인간 ➜ 평등하다고<br>모든 인간 을 모든 측면 에서 ➜ 똑같이<br>평등 대한 요구 ➜ 모든 불평등 을 악 보는 것 아니라 충분한 이유 제시 되지 않은 불평 등 을 제거<br>차별 대우 를 ➜<br>특정한 부류 ➜ 사람 들<br>그 ➜ 어떤 규칙<br>롤스 ➜ 형식 적 정의 따라 규칙 을 준수 것 만으로는 정의 를 담보 수 없다고<br>실질 적 ➜ 정의 보장 되기<br><br>\n",
    "'''"
   ]
  },
  {
   "cell_type": "code",
   "execution_count": 237,
   "metadata": {},
   "outputs": [],
   "source": [
    "summary = '''\n",
    "\n",
    "일단 이 말을 모든 인간을 모든 측면에서 똑같이 대우하는 절대적 평등으로 생각하는 이는 없다.\n",
    "\n",
    "이것은 어떤 이유 가 제시된다면 특정한 부류에 속하는 사람들에게는 평등 한 대우를, 그 부류에 속하지 않는 사람들에게는 차별적 대우를 하는 것을 허용한다.\n",
    "\n",
    "하지만 이러한 자연권 이론 은 무엇이 자연적 권리이고 권리의 존재 가 자명한 이유 가 무엇인지 등의 문제에 부딪 이게 된다.\n",
    "'''"
   ]
  },
  {
   "cell_type": "code",
   "execution_count": 238,
   "metadata": {},
   "outputs": [],
   "source": [
    "def createPPTX(title, relation, summary, keys, ppt_dir):\n",
    "  t_len = len(summary)\n",
    "  prs = Presentation(os.path.join(ppt_dir,\"final_template.pptx\"))\n",
    "  slides=[]\n",
    "  for i in range(t_len):\n",
    "    slides.append(prs.slides[i])\n",
    "  for i in range(t_len):\n",
    "    print(i)\n",
    "    if i==0:\n",
    "        slides[0].placeholders.element[4][2][2][1][1].text = title\n",
    "        slides[0].placeholders.element[5][2][2][1][1].text = summary[0]\n",
    "        slides[0].placeholders.element[6][2][2][1][1].text = relation[i][0]\n",
    "        \n",
    "        \n",
    "    elif i == 1:\n",
    "        \n",
    "        '''\n",
    "        slide_1.placeholders.element[3][2][2][1][1].text = \"화살표 이전 내용\"\n",
    "        slide_1.placeholders.element[17][2][2][1][1].text = \"화살표 이후 내용\"\n",
    "        slide_1.placeholders.element[5][2][2][1][1].text = \"첫 번째 설명\"\n",
    "        slide_1.placeholders.element[15][2][2][1][1].text = \"두번째 설명\" \n",
    "        slide_1.placeholders.element[16][2][2][1][1].text =\"세번째 설명\"\n",
    "        '''\n",
    "        p = relation[i-1][1].split(\"➜\")\n",
    "        slides[i].placeholders.element[3][2][2][1][1].text=checkJosa(p[0])\n",
    "        slides[i].placeholders.element[17][2][2][1][1].text = checkJosa(p[1])\n",
    "        sub = [slides[i].placeholders.element[5][2][2][1][1].text,slides[1].placeholders.element[15][2][2][1][1].text,slides[1].placeholders.element[16][2][2][1][1].text]\n",
    "        idx = 0\n",
    "        while idx!=len(relation[i-1])-1:\n",
    "            print('실행')\n",
    "            if idx==0:\n",
    "                slides[i].placeholders.element[5][2][2][1][1].text = relation[i-1][idx]\n",
    "            if idx==1:\n",
    "                slides[i].placeholders.element[15][2][2][1][1].text = relation[i-1][idx]\n",
    "            else:\n",
    "                slides[i].placeholders.element[16][2][2][1][1].text = relation[i-1][idx]\n",
    "            idx+=1\n",
    "    elif i == 2:\n",
    "        '''\n",
    "        slide_2 =prs.slides[2] # 두 번째 slide\n",
    "        slide_2.placeholders.element[3][2][2][1][1].text = \"relation\" # 여덟 번째 슬라이드 제목\n",
    "        slide_2.placeholders.element[13][2][2][1][1].text = \"일 번\"\n",
    "        slide_2.placeholders.element[7][2][2][1][1].text = \"이 번\"\n",
    "        slide_2.placeholders.element[9][2][2][1][1].text = \"삼 번\"\n",
    "        slide_2.placeholders.element[12][2][2][1][1].text = \"긴 설명 summary에 적합\"\n",
    "        '''\n",
    "        p = relation[i-1][0].split(\"➜\")\n",
    "        slides[i].placeholders.element[3][2][2][1][1].text=checkJosa(p[0])\n",
    "        slides[i].placeholders.element[12][2][2][1][1].text = checkJosa(p[1])\n",
    "        slides[i].placeholders.element[13][2][2][1][1].text = summary[i-1]\n",
    "        idx = 0\n",
    "        while idx!=len(relation[i-1])-1:\n",
    "            print('실행')\n",
    "            if idx==0:\n",
    "                slides[2].placeholders.element[7][2][2][1][1].text = relation[i-1][idx]\n",
    "            else:\n",
    "                slides[2].placeholders.element[9][2][2][1][1].text = relation[i-1][idx]\n",
    "            idx+=1\n",
    "    elif i == 3:   \n",
    "        '''\n",
    "        slide_3 = prs.slides[3] # 세 번째 slide\n",
    "        slide_3.placeholders.element[3][2][2][1][1].text = \"제목\" # 세 번째 장 제목\n",
    "        slide_3.placeholders.element[8][2][2][1][1].text = \"문단 제목\"\n",
    "        slide_3.placeholders.element[10][2][2][1][1].text = \"문단 내용\"\n",
    "        slide_3.placeholders.element[4][2][2][1][1].text = \"일\"\n",
    "        slide_3.placeholders.element[5][2][2][1][1].text = \"이\"\n",
    "        slide_3.placeholders.element[6][2][2][1][1].text = \"삼\" # 네 번째 동그라미\n",
    "        slide_3.placeholders.element[7][2][2][1][1].text = \"사\"\n",
    "        '''\n",
    "        p = relation[i-1][0].split(\"➜\")\n",
    "        slides[i].placeholders.element[3][2][2][1][1].text = p[0]           \n",
    "        slides[i].placeholders.element[8][2][2][1][1].text = p[1]\n",
    "        slides[i].placeholders.element[10][2][2][1][1].text = summary[i-1]\n",
    "        idx = 0\n",
    "        while idx!=len(relation[i-1])-1:\n",
    "            print('실행')\n",
    "            if idx==0:\n",
    "                slides[i].placeholders.element[4][2][2][1][1].text = relation[i-1][idx]\n",
    "            elif idx==1:\n",
    "                slides[i].placeholders.element[5][2][2][1][1].text = relation[i-1][idx]\n",
    "            elif idx==2:\n",
    "                slides[i].placeholders.element[6][2][2][1][1].text = relation[i-1][idx]\n",
    "            elif idx==3:\n",
    "                slides[i].placeholders.element[7][2][2][1][1].text = relation[i-1][idx]\n",
    "            idx+=1\n",
    "                                        \n",
    "    prs.save('test1.pptx')                                              "
   ]
  },
  {
   "cell_type": "code",
   "execution_count": 239,
   "metadata": {},
   "outputs": [
    {
     "name": "stdout",
     "output_type": "stream",
     "text": [
      "0\n",
      "1\n",
      "실행\n",
      "실행\n",
      "실행\n",
      "2\n",
      "실행\n",
      "실행\n",
      "실행\n"
     ]
    }
   ],
   "source": []
  }
 ],
 "metadata": {
  "kernelspec": {
   "display_name": "Python 3",
   "language": "python",
   "name": "python3"
  },
  "language_info": {
   "codemirror_mode": {
    "name": "ipython",
    "version": 3
   },
   "file_extension": ".py",
   "mimetype": "text/x-python",
   "name": "python",
   "nbconvert_exporter": "python",
   "pygments_lexer": "ipython3",
   "version": "3.8.3"
  }
 },
 "nbformat": 4,
 "nbformat_minor": 4
}
