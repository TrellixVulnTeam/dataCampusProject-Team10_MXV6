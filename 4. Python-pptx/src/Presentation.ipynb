{
 "cells": [
  {
   "cell_type": "code",
   "execution_count": 14,
   "metadata": {},
   "outputs": [],
   "source": [
    "# getting to know python-pptx\n",
    "from pptx import Presentation\n",
    "from pptx.util import Inches\n",
    "prs = Presentation()\n",
    "title_slide_layout = prs.slide_layouts[0] # 0: title layout\n",
    "slide = prs.slides.add_slide(title_slide_layout)\n",
    "title = slide.shapes.title\n",
    "subtitle = slide.placeholders[1]\n",
    "\n",
    "title.text = \"Hello, World!\"\n",
    "subtitle.text = \"python-pptx was here!\""
   ]
  },
  {
   "cell_type": "code",
   "execution_count": 15,
   "metadata": {},
   "outputs": [],
   "source": [
    "bullet_slide_layout = prs.slide_layouts[1] # 1: bullet layout\n",
    "slide_2 = prs.slides.add_slide(bullet_slide_layout)\n",
    "\n",
    "shapes = slide_2.shapes\n",
    "\n",
    "title_shape = shapes.title\n",
    "body_shape = shapes.placeholders[1]\n",
    "\n",
    "title_shape.text = 'Adding a Bullet Slide'\n",
    "\n",
    "tf = body_shape.text_frame\n",
    "tf.text = 'Find the bullet slide layout' # First bullet\n",
    "\n",
    "p = tf.add_paragraph()\n",
    "p.text = 'Use _shape.text for first bullet'\n",
    "p.level = 1 # 커질수록 더 하위 bullet. 그만큼 indentation도 더 들어감.\n",
    "\n",
    "p = tf.add_paragraph()\n",
    "p.text = 'Use _TextFrame.add_paragraph() for subsequent bullets'\n",
    "p.level = 2"
   ]
  },
  {
   "cell_type": "code",
   "execution_count": 16,
   "metadata": {},
   "outputs": [],
   "source": [
    "img_path = 'moon.jpg'\n",
    "\n",
    "blank_slide_layout = prs.slide_layouts[6]\n",
    "slide_3 = prs.slides.add_slide(blank_slide_layout)\n",
    "\n",
    "left = top = Inches(1)\n",
    "pic = slide_3.shapes.add_picture(img_path, left, top)\n",
    "\n",
    "left = Inches(5)\n",
    "height = Inches(5.5)\n",
    "pic = slide_3.shapes.add_picture(img_path, left, top, height=height)\n",
    "\n",
    "prs.save('test.pptx')"
   ]
  },
  {
   "cell_type": "code",
   "execution_count": null,
   "metadata": {},
   "outputs": [],
   "source": []
  }
 ],
 "metadata": {
  "kernelspec": {
   "display_name": "Python 3",
   "language": "python",
   "name": "python3"
  },
  "language_info": {
   "codemirror_mode": {
    "name": "ipython",
    "version": 3
   },
   "file_extension": ".py",
   "mimetype": "text/x-python",
   "name": "python",
   "nbconvert_exporter": "python",
   "pygments_lexer": "ipython3",
   "version": "3.7.3"
  }
 },
 "nbformat": 4,
 "nbformat_minor": 4
}
