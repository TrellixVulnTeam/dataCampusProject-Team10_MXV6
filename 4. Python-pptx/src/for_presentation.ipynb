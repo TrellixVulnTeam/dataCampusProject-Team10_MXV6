{
 "cells": [
  {
   "cell_type": "code",
   "execution_count": 413,
   "metadata": {},
   "outputs": [],
   "source": [
    "from pptx import Presentation\n",
    "from pptx.util import Inches\n",
    "from pptx.enum.shapes import MSO_SHAPE"
   ]
  },
  {
   "cell_type": "code",
   "execution_count": 414,
   "metadata": {},
   "outputs": [],
   "source": [
    "prs = Presentation(\"final_template.pptx\")  # 원하는 template 종류 불러오기"
   ]
  },
  {
   "cell_type": "code",
   "execution_count": 415,
   "metadata": {},
   "outputs": [],
   "source": [
    "slide_0 = prs.slides[0] # 제복 slide (제목 슬라이드)"
   ]
  },
  {
   "cell_type": "code",
   "execution_count": 416,
   "metadata": {},
   "outputs": [],
   "source": [
    "slide_0.placeholders.element[4][2][2][1][1].text = \"Tired of Making PowerPoints?\" # BERT Summerization[0]"
   ]
  },
  {
   "cell_type": "code",
   "execution_count": 417,
   "metadata": {},
   "outputs": [],
   "source": [
    "slide_0.placeholders.element[5][2][2][1][1].text = \"디자인과 내용 면에서 양질의 피피티를 만들고 싶으신가요?\" # BERT Summerization[1]"
   ]
  },
  {
   "cell_type": "code",
   "execution_count": 418,
   "metadata": {},
   "outputs": [],
   "source": [
    "slide_0.placeholders.element[6][2][2][1][1].text = \"사용자가 대본을 입력하면 자동으로 파워포인트를 생성해주는 서비스\" # 기타 (소제목보다 작은 )"
   ]
  },
  {
   "cell_type": "code",
   "execution_count": null,
   "metadata": {},
   "outputs": [],
   "source": []
  },
  {
   "cell_type": "code",
   "execution_count": 419,
   "metadata": {},
   "outputs": [],
   "source": [
    "slide_1 = prs.slides[1] # 첫 번째 slide (목차) - 목차의 경우 summerization하지 말고 extraction만 해야할 듯"
   ]
  },
  {
   "cell_type": "code",
   "execution_count": 420,
   "metadata": {},
   "outputs": [],
   "source": [
    "slide_1.placeholders.element[3][2][2][1][1].text = \"TEXT2PPT서 제공하는 서비스\""
   ]
  },
  {
   "cell_type": "code",
   "execution_count": 421,
   "metadata": {},
   "outputs": [],
   "source": [
    "slide_1.placeholders.element[4][2][2][1][1].text = \"첫째\" # 첫 번째"
   ]
  },
  {
   "cell_type": "code",
   "execution_count": 422,
   "metadata": {},
   "outputs": [],
   "source": [
    "slide_1.placeholders.element[5][2][2][1][1].text = \"대본을 자동으로 요약하고 중심 내용을 추출\" # 첫 번째 설명"
   ]
  },
  {
   "cell_type": "code",
   "execution_count": 423,
   "metadata": {},
   "outputs": [],
   "source": [
    "slide_1.placeholders.element[9][2][2][1][1].text = \"둘째\" # 두 번째 "
   ]
  },
  {
   "cell_type": "code",
   "execution_count": 424,
   "metadata": {},
   "outputs": [],
   "source": [
    "slide_1.placeholders.element[18][2][2][1][1].text = \"폰트, 템플릿, 벡터 이미지 등을 보기쉬운 인터페이스로 추천\" # 두 번째 설명"
   ]
  },
  {
   "cell_type": "code",
   "execution_count": 425,
   "metadata": {},
   "outputs": [],
   "source": [
    "slide_1.placeholders.element[13][2][2][1][1].text = \"셋째\" # 세 번째 "
   ]
  },
  {
   "cell_type": "code",
   "execution_count": 426,
   "metadata": {},
   "outputs": [],
   "source": [
    "slide_1.placeholders.element[19][2][2][1][1].text = \"양질의 발표를 위해 내용의 근거가 될 수 있는 chart와 table 그리고 image 추천 시스템\" # 세 번째 설명"
   ]
  },
  {
   "cell_type": "code",
   "execution_count": null,
   "metadata": {},
   "outputs": [],
   "source": []
  },
  {
   "cell_type": "code",
   "execution_count": 427,
   "metadata": {},
   "outputs": [],
   "source": [
    "slide_2 = prs.slides[2] # 두 번째 slide"
   ]
  },
  {
   "cell_type": "code",
   "execution_count": 428,
   "metadata": {},
   "outputs": [],
   "source": [
    "slide_2.placeholders.element[3][2][2][1][1].text = \"Two Track Process\" # 여덟 번째 슬라이드 제목"
   ]
  },
  {
   "cell_type": "code",
   "execution_count": 429,
   "metadata": {},
   "outputs": [],
   "source": [
    "slide_2.placeholders.element[5][2][2][1][1].text = \"\""
   ]
  },
  {
   "cell_type": "code",
   "execution_count": 430,
   "metadata": {},
   "outputs": [],
   "source": [
    "slide_2.placeholders.element[6][2][2][1][1].text = \"\""
   ]
  },
  {
   "cell_type": "code",
   "execution_count": 431,
   "metadata": {},
   "outputs": [],
   "source": [
    "slide_2.placeholders.element[17][2][2][1][1].text = \"\""
   ]
  },
  {
   "cell_type": "code",
   "execution_count": 432,
   "metadata": {},
   "outputs": [],
   "source": [
    "slide_2.placeholders.element[18][2][2][1][1].text = \"\""
   ]
  },
  {
   "cell_type": "code",
   "execution_count": 433,
   "metadata": {},
   "outputs": [],
   "source": [
    "slide_2.placeholders.element[19][2][2][1][1].text = \"TEXT2PPTX\""
   ]
  },
  {
   "cell_type": "code",
   "execution_count": 434,
   "metadata": {},
   "outputs": [],
   "source": [
    "slide_2.placeholders.element[11][2][2][1][1].text = \"자연어처리의 최신 기술을 다수 사용\""
   ]
  },
  {
   "cell_type": "code",
   "execution_count": 435,
   "metadata": {},
   "outputs": [],
   "source": [
    "slide_2.placeholders.element[10][2][2][1][1].text = \"대본을 피피티로 옮기기 전에 요약하고 분석\""
   ]
  },
  {
   "cell_type": "code",
   "execution_count": 436,
   "metadata": {},
   "outputs": [],
   "source": [
    "slide_2.placeholders.element[14][2][2][1][1].text = \"파이썬에서 파워포인트의 소스에 접근하기 위해 xml 코드를 심층적으로 분석\""
   ]
  },
  {
   "cell_type": "code",
   "execution_count": 437,
   "metadata": {},
   "outputs": [],
   "source": [
    "slide_2.placeholders.element[13][2][2][1][1].text = \"사용자가 자연어로 쓰인 대본을 텍2피에 제공하면 높은 수준의 피피티로 제공\""
   ]
  },
  {
   "cell_type": "code",
   "execution_count": null,
   "metadata": {},
   "outputs": [],
   "source": []
  },
  {
   "cell_type": "code",
   "execution_count": 438,
   "metadata": {},
   "outputs": [],
   "source": [
    "slide_3 = prs.slides[3] # 세 번째 slide"
   ]
  },
  {
   "cell_type": "code",
   "execution_count": 439,
   "metadata": {},
   "outputs": [],
   "source": [
    "slide_3.placeholders.element[3][2][2][1][1].text = \"Bi-Directional Language Model\" # 세 번째 장 제목"
   ]
  },
  {
   "cell_type": "code",
   "execution_count": 440,
   "metadata": {},
   "outputs": [],
   "source": [
    "slide_3.placeholders.element[18][2][2][1][1].text = \"Extractive Summarization 기술\""
   ]
  },
  {
   "cell_type": "code",
   "execution_count": 441,
   "metadata": {},
   "outputs": [],
   "source": [
    "slide_3.placeholders.element[19][2][2][1][1].text = \"텍스트 투 피피티에서 제공하는 서비스는 크게 세 가지가 있습니다. \\n \\n 첫째, 대본을 자동으로 요약하고 중심 내용을 추출하여 적재적소에 전달하고자하는 내용을 세련된 방식으로 피피티로 만들어드립니다. \\n \\n 두번째, 피피티를 디자인하는 것에 어려움을 겪고 있는 사용자를 위해 폰트, 템플릿, 벡터 이미지 등을 보기쉬운 인터페이스로 추천해드립니다. \\n \\n 추천 시스템에 의해 작업속도도 올라가고 디자인적으로 풍부한 피피티를 만들 수 있습니다. \\n \\n 마지막으로, 양질의 발표를 위해 내용의 근거가 될 수 있는 chart와 table 그리고 image 추천 시스템을 갖추고 있습니다. 내용과 디자인, 모든 면에서 완벽한 피피티를 쉽고 빠르게 만들고 싶은 여러분들에게 텍2피가 발표 프로세스를 획기적으로 바꾸어드릴 것입니다.\""
   ]
  },
  {
   "cell_type": "code",
   "execution_count": 442,
   "metadata": {},
   "outputs": [],
   "source": [
    "slide_3.placeholders.element[5][2][2][1][1].text = \"B\" # 첫 번째 동그라미"
   ]
  },
  {
   "cell_type": "code",
   "execution_count": 443,
   "metadata": {},
   "outputs": [],
   "source": [
    "slide_3.placeholders.element[7][2][2][1][1].text = \"사전에 학습된 방대한 양의 단어를 기반\" "
   ]
  },
  {
   "cell_type": "code",
   "execution_count": 444,
   "metadata": {},
   "outputs": [],
   "source": [
    "slide_3.placeholders.element[6][2][2][1][1].text = \"\""
   ]
  },
  {
   "cell_type": "code",
   "execution_count": 445,
   "metadata": {},
   "outputs": [],
   "source": [
    "slide_3.placeholders.element[22][2][2][1][1].text = \"E\" # 두 번째 동그라미"
   ]
  },
  {
   "cell_type": "code",
   "execution_count": 446,
   "metadata": {},
   "outputs": [],
   "source": [
    "slide_3.placeholders.element[9][2][2][1][1].text = \"어떤 문장이 핵심 내용을 가리키는가?\" "
   ]
  },
  {
   "cell_type": "code",
   "execution_count": 447,
   "metadata": {},
   "outputs": [],
   "source": [
    "slide_3.placeholders.element[8][2][2][1][1].text = \"\""
   ]
  },
  {
   "cell_type": "code",
   "execution_count": 448,
   "metadata": {},
   "outputs": [],
   "source": [
    "slide_3.placeholders.element[11][2][2][1][1].text = \"R\" # 세 번째 동그라미 "
   ]
  },
  {
   "cell_type": "code",
   "execution_count": 449,
   "metadata": {},
   "outputs": [],
   "source": [
    "slide_3.placeholders.element[13][2][2][1][1].text = \"발표 대본에서 추출\""
   ]
  },
  {
   "cell_type": "code",
   "execution_count": 450,
   "metadata": {},
   "outputs": [],
   "source": [
    "slide_3.placeholders.element[12][2][2][1][1].text = \"\""
   ]
  },
  {
   "cell_type": "code",
   "execution_count": 451,
   "metadata": {},
   "outputs": [],
   "source": [
    "slide_3.placeholders.element[15][2][2][1][1].text = \"T\" # 네 번째 동그라미"
   ]
  },
  {
   "cell_type": "code",
   "execution_count": 452,
   "metadata": {},
   "outputs": [],
   "source": [
    "slide_3.placeholders.element[17][2][2][1][1].text = \"제목의 형식으로 피피티에 삽입\""
   ]
  },
  {
   "cell_type": "code",
   "execution_count": 453,
   "metadata": {},
   "outputs": [],
   "source": [
    "slide_3.placeholders.element[16][2][2][1][1].text = \"\""
   ]
  },
  {
   "cell_type": "code",
   "execution_count": null,
   "metadata": {},
   "outputs": [],
   "source": []
  },
  {
   "cell_type": "code",
   "execution_count": null,
   "metadata": {},
   "outputs": [],
   "source": []
  },
  {
   "cell_type": "code",
   "execution_count": 454,
   "metadata": {},
   "outputs": [],
   "source": [
    "prs.save('test1.pptx') "
   ]
  }
 ],
 "metadata": {
  "kernelspec": {
   "display_name": "Python 3",
   "language": "python",
   "name": "python3"
  },
  "language_info": {
   "codemirror_mode": {
    "name": "ipython",
    "version": 3
   },
   "file_extension": ".py",
   "mimetype": "text/x-python",
   "name": "python",
   "nbconvert_exporter": "python",
   "pygments_lexer": "ipython3",
   "version": "3.8.3"
  }
 },
 "nbformat": 4,
 "nbformat_minor": 4
}
