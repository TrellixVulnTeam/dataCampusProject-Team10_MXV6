{
  "nbformat": 4,
  "nbformat_minor": 0,
  "metadata": {
    "kernelspec": {
      "display_name": "Python 3",
      "language": "python",
      "name": "python3"
    },
    "language_info": {
      "codemirror_mode": {
        "name": "ipython",
        "version": 3
      },
      "file_extension": ".py",
      "mimetype": "text/x-python",
      "name": "python",
      "nbconvert_exporter": "python",
      "pygments_lexer": "ipython3",
      "version": "3.7.3"
    },
    "colab": {
      "name": "SmartArt1.ipynb",
      "provenance": [],
      "include_colab_link": true
    }
  },
  "cells": [
    {
      "cell_type": "markdown",
      "metadata": {
        "id": "view-in-github",
        "colab_type": "text"
      },
      "source": [
        "<a href=\"https://colab.research.google.com/github/yoonkim313/dataCampusProject-Team10/blob/master/SmartArt1.ipynb\" target=\"_parent\"><img src=\"https://colab.research.google.com/assets/colab-badge.svg\" alt=\"Open In Colab\"/></a>"
      ]
    },
    {
      "cell_type": "markdown",
      "metadata": {
        "id": "Q-0o39QgkrDf",
        "colab_type": "text"
      },
      "source": [
        "# SMARTART"
      ]
    },
    {
      "cell_type": "markdown",
      "metadata": {
        "id": "mgvXF1_RkrDh",
        "colab_type": "text"
      },
      "source": [
        "## >>> shape smartart"
      ]
    },
    {
      "cell_type": "code",
      "metadata": {
        "id": "pFM0myW5krDj",
        "colab_type": "code",
        "colab": {}
      },
      "source": [
        "# Making a test pptx with a template with >>> shape smartart"
      ],
      "execution_count": null,
      "outputs": []
    },
    {
      "cell_type": "code",
      "metadata": {
        "id": "iIW6QLUtkrDr",
        "colab_type": "code",
        "colab": {}
      },
      "source": [
        "from pptx import Presentation\n",
        "from pptx.util import Inches\n",
        "from pptx.enum.shapes import MSO_SHAPE\n",
        "\n",
        "prs = Presentation()\n",
        "title_only_slide_layout = prs.slide_layouts[5]\n",
        "slide = prs.slides.add_slide(title_only_slide_layout)\n",
        "shapes = slide.shapes\n",
        "\n",
        "shapes.title.text = 'SmartArt'\n",
        "\n",
        "left = Inches(0.93)  \n",
        "top = Inches(3.0)\n",
        "width = Inches(1.75)\n",
        "height = Inches(1.0)\n",
        "\n",
        "shape = shapes.add_shape(MSO_SHAPE.PENTAGON, left, top, width, height)\n",
        "shape.text = 'Step 1'\n",
        "\n",
        "left = left + width - Inches(0.4)\n",
        "width = Inches(2.0) \n",
        "\n",
        "for n in range(2, 6):\n",
        "    shape = shapes.add_shape(MSO_SHAPE.CHEVRON, left, top, width, height)\n",
        "    shape.text = 'Step %d' % n\n",
        "    left = left + width - Inches(0.4)\n",
        "\n",
        "prs.save('test.pptx')"
      ],
      "execution_count": null,
      "outputs": []
    },
    {
      "cell_type": "code",
      "metadata": {
        "id": "wPqA75eXkrDw",
        "colab_type": "code",
        "colab": {}
      },
      "source": [
        "# To use this smartart template in making other pptx,"
      ],
      "execution_count": null,
      "outputs": []
    },
    {
      "cell_type": "code",
      "metadata": {
        "id": "W6rvBbFRkrD0",
        "colab_type": "code",
        "colab": {}
      },
      "source": [
        "prs = Presentation(\"test.pptx\") \n",
        "slide_0 = prs.slides[0]\n",
        "slide_0.placeholders.element[2][2][2][0][0].text = \"SmartArt 1\" # slide title\n",
        "slide_0.placeholders.element[3][3][2][0].text = \"Yoonjeon\" # step 1이 있었던 자리\n",
        "slide_0.placeholders.element[4][3][2][0].text = \"Soyeon\"\n",
        "slide_0.placeholders.element[5][3][2][0].text = \"Junwon\"\n",
        "slide_0.placeholders.element[6][3][2][0].text = \"Yay\"\n",
        "slide_0.placeholders.element[7][3][2][0].text = \"gogo\"\n",
        "prs.save('test3.pptx') "
      ],
      "execution_count": null,
      "outputs": []
    },
    {
      "cell_type": "code",
      "metadata": {
        "id": "dJ3XqPORkrD3",
        "colab_type": "code",
        "colab": {},
        "outputId": "f062156a-11d5-488e-d8d7-2aaa012df54d"
      },
      "source": [
        "slide_0.placeholders.element[2][2][2][0][0].text"
      ],
      "execution_count": null,
      "outputs": [
        {
          "output_type": "execute_result",
          "data": {
            "text/plain": [
              "'SmartArt 1'"
            ]
          },
          "metadata": {
            "tags": []
          },
          "execution_count": 6
        }
      ]
    },
    {
      "cell_type": "code",
      "metadata": {
        "id": "mxVvoDKikrD7",
        "colab_type": "code",
        "colab": {},
        "outputId": "b5cf668b-e6b2-4233-87a3-c82cfef8ebfb"
      },
      "source": [
        "slide_0.placeholders.element[3][3][2][0].text"
      ],
      "execution_count": null,
      "outputs": [
        {
          "output_type": "execute_result",
          "data": {
            "text/plain": [
              "'Yoonjeon'"
            ]
          },
          "metadata": {
            "tags": []
          },
          "execution_count": 8
        }
      ]
    }
  ]
}
