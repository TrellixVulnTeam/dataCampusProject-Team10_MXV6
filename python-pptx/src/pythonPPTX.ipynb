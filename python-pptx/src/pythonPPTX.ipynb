{
 "cells": [
  {
   "cell_type": "markdown",
   "metadata": {},
   "source": [
    "#### Getting started"
   ]
  },
  {
   "cell_type": "markdown",
   "metadata": {},
   "source": [
    "###### 피피티 첫번째 장"
   ]
  },
  {
   "cell_type": "code",
   "execution_count": 14,
   "metadata": {},
   "outputs": [
    {
     "name": "stdout",
     "output_type": "stream",
     "text": [
      "0 Title 1\n",
      "1 Subtitle 2\n",
      "여기에 제목 엔티티 입력하기\n",
      "원하는 피피티 제목을 입력하세요.  as\n"
     ]
    }
   ],
   "source": [
    "from pptx import Presentation\n",
    "\n",
    "prs = Presentation()\n",
    "title_slide_layout = prs.slide_layouts[0] # 첫번째 장의 레이아웃은 0번째로 고정\n",
    "slide = prs.slides.add_slide(title_slide_layout)\n",
    "\n",
    "for shape in slide.placeholders:\n",
    "    print('%d %s' % (shape.placeholder_format.idx, shape.name))\n",
    "    if(shape.name =='title'):\n",
    "        global title\n",
    "        title = slide.shapes.title  \n",
    "    if(shape.name =='subtitle'):\n",
    "        global subtitle\n",
    "        subtitle = slide.placeholders[shape.placeholder_format.idx]\n",
    "\n",
    "input_title = \"여기에 제목 엔티티 입력하기\" # TODO\n",
    "title.text = f\"{input_title}\"\n",
    "print(title.text)\n",
    "input_subtitle = \"여기에 부제목 엔티티 입력하기\" # TODO\n",
    "subtitle.text = f\"{input_subtitle}\"\n",
    "\n",
    "pptx_name = input(\"원하는 피피티 제목을 입력하세요.  \")\n",
    "prs.save(f'{pptx_name}.pptx')"
   ]
  },
  {
   "cell_type": "markdown",
   "metadata": {},
   "source": [
    "#### slide layout 첫 번째 : bullet slide\n",
    "슬라이드는 body 로, body는 paragraph로 이루어짐"
   ]
  },
  {
   "cell_type": "code",
   "execution_count": 16,
   "metadata": {},
   "outputs": [
    {
     "name": "stdout",
     "output_type": "stream",
     "text": [
      "생성된 슬라이드의 레이아웃 요소들은 다음과 같다\n",
      "0 Title 1\n",
      "1 Content Placeholder 2\n",
      "slide.shape :  <pptx.shapes.shapetree.SlideShapes object at 0x7fdb376c3820>\n",
      "원하는 피피티 제목을 입력하세요.  ok\n"
     ]
    }
   ],
   "source": [
    "\n",
    "prs = Presentation()\n",
    "    \n",
    "# 지정된 레이아웃의 슬라이드 생성    \n",
    "bullet_slide_layout = prs.slide_layouts[1]\n",
    "slide = prs.slides.add_slide(bullet_slide_layout)\n",
    "print(\"생성된 슬라이드의 레이아웃 요소들은 다음과 같다\")\n",
    "for shape in slide.placeholders:\n",
    "    print('%d %s' % (shape.placeholder_format.idx, shape.name))\n",
    "    \n",
    "# bullet slide의 shapes 생성\n",
    "shapes = slide.shapes\n",
    "print(\"slide.shape : \",shapes)\n",
    "\n",
    "#타이틀 생성\n",
    "title_shape = shapes.title\n",
    "input_title = \"\"\n",
    "title_shape.text = f'{input_title}'\n",
    "#body paragraph\n",
    "body_shape = shapes.placeholders[1]\n",
    "tf = body_shape.text_frame\n",
    "\n",
    "input_body_title = \"\"\n",
    "tf.text = f'input_body_title'\n",
    "\n",
    "\n",
    "p = tf.add_paragraph()\n",
    "input_body_paragraph = \"\"\n",
    "p.text = input_body_content\n",
    "p.level = 1\n",
    "\n",
    "# p = tf.add_paragraph()\n",
    "# p.text = 'Use _TextFrame.add_paragraph() for subsequent bullets'\n",
    "# p.level = 2\n",
    "\n",
    "pptx_name = input(\"원하는 피피티 제목을 입력하세요.  \")\n",
    "prs.save(f'{pptx_name}.pptx')"
   ]
  },
  {
   "cell_type": "code",
   "execution_count": null,
   "metadata": {},
   "outputs": [],
   "source": [
    "from pptx.util import Inches, Pt\n",
    "\n",
    "prs = Presentation()\n",
    "blank_slide_layout = prs.slide_layouts[6]\n",
    "slide = prs.slides.add_slide(blank_slide_layout)\n",
    "\n",
    "left = top = width = height = Inches(1)\n",
    "txBox = slide.shapes.add_textbox(left, top, width, height)\n",
    "tf = txBox.text_frame\n",
    "\n",
    "tf.text = \"This is text inside a textbox\"\n",
    "\n",
    "p = tf.add_paragraph()\n",
    "p.text = \"This is a second paragraph that's bold\"\n",
    "p.font.bold = True\n",
    "\n",
    "p = tf.add_paragraph()\n",
    "p.text = \"This is a third paragraph that's big\"\n",
    "p.font.size = Pt(40)\n",
    "\n",
    "pptx_name = input(\"원하는 피피티 제목을 입력하세요.  \")\n",
    "prs.save(f'{pptx_name}.pptx')"
   ]
  },
  {
   "cell_type": "markdown",
   "metadata": {},
   "source": [
    "###### Add picture"
   ]
  },
  {
   "cell_type": "code",
   "execution_count": null,
   "metadata": {},
   "outputs": [],
   "source": [
    "from pptx import Presentation\n",
    "from pptx.util import Inches\n",
    "\n",
    "# TODO : 텍스트를 구글링하여 적절한 이미지를 5개 추천해주는 알고리즘 \n",
    "img_path = 'monty-truth.png'\n",
    "\n",
    "prs = Presentation()\n",
    "blank_slide_layout = prs.slide_layouts[6]\n",
    "slide = prs.slides.add_slide(blank_slide_layout)\n",
    "\n",
    "left = top = Inches(1)\n",
    "pic = slide.shapes.add_picture(img_path, left, top)\n",
    "\n",
    "left = Inches(5)\n",
    "height = Inches(5.5)\n",
    "pic = slide.shapes.add_picture(img_path, left, top, height=height)\n",
    "\n",
    "prs.save('test.pptx')"
   ]
  },
  {
   "cell_type": "markdown",
   "metadata": {},
   "source": [
    "#### Add shape"
   ]
  },
  {
   "cell_type": "code",
   "execution_count": 26,
   "metadata": {},
   "outputs": [
    {
     "name": "stdout",
     "output_type": "stream",
     "text": [
      "Do you need help for shapes? type 'y' or 'n' y\n"
     ]
    }
   ],
   "source": [
    "from pptx.enum.shapes import MSO_SHAPE\n",
    "from pptx.util import Inches\n",
    "# 새로운 피피티 생성\n",
    "prs = Presentation()\n",
    "title_only_slide_layout = prs.slide_layouts[5]\n",
    "slide = prs.slides.add_slide(title_only_slide_layout)\n",
    "shapes = slide.shapes\n",
    "\n",
    "shapes.title.text = 'Adding an AutoShape'\n",
    "\n",
    "left = Inches(0.93)  # 0.93\" centers this overall set of shapes\n",
    "top = Inches(3.0)\n",
    "width = Inches(1.75)\n",
    "height = Inches(1.0)\n",
    "\n",
    "if (input(\"Do you need help for shapes? type 'y' or 'n' \")=='y'):\n",
    "    dir(MSO_SHAPE)\n",
    "shape = shapes.add_shape(MSO_SHAPE.ARC, left, top, width, height)\n",
    "shape.text = 'Step 1'\n",
    "\n",
    "left = left + width - Inches(0.4)\n",
    "width = Inches(2.0)  # chevrons need more width for visual balance\n",
    "\n",
    "for n in range(2, 6):\n",
    "    shape = shapes.add_shape(MSO_SHAPE.CHEVRON, left, top, width, height)\n",
    "    shape.text = 'Step %d' % n\n",
    "    left = left + width - Inches(0.4)\n",
    "\n",
    "prs.save('test.pptx')"
   ]
  },
  {
   "cell_type": "code",
   "execution_count": 20,
   "metadata": {},
   "outputs": [
    {
     "data": {
      "text/plain": [
       "['ACTION_BUTTON_BACK_OR_PREVIOUS',\n",
       " 'ACTION_BUTTON_BEGINNING',\n",
       " 'ACTION_BUTTON_CUSTOM',\n",
       " 'ACTION_BUTTON_DOCUMENT',\n",
       " 'ACTION_BUTTON_END',\n",
       " 'ACTION_BUTTON_FORWARD_OR_NEXT',\n",
       " 'ACTION_BUTTON_HELP',\n",
       " 'ACTION_BUTTON_HOME',\n",
       " 'ACTION_BUTTON_INFORMATION',\n",
       " 'ACTION_BUTTON_MOVIE',\n",
       " 'ACTION_BUTTON_RETURN',\n",
       " 'ACTION_BUTTON_SOUND',\n",
       " 'ARC',\n",
       " 'BALLOON',\n",
       " 'BENT_ARROW',\n",
       " 'BENT_UP_ARROW',\n",
       " 'BEVEL',\n",
       " 'BLOCK_ARC',\n",
       " 'CAN',\n",
       " 'CHART_PLUS',\n",
       " 'CHART_STAR',\n",
       " 'CHART_X',\n",
       " 'CHEVRON',\n",
       " 'CHORD',\n",
       " 'CIRCULAR_ARROW',\n",
       " 'CLOUD',\n",
       " 'CLOUD_CALLOUT',\n",
       " 'CORNER',\n",
       " 'CORNER_TABS',\n",
       " 'CROSS',\n",
       " 'CUBE',\n",
       " 'CURVED_DOWN_ARROW',\n",
       " 'CURVED_DOWN_RIBBON',\n",
       " 'CURVED_LEFT_ARROW',\n",
       " 'CURVED_RIGHT_ARROW',\n",
       " 'CURVED_UP_ARROW',\n",
       " 'CURVED_UP_RIBBON',\n",
       " 'DECAGON',\n",
       " 'DIAGONAL_STRIPE',\n",
       " 'DIAMOND',\n",
       " 'DODECAGON',\n",
       " 'DONUT',\n",
       " 'DOUBLE_BRACE',\n",
       " 'DOUBLE_BRACKET',\n",
       " 'DOUBLE_WAVE',\n",
       " 'DOWN_ARROW',\n",
       " 'DOWN_ARROW_CALLOUT',\n",
       " 'DOWN_RIBBON',\n",
       " 'EXPLOSION1',\n",
       " 'EXPLOSION2',\n",
       " 'FLOWCHART_ALTERNATE_PROCESS',\n",
       " 'FLOWCHART_CARD',\n",
       " 'FLOWCHART_COLLATE',\n",
       " 'FLOWCHART_CONNECTOR',\n",
       " 'FLOWCHART_DATA',\n",
       " 'FLOWCHART_DECISION',\n",
       " 'FLOWCHART_DELAY',\n",
       " 'FLOWCHART_DIRECT_ACCESS_STORAGE',\n",
       " 'FLOWCHART_DISPLAY',\n",
       " 'FLOWCHART_DOCUMENT',\n",
       " 'FLOWCHART_EXTRACT',\n",
       " 'FLOWCHART_INTERNAL_STORAGE',\n",
       " 'FLOWCHART_MAGNETIC_DISK',\n",
       " 'FLOWCHART_MANUAL_INPUT',\n",
       " 'FLOWCHART_MANUAL_OPERATION',\n",
       " 'FLOWCHART_MERGE',\n",
       " 'FLOWCHART_MULTIDOCUMENT',\n",
       " 'FLOWCHART_OFFLINE_STORAGE',\n",
       " 'FLOWCHART_OFFPAGE_CONNECTOR',\n",
       " 'FLOWCHART_OR',\n",
       " 'FLOWCHART_PREDEFINED_PROCESS',\n",
       " 'FLOWCHART_PREPARATION',\n",
       " 'FLOWCHART_PROCESS',\n",
       " 'FLOWCHART_PUNCHED_TAPE',\n",
       " 'FLOWCHART_SEQUENTIAL_ACCESS_STORAGE',\n",
       " 'FLOWCHART_SORT',\n",
       " 'FLOWCHART_STORED_DATA',\n",
       " 'FLOWCHART_SUMMING_JUNCTION',\n",
       " 'FLOWCHART_TERMINATOR',\n",
       " 'FOLDED_CORNER',\n",
       " 'FRAME',\n",
       " 'FUNNEL',\n",
       " 'GEAR_6',\n",
       " 'GEAR_9',\n",
       " 'HALF_FRAME',\n",
       " 'HEART',\n",
       " 'HEPTAGON',\n",
       " 'HEXAGON',\n",
       " 'HORIZONTAL_SCROLL',\n",
       " 'ISOSCELES_TRIANGLE',\n",
       " 'LEFT_ARROW',\n",
       " 'LEFT_ARROW_CALLOUT',\n",
       " 'LEFT_BRACE',\n",
       " 'LEFT_BRACKET',\n",
       " 'LEFT_CIRCULAR_ARROW',\n",
       " 'LEFT_RIGHT_ARROW',\n",
       " 'LEFT_RIGHT_ARROW_CALLOUT',\n",
       " 'LEFT_RIGHT_CIRCULAR_ARROW',\n",
       " 'LEFT_RIGHT_RIBBON',\n",
       " 'LEFT_RIGHT_UP_ARROW',\n",
       " 'LEFT_UP_ARROW',\n",
       " 'LIGHTNING_BOLT',\n",
       " 'LINE_CALLOUT_1',\n",
       " 'LINE_CALLOUT_1_ACCENT_BAR',\n",
       " 'LINE_CALLOUT_1_BORDER_AND_ACCENT_BAR',\n",
       " 'LINE_CALLOUT_1_NO_BORDER',\n",
       " 'LINE_CALLOUT_2',\n",
       " 'LINE_CALLOUT_2_ACCENT_BAR',\n",
       " 'LINE_CALLOUT_2_BORDER_AND_ACCENT_BAR',\n",
       " 'LINE_CALLOUT_2_NO_BORDER',\n",
       " 'LINE_CALLOUT_3',\n",
       " 'LINE_CALLOUT_3_ACCENT_BAR',\n",
       " 'LINE_CALLOUT_3_BORDER_AND_ACCENT_BAR',\n",
       " 'LINE_CALLOUT_3_NO_BORDER',\n",
       " 'LINE_CALLOUT_4',\n",
       " 'LINE_CALLOUT_4_ACCENT_BAR',\n",
       " 'LINE_CALLOUT_4_BORDER_AND_ACCENT_BAR',\n",
       " 'LINE_CALLOUT_4_NO_BORDER',\n",
       " 'LINE_INVERSE',\n",
       " 'MATH_DIVIDE',\n",
       " 'MATH_EQUAL',\n",
       " 'MATH_MINUS',\n",
       " 'MATH_MULTIPLY',\n",
       " 'MATH_NOT_EQUAL',\n",
       " 'MATH_PLUS',\n",
       " 'MOON',\n",
       " 'NON_ISOSCELES_TRAPEZOID',\n",
       " 'NOTCHED_RIGHT_ARROW',\n",
       " 'NO_SYMBOL',\n",
       " 'OCTAGON',\n",
       " 'OVAL',\n",
       " 'OVAL_CALLOUT',\n",
       " 'PARALLELOGRAM',\n",
       " 'PENTAGON',\n",
       " 'PIE',\n",
       " 'PIE_WEDGE',\n",
       " 'PLAQUE',\n",
       " 'PLAQUE_TABS',\n",
       " 'QUAD_ARROW',\n",
       " 'QUAD_ARROW_CALLOUT',\n",
       " 'RECTANGLE',\n",
       " 'RECTANGULAR_CALLOUT',\n",
       " 'REGULAR_PENTAGON',\n",
       " 'RIGHT_ARROW',\n",
       " 'RIGHT_ARROW_CALLOUT',\n",
       " 'RIGHT_BRACE',\n",
       " 'RIGHT_BRACKET',\n",
       " 'RIGHT_TRIANGLE',\n",
       " 'ROUNDED_RECTANGLE',\n",
       " 'ROUNDED_RECTANGULAR_CALLOUT',\n",
       " 'ROUND_1_RECTANGLE',\n",
       " 'ROUND_2_DIAG_RECTANGLE',\n",
       " 'ROUND_2_SAME_RECTANGLE',\n",
       " 'SMILEY_FACE',\n",
       " 'SNIP_1_RECTANGLE',\n",
       " 'SNIP_2_DIAG_RECTANGLE',\n",
       " 'SNIP_2_SAME_RECTANGLE',\n",
       " 'SNIP_ROUND_RECTANGLE',\n",
       " 'SQUARE_TABS',\n",
       " 'STAR_10_POINT',\n",
       " 'STAR_12_POINT',\n",
       " 'STAR_16_POINT',\n",
       " 'STAR_24_POINT',\n",
       " 'STAR_32_POINT',\n",
       " 'STAR_4_POINT',\n",
       " 'STAR_5_POINT',\n",
       " 'STAR_6_POINT',\n",
       " 'STAR_7_POINT',\n",
       " 'STAR_8_POINT',\n",
       " 'STRIPED_RIGHT_ARROW',\n",
       " 'SUN',\n",
       " 'SWOOSH_ARROW',\n",
       " 'TEAR',\n",
       " 'TRAPEZOID',\n",
       " 'UP_ARROW',\n",
       " 'UP_ARROW_CALLOUT',\n",
       " 'UP_DOWN_ARROW',\n",
       " 'UP_DOWN_ARROW_CALLOUT',\n",
       " 'UP_RIBBON',\n",
       " 'U_TURN_ARROW',\n",
       " 'VERTICAL_SCROLL',\n",
       " 'WAVE',\n",
       " '__class__',\n",
       " '__delattr__',\n",
       " '__dict__',\n",
       " '__dir__',\n",
       " '__doc__',\n",
       " '__docs_rst__',\n",
       " '__eq__',\n",
       " '__format__',\n",
       " '__ge__',\n",
       " '__getattribute__',\n",
       " '__gt__',\n",
       " '__hash__',\n",
       " '__init__',\n",
       " '__init_subclass__',\n",
       " '__le__',\n",
       " '__lt__',\n",
       " '__members__',\n",
       " '__module__',\n",
       " '__ms_name__',\n",
       " '__ne__',\n",
       " '__new__',\n",
       " '__reduce__',\n",
       " '__reduce_ex__',\n",
       " '__repr__',\n",
       " '__setattr__',\n",
       " '__sizeof__',\n",
       " '__str__',\n",
       " '__subclasshook__',\n",
       " '__url__',\n",
       " '__weakref__',\n",
       " '_member_to_xml',\n",
       " '_valid_settings',\n",
       " '_xml_to_member',\n",
       " 'from_xml',\n",
       " 'to_xml',\n",
       " 'validate']"
      ]
     },
     "execution_count": 20,
     "metadata": {},
     "output_type": "execute_result"
    }
   ],
   "source": [
    "from pptx.enum.shapes import MSO_SHAPE\n",
    "dir(MSO_SHAPE)"
   ]
  },
  {
   "cell_type": "markdown",
   "metadata": {},
   "source": [
    "#### Add table"
   ]
  },
  {
   "cell_type": "code",
   "execution_count": null,
   "metadata": {},
   "outputs": [],
   "source": [
    "from pptx.util import Inches\n",
    "\n",
    "prs = Presentation()\n",
    "title_only_slide_layout = prs.slide_layouts[5]\n",
    "slide = prs.slides.add_slide(title_only_slide_layout)\n",
    "shapes = slide.shapes\n",
    "\n",
    "shapes.title.text = 'Adding a Table'\n",
    "\n",
    "rows = cols = 2\n",
    "left = top = Inches(2.0)\n",
    "width = Inches(6.0)\n",
    "height = Inches(0.8)\n",
    "\n",
    "table = shapes.add_table(rows, cols, left, top, width, height).table\n",
    "\n",
    "# set column widths\n",
    "table.columns[0].width = Inches(2.0)\n",
    "table.columns[1].width = Inches(4.0)\n",
    "\n",
    "# write column headings\n",
    "table.cell(0, 0).text = 'Foo'\n",
    "table.cell(0, 1).text = 'Bar'\n",
    "\n",
    "# write body cells\n",
    "table.cell(1, 0).text = 'Baz'\n",
    "table.cell(1, 1).text = 'Qux'\n",
    "\n",
    "prs.save('test.pptx')"
   ]
  },
  {
   "cell_type": "markdown",
   "metadata": {},
   "source": [
    "#### Extract all texts from pptx"
   ]
  },
  {
   "cell_type": "code",
   "execution_count": null,
   "metadata": {},
   "outputs": [],
   "source": [
    "from pptx import Presentation\n",
    "\n",
    "prs = Presentation(path_to_presentation)\n",
    "\n",
    "# text_runs will be populated with a list of strings,\n",
    "# one for each text run in presentation\n",
    "text_runs = []\n",
    "\n",
    "for slide in prs.slides:\n",
    "    for shape in slide.shapes:\n",
    "        if not shape.has_text_frame:\n",
    "            continue\n",
    "        for paragraph in shape.text_frame.paragraphs:\n",
    "            for run in paragraph.runs:\n",
    "                text_runs.append(run.text)"
   ]
  },
  {
   "cell_type": "markdown",
   "metadata": {},
   "source": [
    "#### Save()"
   ]
  },
  {
   "cell_type": "code",
   "execution_count": null,
   "metadata": {},
   "outputs": [],
   "source": [
    "# open\n",
    "prs = Presentation()\n",
    "prs.save('file_to_open.pptx')\n",
    "# save\n",
    "prs = Presentation('existing-prs-file.pptx')\n",
    "prs.save('new-file-name.pptx')"
   ]
  },
  {
   "cell_type": "markdown",
   "metadata": {},
   "source": [
    "#### Adding a Slide\n",
    " indices are as follows\n",
    "1. Title (presentation title slide)\n",
    "2. Title and Content\n",
    "3. Section Header (sometimes called Segue)\n",
    "4. Two Content (side by side bullet textboxes)\n",
    "5. Comparison (same but additional title for each side by side content box)\n",
    "6. Title Only\n",
    "7. Blank\n",
    "8. Content with Caption\n",
    "9. Picture with Caption"
   ]
  },
  {
   "cell_type": "code",
   "execution_count": null,
   "metadata": {},
   "outputs": [],
   "source": [
    "idx = 1\n",
    "prs = Presentation()\n",
    "slide_layout = prs.slide_layouts[1] # maps to Title and Content\n",
    "slide = prs.slides.add_slide(slide_layout) # slides are a list with slides"
   ]
  },
  {
   "cell_type": "markdown",
   "metadata": {},
   "source": [
    "#### Autoshapes\n",
    "Auto shapes are regular shape shapes. Squares, circles, triangles, stars, that sort of thing. There are 182 different auto shapes to choose from. 120 of these have adjustment “handles” you can use to change the shape, sometimes dramatically."
   ]
  },
  {
   "cell_type": "code",
   "execution_count": null,
   "metadata": {},
   "outputs": [],
   "source": [
    "from pptx.enum.shapes import MSO_SHAPE\n",
    "\n",
    "shapes = slide.shapes\n",
    "left = top = width = height = Inches(1.0)\n",
    "shape = shapes.add_shape(\n",
    "    MSO_SHAPE.ROUNDED_RECTANGLE, left, top, width, height\n",
    ")\n",
    "\n",
    "shape.left, shape.top, shape.width, shape.height\n",
    "shape.left.inches\n",
    "shape.left = Inches(2.0)\n",
    "\n",
    "# fill color in shape\n",
    "fill = shape.fill\n",
    "fill.solid()\n",
    "fill.fore_color.rgb = RGBColor(255, 0, 0)\n"
   ]
  },
  {
   "cell_type": "markdown",
   "metadata": {},
   "source": [
    "#### Color Palette"
   ]
  },
  {
   "cell_type": "markdown",
   "metadata": {},
   "source": [
    "NOT_THEME_COLOR : Indicates the color is not a theme color.\n",
    "\n",
    "ACCENT_1 ~ ACCENT_6\n",
    "\n",
    "BACKGROUND_1 & BACKGROUND_2\n",
    "\n",
    "DARK_1 & DARK_2\n",
    "\n",
    "FOLLOWED_HYPERLINK & HYPERLINK\n",
    "\n",
    "LIGHT_1 & LIGHT_2\n",
    "\n",
    "TEXT_1 & TEXT_2\n",
    "\n",
    "MIXED"
   ]
  },
  {
   "cell_type": "code",
   "execution_count": 2,
   "metadata": {},
   "outputs": [
    {
     "ename": "ModuleNotFoundError",
     "evalue": "No module named 'pptx'",
     "output_type": "error",
     "traceback": [
      "\u001b[0;31m---------------------------------------------------------------------------\u001b[0m",
      "\u001b[0;31mModuleNotFoundError\u001b[0m                       Traceback (most recent call last)",
      "\u001b[0;32m<ipython-input-2-50574806df0c>\u001b[0m in \u001b[0;36m<module>\u001b[0;34m\u001b[0m\n\u001b[1;32m      1\u001b[0m \u001b[0;31m# color pallette\u001b[0m\u001b[0;34m\u001b[0m\u001b[0;34m\u001b[0m\u001b[0;34m\u001b[0m\u001b[0m\n\u001b[0;32m----> 2\u001b[0;31m \u001b[0;32mfrom\u001b[0m \u001b[0mpptx\u001b[0m\u001b[0;34m.\u001b[0m\u001b[0menum\u001b[0m\u001b[0;34m.\u001b[0m\u001b[0mdml\u001b[0m \u001b[0;32mimport\u001b[0m \u001b[0mMSO_THEME_COLOR\u001b[0m\u001b[0;34m\u001b[0m\u001b[0;34m\u001b[0m\u001b[0m\n\u001b[0m\u001b[1;32m      3\u001b[0m \u001b[0;34m\u001b[0m\u001b[0m\n\u001b[1;32m      4\u001b[0m \u001b[0mfill\u001b[0m \u001b[0;34m=\u001b[0m \u001b[0mshape\u001b[0m\u001b[0;34m.\u001b[0m\u001b[0mfill\u001b[0m\u001b[0;34m\u001b[0m\u001b[0;34m\u001b[0m\u001b[0m\n\u001b[1;32m      5\u001b[0m \u001b[0mfill\u001b[0m\u001b[0;34m.\u001b[0m\u001b[0msolid\u001b[0m\u001b[0;34m(\u001b[0m\u001b[0;34m)\u001b[0m\u001b[0;34m\u001b[0m\u001b[0;34m\u001b[0m\u001b[0m\n",
      "\u001b[0;31mModuleNotFoundError\u001b[0m: No module named 'pptx'"
     ]
    }
   ],
   "source": [
    "# color pallette\n",
    "from pptx.enum.dml import MSO_THEME_COLOR\n",
    "\n",
    "fill = shape.fill\n",
    "fill.solid()\n",
    "fill.fore_color.rgb = RGBColor(255, 0, 0)\n",
    "fill.fore_color.theme_color = MSO_THEME_COLOR.ACCENT_1\n",
    "fill.fore_color.brightness = -0.25\n",
    "\n",
    "# to make transparent\n",
    "shape.fill.background()"
   ]
  },
  {
   "cell_type": "markdown",
   "metadata": {},
   "source": [
    "#### Draw Lines"
   ]
  },
  {
   "cell_type": "code",
   "execution_count": null,
   "metadata": {},
   "outputs": [],
   "source": [
    "line = shape.line\n",
    "line.color.rgb = RGBColor(255, 0, 0)\n",
    "line.color.brightness = 0.5  # 50% lighter\n",
    "line.width = Pt(2.5)\n",
    "line.color.theme_color = MSO_THEME_COLOR.ACCENT_6\n",
    "line.fill.solid()\n",
    "line.fill.fore_color\n",
    "line.width.pt\n",
    "line.width.pt = Pt(2.0)"
   ]
  },
  {
   "cell_type": "markdown",
   "metadata": {},
   "source": [
    "#### Placeholder\n",
    "    A placeholder is a pre-formatted container into which content can be placed."
   ]
  },
  {
   "cell_type": "code",
   "execution_count": null,
   "metadata": {},
   "outputs": [],
   "source": [
    "prs = Presentation()\n",
    "b = True\n",
    "while b:\n",
    "    idx = int(input(\"What kind of layout do you want? Put index from 1 to 9\\n\"))\n",
    "    if type(idx) == int:\n",
    "        b = False\n",
    "        break\n",
    "        \n",
    "slide = prs.slides.add_slide(prs.slide_layouts[idx-1])\n",
    "for shape in slide.placeholders:\n",
    "    print('%d %s' % (shape.placeholder_format.idx, shape.name))"
   ]
  },
  {
   "cell_type": "markdown",
   "metadata": {},
   "source": [
    "#### Add picture"
   ]
  },
  {
   "cell_type": "code",
   "execution_count": 21,
   "metadata": {},
   "outputs": [],
   "source": [
    "prs = Presentation()\n",
    "# 그림만 있는 슬라이드\n",
    "slide = prs.slides.add_slide(prs.slide_layouts[8])\n",
    "\n",
    "for i in range(len(slide.placeholders)):\n",
    "    print(f'placeholder의 이름은 : {slide.placeholders[i].name}')\n",
    "placeholder.placeholder_format.type\n",
    "picture = placeholder.insert_picture('my-image.png')"
   ]
  },
  {
   "cell_type": "markdown",
   "metadata": {},
   "source": [
    "#### Add table"
   ]
  },
  {
   "cell_type": "code",
   "execution_count": 20,
   "metadata": {},
   "outputs": [
    {
     "name": "stdin",
     "output_type": "stream",
     "text": [
      "Do you want to draw a table? \n",
      " TYPE Y of N Y\n",
      "Number of Rows 2\n",
      "Number of Cols 3\n"
     ]
    },
    {
     "ename": "IndexError",
     "evalue": "slide layout index out of range",
     "output_type": "error",
     "traceback": [
      "\u001b[0;31m---------------------------------------------------------------------------\u001b[0m",
      "\u001b[0;31mIndexError\u001b[0m                                Traceback (most recent call last)",
      "\u001b[0;32m~/opt/anaconda3/lib/python3.7/site-packages/pptx/slide.py\u001b[0m in \u001b[0;36m__getitem__\u001b[0;34m(self, idx)\u001b[0m\n\u001b[1;32m    388\u001b[0m         \u001b[0;32mtry\u001b[0m\u001b[0;34m:\u001b[0m\u001b[0;34m\u001b[0m\u001b[0;34m\u001b[0m\u001b[0m\n\u001b[0;32m--> 389\u001b[0;31m             \u001b[0msldLayoutId\u001b[0m \u001b[0;34m=\u001b[0m \u001b[0mself\u001b[0m\u001b[0;34m.\u001b[0m\u001b[0m_sldLayoutIdLst\u001b[0m\u001b[0;34m[\u001b[0m\u001b[0midx\u001b[0m\u001b[0;34m]\u001b[0m\u001b[0;34m\u001b[0m\u001b[0;34m\u001b[0m\u001b[0m\n\u001b[0m\u001b[1;32m    390\u001b[0m         \u001b[0;32mexcept\u001b[0m \u001b[0mIndexError\u001b[0m\u001b[0;34m:\u001b[0m\u001b[0;34m\u001b[0m\u001b[0;34m\u001b[0m\u001b[0m\n",
      "\u001b[0;32msrc/lxml/etree.pyx\u001b[0m in \u001b[0;36mlxml.etree._Element.__getitem__\u001b[0;34m()\u001b[0m\n",
      "\u001b[0;31mIndexError\u001b[0m: list index out of range",
      "\nDuring handling of the above exception, another exception occurred:\n",
      "\u001b[0;31mIndexError\u001b[0m                                Traceback (most recent call last)",
      "\u001b[0;32m<ipython-input-20-5965161b9e97>\u001b[0m in \u001b[0;36m<module>\u001b[0;34m\u001b[0m\n\u001b[1;32m      6\u001b[0m \u001b[0;32mif\u001b[0m \u001b[0mqa\u001b[0m \u001b[0;34m==\u001b[0m\u001b[0;34m\"Y\"\u001b[0m\u001b[0;34m:\u001b[0m\u001b[0;34m\u001b[0m\u001b[0;34m\u001b[0m\u001b[0m\n\u001b[1;32m      7\u001b[0m     \u001b[0;34m(\u001b[0m\u001b[0mrow\u001b[0m\u001b[0;34m,\u001b[0m \u001b[0mcol\u001b[0m\u001b[0;34m)\u001b[0m \u001b[0;34m=\u001b[0m \u001b[0;34m(\u001b[0m\u001b[0minput\u001b[0m\u001b[0;34m(\u001b[0m\u001b[0;34m\"Number of Rows\"\u001b[0m\u001b[0;34m)\u001b[0m\u001b[0;34m,\u001b[0m\u001b[0minput\u001b[0m\u001b[0;34m(\u001b[0m\u001b[0;34m\"Number of Cols\"\u001b[0m\u001b[0;34m)\u001b[0m\u001b[0;34m)\u001b[0m\u001b[0;34m\u001b[0m\u001b[0;34m\u001b[0m\u001b[0m\n\u001b[0;32m----> 8\u001b[0;31m     \u001b[0mslide\u001b[0m \u001b[0;34m=\u001b[0m \u001b[0mprs\u001b[0m\u001b[0;34m.\u001b[0m\u001b[0mslides\u001b[0m\u001b[0;34m.\u001b[0m\u001b[0madd_slide\u001b[0m\u001b[0;34m(\u001b[0m\u001b[0mprs\u001b[0m\u001b[0;34m.\u001b[0m\u001b[0mslide_layouts\u001b[0m\u001b[0;34m[\u001b[0m\u001b[0;36m11\u001b[0m\u001b[0;34m]\u001b[0m\u001b[0;34m)\u001b[0m\u001b[0;34m\u001b[0m\u001b[0;34m\u001b[0m\u001b[0m\n\u001b[0m\u001b[1;32m      9\u001b[0m     \u001b[0mtable_placeholder\u001b[0m \u001b[0;34m=\u001b[0m \u001b[0mslide\u001b[0m\u001b[0;34m.\u001b[0m\u001b[0mshapes\u001b[0m\u001b[0;34m[\u001b[0m\u001b[0;36m0\u001b[0m\u001b[0;34m]\u001b[0m\u001b[0;34m\u001b[0m\u001b[0;34m\u001b[0m\u001b[0m\n\u001b[1;32m     10\u001b[0m     \u001b[0mprint\u001b[0m\u001b[0;34m(\u001b[0m\u001b[0mdir\u001b[0m\u001b[0;34m(\u001b[0m\u001b[0mprs\u001b[0m\u001b[0;34m.\u001b[0m\u001b[0mslide_layout\u001b[0m\u001b[0;34m(\u001b[0m\u001b[0;34m)\u001b[0m\u001b[0;34m)\u001b[0m\u001b[0;34m)\u001b[0m\u001b[0;34m\u001b[0m\u001b[0;34m\u001b[0m\u001b[0m\n",
      "\u001b[0;32m~/opt/anaconda3/lib/python3.7/site-packages/pptx/slide.py\u001b[0m in \u001b[0;36m__getitem__\u001b[0;34m(self, idx)\u001b[0m\n\u001b[1;32m    389\u001b[0m             \u001b[0msldLayoutId\u001b[0m \u001b[0;34m=\u001b[0m \u001b[0mself\u001b[0m\u001b[0;34m.\u001b[0m\u001b[0m_sldLayoutIdLst\u001b[0m\u001b[0;34m[\u001b[0m\u001b[0midx\u001b[0m\u001b[0;34m]\u001b[0m\u001b[0;34m\u001b[0m\u001b[0;34m\u001b[0m\u001b[0m\n\u001b[1;32m    390\u001b[0m         \u001b[0;32mexcept\u001b[0m \u001b[0mIndexError\u001b[0m\u001b[0;34m:\u001b[0m\u001b[0;34m\u001b[0m\u001b[0;34m\u001b[0m\u001b[0m\n\u001b[0;32m--> 391\u001b[0;31m             \u001b[0;32mraise\u001b[0m \u001b[0mIndexError\u001b[0m\u001b[0;34m(\u001b[0m\u001b[0;34m\"slide layout index out of range\"\u001b[0m\u001b[0;34m)\u001b[0m\u001b[0;34m\u001b[0m\u001b[0;34m\u001b[0m\u001b[0m\n\u001b[0m\u001b[1;32m    392\u001b[0m         \u001b[0;32mreturn\u001b[0m \u001b[0mself\u001b[0m\u001b[0;34m.\u001b[0m\u001b[0mpart\u001b[0m\u001b[0;34m.\u001b[0m\u001b[0mrelated_slide_layout\u001b[0m\u001b[0;34m(\u001b[0m\u001b[0msldLayoutId\u001b[0m\u001b[0;34m.\u001b[0m\u001b[0mrId\u001b[0m\u001b[0;34m)\u001b[0m\u001b[0;34m\u001b[0m\u001b[0;34m\u001b[0m\u001b[0m\n\u001b[1;32m    393\u001b[0m \u001b[0;34m\u001b[0m\u001b[0m\n",
      "\u001b[0;31mIndexError\u001b[0m: slide layout index out of range"
     ]
    }
   ],
   "source": [
    "from pptx import Presentation\n",
    "from pptx.util import Inches\n",
    "prs = Presentation()\n",
    "qa = str(input(\"Do you want to draw a table? \\n TYPE Y of N\"))\n",
    "\n",
    "if qa ==\"Y\":\n",
    "    (row, col) = (input(\"Number of Rows\"),input(\"Number of Cols\"))\n",
    "    slide = prs.slides.add_slide(prs.slide_layouts[11])\n",
    "    table_placeholder = slide.shapes[0]\n",
    "    print(dir(prs.slide_layout()))\n",
    "    shape = table_placeholder.insert_table(rows=row, cols=col)\n",
    "    "
   ]
  },
  {
   "cell_type": "code",
   "execution_count": null,
   "metadata": {},
   "outputs": [],
   "source": []
  }
 ],
 "metadata": {
  "kernelspec": {
   "display_name": "Python 3",
   "language": "python",
   "name": "python3"
  },
  "language_info": {
   "codemirror_mode": {
    "name": "ipython",
    "version": 3
   },
   "file_extension": ".py",
   "mimetype": "text/x-python",
   "name": "python",
   "nbconvert_exporter": "python",
   "pygments_lexer": "ipython3",
   "version": "3.7.6"
  }
 },
 "nbformat": 4,
 "nbformat_minor": 4
}
