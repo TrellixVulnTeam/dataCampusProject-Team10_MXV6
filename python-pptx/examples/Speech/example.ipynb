{
 "cells": [
  {
   "cell_type": "code",
   "execution_count": 2,
   "metadata": {},
   "outputs": [
    {
     "name": "stdout",
     "output_type": "stream",
     "text": [
      "Collecting python-pptx\n",
      "  Downloading python-pptx-0.6.18.tar.gz (8.9 MB)\n",
      "Requirement already satisfied: lxml>=3.1.0 in c:\\users\\erin lee\\anaconda3\\lib\\site-packages (from python-pptx) (4.5.2)\n",
      "Requirement already satisfied: Pillow>=3.3.2 in c:\\users\\erin lee\\anaconda3\\lib\\site-packages (from python-pptx) (7.2.0)\n",
      "Requirement already satisfied: XlsxWriter>=0.5.7 in c:\\users\\erin lee\\anaconda3\\lib\\site-packages (from python-pptx) (1.2.9)\n",
      "Building wheels for collected packages: python-pptx\n",
      "  Building wheel for python-pptx (setup.py): started\n",
      "  Building wheel for python-pptx (setup.py): finished with status 'done'\n",
      "  Created wheel for python-pptx: filename=python_pptx-0.6.18-py3-none-any.whl size=275709 sha256=70790068d308e3fd2e5e313ad47f45686506c1f5e3822707e118ac8fd05f6546\n",
      "  Stored in directory: c:\\users\\erin lee\\appdata\\local\\pip\\cache\\wheels\\11\\2b\\97\\d82ca57932fa62d52c723024419c5ec3b7c0f7ecf0a0f06332\n",
      "Successfully built python-pptx\n",
      "Installing collected packages: python-pptx\n",
      "Successfully installed python-pptx-0.6.18\n"
     ]
    }
   ],
   "source": [
    "!pip install python-pptx"
   ]
  },
  {
   "cell_type": "code",
   "execution_count": 3,
   "metadata": {},
   "outputs": [],
   "source": [
    "slide1 = [\"국민 여러분들의 위대한 선택\", \"거짓으로 불리한 여론\", \"한 번도 경험하지 못한 나라\"]"
   ]
  },
  {
   "cell_type": "code",
   "execution_count": 4,
   "metadata": {},
   "outputs": [
    {
     "data": {
      "text/plain": [
       "'국민 여러분들의 위대한 선택'"
      ]
     },
     "execution_count": 4,
     "metadata": {},
     "output_type": "execute_result"
    }
   ],
   "source": [
    "slide1[0]"
   ]
  },
  {
   "cell_type": "code",
   "execution_count": 7,
   "metadata": {},
   "outputs": [],
   "source": [
    "from pptx import Presentation\n",
    "from pptx.enum.shapes import MSO_SHAPE\n",
    "from pptx.util import Inches, Pt\n",
    "\n",
    "prs = Presentation(\"template.pptx\") \n",
    "slide_0 = prs.slides[0]\n",
    "slide_0.shapes.title.text = slide1[0]\n",
    "\n",
    "left = Inches(4)\n",
    "top = Inches(3)\n",
    "width = Inches(2)\n",
    "height = Inches(1)\n",
    "txBox = slide_0.shapes.add_textbox(left, top, width, height)\n",
    "tf = txBox.text_frame\n",
    "p = tf.add_paragraph()\n",
    "p.font.bold = True\n",
    "p.font.size = Pt(30)\n",
    "p.text = slide1[1]\n",
    "\n",
    "top = Inches(5)\n",
    "txBox = slide_0.shapes.add_textbox(left, top, width, height)\n",
    "tf = txBox.text_frame\n",
    "p = tf.add_paragraph()\n",
    "p.font.bold = True\n",
    "p.font.size = Pt(30)\n",
    "p.text = slide1[2]\n",
    "\n",
    "prs.save('하트.pptx')"
   ]
  },
  {
   "cell_type": "code",
   "execution_count": null,
   "metadata": {},
   "outputs": [],
   "source": []
  }
 ],
 "metadata": {
  "kernelspec": {
   "display_name": "Python 3",
   "language": "python",
   "name": "python3"
  },
  "language_info": {
   "codemirror_mode": {
    "name": "ipython",
    "version": 3
   },
   "file_extension": ".py",
   "mimetype": "text/x-python",
   "name": "python",
   "nbconvert_exporter": "python",
   "pygments_lexer": "ipython3",
   "version": "3.8.3"
  }
 },
 "nbformat": 4,
 "nbformat_minor": 4
}
