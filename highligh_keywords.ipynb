{
  "nbformat": 4,
  "nbformat_minor": 0,
  "metadata": {
    "colab": {
      "name": "highligh_keywords.ipynb",
      "provenance": [],
      "authorship_tag": "ABX9TyOPnWK7arVwmPeWfxhDBaiL",
      "include_colab_link": true
    },
    "kernelspec": {
      "name": "python3",
      "display_name": "Python 3"
    }
  },
  "cells": [
    {
      "cell_type": "markdown",
      "metadata": {
        "id": "view-in-github",
        "colab_type": "text"
      },
      "source": [
        "<a href=\"https://colab.research.google.com/github/yoonkim313/dataCampusProject-Team10/blob/master/highligh_keywords.ipynb\" target=\"_parent\"><img src=\"https://colab.research.google.com/assets/colab-badge.svg\" alt=\"Open In Colab\"/></a>"
      ]
    },
    {
      "cell_type": "code",
      "metadata": {
        "id": "MuniIszaka8d",
        "colab_type": "code",
        "colab": {}
      },
      "source": [
        "import os, sys\n",
        "from google.colab import drive\n",
        "drive.mount('/content/mnt')\n",
        "nb_path = '/content/notebooks'\n",
        "# os.symlink('/content/mnt/My Drive/Colab Notebooks', nb_path)\n",
        "sys.path.insert(0, nb_path)"
      ],
      "execution_count": null,
      "outputs": []
    },
    {
      "cell_type": "code",
      "metadata": {
        "colab_type": "code",
        "collapsed": true,
        "id": "obGBWFLnIypX",
        "jupyter": {
          "outputs_hidden": true
        },
        "colab": {
          "base_uri": "https://localhost:8080/",
          "height": 34
        },
        "outputId": "db5f9c9c-6a59-45ff-99a8-0923e2ac2cdb"
      },
      "source": [
        "import os, sys\n",
        "from google.colab import drive\n",
        "drive.mount('/content/mnt')\n",
        "nb_path = '/content/notebooks'\n",
        "# os.symlink('/content/mnt/My Drive/Colab Notebooks', nb_path)\n",
        "sys.path.insert(0, nb_path)"
      ],
      "execution_count": null,
      "outputs": [
        {
          "output_type": "stream",
          "text": [
            "Drive already mounted at /content/mnt; to attempt to forcibly remount, call drive.mount(\"/content/mnt\", force_remount=True).\n"
          ],
          "name": "stdout"
        }
      ]
    },
    {
      "cell_type": "code",
      "metadata": {
        "colab_type": "code",
        "id": "MbmSXGrwJ585",
        "colab": {
          "base_uri": "https://localhost:8080/",
          "height": 68
        },
        "outputId": "002c9c59-a994-4371-de34-cce317352317"
      },
      "source": [
        "import re\n",
        "import time\n",
        "import numpy as np\n",
        "import heapq\n",
        "import pandas as pd\n",
        "from operator import itemgetter\n",
        "from collections import deque\n",
        "from ast import literal_eval\n",
        "from collections import defaultdict\n",
        "from pprint import pprint\n",
        "from copy import deepcopy\n",
        "import kss\n",
        "from soykeyword.lasso import LassoKeywordExtractor\n",
        "from krwordrank.word import KRWordRank\n",
        "from konlpy.tag import Hannanum, Okt\n",
        "h = Hannanum()\n",
        "okt = Okt()\n",
        "%cd /content/mnt/Shared drives/BigDATA TEAM 10/OpenInformationExtraction/frameBERT\n",
        "import frame_parser\n"
      ],
      "execution_count": null,
      "outputs": [
        {
          "output_type": "stream",
          "text": [
            "/content/mnt/Shared drives/BigDATA TEAM 10/OpenInformationExtraction/frameBERT\n",
            "\n",
            "###DEVICE: cpu\n"
          ],
          "name": "stdout"
        }
      ]
    },
    {
      "cell_type": "code",
      "metadata": {
        "id": "-iXtzb2JLSky",
        "colab_type": "code",
        "colab": {}
      },
      "source": [
        "h = Hannanum()\n",
        "okt = Okt()"
      ],
      "execution_count": null,
      "outputs": []
    },
    {
      "cell_type": "code",
      "metadata": {
        "colab_type": "code",
        "id": "_v5o0el7I9ur",
        "colab": {}
      },
      "source": [
        "text = '''\n",
        "평등은 자유와 더불어 근대 사회의 핵심 이념으로 자리 잡고있다. 인간은 가령 인종이나 성별과 상관없이 누구나 평등하다고 생각한다. 모든 인간은 평등하다고 말하는데, 이 말은 무슨 뜻일까? 그리고 그 근거는 무엇인가?\n",
        "일단 이 말을 모든 인간을 모든 측면에서 똑같이 대우하는 절대적 평등으로 생각하는 이는 없다. 인간은 저마다 다르게 가지고 태어난 능력과 소질을 똑같게 만들 수 없기 때문이다. 절대적 평등은 개인의 개성이냐 자율성 등의 가치와 충돌하기도 한다. 평등에 대한 요구는 모든 불평등을 악으로 보는 것이 아니라 충분한 이유가 제시되지 않은 불평등을 제거하는 데 목표를 두고 있다. ‘이유 없는 차별 금지’라는 조건적 평등 원칙은 차별 대우를 할 때는 이유를 제시할 것을 요구하고 있다. 이것은 어떤 이유가 제시된다면 특정한 부류에 속하는 사람들에게는 평등한 대우를, 그 부류에 속하지 않는 사람들에게는 차별적 대우를 하는 것을 허용한다. 그렇다면 사람들을 특정한 부류로 구분하는 기준은 무엇인가? 이것은 바로 평등의 근거에 대한 물음이다.\n",
        "근대의 여러 인권 선언에 나타난 평등 개념은 개인들 사이의 평등성을 타고난 자연적 권리로 간주하였다. 하지만 이러한 자연권 이론은 무엇이 자연적 권리이고 권리의 존재가 자명한 이유가 무엇인지 등의 문제에 부딪히게 된다. 그래서 롤스는 기존의 자연권 사상에 의존하지 않는 방식으로 인간 평등의 근거를 마런하려고 한다. 그는 어떤 규칙이 공평하고 일관되게 운영되며, 그 규칙에 따라 유사한 경우는 유사하게 취급된다면 형식적 정의는 실현된다고 본다. 하지만 롤스는 형식적 정의에 따라 규칙을 준수하는 것만으로는 정의를 담보할 수 없다고 생각한다. 그 규칙이 더 높은 도덕적 권위를 지닌 다른 이념과 충돌할 수 었기에, 실질적 정의가 보장되기 위해서는 규칙의 내용이 중요한 것이다.\n",
        "롤스는 인간 평등의 근거를 설명하면서 영역 성질 (range property) 개념을 도입한다. 예를 들어 어떤 원의 내부에 있는 점들은 그 위치가 서로 다르지만 원의 내부에 있다는 점에서 동일한 영역 성질을 갖는다. 반면에 원의 내부에 있는 집과 원의 외부에 였는 점은 원의 경계선을 기준으로 서로 다른 영역 성질을 갖는다. 그는 평등한 대우를 받기 위한 영역 성질로서 ‘도덕적 인격'을 제시한다. 도덕적 인격이란 도덕적 호소가 가능하고 그런 호소에 관심을 기이는 능력이 있다는 것인데, 이 능력을 최소치만 갖고 있다면 평등한 대우에 대한 권한을 갖게 된다. 도덕적 인격이라고 해서 도덕적으로 훌륭하다는 뜻이 아니라 도덕과 무관하다는 말과 대비되는 뜻으로 쓰고 있다. 그런데 어린 아이는 인격체로서의 최소한의 기준을 충족하고 있는지가 논란이 될 수 있다. 이에 대해 롤스는 도덕적 인격을 규정하는 최소한의 요구 조건은 잠재적 능력이지 그것의 실현 여부가 아니기에 어린 아이도 평등한 존재라고 말한다. 싱어는 위와 같은 롤스의 시도를 비판한다. 도덕에 대한 민감성의 수준은 사람에 따라 다르다. 그래서 도덕적 인격의 능력이 그렇게 중요하다면 그것을 갖춘 정도에 따라 도덕적 위계를 다르게 하지 말아야 할 이유가 분명하지 않다고 말한다. \n",
        "'''"
      ],
      "execution_count": null,
      "outputs": []
    },
    {
      "cell_type": "code",
      "metadata": {
        "id": "8HI4uP2lUrM7",
        "colab_type": "code",
        "colab": {
          "base_uri": "https://localhost:8080/",
          "height": 105
        },
        "outputId": "1786d038-b404-4470-df3d-c497a46a46b5"
      },
      "source": [
        "text = re.sub(\"'\",' ',text)\n",
        "paragraphs = text.split('\\n')\n",
        "paragraphs = [i for i in paragraphs if i]\n",
        "print(paragraphs)\n",
        "docs = [kss.split_sentences(paragraph) for paragraph in paragraphs if kss.split_sentences(paragraph)]\n",
        "print(docs)\n",
        "\n",
        "wordrank_extractor = KRWordRank(min_count=4, max_length=10)\n",
        "keywords, rank, graph = wordrank_extractor.extract(paragraphs)\n",
        "print(keywords)\n",
        "p=[]\n",
        "kw=[]\n",
        "for k, v in keywords.items():\n",
        "  p.append(okt.pos(k))\n",
        "  kw.append(k)\n",
        "print(kw)\n",
        "\n"
      ],
      "execution_count": null,
      "outputs": [
        {
          "output_type": "stream",
          "text": [
            "['평등은 자유와 더불어 근대 사회의 핵심 이념으로 자리 잡고있다. 인간은 가령 인종이나 성별과 상관없이 누구나 평등하다고 생각한다. 모든 인간은 평등하다고 말하는데, 이 말은 무슨 뜻일까? 그리고 그 근거는 무엇인가?', '일단 이 말을 모든 인간을 모든 측면에서 똑같이 대우하는 절대적 평등으로 생각하는 이는 없다. 인간은 저마다 다르게 가지고 태어난 능력과 소질을 똑같게 만들 수 없기 때문이다. 절대적 평등은 개인의 개성이냐 자율성 등의 가치와 충돌하기도 한다. 평등에 대한 요구는 모든 불평등을 악으로 보는 것이 아니라 충분한 이유가 제시되지 않은 불평등을 제거하는 데 목표를 두고 있다. ‘이유 없는 차별 금지’라는 조건적 평등 원칙은 차별 대우를 할 때는 이유를 제시할 것을 요구하고 있다. 이것은 어떤 이유가 제시된다면 특정한 부류에 속하는 사람들에게는 평등한 대우를, 그 부류에 속하지 않는 사람들에게는 차별적 대우를 하는 것을 허용한다. 그렇다면 사람들을 특정한 부류로 구분하는 기준은 무엇인가? 이것은 바로 평등의 근거에 대한 물음이다.', '근대의 여러 인권 선언에 나타난 평등 개념은 개인들 사이의 평등성을 타고난 자연적 권리로 간주하였다. 하지만 이러한 자연권 이론은 무엇이 자연적 권리이고 권리의 존재가 자명한 이유가 무엇인지 등의 문제에 부딪히게 된다. 그래서 롤스는 기존의 자연권 사상에 의존하지 않는 방식으로 인간 평등의 근거를 마런하려고 한다. 그는 어떤 규칙이 공평하고 일관되게 운영되며, 그 규칙에 따라 유사한 경우는 유사하게 취급된다면 형식적 정의는 실현된다고 본다. 하지만 롤스는 형식적 정의에 따라 규칙을 준수하는 것만으로는 정의를 담보할 수 없다고 생각한다. 그 규칙이 더 높은 도덕적 권위를 지닌 다른 이념과 충돌할 수 었기에, 실질적 정의가 보장되기 위해서는 규칙의 내용이 중요한 것이다.', '롤스는 인간 평등의 근거를 설명하면서 영역 성질 (range property) 개념을 도입한다. 예를 들어 어떤 원의 내부에 있는 점들은 그 위치가 서로 다르지만 원의 내부에 있다는 점에서 동일한 영역 성질을 갖는다. 반면에 원의 내부에 있는 집과 원의 외부에 였는 점은 원의 경계선을 기준으로 서로 다른 영역 성질을 갖는다. 그는 평등한 대우를 받기 위한 영역 성질로서 ‘도덕적 인격 을 제시한다. 도덕적 인격이란 도덕적 호소가 가능하고 그런 호소에 관심을 기이는 능력이 있다는 것인데, 이 능력을 최소치만 갖고 있다면 평등한 대우에 대한 권한을 갖게 된다. 도덕적 인격이라고 해서 도덕적으로 훌륭하다는 뜻이 아니라 도덕과 무관하다는 말과 대비되는 뜻으로 쓰고 있다. 그런데 어린 아이는 인격체로서의 최소한의 기준을 충족하고 있는지가 논란이 될 수 있다. 이에 대해 롤스는 도덕적 인격을 규정하는 최소한의 요구 조건은 잠재적 능력이지 그것의 실현 여부가 아니기에 어린 아이도 평등한 존재라고 말한다. 싱어는 위와 같은 롤스의 시도를 비판한다. 도덕에 대한 민감성의 수준은 사람에 따라 다르다. 그래서 도덕적 인격의 능력이 그렇게 중요하다면 그것을 갖춘 정도에 따라 도덕적 위계를 다르게 하지 말아야 할 이유가 분명하지 않다고 말한다. ']\n",
            "[['평등은 자유와 더불어 근대 사회의 핵심 이념으로 자리 잡고있다.', '인간은 가령 인종이나 성별과 상관없이 누구나 평등하다고 생각한다.', '모든 인간은 평등하다고 말하는데, 이 말은 무슨 뜻일까?', '그리고 그 근거는 무엇인가?'], ['일단 이 말을 모든 인간을 모든 측면에서 똑같이 대우하는 절대적 평등으로 생각하는 이는 없다.', '인간은 저마다 다르게 가지고 태어난 능력과 소질을 똑같게 만들 수 없기 때문이다.', '절대적 평등은 개인의 개성이냐 자율성 등의 가치와 충돌하기도 한다.', '평등에 대한 요구는 모든 불평등을 악으로 보는 것이 아니라 충분한 이유가 제시되지 않은 불평등을 제거하는 데 목표를 두고 있다.', '‘이유 없는 차별 금지’라는 조건적 평등 원칙은 차별 대우를 할 때는 이유를 제시할 것을 요구하고 있다.', '이것은 어떤 이유가 제시된다면 특정한 부류에 속하는 사람들에게는 평등한 대우를, 그 부류에 속하지 않는 사람들에게는 차별적 대우를 하는 것을 허용한다.', '그렇다면 사람들을 특정한 부류로 구분하는 기준은 무엇인가?', '이것은 바로 평등의 근거에 대한 물음이다.'], ['근대의 여러 인권 선언에 나타난 평등 개념은 개인들 사이의 평등성을 타고난 자연적 권리로 간주하였다.', '하지만 이러한 자연권 이론은 무엇이 자연적 권리이고 권리의 존재가 자명한 이유가 무엇인지 등의 문제에 부딪히게 된다.', '그래서 롤스는 기존의 자연권 사상에 의존하지 않는 방식으로 인간 평등의 근거를 마런하려고 한다.', '그는 어떤 규칙이 공평하고 일관되게 운영되며, 그 규칙에 따라 유사한 경우는 유사하게 취급된다면 형식적 정의는 실현된다고 본다.', '하지만 롤스는 형식적 정의에 따라 규칙을 준수하는 것만으로는 정의를 담보할 수 없다고 생각한다.', '그 규칙이 더 높은 도덕적 권위를 지닌 다른 이념과 충돌할 수 었기에, 실질적 정의가 보장되기 위해서는 규칙의 내용이 중요한 것이다.'], ['롤스는 인간 평등의 근거를 설명하면서 영역 성질 (range property) 개념을 도입한다.', '예를 들어 어떤 원의 내부에 있는 점들은 그 위치가 서로 다르지만 원의 내부에 있다는 점에서 동일한 영역 성질을 갖는다.', '반면에 원의 내부에 있는 집과 원의 외부에 였는 점은 원의 경계선을 기준으로 서로 다른 영역 성질을 갖는다.', '그는 평등한 대우를 받기 위한 영역 성질로서 ‘도덕적 인격 을 제시한다. 도덕적 인격이란 도덕적 호소가 가능하고 그런 호소에 관심을 기이는 능력이 있다는 것인데, 이 능력을 최소치만 갖고 있다면 평등한 대우에 대한 권한을 갖게 된다. 도덕적 인격이라고 해서 도덕적으로 훌륭하다는 뜻이 아니라 도덕과 무관하다는 말과 대비되는 뜻으로 쓰고 있다. 그런데 어린 아이는 인격체로서의 최소한의 기준을 충족하고 있는지가 논란이 될 수 있다. 이에 대해 롤스는 도덕적 인격을 규정하는 최소한의 요구 조건은 잠재적 능력이지 그것의 실현 여부가 아니기에 어린 아이도 평등한 존재라고 말한다. 싱어는 위와 같은 롤스의 시도를 비판한다. 도덕에 대한 민감성의 수준은 사람에 따라 다르다. 그래서 도덕적 인격의 능력이 그렇게 중요하다면 그것을 갖춘 정도에 따라 도덕적 위계를 다르게 하지 말아야 할 이유가 분명하지 않다고 말한다.']]\n",
            "{'도덕적': 2.841498910397524, '평등': 2.19722491107992, '인간': 2.0172149784991915, '이유가': 1.6388371168906888, '따라': 1.5976751669536795, '영역': 1.4807620020134604, '롤스는': 1.4470441846182034, '모든': 1.38282263548389, '대우': 1.3514703711592069, '있다.': 1.347783996881959, '규칙': 1.2414167140176766, '원의': 1.2178781302474961, '인격': 1.1035461496501568, '성질': 0.9744458969044216, '능력': 0.875851051840088, '대한': 0.8392795263531599, '다르': 0.8250015456507513, '근거': 0.8209011281000456, '정의': 0.7002706138418189, '제시': 0.6531399379186797, '무엇': 0.48912638214427695, '자연': 0.39293275404263284, '사람': 0.2792073416700721}\n",
            "['도덕적', '평등', '인간', '이유가', '따라', '영역', '롤스는', '모든', '대우', '있다.', '규칙', '원의', '인격', '성질', '능력', '대한', '다르', '근거', '정의', '제시', '무엇', '자연', '사람']\n"
          ],
          "name": "stdout"
        }
      ]
    },
    {
      "cell_type": "code",
      "metadata": {
        "id": "TGCJPBUtvXj2",
        "colab_type": "code",
        "colab": {}
      },
      "source": [
        "class Text:\n",
        "\n",
        "  \n",
        "  def __init__(self, text):\n",
        "    self.text = text\n",
        "    text = re.sub(\"'\",' ',text)\n",
        "    paragraphs = text.split('\\n')\n",
        "    self.paragraphs = [i for i in paragraphs if i]\n",
        "    self.docs = [kss.split_sentences(paragraph) for paragraph in paragraphs if kss.split_sentences(paragraph)]\n",
        "\n",
        "\n",
        "  def keywords(self, num = 20):\n",
        "\n",
        "    wordrank_extractor = KRWordRank(min_count=4, max_length=10)\n",
        "    keywords, rank, graph = wordrank_extractor.extract(self.paragraphs, num_keywords=num)\n",
        "    p=[]\n",
        "    kw=[]\n",
        "    for k, v in keywords.items():\n",
        "      p.append(okt.pos(k))\n",
        "      kw.append(k)\n",
        "    words = self.text.split(' ')\n",
        "    s = set()\n",
        "    keylist = [word for i in kw for word in words if i in word]\n",
        "    for i in keylist:\n",
        "      s.add(i)\n",
        "    p = [okt.pos(word) for word in s]\n",
        "    s = set()\n",
        "    for idx in range(len(p)):\n",
        "      ls = p[idx]\n",
        "      for j in range(len(ls)):\n",
        "        tag = ls[j][1]\n",
        "        word = ls[j][0]\n",
        "        if tag==\"Noun\":\n",
        "          print(word)\n",
        "          s.add(word)\n",
        "    keys = []\n",
        "    for temp in s:\n",
        "      keys.append(\" \"+temp)\n",
        "    return keys\n",
        "    \n",
        "class Highlight(Text):\n",
        "  def __init__(self, text, candidates=None):\n",
        "    self.text = text\n",
        "    self.newtext = deepcopy(self.text)\n",
        "    self.cand = candidates\n",
        "    self.candidates = candidates\n",
        "    \n",
        "  def findall(self, p, s):\n",
        "      i = s.find(p)\n",
        "      while i != -1:\n",
        "          yield i\n",
        "          i = s.find(p, i+1)\n",
        "\n",
        "  def add_tags(self):\n",
        "    if self.cand==None:\n",
        "        conj = '그리고, 그런데, 그러나, 그래도, 그래서, 또는, 및, 즉, 게다가, 따라서, 때문에, 아니면, 왜냐하면, 단, 오히려, 비록, 예를 들어, 반면에, 하지만, 그렇다면, 바로, 이에 대해'\n",
        "        conj = conj.replace(\"'\",\"\")\n",
        "        self.candidates = conj.split(\",\")\n",
        "        self.idx = [(i, i+len(candidate)) for candidate in self.candidates for i in self.findall(candidate, self.text)]\n",
        "    else:\n",
        "        self.idx = [(i, i+len(candidate)) for candidate in self.candidates for i in self.findall(candidate, self.newtext)]\n",
        "\n",
        "    for i in range(len(self.idx)):\n",
        "        try:\n",
        "          self.idx = [(start, start+len(candidate)) for candidate in self.candidates for start in self.findall(candidate, self.newtext)]\n",
        "          word = self.newtext[self.idx[i][0]:self.idx[i][1]]\n",
        "          print(word)\n",
        "        \n",
        "          if self.cand==None:\n",
        "            tagged = \" <mark style='background-color: #F9D877'>%s</mark>\" % (word)\n",
        "            \n",
        "          else:\n",
        "            tagged = \" <mark style='background-color: #FFD0F2'>%s</mark>\" % (word)\n",
        "            \n",
        "          self.newtext = tagged.join([self.newtext[:self.idx[i][0]], self.newtext[self.idx[i][1]:]])\n",
        "        except:\n",
        "          pass\n",
        "\n",
        "    return '\\n'.join(self.newtext.split(\"\\n\"))"
      ],
      "execution_count": null,
      "outputs": []
    },
    {
      "cell_type": "code",
      "metadata": {
        "id": "ebyi_zCkpxCE",
        "colab_type": "code",
        "colab": {}
      },
      "source": [
        "def main():\n",
        "  t = Text(text)\n",
        "  kw = t.keywords()\n",
        "  kw = [i for i in kw if len(i)>2]\n",
        "  \n",
        "  h = Highlight(text, candidates = None)\n",
        "  h = Highlight(h.add_tags(), kw)\n",
        "  result = h.add_tags()\n",
        "  cleanr = re.compile(\"</mark>.{0,5}<markstyle='background-color:#FFD0F2'>\")\n",
        "  patterns = re.findall(\"</mark>.{0,5}<mark style='background-color: #FFD0F2'>\",result)\n",
        "  w = [i[7:-40] for i in re.findall(\"</mark>.{0,5}<mark style='background-color: #FFD0F2'>\",result)]\n",
        "\n",
        "  for i in range(len(w)):\n",
        "    result = re.sub(patterns[i], w[i], result)\n",
        "  result = '\\n\\n'.join(kss.split_sentences(result))\n",
        "  pattern2 = re.compile(\"<mark style='background-color: #FFD0F2'>.{5,8}</mark>\")\n",
        "\n",
        "  w = [i for i in re.findall(pattern2,result)]\n",
        "  temp=deepcopy(w)\n",
        "  for i in range(len(w)):\n",
        "    word = w[i][40:-7]\n",
        "    if len(word)>5:\n",
        "        temp.append(word.join([\"<mark style='background-color: #CEDDF2'>\",\"</mark>\"]))\n",
        "    result = re.sub(w[i], temp[i], result)\n",
        "    \n",
        "  return result\n",
        "\n",
        "main()"
      ],
      "execution_count": null,
      "outputs": []
    }
  ]
}