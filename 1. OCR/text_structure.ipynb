{
 "cells": [
  {
   "cell_type": "code",
   "execution_count": 2,
   "metadata": {},
   "outputs": [],
   "source": [
    "import pandas as pd\n",
    "import os"
   ]
  },
  {
   "cell_type": "code",
   "execution_count": 4,
   "metadata": {},
   "outputs": [],
   "source": [
    "df = pd.read_csv('./text_detection/result/res_test1.txt',sep=',',names=['x1','y1','x2','y2','x3','y3','x4','y4'])"
   ]
  },
  {
   "cell_type": "code",
   "execution_count": 5,
   "metadata": {},
   "outputs": [],
   "source": [
    "df['text_size'] = df['y3'] - df['y1']"
   ]
  },
  {
   "cell_type": "code",
   "execution_count": 6,
   "metadata": {
    "scrolled": true
   },
   "outputs": [],
   "source": [
    "df1 = df[df['x1']<img.size[0]/2].reset_index(drop=True)"
   ]
  },
  {
   "cell_type": "code",
   "execution_count": 7,
   "metadata": {},
   "outputs": [],
   "source": [
    "df2 = df[df['x1']>=img.size[0]/2].reset_index(drop=True)"
   ]
  },
  {
   "cell_type": "markdown",
   "metadata": {},
   "source": [
    "줄 나누기"
   ]
  },
  {
   "cell_type": "code",
   "execution_count": 8,
   "metadata": {
    "scrolled": false
   },
   "outputs": [],
   "source": [
    "line_list = []\n",
    "text_size = df['text_size'].mean()\n",
    "for d in [df1,df2]:\n",
    "    start = len(line_list)\n",
    "    for _ in range(len(d)):\n",
    "        x1,y1,x2,y2,x3,y3,x4,y4,text_size = d.loc[_]\n",
    "        box = x1,y1,x2,y2,x3,y3,x4,y4\n",
    "\n",
    "        idx = 0\n",
    "        \n",
    "        if _ == 0:\n",
    "            li = []\n",
    "            li.append(box)\n",
    "            line_list.append(li)\n",
    "            \n",
    "        for line in line_list[start:]:\n",
    "            do_append = 'F'\n",
    "            if _ ==0:\n",
    "                break\n",
    "            for i in line:\n",
    "                if (abs(((y1 + y3) /2) - ((i[1] + i[5])/2)) < text_size):\n",
    "                    line.append(box)\n",
    "                    line.sort()\n",
    "                    do_append = 'T'\n",
    "                    break    \n",
    "            if do_append == 'T':\n",
    "                break\n",
    "            else:\n",
    "                idx += 1\n",
    "\n",
    "        if idx == len(line_list[start:]):\n",
    "            new_line = []\n",
    "            new_line.append(box)\n",
    "            line_list.append(new_line)\n",
    "        "
   ]
  },
  {
   "cell_type": "markdown",
   "metadata": {},
   "source": [
    "단락 나누기"
   ]
  },
  {
   "cell_type": "code",
   "execution_count": 9,
   "metadata": {},
   "outputs": [],
   "source": [
    "before_x_point = 0\n",
    "before_y_point = 0\n",
    "text_structure = []\n",
    "idx = 0\n",
    "for line in line_list:\n",
    "    if idx ==0:\n",
    "        new_paragraph = []\n",
    "        new_paragraph.append(line)\n",
    "    \n",
    "    else:\n",
    "        # 단 찾기\n",
    "        if (before_y_point - line[0][1]) >= 3*text_size:\n",
    "            if line[0][0] - img.size[0]/2 >= 18*3:\n",
    "                text_structure.append(new_paragraph)\n",
    "                new_paragraph = []\n",
    "                new_paragraph.append(line)\n",
    "            else:\n",
    "                new_paragraph.append(line)\n",
    "        else:\n",
    "            # 줄 바꿈\n",
    "            if (line[0][1] - before_y_point) > 3*text_size:\n",
    "                text_structure.append(new_paragraph)\n",
    "                new_paragraph = []\n",
    "                new_paragraph.append(line)\n",
    "            else:\n",
    "                if line[0][0] - before_x_point >= 18:\n",
    "                    text_structure.append(new_paragraph)\n",
    "                    new_paragraph = []\n",
    "                    new_paragraph.append(line)\n",
    "                else:\n",
    "                    new_paragraph.append(line)\n",
    "         \n",
    "    before_x_point = line[0][0]\n",
    "    before_y_point = line[0][1]\n",
    "    idx += 1\n",
    "    \n",
    "    if idx == len(line_list):\n",
    "        text_structure.append(new_paragraph)"
   ]
  },
  {
   "cell_type": "markdown",
   "metadata": {},
   "source": [
    "단락별 줄별 이미지 저장"
   ]
  },
  {
   "cell_type": "code",
   "execution_count": 12,
   "metadata": {},
   "outputs": [],
   "source": [
    "a = 0\n",
    "k = 0\n",
    "for paragraph in text_structure:\n",
    "    path = './text_detection/result/test1_structure/'\n",
    "    paragraph_path = path + 'paragraph' + str(k) + '/'\n",
    "    os.mkdir(paragraph_path)\n",
    "    for line in paragraph:\n",
    "        line.sort()\n",
    "        line_path = paragraph_path + 'line' + str(a) + '/'\n",
    "        os.mkdir(line_path)\n",
    "        b = 0\n",
    "        for box in line:\n",
    "            x1,y1,x2,y2,x3,y3,x4,y4 = box\n",
    "            image = img.crop((x1,y1,x3,y3))\n",
    "            image.save(line_path + str(b) +'.jpg')\n",
    "            b += 1\n",
    "        a += 1\n",
    "    k += 1"
   ]
  }
 ],
 "metadata": {
  "kernelspec": {
   "display_name": "Python 3",
   "language": "python",
   "name": "python3"
  },
  "language_info": {
   "codemirror_mode": {
    "name": "ipython",
    "version": 3
   },
   "file_extension": ".py",
   "mimetype": "text/x-python",
   "name": "python",
   "nbconvert_exporter": "python",
   "pygments_lexer": "ipython3",
   "version": "3.6.7"
  }
 },
 "nbformat": 4,
 "nbformat_minor": 2
}
