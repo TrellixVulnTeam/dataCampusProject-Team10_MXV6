{
 "cells": [
  {
   "cell_type": "markdown",
   "metadata": {
    "colab_type": "text",
    "id": "view-in-github"
   },
   "source": [
    "<a href=\"https://colab.research.google.com/github/yoonkim313/dataCampusProject-Team10/blob/master/ocr/deep-text-recognition/train.ipynb\" target=\"_parent\"><img src=\"https://colab.research.google.com/assets/colab-badge.svg\" alt=\"Open In Colab\"/></a>"
   ]
  },
  {
   "cell_type": "markdown",
   "metadata": {
    "colab_type": "text",
    "id": "dHbHK60Tqn2c"
   },
   "source": [
    "This can be executed in https://colab.research.google.com \"Python 3 / GPU\" runtime."
   ]
  },
  {
   "cell_type": "code",
   "execution_count": null,
   "metadata": {},
   "outputs": [],
   "source": [
    "!git clone https://github.com/yoonkim313/dataCampusProject-Team10.git"
   ]
  },
  {
   "cell_type": "code",
   "execution_count": null,
   "metadata": {},
   "outputs": [],
   "source": [
    "% cd /content/dataCampusProject-Team10/ocr/deep-text-recognition/"
   ]
  },
  {
   "cell_type": "markdown",
   "metadata": {},
   "source": [
    "train_model"
   ]
  },
  {
   "cell_type": "code",
   "execution_count": null,
   "metadata": {},
   "outputs": [],
   "source": [
    "!CUDA_VISIBLE_DEVICES=0 python3 train.py \\\n",
    "--train_data /content/drive/'Shared drives'/'BigDATA TEAM 10'/ocr/data/training \\\n",
    "--valid_data /content/drive/'Shared drives'/'BigDATA TEAM 10'/ocr/data/validation \\\n",
    "--workers 10 \\\n",
    "--num_iter 2000 \\\n",
    "--valInterval 30000 \\\n",
    "--manualSeed 7777 \\\n",
    "--Transformation TPS \\\n",
    "--FeatureExtraction VGG \\\n",
    "--SequenceModeling BiLSTM \\\n",
    "--Prediction Attn\n",
    "'''\n",
    "Transformation            None|TPS\n",
    "FeatureExtraction         VGG|RCNN|ResNet\n",
    "SequenceModeling          None|BiLSTM\n",
    "Prediction                CTC|Attn\n",
    "'''"
   ]
  },
  {
   "cell_type": "markdown",
   "metadata": {},
   "source": [
    "test_model"
   ]
  },
  {
   "cell_type": "code",
   "execution_count": null,
   "metadata": {},
   "outputs": [],
   "source": [
    "!CUDA_VISIBLE_DEVICES=0 python3 test.py \\\n",
    "--eval_data /content/drive/'Shared drives'/'BigDATA TEAM 10'/ocr/data/ \\\n",
    "--benchmark_all_eval \\\n",
    "--Transformation TPS \\\n",
    "--FeatureExtraction VGG \\\n",
    "--SequenceModeling BiLSTM \\\n",
    "--Prediction Attn \\\n",
    "--saved_model /content/drive/'Shared drives'/'BigDATA TEAM 10'/ocr/model/best_accuracy.pth"
   ]
  },
  {
   "cell_type": "code",
   "execution_count": null,
   "metadata": {},
   "outputs": [],
   "source": [
    "output = !CUDA_VISIBLE_DEVICES=0 python3 demo.py \\\n",
    "--Transformation TPS \\\n",
    "--FeatureExtraction VGG \\\n",
    "--SequenceModeling BiLSTM \\\n",
    "--Prediction Attn \\\n",
    "--image_folder test_image \\\n",
    "--saved_model /content/drive/'Shared drives'/'BigDATA TEAM 10'/ocr/model/best_accuracy.pth"
   ]
  },
  {
   "cell_type": "code",
   "execution_count": null,
   "metadata": {},
   "outputs": [],
   "source": [
    "from IPython.core.display import display, HTML\n",
    "from PIL import Image\n",
    "import base64\n",
    "import io\n",
    "import pandas as pd\n",
    "\n",
    "data = pd.DataFrame()\n",
    "for ind, row in enumerate(output[output.index('image_path \\t predicted_labels \\t confidence score')+2:]):\n",
    "    row = row.split('\\t')\n",
    "    filename = row[0].strip()\n",
    "    label = row[1].strip()\n",
    "    conf = row[2].strip()\n",
    "    img = Image.open(filename)\n",
    "    img_buffer = io.BytesIO()\n",
    "    img.save(img_buffer, format=\"PNG\")\n",
    "    imgStr = base64.b64encode(img_buffer.getvalue()).decode(\"utf-8\")\n",
    "    \n",
    "    data.loc[ind, 'img'] = '<img src=\"data:image/png;base64,{0:s}\">'.format(imgStr)\n",
    "    data.loc[ind, 'id'] = filename\n",
    "    data.loc[ind, 'label'] = label\n",
    "    data.loc[ind, 'conf'] = conf\n",
    "    \n",
    "html_all = data.to_html(escape=False)\n",
    "display(HTML(html_all))"
   ]
  },
  {
   "cell_type": "code",
   "execution_count": 2,
   "metadata": {},
   "outputs": [],
   "source": [
    "import matplotlib.pyplot as plt\n",
    "import pandas as pd"
   ]
  },
  {
   "cell_type": "code",
   "execution_count": null,
   "metadata": {},
   "outputs": [],
   "source": []
  },
  {
   "cell_type": "code",
   "execution_count": 6,
   "metadata": {},
   "outputs": [
    {
     "name": "stdout",
     "output_type": "stream",
     "text": [
      "/workspace/dataCampusProject-Team10/dataCampusProject-Team10/ocr/deep-text-recognition\r\n"
     ]
    }
   ],
   "source": [
    "!pwd"
   ]
  },
  {
   "cell_type": "code",
   "execution_count": 3,
   "metadata": {},
   "outputs": [],
   "source": [
    "df = pd.read_csv('/workspace/dataCampusProject-Team10/dataCampusProject-Team10/ocr/saved_models/acc_loss.txt',sep=',')"
   ]
  },
  {
   "cell_type": "code",
   "execution_count": 115,
   "metadata": {
    "scrolled": true
   },
   "outputs": [],
   "source": [
    "df = df[df.index % 5 ==0]"
   ]
  },
  {
   "cell_type": "code",
   "execution_count": 116,
   "metadata": {},
   "outputs": [],
   "source": [
    "df = df.loc[:2500]"
   ]
  },
  {
   "cell_type": "code",
   "execution_count": 117,
   "metadata": {},
   "outputs": [
    {
     "data": {
      "text/html": [
       "<div>\n",
       "<style scoped>\n",
       "    .dataframe tbody tr th:only-of-type {\n",
       "        vertical-align: middle;\n",
       "    }\n",
       "\n",
       "    .dataframe tbody tr th {\n",
       "        vertical-align: top;\n",
       "    }\n",
       "\n",
       "    .dataframe thead th {\n",
       "        text-align: right;\n",
       "    }\n",
       "</style>\n",
       "<table border=\"1\" class=\"dataframe\">\n",
       "  <thead>\n",
       "    <tr style=\"text-align: right;\">\n",
       "      <th></th>\n",
       "      <th>Iteration</th>\n",
       "      <th>Train_loss</th>\n",
       "      <th>Valid_loss</th>\n",
       "      <th>Current_accuracy</th>\n",
       "      <th>Current_norm_ED</th>\n",
       "    </tr>\n",
       "  </thead>\n",
       "  <tbody>\n",
       "    <tr>\n",
       "      <th>2480</th>\n",
       "      <td>[2481/300000]</td>\n",
       "      <td>0.00139</td>\n",
       "      <td>0.00143</td>\n",
       "      <td>100.000</td>\n",
       "      <td>1.00</td>\n",
       "    </tr>\n",
       "    <tr>\n",
       "      <th>2485</th>\n",
       "      <td>[2486/300000]</td>\n",
       "      <td>0.00132</td>\n",
       "      <td>0.00141</td>\n",
       "      <td>100.000</td>\n",
       "      <td>1.00</td>\n",
       "    </tr>\n",
       "    <tr>\n",
       "      <th>2490</th>\n",
       "      <td>[2491/300000]</td>\n",
       "      <td>0.00140</td>\n",
       "      <td>0.00128</td>\n",
       "      <td>100.000</td>\n",
       "      <td>1.00</td>\n",
       "    </tr>\n",
       "    <tr>\n",
       "      <th>2495</th>\n",
       "      <td>[2496/300000]</td>\n",
       "      <td>0.00138</td>\n",
       "      <td>0.02355</td>\n",
       "      <td>98.496</td>\n",
       "      <td>0.99</td>\n",
       "    </tr>\n",
       "    <tr>\n",
       "      <th>2500</th>\n",
       "      <td>[2501/300000]</td>\n",
       "      <td>0.00147</td>\n",
       "      <td>0.00296</td>\n",
       "      <td>100.000</td>\n",
       "      <td>1.00</td>\n",
       "    </tr>\n",
       "  </tbody>\n",
       "</table>\n",
       "</div>"
      ],
      "text/plain": [
       "          Iteration  Train_loss  Valid_loss  Current_accuracy  Current_norm_ED\n",
       "2480  [2481/300000]     0.00139     0.00143           100.000             1.00\n",
       "2485  [2486/300000]     0.00132     0.00141           100.000             1.00\n",
       "2490  [2491/300000]     0.00140     0.00128           100.000             1.00\n",
       "2495  [2496/300000]     0.00138     0.02355            98.496             0.99\n",
       "2500  [2501/300000]     0.00147     0.00296           100.000             1.00"
      ]
     },
     "execution_count": 117,
     "metadata": {},
     "output_type": "execute_result"
    }
   ],
   "source": [
    "df.tail()"
   ]
  },
  {
   "cell_type": "code",
   "execution_count": 4,
   "metadata": {},
   "outputs": [
    {
     "data": {
      "text/plain": [
       "<matplotlib.collections.PathCollection at 0x7f77bc9f8240>"
      ]
     },
     "execution_count": 4,
     "metadata": {},
     "output_type": "execute_result"
    },
    {
     "data": {
      "image/png": "[encoded data removed]",
      "text/plain": [
       "<Figure size 432x288 with 1 Axes>"
      ]
     },
     "metadata": {
      "needs_background": "light"
     },
     "output_type": "display_data"
    }
   ],
   "source": [
    "plt.scatter(df.index, df.Train_loss)\n",
    "plt.scatter(df.index, df.Valid_loss)\n",
    "# plt.scatter(df.index, df.Current_accuracy)"
   ]
  },
  {
   "cell_type": "code",
   "execution_count": 29,
   "metadata": {},
   "outputs": [],
   "source": [
    "df.Train_loss = df.Train_loss *10"
   ]
  },
  {
   "cell_type": "code",
   "execution_count": 30,
   "metadata": {},
   "outputs": [],
   "source": [
    "df.Valid_loss = df.Valid_loss *10"
   ]
  },
  {
   "cell_type": "code",
   "execution_count": 32,
   "metadata": {},
   "outputs": [
    {
     "ename": "TypeError",
     "evalue": "scatter() missing 1 required positional argument: 'y'",
     "output_type": "error",
     "traceback": [
      "\u001b[0;31m---------------------------------------------------------------------------\u001b[0m",
      "\u001b[0;31mTypeError\u001b[0m                                 Traceback (most recent call last)",
      "\u001b[0;32m<ipython-input-32-cb564b3b2904>\u001b[0m in \u001b[0;36m<module>\u001b[0;34m\u001b[0m\n\u001b[0;32m----> 1\u001b[0;31m \u001b[0mplt\u001b[0m\u001b[0;34m.\u001b[0m\u001b[0mscatter\u001b[0m\u001b[0;34m(\u001b[0m\u001b[0mdf\u001b[0m\u001b[0;34m.\u001b[0m\u001b[0mTrain_loss\u001b[0m\u001b[0;34m)\u001b[0m\u001b[0;34m\u001b[0m\u001b[0;34m\u001b[0m\u001b[0m\n\u001b[0m\u001b[1;32m      2\u001b[0m \u001b[0mplt\u001b[0m\u001b[0;34m.\u001b[0m\u001b[0mscatter\u001b[0m\u001b[0;34m(\u001b[0m\u001b[0mdf\u001b[0m\u001b[0;34m.\u001b[0m\u001b[0mValid_loss\u001b[0m\u001b[0;34m)\u001b[0m\u001b[0;34m\u001b[0m\u001b[0;34m\u001b[0m\u001b[0m\n\u001b[1;32m      3\u001b[0m \u001b[0mplt\u001b[0m\u001b[0;34m.\u001b[0m\u001b[0mscatter\u001b[0m\u001b[0;34m(\u001b[0m\u001b[0mdf\u001b[0m\u001b[0;34m.\u001b[0m\u001b[0mCurrent_accuracy\u001b[0m\u001b[0;34m)\u001b[0m\u001b[0;34m\u001b[0m\u001b[0;34m\u001b[0m\u001b[0m\n",
      "\u001b[0;31mTypeError\u001b[0m: scatter() missing 1 required positional argument: 'y'"
     ]
    }
   ],
   "source": [
    "plt.scatter(df.Train_loss)\n",
    "plt.scatter(df.Valid_loss)\n",
    "plt.scatter(df.Current_accuracy)"
   ]
  },
  {
   "cell_type": "code",
   "execution_count": 15,
   "metadata": {},
   "outputs": [
    {
     "ename": "AttributeError",
     "evalue": "module 'matplotlib' has no attribute 'plot'",
     "output_type": "error",
     "traceback": [
      "\u001b[0;31m---------------------------------------------------------------------------\u001b[0m",
      "\u001b[0;31mAttributeError\u001b[0m                            Traceback (most recent call last)",
      "\u001b[0;32m<ipython-input-15-ca1f0db8a54d>\u001b[0m in \u001b[0;36m<module>\u001b[0;34m\u001b[0m\n\u001b[0;32m----> 1\u001b[0;31m plt.plot('Train_loss',  # x\n\u001b[0m\u001b[1;32m      2\u001b[0m \u001b[0;34m\u001b[0m\u001b[0m\n\u001b[1;32m      3\u001b[0m          \u001b[0;34m'Valid_loss'\u001b[0m\u001b[0;34m,\u001b[0m  \u001b[0;31m# y\u001b[0m\u001b[0;34m\u001b[0m\u001b[0;34m\u001b[0m\u001b[0m\n\u001b[1;32m      4\u001b[0m \u001b[0;34m\u001b[0m\u001b[0m\n\u001b[1;32m      5\u001b[0m          \u001b[0mdata\u001b[0m\u001b[0;34m=\u001b[0m\u001b[0mloss\u001b[0m\u001b[0;34m,\u001b[0m\u001b[0;34m\u001b[0m\u001b[0;34m\u001b[0m\u001b[0m\n",
      "\u001b[0;31mAttributeError\u001b[0m: module 'matplotlib' has no attribute 'plot'"
     ]
    }
   ],
   "source": [
    "plt.plot('Train_loss',  # x\n",
    "\n",
    "         'Valid_loss',  # y\n",
    "\n",
    "         data=loss, \n",
    "\n",
    "         linestyle='none', \n",
    "\n",
    "         marker='o', \n",
    "\n",
    "         markersize=10,\n",
    "\n",
    "         color='blue', \n",
    "\n",
    "         alpha=0.5)\n",
    "\n",
    "plt.title('Scatter Plot of loss by matplotlib', fontsize=20)\n",
    "\n",
    "plt.xlabel('Petal Train_loss', fontsize=14)\n",
    "\n",
    "plt.ylabel('Valid_loss Width', fontsize=14)\n",
    "\n",
    "plt.show()"
   ]
  }
 ],
 "metadata": {
  "accelerator": "GPU",
  "colab": {
   "collapsed_sections": [],
   "include_colab_link": true,
   "name": "deep-text-recognition-benchmark.ipynb",
   "provenance": []
  },
  "kernelspec": {
   "display_name": "Python 3",
   "language": "python",
   "name": "python3"
  },
  "language_info": {
   "codemirror_mode": {
    "name": "ipython",
    "version": 3
   },
   "file_extension": ".py",
   "mimetype": "text/x-python",
   "name": "python",
   "nbconvert_exporter": "python",
   "pygments_lexer": "ipython3",
   "version": "3.6.7"
  }
 },
 "nbformat": 4,
 "nbformat_minor": 1
}
