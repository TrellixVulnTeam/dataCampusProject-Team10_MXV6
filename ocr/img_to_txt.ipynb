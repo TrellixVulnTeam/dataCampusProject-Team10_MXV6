{
 "cells": [
  {
   "cell_type": "code",
   "execution_count": null,
   "metadata": {},
   "outputs": [],
   "source": [
    "import os\n",
    "os.environ[\"GOOGLE_APPLICATION_CREDENTIALS\"] = \"/content/drive/Shared drives/BigDATA TEAM 10/dataCampusProject-Team10/ocr/My Project-a3f9a30ceabf.json\""
   ]
  },
  {
   "cell_type": "code",
   "execution_count": null,
   "metadata": {},
   "outputs": [],
   "source": [
    "!pip install --upgrade google-cloud-vision"
   ]
  },
  {
   "cell_type": "code",
   "execution_count": 1,
   "metadata": {},
   "outputs": [],
   "source": [
    "import io\n",
    "import os\n",
    "from google.cloud import vision\n",
    "from google.cloud.vision import types"
   ]
  },
  {
   "cell_type": "code",
   "execution_count": 2,
   "metadata": {},
   "outputs": [],
   "source": [
    "client = vision.ImageAnnotatorClient()"
   ]
  },
  {
   "cell_type": "code",
   "execution_count": 4,
   "metadata": {},
   "outputs": [
    {
     "name": "stdout",
     "output_type": "stream",
     "text": [
      "문단나누기\n",
      "문단나누기\n",
      "문단나누기\n",
      "문단나누기\n"
     ]
    }
   ],
   "source": [
    "path = './text_detection/test/test2/test2.jpg'\n",
    "with io.open(path, 'rb') as image_file:\n",
    "    content = image_file.read()\n",
    "    \n",
    "image = vision.types.Image(content=content)\n",
    "response = client.text_detection(image=image)\n",
    "texts = response.text_annotations\n",
    "box = 0,0,0,0,0,0,0,0\n",
    "pre_box = 0,0,0,0,0,0,0,0\n",
    "result_text = []\n",
    "a = ' '\n",
    "for text in texts[1:]:\n",
    "    for vertex in text.bounding_poly.vertices:\n",
    "        vertices = (['{},{}'.format(vertex.x, vertex.y) for vertex in text.bounding_poly.vertices])\n",
    "        x1,x2,x3,x4 = vertices[0].split(',')[0],vertices[1].split(',')[0],vertices[2].split(',')[0],vertices[3].split(',')[0]\n",
    "        y1,y2,y3,y4 = vertices[0].split(',')[1],vertices[1].split(',')[1],vertices[2].split(',')[1],vertices[3].split(',')[1]\n",
    "        break\n",
    "    \n",
    "    box = int(x1),int(y1),int(x2),int(y2),int(x3),int(y3),int(x4),int(y4)\n",
    "    \n",
    "    if (box[1] - pre_box[5]) >= 30:\n",
    "        result_text.append(a)\n",
    "        print('문단나누기')\n",
    "        a = text.description\n",
    "    else:\n",
    "        a += text.description + ' '\n",
    "    pre_box = box\n",
    "result_text.append(a)"
   ]
  },
  {
   "cell_type": "code",
   "execution_count": 5,
   "metadata": {},
   "outputs": [
    {
     "data": {
      "text/plain": [
       "' '"
      ]
     },
     "execution_count": 5,
     "metadata": {},
     "output_type": "execute_result"
    }
   ],
   "source": [
    "result_text[0]"
   ]
  },
  {
   "cell_type": "code",
   "execution_count": 6,
   "metadata": {},
   "outputs": [
    {
     "data": {
      "text/plain": [
       "'평등은 자유 와 더불어 근대 사회 의 핵심 이념 으로 자리 잡고 있다 . 인간 은 가령 인종 이나 성별 과 상관 없이 누구나 평등 하다고 생각 한다 . 모든 인간 은 평등 하다고 말하는데 , 이 말 은 무슨 뜻 일까 ? 그리고 그 근거 는 무엇 인가 ? 일단 이 말 을 모든 인간 을 모든 측면 에서 똑같이 대우 하는 절대적 평등 으로 생각 하는 이는 없다 . 인간 은 저마다 다르게 가지고 태어난 능력 과 소질 을 똑같게 만들 수 없기 때문 이다 . 절대적 평등 은 개인 의 개성 이냐 자율성 등 의 가치 와 충돌 하기도 한다 . '"
      ]
     },
     "execution_count": 6,
     "metadata": {},
     "output_type": "execute_result"
    }
   ],
   "source": [
    "result_text[1]"
   ]
  },
  {
   "cell_type": "code",
   "execution_count": 7,
   "metadata": {
    "scrolled": true
   },
   "outputs": [
    {
     "data": {
      "text/plain": [
       "\"평등에 대한 요구 는 모든 불평등 을 악 으로 보는 것이 아니라 충분한 이유 가 제시 되지 않은 불평 등 을 제거 하는 데 목표 를 두고 있다 . ' 이유 없는 차별 금지 ' 라는 조건 적 평등 원칙 은 차별 대우 를 할 때는 이유 를 제시 할 것을 요구 하고 있다 . 이것은 어떤 이유 가 제시 된다면 특정한 부류 에 속하 는 사람들 에게는 평등 한 대우 를 , 그 부류 에 속하지 않는 사람들 에게는 차별적 대우 를 하는 것을 허용 한다 . 그렇다면 사람들 을 특정한 부류 로 구분 하는 기준 은 무엇 인가 ? 이것은 바로 평등 의 근 거에 대한 물음 이다 . \""
      ]
     },
     "execution_count": 7,
     "metadata": {},
     "output_type": "execute_result"
    }
   ],
   "source": [
    "result_text[2]"
   ]
  },
  {
   "cell_type": "code",
   "execution_count": 8,
   "metadata": {
    "scrolled": true
   },
   "outputs": [
    {
     "data": {
      "text/plain": [
       "'근대의 여러 인권 선언 에 나타난 평등 개념 은 개인 들 사이 의 평등성 을 타고난 자연적 권리 로 간 주 하였다 . 하지만 이러한 자연권 이론 은 무엇이 자연적 권리 이고 권리 의 존재 가 자명 한 이유 가 무엇 인지 등 의 문제 에 부딪 히게 된다 . 그래서 롤스 는 기존 의 자연권 사상 에 의존 하지 않는 방시 으로 인간 평등 의 근거 를 마런 하려고 한다 . 그는 어떤 규칙 이 공평 하고 일관 되게 운영 되며 , 그 규 칙 에 따라 유사한 경우 는 유사 하게 취급 된다면 형식적 정의 는 실현 된다고 본다 . 하지만 롤스 는 형식적 정의 에 따라 규칙 을 준수 하는 것만 으로 는 정의 를 담보 할 수 없다고 생각 한다 . 그 규칙 이 더 높은 도덕적 권위 를 지닌 다른 이념 과 충돌 할 수 었기에 , 실질적 정의 가 보장 되기 위해서는 규칙 의 내용 이 중요한 것이다 . '"
      ]
     },
     "execution_count": 8,
     "metadata": {},
     "output_type": "execute_result"
    }
   ],
   "source": [
    "result_text[3]"
   ]
  },
  {
   "cell_type": "code",
   "execution_count": 9,
   "metadata": {},
   "outputs": [
    {
     "data": {
      "text/plain": [
       "\"롤스는 인간 평등 의 근거 를 설명 하면서 영역 성질 ( range property ) 개념 을 도입 한다 . 예 를 들어 어떤 원 의 내부 에 있는 점 들은 그 위치 가 서로 다르지만 원 의 내부 에 있다는 점 에서 동일한 영역 성질 을 갖는다 . 반면 에 원 의 내부 에 있는 점 과 원 의 외부 에 있는 점 은 원 의 경계선 을 기준 으로 서로 다른 영역 성질 을 갖는다 . 그는 평등 한 대우 를 받기 위한 영역 성질 로서 ' 도덕적 인격 ' 을 제 시한 다 . 도덕적 인격 이란 도덕적 호소 가 가능 하고 그런 호소 에 관심 을 가지는 능력 이 있다는 것 인데 , 이 능력 을 최소치 만 갖고 있다면 평등 한 대우 에 대한 권한 을 갖게 된다 . 도덕적 인격 이라고 해서 도덕적 으로 훌륭 하다는 뜻 이 아니라 도덕 과 무관 하다는 말 과 대비 되는 뜻 으로 쓰고 있다 . 그런데 어린 아이 는 인격체 로서의 최소한 의 기준 을 충족 하고 있는지 가 논란 이 될 수 있다 . 이에 대해 롤스 는 도덕적 인격 을 규정 하는 최소한 의 요구 조건 은 잠재적 능력 이지 그것 의 실현 여부 가 아니기에 어린 아이 도 평등 한 존재 라고 말한다 . \""
      ]
     },
     "execution_count": 9,
     "metadata": {},
     "output_type": "execute_result"
    }
   ],
   "source": [
    "result_text[4]"
   ]
  }
 ],
 "metadata": {
  "kernelspec": {
   "display_name": "Python 3",
   "language": "python",
   "name": "python3"
  },
  "language_info": {
   "codemirror_mode": {
    "name": "ipython",
    "version": 3
   },
   "file_extension": ".py",
   "mimetype": "text/x-python",
   "name": "python",
   "nbconvert_exporter": "python",
   "pygments_lexer": "ipython3",
   "version": "3.6.7"
  }
 },
 "nbformat": 4,
 "nbformat_minor": 2
}
