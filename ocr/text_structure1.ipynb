{
 "cells": [
  {
   "cell_type": "code",
   "execution_count": 30,
   "metadata": {},
   "outputs": [],
   "source": [
    "import pandas as pd\n",
    "import os\n",
    "import io\n",
    "from PIL import Image"
   ]
  },
  {
   "cell_type": "code",
   "execution_count": 3,
   "metadata": {},
   "outputs": [],
   "source": [
    "df = pd.read_csv('./text_detection/result/res_test2.txt',sep=',',names=['x1','y1','x2','y2','x3','y3','x4','y4'])"
   ]
  },
  {
   "cell_type": "code",
   "execution_count": 4,
   "metadata": {},
   "outputs": [],
   "source": [
    "df['text_size'] = df['y3'] - df['y1']"
   ]
  },
  {
   "cell_type": "code",
   "execution_count": 7,
   "metadata": {},
   "outputs": [
    {
     "data": {
      "text/html": [
       "<div>\n",
       "<style scoped>\n",
       "    .dataframe tbody tr th:only-of-type {\n",
       "        vertical-align: middle;\n",
       "    }\n",
       "\n",
       "    .dataframe tbody tr th {\n",
       "        vertical-align: top;\n",
       "    }\n",
       "\n",
       "    .dataframe thead th {\n",
       "        text-align: right;\n",
       "    }\n",
       "</style>\n",
       "<table border=\"1\" class=\"dataframe\">\n",
       "  <thead>\n",
       "    <tr style=\"text-align: right;\">\n",
       "      <th></th>\n",
       "      <th>x1</th>\n",
       "      <th>y1</th>\n",
       "      <th>x2</th>\n",
       "      <th>y2</th>\n",
       "      <th>x3</th>\n",
       "      <th>y3</th>\n",
       "      <th>x4</th>\n",
       "      <th>y4</th>\n",
       "      <th>text_size</th>\n",
       "    </tr>\n",
       "  </thead>\n",
       "  <tbody>\n",
       "    <tr>\n",
       "      <th>0</th>\n",
       "      <td>150</td>\n",
       "      <td>183</td>\n",
       "      <td>213</td>\n",
       "      <td>183</td>\n",
       "      <td>213</td>\n",
       "      <td>208</td>\n",
       "      <td>150</td>\n",
       "      <td>208</td>\n",
       "      <td>25</td>\n",
       "    </tr>\n",
       "    <tr>\n",
       "      <th>1</th>\n",
       "      <td>221</td>\n",
       "      <td>183</td>\n",
       "      <td>290</td>\n",
       "      <td>183</td>\n",
       "      <td>290</td>\n",
       "      <td>208</td>\n",
       "      <td>221</td>\n",
       "      <td>208</td>\n",
       "      <td>25</td>\n",
       "    </tr>\n",
       "    <tr>\n",
       "      <th>2</th>\n",
       "      <td>298</td>\n",
       "      <td>183</td>\n",
       "      <td>361</td>\n",
       "      <td>183</td>\n",
       "      <td>361</td>\n",
       "      <td>208</td>\n",
       "      <td>298</td>\n",
       "      <td>208</td>\n",
       "      <td>25</td>\n",
       "    </tr>\n",
       "    <tr>\n",
       "      <th>3</th>\n",
       "      <td>372</td>\n",
       "      <td>183</td>\n",
       "      <td>416</td>\n",
       "      <td>183</td>\n",
       "      <td>416</td>\n",
       "      <td>208</td>\n",
       "      <td>372</td>\n",
       "      <td>208</td>\n",
       "      <td>25</td>\n",
       "    </tr>\n",
       "    <tr>\n",
       "      <th>4</th>\n",
       "      <td>424</td>\n",
       "      <td>183</td>\n",
       "      <td>490</td>\n",
       "      <td>183</td>\n",
       "      <td>490</td>\n",
       "      <td>208</td>\n",
       "      <td>424</td>\n",
       "      <td>208</td>\n",
       "      <td>25</td>\n",
       "    </tr>\n",
       "  </tbody>\n",
       "</table>\n",
       "</div>"
      ],
      "text/plain": [
       "    x1   y1   x2   y2   x3   y3   x4   y4  text_size\n",
       "0  150  183  213  183  213  208  150  208         25\n",
       "1  221  183  290  183  290  208  221  208         25\n",
       "2  298  183  361  183  361  208  298  208         25\n",
       "3  372  183  416  183  416  208  372  208         25\n",
       "4  424  183  490  183  490  208  424  208         25"
      ]
     },
     "execution_count": 7,
     "metadata": {},
     "output_type": "execute_result"
    }
   ],
   "source": [
    "df.head()"
   ]
  },
  {
   "cell_type": "markdown",
   "metadata": {},
   "source": [
    "줄 나누기"
   ]
  },
  {
   "cell_type": "code",
   "execution_count": 6,
   "metadata": {
    "scrolled": false
   },
   "outputs": [],
   "source": [
    "line_list = []\n",
    "text_size = df['text_size'].mean()\n",
    "start = len(line_list)\n",
    "for _ in range(len(df)):\n",
    "    x1,y1,x2,y2,x3,y3,x4,y4,text_size = df.loc[_]\n",
    "    box = x1,y1,x2,y2,x3,y3,x4,y4\n",
    "    \n",
    "    idx = 0\n",
    "    \n",
    "    if _ ==0:\n",
    "        li = []\n",
    "        li.append(box)\n",
    "        line_list.append(li)\n",
    "            \n",
    "    for line in line_list[start:]:\n",
    "        do_append = 'F'\n",
    "        if _ ==0:\n",
    "            break\n",
    "        for i in line:\n",
    "            if (abs(((y1 + y3) /2) - ((i[1] + i[5])/2)) < text_size):\n",
    "                line.append(box)\n",
    "                line.sort()\n",
    "                do_append = 'T'\n",
    "                break    \n",
    "        if do_append == 'T':\n",
    "            break\n",
    "        else:\n",
    "            idx += 1\n",
    "\n",
    "    if idx == len(line_list[start:]):\n",
    "        new_line = []\n",
    "        new_line.append(box)\n",
    "        line_list.append(new_line)"
   ]
  },
  {
   "cell_type": "markdown",
   "metadata": {},
   "source": [
    "단락 나누기"
   ]
  },
  {
   "cell_type": "code",
   "execution_count": 26,
   "metadata": {},
   "outputs": [],
   "source": [
    "before_x_point = 0\n",
    "before_y_point = 0\n",
    "text_structure = []\n",
    "idx = 0\n",
    "for line in line_list:\n",
    "    if idx ==0:\n",
    "        new_paragraph = []\n",
    "        new_paragraph.append(line)\n",
    "    \n",
    "    else:\n",
    "        if (line[0][1] - before_y_point) > 1.5 *text_size:\n",
    "            text_structure.append(new_paragraph)\n",
    "            new_paragraph = []\n",
    "            new_paragraph.append(line)\n",
    "        else:\n",
    "            new_paragraph.append(line)\n",
    "         \n",
    "    before_x_point = line[0][0]\n",
    "    before_y_point = line[0][1]\n",
    "         \n",
    "    before_x_point = line[0][0]\n",
    "    before_y_point = line[0][1]\n",
    "    idx += 1\n",
    "    \n",
    "    if idx == len(line_list):\n",
    "        text_structure.append(new_paragraph)"
   ]
  },
  {
   "cell_type": "code",
   "execution_count": 15,
   "metadata": {},
   "outputs": [
    {
     "data": {
      "text/plain": [
       "1"
      ]
     },
     "execution_count": 15,
     "metadata": {},
     "output_type": "execute_result"
    }
   ],
   "source": [
    "len(text_structure[0])"
   ]
  },
  {
   "cell_type": "markdown",
   "metadata": {},
   "source": [
    "단락별 줄별 이미지 저장"
   ]
  },
  {
   "cell_type": "code",
   "execution_count": 20,
   "metadata": {},
   "outputs": [],
   "source": [
    "img = Image.open('./text_detection/test/test2/test2.jpg','r')"
   ]
  },
  {
   "cell_type": "code",
   "execution_count": 27,
   "metadata": {},
   "outputs": [],
   "source": [
    "img = Image.open('./text_detection/test/test2/test2.jpg','r')\n",
    "a = 0\n",
    "k = 0\n",
    "for paragraph in text_structure:\n",
    "    path = './text_detection/result/test2_structure/'\n",
    "    paragraph_path = path + 'paragraph' + str(k) + '/'\n",
    "    os.mkdir(paragraph_path)\n",
    "    for line in paragraph:\n",
    "        line.sort()\n",
    "        line_path = paragraph_path + 'line' + str(a) + '/'\n",
    "        os.mkdir(line_path)\n",
    "        b = 0\n",
    "        for box in line:\n",
    "            x1,y1,x2,y2,x3,y3,x4,y4 = box\n",
    "            image = img.crop((x1,y1,x3,y3))\n",
    "            image.save(line_path + str(b) +'.jpg')\n",
    "            b += 1\n",
    "        a += 1\n",
    "    k += 1"
   ]
  },
  {
   "cell_type": "code",
   "execution_count": null,
   "metadata": {},
   "outputs": [],
   "source": []
  }
 ],
 "metadata": {
  "kernelspec": {
   "display_name": "Python 3",
   "language": "python",
   "name": "python3"
  },
  "language_info": {
   "codemirror_mode": {
    "name": "ipython",
    "version": 3
   },
   "file_extension": ".py",
   "mimetype": "text/x-python",
   "name": "python",
   "nbconvert_exporter": "python",
   "pygments_lexer": "ipython3",
   "version": "3.6.7"
  }
 },
 "nbformat": 4,
 "nbformat_minor": 2
}
