{
 "cells": [
  {
   "cell_type": "code",
   "execution_count": null,
   "metadata": {},
   "outputs": [],
   "source": [
    "<a href=\"https://colab.research.google.com/github/yoonkim313/dataCampusProject-Team10/blob/master/ocr/deep-text-recognition/train.ipynb\" target=\"_parent\"><img src=\"https://colab.research.google.com/assets/colab-badge.svg\" alt=\"Open In Colab\"/></a>"
   ]
  },
  {
   "cell_type": "code",
   "execution_count": 2,
   "metadata": {},
   "outputs": [
    {
     "name": "stdout",
     "output_type": "stream",
     "text": [
      "python3: can't open file './deep-text-recognition-benchmark/test.py': [Errno 2] No such file or directory\r\n"
     ]
    }
   ],
   "source": [
    "!CUDA_VISIBLE_DEVICES=0 python3 test.py \\\n",
    "--eval_data /content/drive/'My Drive'/data/data_lmdb/ \\\n",
    "--benchmark_all_eval \\\n",
    "--Transformation TPS \\\n",
    "--FeatureExtraction VGG \\\n",
    "--SequenceModeling BiLSTM \\\n",
    "--Prediction Attn \\\n",
    "--saved_model /saved_models/TPS-ResNet-BiLSTM-Attn-Seed7777/best_accuracy.pth"
   ]
  },
  {
   "cell_type": "code",
   "execution_count": 8,
   "metadata": {},
   "outputs": [],
   "source": [
    "output = !CUDA_VISIBLE_DEVICES=0 python3 demo.py \\\n",
    "--Transformation TPS \\\n",
    "--FeatureExtraction VGG \\\n",
    "--SequenceModeling BiLSTM \\\n",
    "--Prediction Attn \\\n",
    "--image_folder test_image \\\n",
    "--saved_model /saved_models/TPS-ResNet-BiLSTM-Attn-Seed7777/best_accuracy.pth"
   ]
  },
  {
   "cell_type": "code",
   "execution_count": 9,
   "metadata": {
    "scrolled": true
   },
   "outputs": [
    {
     "data": {
      "text/plain": [
       "['model input parameters 32 400 20 1 512 256 974 50 TPS ResNet BiLSTM Attn',\n",
       " 'loading pretrained model from ./saved_models/best_accuracy.pth',\n",
       " 'Traceback (most recent call last):',\n",
       " '  File \"./ocr_kor/deep-text-recognition-benchmark/demo.py\", line 117, in <module>',\n",
       " '    demo(opt)',\n",
       " '  File \"./ocr_kor/deep-text-recognition-benchmark/demo.py\", line 34, in demo',\n",
       " '    model.load_state_dict(torch.load(opt.saved_model))',\n",
       " '  File \"/opt/conda/lib/python3.6/site-packages/torch/serialization.py\", line 368, in load',\n",
       " '    return _load(f, map_location, pickle_module)',\n",
       " '  File \"/opt/conda/lib/python3.6/site-packages/torch/serialization.py\", line 542, in _load',\n",
       " '    result = unpickler.load()',\n",
       " '  File \"/opt/conda/lib/python3.6/site-packages/torch/serialization.py\", line 505, in persistent_load',\n",
       " '    data_type(size), location)',\n",
       " '  File \"/opt/conda/lib/python3.6/site-packages/torch/serialization.py\", line 114, in default_restore_location',\n",
       " '    result = fn(storage, location)',\n",
       " '  File \"/opt/conda/lib/python3.6/site-packages/torch/serialization.py\", line 95, in _cuda_deserialize',\n",
       " '    device = validate_cuda_device(location)',\n",
       " '  File \"/opt/conda/lib/python3.6/site-packages/torch/serialization.py\", line 79, in validate_cuda_device',\n",
       " \"    raise RuntimeError('Attempting to deserialize object on a CUDA '\",\n",
       " \"RuntimeError: Attempting to deserialize object on a CUDA device but torch.cuda.is_available() is False. If you are running on a CPU-only machine, please use torch.load with map_location='cpu' to map your storages to the CPU.\"]"
      ]
     },
     "execution_count": 9,
     "metadata": {},
     "output_type": "execute_result"
    }
   ],
   "source": [
    "from IPython.core.display import display, HTML\n",
    "from PIL import Image\n",
    "import base64\n",
    "import io\n",
    "import pandas as pd\n",
    "\n",
    "data = pd.DataFrame()\n",
    "for ind, row in enumerate(output[output.index('image_path \\t predicted_labels \\t confidence score')+2:]):\n",
    "    row = row.split('\\t')\n",
    "    filename = row[0].strip()\n",
    "    label = row[1].strip()\n",
    "    conf = row[2].strip()\n",
    "    img = Image.open(filename)\n",
    "    img_buffer = io.BytesIO()\n",
    "    img.save(img_buffer, format=\"PNG\")\n",
    "    imgStr = base64.b64encode(img_buffer.getvalue()).decode(\"utf-8\")\n",
    "    \n",
    "    data.loc[ind, 'img'] = '<img src=\"data:image/png;base64,{0:s}\">'.format(imgStr)\n",
    "    data.loc[ind, 'id'] = filename\n",
    "    data.loc[ind, 'label'] = label\n",
    "    data.loc[ind, 'conf'] = conf\n",
    "    \n",
    "html_all = data.to_html(escape=False)\n",
    "display(HTML(html_all))"
   ]
  }
 ],
 "metadata": {
  "kernelspec": {
   "display_name": "Python 3",
   "language": "python",
   "name": "python3"
  },
  "language_info": {
   "codemirror_mode": {
    "name": "ipython",
    "version": 3
   },
   "file_extension": ".py",
   "mimetype": "text/x-python",
   "name": "python",
   "nbconvert_exporter": "python",
   "pygments_lexer": "ipython3",
   "version": "3.6.7"
  }
 },
 "nbformat": 4,
 "nbformat_minor": 2
}
