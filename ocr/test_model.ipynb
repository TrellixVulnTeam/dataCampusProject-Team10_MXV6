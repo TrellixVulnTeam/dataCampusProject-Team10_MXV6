{
 "cells": [
  {
   "cell_type": "markdown",
   "metadata": {},
   "source": [
    "<a href=\"https://colab.research.google.com/github/yoonkim313/dataCampusProject-Team10/blob/master/ocr/test_model.ipynb\" target=\"_parent\"><img src=\"https://colab.research.google.com/assets/colab-badge.svg\" alt=\"Open In Colab\"/></a>"
   ]
  },
  {
   "cell_type": "markdown",
   "metadata": {
    "colab_type": "text",
    "id": "dHbHK60Tqn2c"
   },
   "source": [
    "This can be executed in https://colab.research.google.com \"Python 3 / GPU\" runtime."
   ]
  },
  {
   "cell_type": "code",
   "execution_count": null,
   "metadata": {},
   "outputs": [],
   "source": [
    "!git clone https://github.com/yoonkim313/dataCampusProject-Team10.git"
   ]
  },
  {
   "cell_type": "markdown",
   "metadata": {},
   "source": [
    "모델 저장 경로 확인"
   ]
  },
  {
   "cell_type": "code",
   "execution_count": 4,
   "metadata": {},
   "outputs": [
    {
     "name": "stdout",
     "output_type": "stream",
     "text": [
      "/workspace/dataCampusProject-Team10/dataCampusProject-Team10/ocr/saved_models\n"
     ]
    }
   ],
   "source": [
    "%cd ./saved_models"
   ]
  },
  {
   "cell_type": "code",
   "execution_count": 5,
   "metadata": {
    "scrolled": false
   },
   "outputs": [
    {
     "name": "stdout",
     "output_type": "stream",
     "text": [
      "  % Total    % Received % Xferd  Average Speed   Time    Time     Time  Current\n",
      "                                 Dload  Upload   Total   Spent    Left  Speed\n",
      "100  3262    0  3262    0     0   4700      0 --:--:-- --:--:-- --:--:--  4693\n",
      "  % Total    % Received % Xferd  Average Speed   Time    Time     Time  Current\n",
      "                                 Dload  Upload   Total   Spent    Left  Speed\n",
      "100   408    0   408    0     0    659      0 --:--:-- --:--:-- --:--:--   659\n",
      "  0     0    0     0    0     0      0      0 --:--:--  0:00:01 --:--:--     0\n",
      "  0     0    0     0    0     0      0      0 --:--:--  0:00:02 --:--:--     0\n",
      "100  244M    0  244M    0     0  3604k      0 --:--:--  0:01:09 --:--:-- 6221k\n",
      "-rwxrwxrwx 1 1000 1000 255928887  8월 28  2020 best_accuracy.pth\n"
     ]
    }
   ],
   "source": [
    "models = {\n",
    "    'best_accuracy.pth': 'https://drive.google.com/open?id=1JqMF8-FSgpAaSfhq-CFbERXpX5rTTQrW'}\n",
    "for k, v in models.items():\n",
    "    doc_id = v[v.find('=')+1:]\n",
    "    !curl -c /tmp/cookies \"https://drive.google.com/uc?export=download&id=$doc_id\" > /tmp/intermezzo.html\n",
    "    !curl -L -b /tmp/cookies \"https://drive.google.com$(cat /tmp/intermezzo.html | grep -Po 'uc-download-link\" [^>]* href=\"\\K[^\"]*' | sed 's/\\&amp;/\\&/g')\" > $k\n",
    "\n",
    "!ls -al *.pth"
   ]
  },
  {
   "cell_type": "markdown",
   "metadata": {},
   "source": [
    "evaluation data download"
   ]
  },
  {
   "cell_type": "code",
   "execution_count": 7,
   "metadata": {},
   "outputs": [
    {
     "name": "stdout",
     "output_type": "stream",
     "text": [
      "/workspace/dataCampusProject-Team10/dataCampusProject-Team10/ocr/data/data_lmdb/evaluation\n"
     ]
    }
   ],
   "source": [
    "%cd ../data/data_lmdb/evaluation/"
   ]
  },
  {
   "cell_type": "code",
   "execution_count": null,
   "metadata": {},
   "outputs": [],
   "source": [
    "data = {\n",
    "    'evaluation.mdb': 'https://drive.google.com/open?id=1JqMF8-FSgpAaSfhq-CFbERXpX5rTTQrW'}\n",
    "for k, v in data.items():\n",
    "    doc_id = v[v.find('=')+1:]\n",
    "    !curl -c /tmp/cookies \"https://drive.google.com/uc?export=download&id=$doc_id\" > /tmp/intermezzo.html\n",
    "    !curl -L -b /tmp/cookies \"https://drive.google.com$(cat /tmp/intermezzo.html | grep -Po 'uc-download-link\" [^>]* href=\"\\K[^\"]*' | sed 's/\\&amp;/\\&/g')\" > $k\n",
    "\n",
    "!ls -al *.pth"
   ]
  },
  {
   "cell_type": "markdown",
   "metadata": {},
   "source": [
    "ocr 디렉토리로 이동"
   ]
  },
  {
   "cell_type": "code",
   "execution_count": 8,
   "metadata": {},
   "outputs": [
    {
     "name": "stdout",
     "output_type": "stream",
     "text": [
      "/workspace/dataCampusProject-Team10/dataCampusProject-Team10/ocr\n"
     ]
    }
   ],
   "source": [
    "%cd ../../.."
   ]
  },
  {
   "cell_type": "code",
   "execution_count": null,
   "metadata": {},
   "outputs": [],
   "source": [
    "!CUDA_VISIBLE_DEVICES=0 python3 ./deep-text-recognition/test.py \\\n",
    "--eval_data ./data/data_lmdb/evaluation/ \\\n",
    "--benchmark_all_eval \\\n",
    "--Transformation TPS \\\n",
    "--FeatureExtraction VGG \\\n",
    "--SequenceModeling BiLSTM \\\n",
    "--Prediction Attn \\\n",
    "--saved_model ./saved_modesl/best_accuracy.pth"
   ]
  },
  {
   "cell_type": "code",
   "execution_count": null,
   "metadata": {},
   "outputs": [],
   "source": [
    "output = !CUDA_VISIBLE_DEVICES=0 python3 ./deep-text-recognition/demo.py \\\n",
    "--benchmark_all_eval \\\n",
    "--Transformation TPS \\\n",
    "--FeatureExtraction VGG \\\n",
    "--SequenceModeling BiLSTM \\\n",
    "--Prediction Attn \\\n",
    "--image_folder ./text_detection/result/test1_structure/ \\\n",
    "--saved_model ./saved_models/best_accuracy.pth"
   ]
  },
  {
   "cell_type": "code",
   "execution_count": null,
   "metadata": {},
   "outputs": [],
   "source": [
    "output"
   ]
  },
  {
   "cell_type": "code",
   "execution_count": null,
   "metadata": {
    "scrolled": true
   },
   "outputs": [],
   "source": [
    "from IPython.core.display import display, HTML\n",
    "from PIL import Image\n",
    "import base64\n",
    "import io\n",
    "import pandas as pd\n",
    "\n",
    "data = pd.DataFrame()\n",
    "for ind, row in enumerate(output[output.index('image_path \\t predicted_labels \\t confidence score')+2:]):\n",
    "    row = row.split('\\t')\n",
    "    filename = row[0].strip()\n",
    "    label = row[1].strip()\n",
    "    conf = row[2].strip()\n",
    "    img = Image.open(filename)\n",
    "    img_buffer = io.BytesIO()\n",
    "    img.save(img_buffer, format=\"PNG\")\n",
    "    imgStr = base64.b64encode(img_buffer.getvalue()).decode(\"utf-8\")\n",
    "    \n",
    "    data.loc[ind, 'img'] = '<img src=\"data:image/png;base64,{0:s}\">'.format(imgStr)\n",
    "    data.loc[ind, 'id'] = filename\n",
    "    data.loc[ind, 'label'] = label\n",
    "    data.loc[ind, 'conf'] = conf\n",
    "    \n",
    "html_all = data.to_html(escape=False)\n",
    "display(HTML(html_all))"
   ]
  },
  {
   "cell_type": "code",
   "execution_count": null,
   "metadata": {},
   "outputs": [],
   "source": []
  }
 ],
 "metadata": {
  "kernelspec": {
   "display_name": "Python 3",
   "language": "python",
   "name": "python3"
  },
  "language_info": {
   "codemirror_mode": {
    "name": "ipython",
    "version": 3
   },
   "file_extension": ".py",
   "mimetype": "text/x-python",
   "name": "python",
   "nbconvert_exporter": "python",
   "pygments_lexer": "ipython3",
   "version": "3.6.7"
  }
 },
 "nbformat": 4,
 "nbformat_minor": 2
}
