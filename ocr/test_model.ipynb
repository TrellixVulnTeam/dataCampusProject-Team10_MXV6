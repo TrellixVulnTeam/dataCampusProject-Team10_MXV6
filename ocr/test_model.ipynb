{
 "cells": [
  {
   "cell_type": "code",
   "execution_count": 2,
   "metadata": {},
   "outputs": [
    {
     "name": "stdout",
     "output_type": "stream",
     "text": [
      "python3: can't open file './deep-text-recognition-benchmark/test.py': [Errno 2] No such file or directory\r\n"
     ]
    }
   ],
   "source": [
    "!CUDA_VISIBLE_DEVICES=0 python3 ./ocr_kor/deep-text-recognition-benchmark/test.py \\\n",
    "--eval_data ./data/test/img/ --benchmark_all_eval \\\n",
    "--Transformation TPS --FeatureExtraction ResNet --SequenceModeling BiLSTM --Prediction Attn \\\n",
    "--saved_model ./saved_models/best_accuracy.pth"
   ]
  },
  {
   "cell_type": "code",
   "execution_count": 8,
   "metadata": {},
   "outputs": [],
   "source": [
    "output = !CUDA_VISIBLE_DEVICES=0 python3 ./ocr_kor/deep-text-recognition-benchmark/demo.py \\\n",
    "--Transformation TPS --FeatureExtraction ResNet --SequenceModeling BiLSTM --Prediction Attn \\\n",
    "--image_folder ./data/test/img/ \\\n",
    "--saved_model ./saved_models/best_accuracy.pth"
   ]
  },
  {
   "cell_type": "code",
   "execution_count": 9,
   "metadata": {
    "scrolled": true
   },
   "outputs": [
    {
     "data": {
      "text/plain": [
       "['model input parameters 32 400 20 1 512 256 974 50 TPS ResNet BiLSTM Attn',\n",
       " 'loading pretrained model from ./saved_models/best_accuracy.pth',\n",
       " 'Traceback (most recent call last):',\n",
       " '  File \"./ocr_kor/deep-text-recognition-benchmark/demo.py\", line 117, in <module>',\n",
       " '    demo(opt)',\n",
       " '  File \"./ocr_kor/deep-text-recognition-benchmark/demo.py\", line 34, in demo',\n",
       " '    model.load_state_dict(torch.load(opt.saved_model))',\n",
       " '  File \"/opt/conda/lib/python3.6/site-packages/torch/serialization.py\", line 368, in load',\n",
       " '    return _load(f, map_location, pickle_module)',\n",
       " '  File \"/opt/conda/lib/python3.6/site-packages/torch/serialization.py\", line 542, in _load',\n",
       " '    result = unpickler.load()',\n",
       " '  File \"/opt/conda/lib/python3.6/site-packages/torch/serialization.py\", line 505, in persistent_load',\n",
       " '    data_type(size), location)',\n",
       " '  File \"/opt/conda/lib/python3.6/site-packages/torch/serialization.py\", line 114, in default_restore_location',\n",
       " '    result = fn(storage, location)',\n",
       " '  File \"/opt/conda/lib/python3.6/site-packages/torch/serialization.py\", line 95, in _cuda_deserialize',\n",
       " '    device = validate_cuda_device(location)',\n",
       " '  File \"/opt/conda/lib/python3.6/site-packages/torch/serialization.py\", line 79, in validate_cuda_device',\n",
       " \"    raise RuntimeError('Attempting to deserialize object on a CUDA '\",\n",
       " \"RuntimeError: Attempting to deserialize object on a CUDA device but torch.cuda.is_available() is False. If you are running on a CPU-only machine, please use torch.load with map_location='cpu' to map your storages to the CPU.\"]"
      ]
     },
     "execution_count": 9,
     "metadata": {},
     "output_type": "execute_result"
    }
   ],
   "source": [
    "output"
   ]
  },
  {
   "cell_type": "code",
   "execution_count": 5,
   "metadata": {
    "scrolled": true
   },
   "outputs": [
    {
     "name": "stdout",
     "output_type": "stream",
     "text": [
      "Collecting pytorch_transformers\n",
      "  Downloading pytorch_transformers-1.2.0-py3-none-any.whl (176 kB)\n",
      "\u001b[K     |████████████████████████████████| 176 kB 578 kB/s eta 0:00:01\n",
      "\u001b[?25hRequirement already satisfied: tqdm in /opt/conda/lib/python3.6/site-packages (from pytorch_transformers) (4.48.2)\n",
      "Requirement already satisfied: requests in /opt/conda/lib/python3.6/site-packages (from pytorch_transformers) (2.21.0)\n",
      "Collecting sentencepiece\n",
      "  Downloading sentencepiece-0.1.91-cp36-cp36m-manylinux1_x86_64.whl (1.1 MB)\n",
      "\u001b[K     |████████████████████████████████| 1.1 MB 3.1 MB/s eta 0:00:01\n",
      "\u001b[?25hCollecting boto3\n",
      "  Downloading boto3-1.14.47-py2.py3-none-any.whl (129 kB)\n",
      "\u001b[K     |████████████████████████████████| 129 kB 5.2 MB/s eta 0:00:01\n",
      "\u001b[?25hRequirement already satisfied: regex in /opt/conda/lib/python3.6/site-packages (from pytorch_transformers) (2020.7.14)\n",
      "Collecting sacremoses\n",
      "  Downloading sacremoses-0.0.43.tar.gz (883 kB)\n",
      "\u001b[K     |████████████████████████████████| 883 kB 5.5 MB/s eta 0:00:01\n",
      "\u001b[?25hRequirement already satisfied: numpy in /opt/conda/lib/python3.6/site-packages (from pytorch_transformers) (1.19.1)\n",
      "Requirement already satisfied: torch>=1.0.0 in /opt/conda/lib/python3.6/site-packages (from pytorch_transformers) (1.0.1.post2)\n",
      "Requirement already satisfied: certifi>=2017.4.17 in /opt/conda/lib/python3.6/site-packages (from requests->pytorch_transformers) (2019.3.9)\n",
      "Requirement already satisfied: chardet<3.1.0,>=3.0.2 in /opt/conda/lib/python3.6/site-packages (from requests->pytorch_transformers) (3.0.4)\n",
      "Requirement already satisfied: urllib3<1.25,>=1.21.1 in /opt/conda/lib/python3.6/site-packages (from requests->pytorch_transformers) (1.24.1)\n",
      "Requirement already satisfied: idna<2.9,>=2.5 in /opt/conda/lib/python3.6/site-packages (from requests->pytorch_transformers) (2.8)\n",
      "Collecting jmespath<1.0.0,>=0.7.1\n",
      "  Downloading jmespath-0.10.0-py2.py3-none-any.whl (24 kB)\n",
      "Collecting s3transfer<0.4.0,>=0.3.0\n",
      "  Downloading s3transfer-0.3.3-py2.py3-none-any.whl (69 kB)\n",
      "\u001b[K     |████████████████████████████████| 69 kB 2.6 MB/s eta 0:00:01\n",
      "\u001b[?25hCollecting botocore<1.18.0,>=1.17.47\n",
      "  Downloading botocore-1.17.47-py2.py3-none-any.whl (6.5 MB)\n",
      "\u001b[K     |████████████████████████████████| 6.5 MB 3.1 MB/s eta 0:00:01     |███▏                            | 634 kB 3.1 MB/s eta 0:00:02     |█████████████                   | 2.6 MB 3.1 MB/s eta 0:00:02\n",
      "\u001b[?25hRequirement already satisfied: six in /opt/conda/lib/python3.6/site-packages (from sacremoses->pytorch_transformers) (1.12.0)\n",
      "Requirement already satisfied: click in /opt/conda/lib/python3.6/site-packages (from sacremoses->pytorch_transformers) (7.1.2)\n",
      "Requirement already satisfied: joblib in /opt/conda/lib/python3.6/site-packages (from sacremoses->pytorch_transformers) (0.16.0)\n",
      "Requirement already satisfied: python-dateutil<3.0.0,>=2.1 in /opt/conda/lib/python3.6/site-packages (from botocore<1.18.0,>=1.17.47->boto3->pytorch_transformers) (2.7.5)\n",
      "Collecting docutils<0.16,>=0.10\n",
      "  Downloading docutils-0.15.2-py3-none-any.whl (547 kB)\n",
      "\u001b[K     |████████████████████████████████| 547 kB 4.0 MB/s eta 0:00:01\n",
      "\u001b[?25hBuilding wheels for collected packages: sacremoses\n",
      "  Building wheel for sacremoses (setup.py) ... \u001b[?25ldone\n",
      "\u001b[?25h  Created wheel for sacremoses: filename=sacremoses-0.0.43-py3-none-any.whl size=893258 sha256=d55e0e7cb1e6c6d78cd31c60852db1e3071607a2ea50a823ecda48d5e6aefb33\n",
      "  Stored in directory: /root/.cache/pip/wheels/49/25/98/cdea9c79b2d9a22ccc59540b1784b67f06b633378e97f58da2\n",
      "Successfully built sacremoses\n",
      "Installing collected packages: sentencepiece, jmespath, docutils, botocore, s3transfer, boto3, sacremoses, pytorch-transformers\n",
      "Successfully installed boto3-1.14.47 botocore-1.17.47 docutils-0.15.2 jmespath-0.10.0 pytorch-transformers-1.2.0 s3transfer-0.3.3 sacremoses-0.0.43 sentencepiece-0.1.91\n"
     ]
    }
   ],
   "source": [
    "!pip install pytorch_transformers"
   ]
  }
 ],
 "metadata": {
  "kernelspec": {
   "display_name": "Python 3",
   "language": "python",
   "name": "python3"
  },
  "language_info": {
   "codemirror_mode": {
    "name": "ipython",
    "version": 3
   },
   "file_extension": ".py",
   "mimetype": "text/x-python",
   "name": "python",
   "nbconvert_exporter": "python",
   "pygments_lexer": "ipython3",
   "version": "3.6.7"
  }
 },
 "nbformat": 4,
 "nbformat_minor": 2
}
