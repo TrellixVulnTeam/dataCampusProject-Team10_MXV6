{
 "cells": [
  {
   "cell_type": "code",
   "execution_count": 41,
   "metadata": {},
   "outputs": [],
   "source": [
    "import requests\n",
    "import numpy as np\n",
    "import pandas as pd\n",
    "import sys\n",
    "from io import BytesIO\n",
    "import json\n",
    "import os\n",
    "import re"
   ]
  },
  {
   "cell_type": "markdown",
   "metadata": {},
   "source": [
    "Data set"
   ]
  },
  {
   "cell_type": "code",
   "execution_count": 42,
   "metadata": {},
   "outputs": [],
   "source": [
    "f = open('./translate\\SemEval2010_task8_all_data\\SemEval2010_task8_training/TRAIN_FILE.txt')\n",
    "\n",
    "sentence_list = []\n",
    "\n",
    "relation_list = []\n",
    "\n",
    "comment_list = []\n",
    "    \n",
    "n = 0\n",
    "\n",
    "for line in f.readlines():\n",
    "    \n",
    "    n += 1\n",
    "    \n",
    "    if n % 4 ==0:\n",
    "        pass\n",
    "\n",
    "    if n % 4 ==1:\n",
    "        m = re.compile('[\"]').search(line).start()\n",
    "        line = line[m:].replace('\"','').strip()\n",
    "        sentence_list.append(line)\n",
    "        \n",
    "    if n % 4 ==2:\n",
    "        relation_list.append(line.strip())\n",
    "        \n",
    "    if n % 4 ==3:\n",
    "        comment_list.append(line.strip())\n",
    "    \n",
    "\n",
    "train_df = pd.DataFrame({'sentence': sentence_list,          \n",
    "                   'relation': relation_list, \n",
    "                   'commnet': comment_list},\n",
    "                 )"
   ]
  },
  {
   "cell_type": "code",
   "execution_count": 43,
   "metadata": {
    "scrolled": true
   },
   "outputs": [
    {
     "data": {
      "text/html": [
       "<div>\n",
       "<style scoped>\n",
       "    .dataframe tbody tr th:only-of-type {\n",
       "        vertical-align: middle;\n",
       "    }\n",
       "\n",
       "    .dataframe tbody tr th {\n",
       "        vertical-align: top;\n",
       "    }\n",
       "\n",
       "    .dataframe thead th {\n",
       "        text-align: right;\n",
       "    }\n",
       "</style>\n",
       "<table border=\"1\" class=\"dataframe\">\n",
       "  <thead>\n",
       "    <tr style=\"text-align: right;\">\n",
       "      <th></th>\n",
       "      <th>sentence</th>\n",
       "      <th>relation</th>\n",
       "      <th>commnet</th>\n",
       "    </tr>\n",
       "  </thead>\n",
       "  <tbody>\n",
       "    <tr>\n",
       "      <th>0</th>\n",
       "      <td>The system as described above has its greatest...</td>\n",
       "      <td>Component-Whole(e2,e1)</td>\n",
       "      <td>Comment: Not a collection: there is structure ...</td>\n",
       "    </tr>\n",
       "    <tr>\n",
       "      <th>1</th>\n",
       "      <td>The &lt;e1&gt;child&lt;/e1&gt; was carefully wrapped and b...</td>\n",
       "      <td>Other</td>\n",
       "      <td>Comment:</td>\n",
       "    </tr>\n",
       "    <tr>\n",
       "      <th>2</th>\n",
       "      <td>The &lt;e1&gt;author&lt;/e1&gt; of a keygen uses a &lt;e2&gt;dis...</td>\n",
       "      <td>Instrument-Agency(e2,e1)</td>\n",
       "      <td>Comment:</td>\n",
       "    </tr>\n",
       "    <tr>\n",
       "      <th>3</th>\n",
       "      <td>A misty &lt;e1&gt;ridge&lt;/e1&gt; uprises from the &lt;e2&gt;su...</td>\n",
       "      <td>Other</td>\n",
       "      <td>Comment:</td>\n",
       "    </tr>\n",
       "    <tr>\n",
       "      <th>4</th>\n",
       "      <td>The &lt;e1&gt;student&lt;/e1&gt; &lt;e2&gt;association&lt;/e2&gt; is t...</td>\n",
       "      <td>Member-Collection(e1,e2)</td>\n",
       "      <td>Comment:</td>\n",
       "    </tr>\n",
       "  </tbody>\n",
       "</table>\n",
       "</div>"
      ],
      "text/plain": [
       "                                            sentence  \\\n",
       "0  The system as described above has its greatest...   \n",
       "1  The <e1>child</e1> was carefully wrapped and b...   \n",
       "2  The <e1>author</e1> of a keygen uses a <e2>dis...   \n",
       "3  A misty <e1>ridge</e1> uprises from the <e2>su...   \n",
       "4  The <e1>student</e1> <e2>association</e2> is t...   \n",
       "\n",
       "                   relation                                            commnet  \n",
       "0    Component-Whole(e2,e1)  Comment: Not a collection: there is structure ...  \n",
       "1                     Other                                           Comment:  \n",
       "2  Instrument-Agency(e2,e1)                                           Comment:  \n",
       "3                     Other                                           Comment:  \n",
       "4  Member-Collection(e1,e2)                                           Comment:  "
      ]
     },
     "execution_count": 43,
     "metadata": {},
     "output_type": "execute_result"
    }
   ],
   "source": [
    "train_df.head(5)"
   ]
  },
  {
   "cell_type": "code",
   "execution_count": 44,
   "metadata": {},
   "outputs": [],
   "source": [
    "f = open('./translate\\SemEval2010_task8_all_data\\SemEval2010_task8_testing/TEST_FILE.txt')\n",
    "\n",
    "sentence_list = []\n",
    "\n",
    "for line in f.readlines():\n",
    "    m = re.compile('[\"]').search(line).start()\n",
    "    line = line[m:].replace('\"','').strip()\n",
    "    sentence_list.append(line)    \n",
    "\n",
    "test_df = pd.DataFrame({'sentence': sentence_list})"
   ]
  },
  {
   "cell_type": "code",
   "execution_count": 45,
   "metadata": {},
   "outputs": [
    {
     "data": {
      "text/html": [
       "<div>\n",
       "<style scoped>\n",
       "    .dataframe tbody tr th:only-of-type {\n",
       "        vertical-align: middle;\n",
       "    }\n",
       "\n",
       "    .dataframe tbody tr th {\n",
       "        vertical-align: top;\n",
       "    }\n",
       "\n",
       "    .dataframe thead th {\n",
       "        text-align: right;\n",
       "    }\n",
       "</style>\n",
       "<table border=\"1\" class=\"dataframe\">\n",
       "  <thead>\n",
       "    <tr style=\"text-align: right;\">\n",
       "      <th></th>\n",
       "      <th>sentence</th>\n",
       "    </tr>\n",
       "  </thead>\n",
       "  <tbody>\n",
       "    <tr>\n",
       "      <th>0</th>\n",
       "      <td>The most common &lt;e1&gt;audits&lt;/e1&gt; were about &lt;e2...</td>\n",
       "    </tr>\n",
       "    <tr>\n",
       "      <th>1</th>\n",
       "      <td>The &lt;e1&gt;company&lt;/e1&gt; fabricates plastic &lt;e2&gt;ch...</td>\n",
       "    </tr>\n",
       "    <tr>\n",
       "      <th>2</th>\n",
       "      <td>The school &lt;e1&gt;master&lt;/e1&gt; teaches the lesson ...</td>\n",
       "    </tr>\n",
       "    <tr>\n",
       "      <th>3</th>\n",
       "      <td>The suspect dumped the dead &lt;e1&gt;body&lt;/e1&gt; into...</td>\n",
       "    </tr>\n",
       "    <tr>\n",
       "      <th>4</th>\n",
       "      <td>Avian &lt;e1&gt;influenza&lt;/e1&gt; is an infectious dise...</td>\n",
       "    </tr>\n",
       "  </tbody>\n",
       "</table>\n",
       "</div>"
      ],
      "text/plain": [
       "                                            sentence\n",
       "0  The most common <e1>audits</e1> were about <e2...\n",
       "1  The <e1>company</e1> fabricates plastic <e2>ch...\n",
       "2  The school <e1>master</e1> teaches the lesson ...\n",
       "3  The suspect dumped the dead <e1>body</e1> into...\n",
       "4  Avian <e1>influenza</e1> is an infectious dise..."
      ]
     },
     "execution_count": 45,
     "metadata": {},
     "output_type": "execute_result"
    }
   ],
   "source": [
    "test_df.head()"
   ]
  },
  {
   "cell_type": "code",
   "execution_count": 46,
   "metadata": {},
   "outputs": [],
   "source": [
    "f = open('./translate\\Portuguese/DBpediaRelations-PT-0.2.txt',encoding='utf8')\n",
    "sentence_list = []\n",
    "mc_list = []\n",
    "e1_list = [] \n",
    "type1_list = []\n",
    "e2_list = []\n",
    "type2_list = []\n",
    "rel_type_list = []\n",
    "\n",
    "for line in f.readlines():\n",
    "    if 'SENTENCE' in line:\n",
    "        m = re.compile('SENTENCE').search(line).end()\n",
    "        line = line[m+2:].replace('\"','').strip()\n",
    "        sentence_list.append(line)\n",
    "        \n",
    "    if 'MANUALLY CHECKED' in line:\n",
    "        m = re.compile('MANUALLY CHECKED').search(line).end()\n",
    "        line = line[m+2:].replace('\"','').strip()\n",
    "        mc_list.append(line)\n",
    "        \n",
    "    if 'ENTITY1' in line:\n",
    "        m = re.compile('ENTITY1').search(line).end()\n",
    "        line = line[m+2:].replace('\"','').strip()\n",
    "        e1_list.append(line)\n",
    "        \n",
    "    if 'TYPE1' in line:\n",
    "        m = re.compile('TYPE1').search(line).end()\n",
    "        line = line[m+2:].replace('\"','').strip()\n",
    "        type1_list.append(line)\n",
    "        \n",
    "    if 'ENTITY2' in line:\n",
    "        m = re.compile('ENTITY2').search(line).end()\n",
    "        line = line[m+2:].replace('\"','').strip()\n",
    "        e2_list.append(line)\n",
    "        \n",
    "    if 'TYPE2' in line:\n",
    "        m = re.compile('TYPE2').search(line).end()\n",
    "        line = line[m+2:].replace('\"','').strip()\n",
    "        type2_list.append(line)\n",
    "        \n",
    "    if 'REL TYPE' in line:\n",
    "        m = re.compile('REL TYPE').search(line).end()\n",
    "        line = line[m+2:].replace('\"','').strip()\n",
    "        rel_type_list.append(line)\n",
    "\n",
    "polt_df = pd.DataFrame({'sentence': sentence_list,\n",
    "                        'manually checked': mc_list,\n",
    "                        'entitiy1': e1_list,\n",
    "                        'type1': type1_list,\n",
    "                        'entity2': e2_list,\n",
    "                        'type2': type2_list,\n",
    "                        'relation': rel_type_list}\n",
    "                      )\n",
    "# 647 번째 줄인가가 TYPE2 가 TYPE1로 되어있음"
   ]
  },
  {
   "cell_type": "code",
   "execution_count": 47,
   "metadata": {
    "scrolled": true
   },
   "outputs": [
    {
     "data": {
      "text/html": [
       "<div>\n",
       "<style scoped>\n",
       "    .dataframe tbody tr th:only-of-type {\n",
       "        vertical-align: middle;\n",
       "    }\n",
       "\n",
       "    .dataframe tbody tr th {\n",
       "        vertical-align: top;\n",
       "    }\n",
       "\n",
       "    .dataframe thead th {\n",
       "        text-align: right;\n",
       "    }\n",
       "</style>\n",
       "<table border=\"1\" class=\"dataframe\">\n",
       "  <thead>\n",
       "    <tr style=\"text-align: right;\">\n",
       "      <th></th>\n",
       "      <th>sentence</th>\n",
       "      <th>manually checked</th>\n",
       "      <th>entitiy1</th>\n",
       "      <th>type1</th>\n",
       "      <th>entity2</th>\n",
       "      <th>type2</th>\n",
       "      <th>relation</th>\n",
       "    </tr>\n",
       "  </thead>\n",
       "  <tbody>\n",
       "    <tr>\n",
       "      <th>0</th>\n",
       "      <td>A América Latina localiza-se totalmente no hem...</td>\n",
       "      <td>TRUE</td>\n",
       "      <td>América Latina</td>\n",
       "      <td>LOCATION</td>\n",
       "      <td>Argentina</td>\n",
       "      <td>LOCATION</td>\n",
       "      <td>locatedInArea</td>\n",
       "    </tr>\n",
       "    <tr>\n",
       "      <th>1</th>\n",
       "      <td>A América Latina não apresenta, ao contrário d...</td>\n",
       "      <td>TRUE</td>\n",
       "      <td>América Latina</td>\n",
       "      <td>LOCATION</td>\n",
       "      <td>Brasil</td>\n",
       "      <td>LOCATION</td>\n",
       "      <td>locatedInArea</td>\n",
       "    </tr>\n",
       "    <tr>\n",
       "      <th>2</th>\n",
       "      <td>A América Latina destaca-se ainda por sua prod...</td>\n",
       "      <td>TRUE</td>\n",
       "      <td>América Latina</td>\n",
       "      <td>LOCATION</td>\n",
       "      <td>Brasil</td>\n",
       "      <td>LOCATION</td>\n",
       "      <td>locatedInArea</td>\n",
       "    </tr>\n",
       "    <tr>\n",
       "      <th>3</th>\n",
       "      <td>Albert Einstein nasceu na região alemã de Würt...</td>\n",
       "      <td>TRUE</td>\n",
       "      <td>Albert Einstein</td>\n",
       "      <td>PERSON</td>\n",
       "      <td>Ulm</td>\n",
       "      <td>LOCATION</td>\n",
       "      <td>origin</td>\n",
       "    </tr>\n",
       "    <tr>\n",
       "      <th>4</th>\n",
       "      <td>Albert Einstein nasceu na região alemã de Würt...</td>\n",
       "      <td>TRUE</td>\n",
       "      <td>Albert Einstein</td>\n",
       "      <td>PERSON</td>\n",
       "      <td>Württemberg</td>\n",
       "      <td>LOCATION</td>\n",
       "      <td>origin</td>\n",
       "    </tr>\n",
       "  </tbody>\n",
       "</table>\n",
       "</div>"
      ],
      "text/plain": [
       "                                            sentence manually checked  \\\n",
       "0  A América Latina localiza-se totalmente no hem...             TRUE   \n",
       "1  A América Latina não apresenta, ao contrário d...             TRUE   \n",
       "2  A América Latina destaca-se ainda por sua prod...             TRUE   \n",
       "3  Albert Einstein nasceu na região alemã de Würt...             TRUE   \n",
       "4  Albert Einstein nasceu na região alemã de Würt...             TRUE   \n",
       "\n",
       "          entitiy1     type1      entity2     type2       relation  \n",
       "0   América Latina  LOCATION    Argentina  LOCATION  locatedInArea  \n",
       "1   América Latina  LOCATION       Brasil  LOCATION  locatedInArea  \n",
       "2   América Latina  LOCATION       Brasil  LOCATION  locatedInArea  \n",
       "3  Albert Einstein    PERSON          Ulm  LOCATION         origin  \n",
       "4  Albert Einstein    PERSON  Württemberg  LOCATION         origin  "
      ]
     },
     "execution_count": 47,
     "metadata": {},
     "output_type": "execute_result"
    }
   ],
   "source": [
    "polt_df.head(5)"
   ]
  },
  {
   "cell_type": "markdown",
   "metadata": {},
   "source": [
    "Translate function(Use Kakao API)"
   ]
  },
  {
   "cell_type": "code",
   "execution_count": 48,
   "metadata": {},
   "outputs": [],
   "source": [
    "MYAPP_KEY = '002558914cc8caacc923bbb4f9d6a772'\n",
    "header = {\n",
    "        \"Authorization\" : 'KakaoAK {}'.format(MYAPP_KEY)\n",
    "    }"
   ]
  },
  {
   "cell_type": "code",
   "execution_count": 49,
   "metadata": {},
   "outputs": [
    {
     "name": "stdout",
     "output_type": "stream",
     "text": [
      "kr\n",
      "en\n"
     ]
    }
   ],
   "source": [
    "url = 'https://kapi.kakao.com/v1/translation/translate'\n",
    "\n",
    "# 002558914cc8caacc923bbb4f9d6a772 : 준원\n",
    "# 03e207126164816f438e90f73832984c : 소연\n",
    "# 18fea080a0db2ee0346353e8db4466e8 : 윤전\n",
    "before_lang = input()\n",
    "after_lang = input()\n",
    "#string = \n",
    "'''\n",
    "    지난해 3월 오픈한 카카오톡 주문하기는 현재까지 약 250만명의 회원을 확보했으며, 주문 가능한 프랜차이즈 브랜드는 38개,\n",
    "    가맹점수는 약 1만 5천여곳에 달한다. 전 국민에게 친숙한 카카오톡 UI를 활용하기 때문에 남녀노소 누구나 쉽게 이용할 수 있으며,\n",
    "    별도의 앱을 설치할 필요 없이 카카오톡 내에서 모든 과정이 이뤄지는 것이 특징이다. 지난해 9월 업계 최초로 날짜와 시간을 예약한 뒤\n",
    "    설정한 매장에서 주문 음식을 찾아가는 ‘픽업’ 기능을 도입했고, 올해 1월 스마트스피커 ‘카카오미니’에서 음성을 통해 주문 가능한\n",
    "    메뉴를 안내받을 수 있도록 서비스를 연동하며 차별화를 꾀했다. 중소사업자들이 카카오톡 주문하기에 입점하게 되면 4,300만 카카오톡\n",
    "    이용자들과의 접점을 확보하고, 간편한 주문 과정으로 만족도를 높일 수 있게 된다. 카카오톡 메시지를 통해 신메뉴 출시, 프로모션 등의\n",
    "    소식을 전달할 수 있고, 일대일 채팅 기능을 적용하면 고객과 직접 상담도 가능하다.\n",
    "'''\n",
    "\n",
    "header = {\n",
    "        \"Authorization\" : 'KakaoAK {}'.format(MYAPP_KEY)\n",
    "    }\n",
    "\n",
    "data = {\n",
    "        \"src_lang\": before_lang,\n",
    "        \"target_lang\": after_lang,\n",
    "        \"query\": string\n",
    "    }\n",
    "\n",
    "# response = requests.get(url,headers=header, params=data)\n",
    "# result = response.json()\n",
    "# print(result['translated_text'][0])"
   ]
  },
  {
   "cell_type": "code",
   "execution_count": 50,
   "metadata": {},
   "outputs": [],
   "source": [
    "def translate(string,before_lang, after_lang):\n",
    "    response = requests.get(url,headers=header, params=data)\n",
    "    result = response.json()\n",
    "    a = ''\n",
    "    for _ in result['translated_text'][0]:\n",
    "        a = a + _\n",
    "    \n",
    "    return a"
   ]
  },
  {
   "cell_type": "code",
   "execution_count": 40,
   "metadata": {},
   "outputs": [
    {
     "ename": "ConnectionError",
     "evalue": "HTTPSConnectionPool(host='kapi.kakao.com', port=443): Max retries exceeded with url: /v1/translation/translate?src_lang=kr&target_lang=en&query=%0A++++%EC%A7%80%EB%82%9C%ED%95%B4+3%EC%9B%94+%EC%98%A4%ED%94%88%ED%95%9C+%EC%B9%B4%EC%B9%B4%EC%98%A4%ED%86%A1+%EC%A3%BC%EB%AC%B8%ED%95%98%EA%B8%B0%EB%8A%94+%ED%98%84%EC%9E%AC%EA%B9%8C%EC%A7%80+%EC%95%BD+250%EB%A7%8C%EB%AA%85%EC%9D%98+%ED%9A%8C%EC%9B%90%EC%9D%84+%ED%99%95%EB%B3%B4%ED%96%88%EC%9C%BC%EB%A9%B0%2C+%EC%A3%BC%EB%AC%B8+%EA%B0%80%EB%8A%A5%ED%95%9C+%ED%94%84%EB%9E%9C%EC%B0%A8%EC%9D%B4%EC%A6%88+%EB%B8%8C%EB%9E%9C%EB%93%9C%EB%8A%94+38%EA%B0%9C%2C%0A++++%EA%B0%80%EB%A7%B9%EC%A0%90%EC%88%98%EB%8A%94+%EC%95%BD+1%EB%A7%8C+5%EC%B2%9C%EC%97%AC%EA%B3%B3%EC%97%90+%EB%8B%AC%ED%95%9C%EB%8B%A4.+%EC%A0%84+%EA%B5%AD%EB%AF%BC%EC%97%90%EA%B2%8C+%EC%B9%9C%EC%88%99%ED%95%9C+%EC%B9%B4%EC%B9%B4%EC%98%A4%ED%86%A1+UI%EB%A5%BC+%ED%99%9C%EC%9A%A9%ED%95%98%EA%B8%B0+%EB%95%8C%EB%AC%B8%EC%97%90+%EB%82%A8%EB%85%80%EB%85%B8%EC%86%8C+%EB%88%84%EA%B5%AC%EB%82%98+%EC%89%BD%EA%B2%8C+%EC%9D%B4%EC%9A%A9%ED%95%A0+%EC%88%98+%EC%9E%88%EC%9C%BC%EB%A9%B0%2C%0A++++%EB%B3%84%EB%8F%84%EC%9D%98+%EC%95%B1%EC%9D%84+%EC%84%A4%EC%B9%98%ED%95%A0+%ED%95%84%EC%9A%94+%EC%97%86%EC%9D%B4+%EC%B9%B4%EC%B9%B4%EC%98%A4%ED%86%A1+%EB%82%B4%EC%97%90%EC%84%9C+%EB%AA%A8%EB%93%A0+%EA%B3%BC%EC%A0%95%EC%9D%B4+%EC%9D%B4%EB%A4%84%EC%A7%80%EB%8A%94+%EA%B2%83%EC%9D%B4+%ED%8A%B9%EC%A7%95%EC%9D%B4%EB%8B%A4.+%EC%A7%80%EB%82%9C%ED%95%B4+9%EC%9B%94+%EC%97%85%EA%B3%84+%EC%B5%9C%EC%B4%88%EB%A1%9C+%EB%82%A0%EC%A7%9C%EC%99%80+%EC%8B%9C%EA%B0%84%EC%9D%84+%EC%98%88%EC%95%BD%ED%95%9C+%EB%92%A4%0A++++%EC%84%A4%EC%A0%95%ED%95%9C+%EB%A7%A4%EC%9E%A5%EC%97%90%EC%84%9C+%EC%A3%BC%EB%AC%B8+%EC%9D%8C%EC%8B%9D%EC%9D%84+%EC%B0%BE%EC%95%84%EA%B0%80%EB%8A%94+%E2%80%98%ED%94%BD%EC%97%85%E2%80%99+%EA%B8%B0%EB%8A%A5%EC%9D%84+%EB%8F%84%EC%9E%85%ED%96%88%EA%B3%A0%2C+%EC%98%AC%ED%95%B4+1%EC%9B%94+%EC%8A%A4%EB%A7%88%ED%8A%B8%EC%8A%A4%ED%94%BC%EC%BB%A4+%E2%80%98%EC%B9%B4%EC%B9%B4%EC%98%A4%EB%AF%B8%EB%8B%88%E2%80%99%EC%97%90%EC%84%9C+%EC%9D%8C%EC%84%B1%EC%9D%84+%ED%86%B5%ED%95%B4+%EC%A3%BC%EB%AC%B8+%EA%B0%80%EB%8A%A5%ED%95%9C%0A++++%EB%A9%94%EB%89%B4%EB%A5%BC+%EC%95%88%EB%82%B4%EB%B0%9B%EC%9D%84+%EC%88%98+%EC%9E%88%EB%8F%84%EB%A1%9D+%EC%84%9C%EB%B9%84%EC%8A%A4%EB%A5%BC+%EC%97%B0%EB%8F%99%ED%95%98%EB%A9%B0+%EC%B0%A8%EB%B3%84%ED%99%94%EB%A5%BC+%EA%BE%80%ED%96%88%EB%8B%A4.+%EC%A4%91%EC%86%8C%EC%82%AC%EC%97%85%EC%9E%90%EB%93%A4%EC%9D%B4+%EC%B9%B4%EC%B9%B4%EC%98%A4%ED%86%A1+%EC%A3%BC%EB%AC%B8%ED%95%98%EA%B8%B0%EC%97%90+%EC%9E%85%EC%A0%90%ED%95%98%EA%B2%8C+%EB%90%98%EB%A9%B4+4%2C300%EB%A7%8C+%EC%B9%B4%EC%B9%B4%EC%98%A4%ED%86%A1%0A++++%EC%9D%B4%EC%9A%A9%EC%9E%90%EB%93%A4%EA%B3%BC%EC%9D%98+%EC%A0%91%EC%A0%90%EC%9D%84+%ED%99%95%EB%B3%B4%ED%95%98%EA%B3%A0%2C+%EA%B0%84%ED%8E%B8%ED%95%9C+%EC%A3%BC%EB%AC%B8+%EA%B3%BC%EC%A0%95%EC%9C%BC%EB%A1%9C+%EB%A7%8C%EC%A1%B1%EB%8F%84%EB%A5%BC+%EB%86%92%EC%9D%BC+%EC%88%98+%EC%9E%88%EA%B2%8C+%EB%90%9C%EB%8B%A4.+%EC%B9%B4%EC%B9%B4%EC%98%A4%ED%86%A1+%EB%A9%94%EC%8B%9C%EC%A7%80%EB%A5%BC+%ED%86%B5%ED%95%B4+%EC%8B%A0%EB%A9%94%EB%89%B4+%EC%B6%9C%EC%8B%9C%2C+%ED%94%84%EB%A1%9C%EB%AA%A8%EC%85%98+%EB%93%B1%EC%9D%98%0A++++%EC%86%8C%EC%8B%9D%EC%9D%84+%EC%A0%84%EB%8B%AC%ED%95%A0+%EC%88%98+%EC%9E%88%EA%B3%A0%2C+%EC%9D%BC%EB%8C%80%EC%9D%BC+%EC%B1%84%ED%8C%85+%EA%B8%B0%EB%8A%A5%EC%9D%84+%EC%A0%81%EC%9A%A9%ED%95%98%EB%A9%B4+%EA%B3%A0%EA%B0%9D%EA%B3%BC+%EC%A7%81%EC%A0%91+%EC%83%81%EB%8B%B4%EB%8F%84+%EA%B0%80%EB%8A%A5%ED%95%98%EB%8B%A4.%0A (Caused by NewConnectionError('<urllib3.connection.HTTPSConnection object at 0x00000243C126D2E8>: Failed to establish a new connection: [Errno 11001] getaddrinfo failed',))",
     "output_type": "error",
     "traceback": [
      "\u001b[1;31m---------------------------------------------------------------------------\u001b[0m",
      "\u001b[1;31mgaierror\u001b[0m                                  Traceback (most recent call last)",
      "\u001b[1;32m~\\Anaconda3\\envs\\cpu_env\\lib\\site-packages\\urllib3\\connection.py\u001b[0m in \u001b[0;36m_new_conn\u001b[1;34m(self)\u001b[0m\n\u001b[0;32m    159\u001b[0m             conn = connection.create_connection(\n\u001b[1;32m--> 160\u001b[1;33m                 \u001b[1;33m(\u001b[0m\u001b[0mself\u001b[0m\u001b[1;33m.\u001b[0m\u001b[0m_dns_host\u001b[0m\u001b[1;33m,\u001b[0m \u001b[0mself\u001b[0m\u001b[1;33m.\u001b[0m\u001b[0mport\u001b[0m\u001b[1;33m)\u001b[0m\u001b[1;33m,\u001b[0m \u001b[0mself\u001b[0m\u001b[1;33m.\u001b[0m\u001b[0mtimeout\u001b[0m\u001b[1;33m,\u001b[0m \u001b[1;33m**\u001b[0m\u001b[0mextra_kw\u001b[0m\u001b[1;33m\u001b[0m\u001b[1;33m\u001b[0m\u001b[0m\n\u001b[0m\u001b[0;32m    161\u001b[0m             )\n",
      "\u001b[1;32m~\\Anaconda3\\envs\\cpu_env\\lib\\site-packages\\urllib3\\util\\connection.py\u001b[0m in \u001b[0;36mcreate_connection\u001b[1;34m(address, timeout, source_address, socket_options)\u001b[0m\n\u001b[0;32m     60\u001b[0m \u001b[1;33m\u001b[0m\u001b[0m\n\u001b[1;32m---> 61\u001b[1;33m     \u001b[1;32mfor\u001b[0m \u001b[0mres\u001b[0m \u001b[1;32min\u001b[0m \u001b[0msocket\u001b[0m\u001b[1;33m.\u001b[0m\u001b[0mgetaddrinfo\u001b[0m\u001b[1;33m(\u001b[0m\u001b[0mhost\u001b[0m\u001b[1;33m,\u001b[0m \u001b[0mport\u001b[0m\u001b[1;33m,\u001b[0m \u001b[0mfamily\u001b[0m\u001b[1;33m,\u001b[0m \u001b[0msocket\u001b[0m\u001b[1;33m.\u001b[0m\u001b[0mSOCK_STREAM\u001b[0m\u001b[1;33m)\u001b[0m\u001b[1;33m:\u001b[0m\u001b[1;33m\u001b[0m\u001b[1;33m\u001b[0m\u001b[0m\n\u001b[0m\u001b[0;32m     62\u001b[0m         \u001b[0maf\u001b[0m\u001b[1;33m,\u001b[0m \u001b[0msocktype\u001b[0m\u001b[1;33m,\u001b[0m \u001b[0mproto\u001b[0m\u001b[1;33m,\u001b[0m \u001b[0mcanonname\u001b[0m\u001b[1;33m,\u001b[0m \u001b[0msa\u001b[0m \u001b[1;33m=\u001b[0m \u001b[0mres\u001b[0m\u001b[1;33m\u001b[0m\u001b[1;33m\u001b[0m\u001b[0m\n",
      "\u001b[1;32m~\\Anaconda3\\envs\\cpu_env\\lib\\socket.py\u001b[0m in \u001b[0;36mgetaddrinfo\u001b[1;34m(host, port, family, type, proto, flags)\u001b[0m\n\u001b[0;32m    744\u001b[0m     \u001b[0maddrlist\u001b[0m \u001b[1;33m=\u001b[0m \u001b[1;33m[\u001b[0m\u001b[1;33m]\u001b[0m\u001b[1;33m\u001b[0m\u001b[1;33m\u001b[0m\u001b[0m\n\u001b[1;32m--> 745\u001b[1;33m     \u001b[1;32mfor\u001b[0m \u001b[0mres\u001b[0m \u001b[1;32min\u001b[0m \u001b[0m_socket\u001b[0m\u001b[1;33m.\u001b[0m\u001b[0mgetaddrinfo\u001b[0m\u001b[1;33m(\u001b[0m\u001b[0mhost\u001b[0m\u001b[1;33m,\u001b[0m \u001b[0mport\u001b[0m\u001b[1;33m,\u001b[0m \u001b[0mfamily\u001b[0m\u001b[1;33m,\u001b[0m \u001b[0mtype\u001b[0m\u001b[1;33m,\u001b[0m \u001b[0mproto\u001b[0m\u001b[1;33m,\u001b[0m \u001b[0mflags\u001b[0m\u001b[1;33m)\u001b[0m\u001b[1;33m:\u001b[0m\u001b[1;33m\u001b[0m\u001b[1;33m\u001b[0m\u001b[0m\n\u001b[0m\u001b[0;32m    746\u001b[0m         \u001b[0maf\u001b[0m\u001b[1;33m,\u001b[0m \u001b[0msocktype\u001b[0m\u001b[1;33m,\u001b[0m \u001b[0mproto\u001b[0m\u001b[1;33m,\u001b[0m \u001b[0mcanonname\u001b[0m\u001b[1;33m,\u001b[0m \u001b[0msa\u001b[0m \u001b[1;33m=\u001b[0m \u001b[0mres\u001b[0m\u001b[1;33m\u001b[0m\u001b[1;33m\u001b[0m\u001b[0m\n",
      "\u001b[1;31mgaierror\u001b[0m: [Errno 11001] getaddrinfo failed",
      "\nDuring handling of the above exception, another exception occurred:\n",
      "\u001b[1;31mNewConnectionError\u001b[0m                        Traceback (most recent call last)",
      "\u001b[1;32m~\\Anaconda3\\envs\\cpu_env\\lib\\site-packages\\urllib3\\connectionpool.py\u001b[0m in \u001b[0;36murlopen\u001b[1;34m(self, method, url, body, headers, retries, redirect, assert_same_host, timeout, pool_timeout, release_conn, chunked, body_pos, **response_kw)\u001b[0m\n\u001b[0;32m    676\u001b[0m                 \u001b[0mheaders\u001b[0m\u001b[1;33m=\u001b[0m\u001b[0mheaders\u001b[0m\u001b[1;33m,\u001b[0m\u001b[1;33m\u001b[0m\u001b[1;33m\u001b[0m\u001b[0m\n\u001b[1;32m--> 677\u001b[1;33m                 \u001b[0mchunked\u001b[0m\u001b[1;33m=\u001b[0m\u001b[0mchunked\u001b[0m\u001b[1;33m,\u001b[0m\u001b[1;33m\u001b[0m\u001b[1;33m\u001b[0m\u001b[0m\n\u001b[0m\u001b[0;32m    678\u001b[0m             )\n",
      "\u001b[1;32m~\\Anaconda3\\envs\\cpu_env\\lib\\site-packages\\urllib3\\connectionpool.py\u001b[0m in \u001b[0;36m_make_request\u001b[1;34m(self, conn, method, url, timeout, chunked, **httplib_request_kw)\u001b[0m\n\u001b[0;32m    380\u001b[0m         \u001b[1;32mtry\u001b[0m\u001b[1;33m:\u001b[0m\u001b[1;33m\u001b[0m\u001b[1;33m\u001b[0m\u001b[0m\n\u001b[1;32m--> 381\u001b[1;33m             \u001b[0mself\u001b[0m\u001b[1;33m.\u001b[0m\u001b[0m_validate_conn\u001b[0m\u001b[1;33m(\u001b[0m\u001b[0mconn\u001b[0m\u001b[1;33m)\u001b[0m\u001b[1;33m\u001b[0m\u001b[1;33m\u001b[0m\u001b[0m\n\u001b[0m\u001b[0;32m    382\u001b[0m         \u001b[1;32mexcept\u001b[0m \u001b[1;33m(\u001b[0m\u001b[0mSocketTimeout\u001b[0m\u001b[1;33m,\u001b[0m \u001b[0mBaseSSLError\u001b[0m\u001b[1;33m)\u001b[0m \u001b[1;32mas\u001b[0m \u001b[0me\u001b[0m\u001b[1;33m:\u001b[0m\u001b[1;33m\u001b[0m\u001b[1;33m\u001b[0m\u001b[0m\n",
      "\u001b[1;32m~\\Anaconda3\\envs\\cpu_env\\lib\\site-packages\\urllib3\\connectionpool.py\u001b[0m in \u001b[0;36m_validate_conn\u001b[1;34m(self, conn)\u001b[0m\n\u001b[0;32m    975\u001b[0m         \u001b[1;32mif\u001b[0m \u001b[1;32mnot\u001b[0m \u001b[0mgetattr\u001b[0m\u001b[1;33m(\u001b[0m\u001b[0mconn\u001b[0m\u001b[1;33m,\u001b[0m \u001b[1;34m\"sock\"\u001b[0m\u001b[1;33m,\u001b[0m \u001b[1;32mNone\u001b[0m\u001b[1;33m)\u001b[0m\u001b[1;33m:\u001b[0m  \u001b[1;31m# AppEngine might not have  `.sock`\u001b[0m\u001b[1;33m\u001b[0m\u001b[1;33m\u001b[0m\u001b[0m\n\u001b[1;32m--> 976\u001b[1;33m             \u001b[0mconn\u001b[0m\u001b[1;33m.\u001b[0m\u001b[0mconnect\u001b[0m\u001b[1;33m(\u001b[0m\u001b[1;33m)\u001b[0m\u001b[1;33m\u001b[0m\u001b[1;33m\u001b[0m\u001b[0m\n\u001b[0m\u001b[0;32m    977\u001b[0m \u001b[1;33m\u001b[0m\u001b[0m\n",
      "\u001b[1;32m~\\Anaconda3\\envs\\cpu_env\\lib\\site-packages\\urllib3\\connection.py\u001b[0m in \u001b[0;36mconnect\u001b[1;34m(self)\u001b[0m\n\u001b[0;32m    307\u001b[0m         \u001b[1;31m# Add certificate verification\u001b[0m\u001b[1;33m\u001b[0m\u001b[1;33m\u001b[0m\u001b[1;33m\u001b[0m\u001b[0m\n\u001b[1;32m--> 308\u001b[1;33m         \u001b[0mconn\u001b[0m \u001b[1;33m=\u001b[0m \u001b[0mself\u001b[0m\u001b[1;33m.\u001b[0m\u001b[0m_new_conn\u001b[0m\u001b[1;33m(\u001b[0m\u001b[1;33m)\u001b[0m\u001b[1;33m\u001b[0m\u001b[1;33m\u001b[0m\u001b[0m\n\u001b[0m\u001b[0;32m    309\u001b[0m         \u001b[0mhostname\u001b[0m \u001b[1;33m=\u001b[0m \u001b[0mself\u001b[0m\u001b[1;33m.\u001b[0m\u001b[0mhost\u001b[0m\u001b[1;33m\u001b[0m\u001b[1;33m\u001b[0m\u001b[0m\n",
      "\u001b[1;32m~\\Anaconda3\\envs\\cpu_env\\lib\\site-packages\\urllib3\\connection.py\u001b[0m in \u001b[0;36m_new_conn\u001b[1;34m(self)\u001b[0m\n\u001b[0;32m    171\u001b[0m             raise NewConnectionError(\n\u001b[1;32m--> 172\u001b[1;33m                 \u001b[0mself\u001b[0m\u001b[1;33m,\u001b[0m \u001b[1;34m\"Failed to establish a new connection: %s\"\u001b[0m \u001b[1;33m%\u001b[0m \u001b[0me\u001b[0m\u001b[1;33m\u001b[0m\u001b[1;33m\u001b[0m\u001b[0m\n\u001b[0m\u001b[0;32m    173\u001b[0m             )\n",
      "\u001b[1;31mNewConnectionError\u001b[0m: <urllib3.connection.HTTPSConnection object at 0x00000243C126D2E8>: Failed to establish a new connection: [Errno 11001] getaddrinfo failed",
      "\nDuring handling of the above exception, another exception occurred:\n",
      "\u001b[1;31mMaxRetryError\u001b[0m                             Traceback (most recent call last)",
      "\u001b[1;32m~\\Anaconda3\\envs\\cpu_env\\lib\\site-packages\\requests\\adapters.py\u001b[0m in \u001b[0;36msend\u001b[1;34m(self, request, stream, timeout, verify, cert, proxies)\u001b[0m\n\u001b[0;32m    448\u001b[0m                     \u001b[0mretries\u001b[0m\u001b[1;33m=\u001b[0m\u001b[0mself\u001b[0m\u001b[1;33m.\u001b[0m\u001b[0mmax_retries\u001b[0m\u001b[1;33m,\u001b[0m\u001b[1;33m\u001b[0m\u001b[1;33m\u001b[0m\u001b[0m\n\u001b[1;32m--> 449\u001b[1;33m                     \u001b[0mtimeout\u001b[0m\u001b[1;33m=\u001b[0m\u001b[0mtimeout\u001b[0m\u001b[1;33m\u001b[0m\u001b[1;33m\u001b[0m\u001b[0m\n\u001b[0m\u001b[0;32m    450\u001b[0m                 )\n",
      "\u001b[1;32m~\\Anaconda3\\envs\\cpu_env\\lib\\site-packages\\urllib3\\connectionpool.py\u001b[0m in \u001b[0;36murlopen\u001b[1;34m(self, method, url, body, headers, retries, redirect, assert_same_host, timeout, pool_timeout, release_conn, chunked, body_pos, **response_kw)\u001b[0m\n\u001b[0;32m    724\u001b[0m             retries = retries.increment(\n\u001b[1;32m--> 725\u001b[1;33m                 \u001b[0mmethod\u001b[0m\u001b[1;33m,\u001b[0m \u001b[0murl\u001b[0m\u001b[1;33m,\u001b[0m \u001b[0merror\u001b[0m\u001b[1;33m=\u001b[0m\u001b[0me\u001b[0m\u001b[1;33m,\u001b[0m \u001b[0m_pool\u001b[0m\u001b[1;33m=\u001b[0m\u001b[0mself\u001b[0m\u001b[1;33m,\u001b[0m \u001b[0m_stacktrace\u001b[0m\u001b[1;33m=\u001b[0m\u001b[0msys\u001b[0m\u001b[1;33m.\u001b[0m\u001b[0mexc_info\u001b[0m\u001b[1;33m(\u001b[0m\u001b[1;33m)\u001b[0m\u001b[1;33m[\u001b[0m\u001b[1;36m2\u001b[0m\u001b[1;33m]\u001b[0m\u001b[1;33m\u001b[0m\u001b[1;33m\u001b[0m\u001b[0m\n\u001b[0m\u001b[0;32m    726\u001b[0m             )\n",
      "\u001b[1;32m~\\Anaconda3\\envs\\cpu_env\\lib\\site-packages\\urllib3\\util\\retry.py\u001b[0m in \u001b[0;36mincrement\u001b[1;34m(self, method, url, response, error, _pool, _stacktrace)\u001b[0m\n\u001b[0;32m    438\u001b[0m         \u001b[1;32mif\u001b[0m \u001b[0mnew_retry\u001b[0m\u001b[1;33m.\u001b[0m\u001b[0mis_exhausted\u001b[0m\u001b[1;33m(\u001b[0m\u001b[1;33m)\u001b[0m\u001b[1;33m:\u001b[0m\u001b[1;33m\u001b[0m\u001b[1;33m\u001b[0m\u001b[0m\n\u001b[1;32m--> 439\u001b[1;33m             \u001b[1;32mraise\u001b[0m \u001b[0mMaxRetryError\u001b[0m\u001b[1;33m(\u001b[0m\u001b[0m_pool\u001b[0m\u001b[1;33m,\u001b[0m \u001b[0murl\u001b[0m\u001b[1;33m,\u001b[0m \u001b[0merror\u001b[0m \u001b[1;32mor\u001b[0m \u001b[0mResponseError\u001b[0m\u001b[1;33m(\u001b[0m\u001b[0mcause\u001b[0m\u001b[1;33m)\u001b[0m\u001b[1;33m)\u001b[0m\u001b[1;33m\u001b[0m\u001b[1;33m\u001b[0m\u001b[0m\n\u001b[0m\u001b[0;32m    440\u001b[0m \u001b[1;33m\u001b[0m\u001b[0m\n",
      "\u001b[1;31mMaxRetryError\u001b[0m: HTTPSConnectionPool(host='kapi.kakao.com', port=443): Max retries exceeded with url: /v1/translation/translate?src_lang=kr&target_lang=en&query=%0A++++%EC%A7%80%EB%82%9C%ED%95%B4+3%EC%9B%94+%EC%98%A4%ED%94%88%ED%95%9C+%EC%B9%B4%EC%B9%B4%EC%98%A4%ED%86%A1+%EC%A3%BC%EB%AC%B8%ED%95%98%EA%B8%B0%EB%8A%94+%ED%98%84%EC%9E%AC%EA%B9%8C%EC%A7%80+%EC%95%BD+250%EB%A7%8C%EB%AA%85%EC%9D%98+%ED%9A%8C%EC%9B%90%EC%9D%84+%ED%99%95%EB%B3%B4%ED%96%88%EC%9C%BC%EB%A9%B0%2C+%EC%A3%BC%EB%AC%B8+%EA%B0%80%EB%8A%A5%ED%95%9C+%ED%94%84%EB%9E%9C%EC%B0%A8%EC%9D%B4%EC%A6%88+%EB%B8%8C%EB%9E%9C%EB%93%9C%EB%8A%94+38%EA%B0%9C%2C%0A++++%EA%B0%80%EB%A7%B9%EC%A0%90%EC%88%98%EB%8A%94+%EC%95%BD+1%EB%A7%8C+5%EC%B2%9C%EC%97%AC%EA%B3%B3%EC%97%90+%EB%8B%AC%ED%95%9C%EB%8B%A4.+%EC%A0%84+%EA%B5%AD%EB%AF%BC%EC%97%90%EA%B2%8C+%EC%B9%9C%EC%88%99%ED%95%9C+%EC%B9%B4%EC%B9%B4%EC%98%A4%ED%86%A1+UI%EB%A5%BC+%ED%99%9C%EC%9A%A9%ED%95%98%EA%B8%B0+%EB%95%8C%EB%AC%B8%EC%97%90+%EB%82%A8%EB%85%80%EB%85%B8%EC%86%8C+%EB%88%84%EA%B5%AC%EB%82%98+%EC%89%BD%EA%B2%8C+%EC%9D%B4%EC%9A%A9%ED%95%A0+%EC%88%98+%EC%9E%88%EC%9C%BC%EB%A9%B0%2C%0A++++%EB%B3%84%EB%8F%84%EC%9D%98+%EC%95%B1%EC%9D%84+%EC%84%A4%EC%B9%98%ED%95%A0+%ED%95%84%EC%9A%94+%EC%97%86%EC%9D%B4+%EC%B9%B4%EC%B9%B4%EC%98%A4%ED%86%A1+%EB%82%B4%EC%97%90%EC%84%9C+%EB%AA%A8%EB%93%A0+%EA%B3%BC%EC%A0%95%EC%9D%B4+%EC%9D%B4%EB%A4%84%EC%A7%80%EB%8A%94+%EA%B2%83%EC%9D%B4+%ED%8A%B9%EC%A7%95%EC%9D%B4%EB%8B%A4.+%EC%A7%80%EB%82%9C%ED%95%B4+9%EC%9B%94+%EC%97%85%EA%B3%84+%EC%B5%9C%EC%B4%88%EB%A1%9C+%EB%82%A0%EC%A7%9C%EC%99%80+%EC%8B%9C%EA%B0%84%EC%9D%84+%EC%98%88%EC%95%BD%ED%95%9C+%EB%92%A4%0A++++%EC%84%A4%EC%A0%95%ED%95%9C+%EB%A7%A4%EC%9E%A5%EC%97%90%EC%84%9C+%EC%A3%BC%EB%AC%B8+%EC%9D%8C%EC%8B%9D%EC%9D%84+%EC%B0%BE%EC%95%84%EA%B0%80%EB%8A%94+%E2%80%98%ED%94%BD%EC%97%85%E2%80%99+%EA%B8%B0%EB%8A%A5%EC%9D%84+%EB%8F%84%EC%9E%85%ED%96%88%EA%B3%A0%2C+%EC%98%AC%ED%95%B4+1%EC%9B%94+%EC%8A%A4%EB%A7%88%ED%8A%B8%EC%8A%A4%ED%94%BC%EC%BB%A4+%E2%80%98%EC%B9%B4%EC%B9%B4%EC%98%A4%EB%AF%B8%EB%8B%88%E2%80%99%EC%97%90%EC%84%9C+%EC%9D%8C%EC%84%B1%EC%9D%84+%ED%86%B5%ED%95%B4+%EC%A3%BC%EB%AC%B8+%EA%B0%80%EB%8A%A5%ED%95%9C%0A++++%EB%A9%94%EB%89%B4%EB%A5%BC+%EC%95%88%EB%82%B4%EB%B0%9B%EC%9D%84+%EC%88%98+%EC%9E%88%EB%8F%84%EB%A1%9D+%EC%84%9C%EB%B9%84%EC%8A%A4%EB%A5%BC+%EC%97%B0%EB%8F%99%ED%95%98%EB%A9%B0+%EC%B0%A8%EB%B3%84%ED%99%94%EB%A5%BC+%EA%BE%80%ED%96%88%EB%8B%A4.+%EC%A4%91%EC%86%8C%EC%82%AC%EC%97%85%EC%9E%90%EB%93%A4%EC%9D%B4+%EC%B9%B4%EC%B9%B4%EC%98%A4%ED%86%A1+%EC%A3%BC%EB%AC%B8%ED%95%98%EA%B8%B0%EC%97%90+%EC%9E%85%EC%A0%90%ED%95%98%EA%B2%8C+%EB%90%98%EB%A9%B4+4%2C300%EB%A7%8C+%EC%B9%B4%EC%B9%B4%EC%98%A4%ED%86%A1%0A++++%EC%9D%B4%EC%9A%A9%EC%9E%90%EB%93%A4%EA%B3%BC%EC%9D%98+%EC%A0%91%EC%A0%90%EC%9D%84+%ED%99%95%EB%B3%B4%ED%95%98%EA%B3%A0%2C+%EA%B0%84%ED%8E%B8%ED%95%9C+%EC%A3%BC%EB%AC%B8+%EA%B3%BC%EC%A0%95%EC%9C%BC%EB%A1%9C+%EB%A7%8C%EC%A1%B1%EB%8F%84%EB%A5%BC+%EB%86%92%EC%9D%BC+%EC%88%98+%EC%9E%88%EA%B2%8C+%EB%90%9C%EB%8B%A4.+%EC%B9%B4%EC%B9%B4%EC%98%A4%ED%86%A1+%EB%A9%94%EC%8B%9C%EC%A7%80%EB%A5%BC+%ED%86%B5%ED%95%B4+%EC%8B%A0%EB%A9%94%EB%89%B4+%EC%B6%9C%EC%8B%9C%2C+%ED%94%84%EB%A1%9C%EB%AA%A8%EC%85%98+%EB%93%B1%EC%9D%98%0A++++%EC%86%8C%EC%8B%9D%EC%9D%84+%EC%A0%84%EB%8B%AC%ED%95%A0+%EC%88%98+%EC%9E%88%EA%B3%A0%2C+%EC%9D%BC%EB%8C%80%EC%9D%BC+%EC%B1%84%ED%8C%85+%EA%B8%B0%EB%8A%A5%EC%9D%84+%EC%A0%81%EC%9A%A9%ED%95%98%EB%A9%B4+%EA%B3%A0%EA%B0%9D%EA%B3%BC+%EC%A7%81%EC%A0%91+%EC%83%81%EB%8B%B4%EB%8F%84+%EA%B0%80%EB%8A%A5%ED%95%98%EB%8B%A4.%0A (Caused by NewConnectionError('<urllib3.connection.HTTPSConnection object at 0x00000243C126D2E8>: Failed to establish a new connection: [Errno 11001] getaddrinfo failed',))",
      "\nDuring handling of the above exception, another exception occurred:\n",
      "\u001b[1;31mConnectionError\u001b[0m                           Traceback (most recent call last)",
      "\u001b[1;32m<ipython-input-40-fcf819ec4e55>\u001b[0m in \u001b[0;36m<module>\u001b[1;34m\u001b[0m\n\u001b[1;32m----> 1\u001b[1;33m \u001b[0mtranslate\u001b[0m\u001b[1;33m(\u001b[0m\u001b[0mstring\u001b[0m\u001b[1;33m,\u001b[0m \u001b[1;34m'en'\u001b[0m\u001b[1;33m,\u001b[0m \u001b[1;34m'kr'\u001b[0m\u001b[1;33m)\u001b[0m\u001b[1;33m\u001b[0m\u001b[1;33m\u001b[0m\u001b[0m\n\u001b[0m",
      "\u001b[1;32m<ipython-input-37-21cf0cefdc3d>\u001b[0m in \u001b[0;36mtranslate\u001b[1;34m(string, before_lang, after_lang)\u001b[0m\n\u001b[0;32m      1\u001b[0m \u001b[1;32mdef\u001b[0m \u001b[0mtranslate\u001b[0m\u001b[1;33m(\u001b[0m\u001b[0mstring\u001b[0m\u001b[1;33m,\u001b[0m\u001b[0mbefore_lang\u001b[0m\u001b[1;33m,\u001b[0m \u001b[0mafter_lang\u001b[0m\u001b[1;33m)\u001b[0m\u001b[1;33m:\u001b[0m\u001b[1;33m\u001b[0m\u001b[1;33m\u001b[0m\u001b[0m\n\u001b[1;32m----> 2\u001b[1;33m     \u001b[0mresponse\u001b[0m \u001b[1;33m=\u001b[0m \u001b[0mrequests\u001b[0m\u001b[1;33m.\u001b[0m\u001b[0mget\u001b[0m\u001b[1;33m(\u001b[0m\u001b[0murl\u001b[0m\u001b[1;33m,\u001b[0m\u001b[0mheaders\u001b[0m\u001b[1;33m=\u001b[0m\u001b[0mheader\u001b[0m\u001b[1;33m,\u001b[0m \u001b[0mparams\u001b[0m\u001b[1;33m=\u001b[0m\u001b[0mdata\u001b[0m\u001b[1;33m)\u001b[0m\u001b[1;33m\u001b[0m\u001b[1;33m\u001b[0m\u001b[0m\n\u001b[0m\u001b[0;32m      3\u001b[0m     \u001b[0mresult\u001b[0m \u001b[1;33m=\u001b[0m \u001b[0mresponse\u001b[0m\u001b[1;33m.\u001b[0m\u001b[0mjson\u001b[0m\u001b[1;33m(\u001b[0m\u001b[1;33m)\u001b[0m\u001b[1;33m\u001b[0m\u001b[1;33m\u001b[0m\u001b[0m\n\u001b[0;32m      4\u001b[0m     \u001b[0ma\u001b[0m \u001b[1;33m=\u001b[0m \u001b[1;34m''\u001b[0m\u001b[1;33m\u001b[0m\u001b[1;33m\u001b[0m\u001b[0m\n\u001b[0;32m      5\u001b[0m     \u001b[1;32mfor\u001b[0m \u001b[0m_\u001b[0m \u001b[1;32min\u001b[0m \u001b[0mresult\u001b[0m\u001b[1;33m[\u001b[0m\u001b[1;34m'translated_text'\u001b[0m\u001b[1;33m]\u001b[0m\u001b[1;33m[\u001b[0m\u001b[1;36m0\u001b[0m\u001b[1;33m]\u001b[0m\u001b[1;33m:\u001b[0m\u001b[1;33m\u001b[0m\u001b[1;33m\u001b[0m\u001b[0m\n",
      "\u001b[1;32m~\\Anaconda3\\envs\\cpu_env\\lib\\site-packages\\requests\\api.py\u001b[0m in \u001b[0;36mget\u001b[1;34m(url, params, **kwargs)\u001b[0m\n\u001b[0;32m     74\u001b[0m \u001b[1;33m\u001b[0m\u001b[0m\n\u001b[0;32m     75\u001b[0m     \u001b[0mkwargs\u001b[0m\u001b[1;33m.\u001b[0m\u001b[0msetdefault\u001b[0m\u001b[1;33m(\u001b[0m\u001b[1;34m'allow_redirects'\u001b[0m\u001b[1;33m,\u001b[0m \u001b[1;32mTrue\u001b[0m\u001b[1;33m)\u001b[0m\u001b[1;33m\u001b[0m\u001b[1;33m\u001b[0m\u001b[0m\n\u001b[1;32m---> 76\u001b[1;33m     \u001b[1;32mreturn\u001b[0m \u001b[0mrequest\u001b[0m\u001b[1;33m(\u001b[0m\u001b[1;34m'get'\u001b[0m\u001b[1;33m,\u001b[0m \u001b[0murl\u001b[0m\u001b[1;33m,\u001b[0m \u001b[0mparams\u001b[0m\u001b[1;33m=\u001b[0m\u001b[0mparams\u001b[0m\u001b[1;33m,\u001b[0m \u001b[1;33m**\u001b[0m\u001b[0mkwargs\u001b[0m\u001b[1;33m)\u001b[0m\u001b[1;33m\u001b[0m\u001b[1;33m\u001b[0m\u001b[0m\n\u001b[0m\u001b[0;32m     77\u001b[0m \u001b[1;33m\u001b[0m\u001b[0m\n\u001b[0;32m     78\u001b[0m \u001b[1;33m\u001b[0m\u001b[0m\n",
      "\u001b[1;32m~\\Anaconda3\\envs\\cpu_env\\lib\\site-packages\\requests\\api.py\u001b[0m in \u001b[0;36mrequest\u001b[1;34m(method, url, **kwargs)\u001b[0m\n\u001b[0;32m     59\u001b[0m     \u001b[1;31m# cases, and look like a memory leak in others.\u001b[0m\u001b[1;33m\u001b[0m\u001b[1;33m\u001b[0m\u001b[1;33m\u001b[0m\u001b[0m\n\u001b[0;32m     60\u001b[0m     \u001b[1;32mwith\u001b[0m \u001b[0msessions\u001b[0m\u001b[1;33m.\u001b[0m\u001b[0mSession\u001b[0m\u001b[1;33m(\u001b[0m\u001b[1;33m)\u001b[0m \u001b[1;32mas\u001b[0m \u001b[0msession\u001b[0m\u001b[1;33m:\u001b[0m\u001b[1;33m\u001b[0m\u001b[1;33m\u001b[0m\u001b[0m\n\u001b[1;32m---> 61\u001b[1;33m         \u001b[1;32mreturn\u001b[0m \u001b[0msession\u001b[0m\u001b[1;33m.\u001b[0m\u001b[0mrequest\u001b[0m\u001b[1;33m(\u001b[0m\u001b[0mmethod\u001b[0m\u001b[1;33m=\u001b[0m\u001b[0mmethod\u001b[0m\u001b[1;33m,\u001b[0m \u001b[0murl\u001b[0m\u001b[1;33m=\u001b[0m\u001b[0murl\u001b[0m\u001b[1;33m,\u001b[0m \u001b[1;33m**\u001b[0m\u001b[0mkwargs\u001b[0m\u001b[1;33m)\u001b[0m\u001b[1;33m\u001b[0m\u001b[1;33m\u001b[0m\u001b[0m\n\u001b[0m\u001b[0;32m     62\u001b[0m \u001b[1;33m\u001b[0m\u001b[0m\n\u001b[0;32m     63\u001b[0m \u001b[1;33m\u001b[0m\u001b[0m\n",
      "\u001b[1;32m~\\Anaconda3\\envs\\cpu_env\\lib\\site-packages\\requests\\sessions.py\u001b[0m in \u001b[0;36mrequest\u001b[1;34m(self, method, url, params, data, headers, cookies, files, auth, timeout, allow_redirects, proxies, hooks, stream, verify, cert, json)\u001b[0m\n\u001b[0;32m    528\u001b[0m         }\n\u001b[0;32m    529\u001b[0m         \u001b[0msend_kwargs\u001b[0m\u001b[1;33m.\u001b[0m\u001b[0mupdate\u001b[0m\u001b[1;33m(\u001b[0m\u001b[0msettings\u001b[0m\u001b[1;33m)\u001b[0m\u001b[1;33m\u001b[0m\u001b[1;33m\u001b[0m\u001b[0m\n\u001b[1;32m--> 530\u001b[1;33m         \u001b[0mresp\u001b[0m \u001b[1;33m=\u001b[0m \u001b[0mself\u001b[0m\u001b[1;33m.\u001b[0m\u001b[0msend\u001b[0m\u001b[1;33m(\u001b[0m\u001b[0mprep\u001b[0m\u001b[1;33m,\u001b[0m \u001b[1;33m**\u001b[0m\u001b[0msend_kwargs\u001b[0m\u001b[1;33m)\u001b[0m\u001b[1;33m\u001b[0m\u001b[1;33m\u001b[0m\u001b[0m\n\u001b[0m\u001b[0;32m    531\u001b[0m \u001b[1;33m\u001b[0m\u001b[0m\n\u001b[0;32m    532\u001b[0m         \u001b[1;32mreturn\u001b[0m \u001b[0mresp\u001b[0m\u001b[1;33m\u001b[0m\u001b[1;33m\u001b[0m\u001b[0m\n",
      "\u001b[1;32m~\\Anaconda3\\envs\\cpu_env\\lib\\site-packages\\requests\\sessions.py\u001b[0m in \u001b[0;36msend\u001b[1;34m(self, request, **kwargs)\u001b[0m\n\u001b[0;32m    641\u001b[0m \u001b[1;33m\u001b[0m\u001b[0m\n\u001b[0;32m    642\u001b[0m         \u001b[1;31m# Send the request\u001b[0m\u001b[1;33m\u001b[0m\u001b[1;33m\u001b[0m\u001b[1;33m\u001b[0m\u001b[0m\n\u001b[1;32m--> 643\u001b[1;33m         \u001b[0mr\u001b[0m \u001b[1;33m=\u001b[0m \u001b[0madapter\u001b[0m\u001b[1;33m.\u001b[0m\u001b[0msend\u001b[0m\u001b[1;33m(\u001b[0m\u001b[0mrequest\u001b[0m\u001b[1;33m,\u001b[0m \u001b[1;33m**\u001b[0m\u001b[0mkwargs\u001b[0m\u001b[1;33m)\u001b[0m\u001b[1;33m\u001b[0m\u001b[1;33m\u001b[0m\u001b[0m\n\u001b[0m\u001b[0;32m    644\u001b[0m \u001b[1;33m\u001b[0m\u001b[0m\n\u001b[0;32m    645\u001b[0m         \u001b[1;31m# Total elapsed time of the request (approximately)\u001b[0m\u001b[1;33m\u001b[0m\u001b[1;33m\u001b[0m\u001b[1;33m\u001b[0m\u001b[0m\n",
      "\u001b[1;32m~\\Anaconda3\\envs\\cpu_env\\lib\\site-packages\\requests\\adapters.py\u001b[0m in \u001b[0;36msend\u001b[1;34m(self, request, stream, timeout, verify, cert, proxies)\u001b[0m\n\u001b[0;32m    514\u001b[0m                 \u001b[1;32mraise\u001b[0m \u001b[0mSSLError\u001b[0m\u001b[1;33m(\u001b[0m\u001b[0me\u001b[0m\u001b[1;33m,\u001b[0m \u001b[0mrequest\u001b[0m\u001b[1;33m=\u001b[0m\u001b[0mrequest\u001b[0m\u001b[1;33m)\u001b[0m\u001b[1;33m\u001b[0m\u001b[1;33m\u001b[0m\u001b[0m\n\u001b[0;32m    515\u001b[0m \u001b[1;33m\u001b[0m\u001b[0m\n\u001b[1;32m--> 516\u001b[1;33m             \u001b[1;32mraise\u001b[0m \u001b[0mConnectionError\u001b[0m\u001b[1;33m(\u001b[0m\u001b[0me\u001b[0m\u001b[1;33m,\u001b[0m \u001b[0mrequest\u001b[0m\u001b[1;33m=\u001b[0m\u001b[0mrequest\u001b[0m\u001b[1;33m)\u001b[0m\u001b[1;33m\u001b[0m\u001b[1;33m\u001b[0m\u001b[0m\n\u001b[0m\u001b[0;32m    517\u001b[0m \u001b[1;33m\u001b[0m\u001b[0m\n\u001b[0;32m    518\u001b[0m         \u001b[1;32mexcept\u001b[0m \u001b[0mClosedPoolError\u001b[0m \u001b[1;32mas\u001b[0m \u001b[0me\u001b[0m\u001b[1;33m:\u001b[0m\u001b[1;33m\u001b[0m\u001b[1;33m\u001b[0m\u001b[0m\n",
      "\u001b[1;31mConnectionError\u001b[0m: HTTPSConnectionPool(host='kapi.kakao.com', port=443): Max retries exceeded with url: /v1/translation/translate?src_lang=kr&target_lang=en&query=%0A++++%EC%A7%80%EB%82%9C%ED%95%B4+3%EC%9B%94+%EC%98%A4%ED%94%88%ED%95%9C+%EC%B9%B4%EC%B9%B4%EC%98%A4%ED%86%A1+%EC%A3%BC%EB%AC%B8%ED%95%98%EA%B8%B0%EB%8A%94+%ED%98%84%EC%9E%AC%EA%B9%8C%EC%A7%80+%EC%95%BD+250%EB%A7%8C%EB%AA%85%EC%9D%98+%ED%9A%8C%EC%9B%90%EC%9D%84+%ED%99%95%EB%B3%B4%ED%96%88%EC%9C%BC%EB%A9%B0%2C+%EC%A3%BC%EB%AC%B8+%EA%B0%80%EB%8A%A5%ED%95%9C+%ED%94%84%EB%9E%9C%EC%B0%A8%EC%9D%B4%EC%A6%88+%EB%B8%8C%EB%9E%9C%EB%93%9C%EB%8A%94+38%EA%B0%9C%2C%0A++++%EA%B0%80%EB%A7%B9%EC%A0%90%EC%88%98%EB%8A%94+%EC%95%BD+1%EB%A7%8C+5%EC%B2%9C%EC%97%AC%EA%B3%B3%EC%97%90+%EB%8B%AC%ED%95%9C%EB%8B%A4.+%EC%A0%84+%EA%B5%AD%EB%AF%BC%EC%97%90%EA%B2%8C+%EC%B9%9C%EC%88%99%ED%95%9C+%EC%B9%B4%EC%B9%B4%EC%98%A4%ED%86%A1+UI%EB%A5%BC+%ED%99%9C%EC%9A%A9%ED%95%98%EA%B8%B0+%EB%95%8C%EB%AC%B8%EC%97%90+%EB%82%A8%EB%85%80%EB%85%B8%EC%86%8C+%EB%88%84%EA%B5%AC%EB%82%98+%EC%89%BD%EA%B2%8C+%EC%9D%B4%EC%9A%A9%ED%95%A0+%EC%88%98+%EC%9E%88%EC%9C%BC%EB%A9%B0%2C%0A++++%EB%B3%84%EB%8F%84%EC%9D%98+%EC%95%B1%EC%9D%84+%EC%84%A4%EC%B9%98%ED%95%A0+%ED%95%84%EC%9A%94+%EC%97%86%EC%9D%B4+%EC%B9%B4%EC%B9%B4%EC%98%A4%ED%86%A1+%EB%82%B4%EC%97%90%EC%84%9C+%EB%AA%A8%EB%93%A0+%EA%B3%BC%EC%A0%95%EC%9D%B4+%EC%9D%B4%EB%A4%84%EC%A7%80%EB%8A%94+%EA%B2%83%EC%9D%B4+%ED%8A%B9%EC%A7%95%EC%9D%B4%EB%8B%A4.+%EC%A7%80%EB%82%9C%ED%95%B4+9%EC%9B%94+%EC%97%85%EA%B3%84+%EC%B5%9C%EC%B4%88%EB%A1%9C+%EB%82%A0%EC%A7%9C%EC%99%80+%EC%8B%9C%EA%B0%84%EC%9D%84+%EC%98%88%EC%95%BD%ED%95%9C+%EB%92%A4%0A++++%EC%84%A4%EC%A0%95%ED%95%9C+%EB%A7%A4%EC%9E%A5%EC%97%90%EC%84%9C+%EC%A3%BC%EB%AC%B8+%EC%9D%8C%EC%8B%9D%EC%9D%84+%EC%B0%BE%EC%95%84%EA%B0%80%EB%8A%94+%E2%80%98%ED%94%BD%EC%97%85%E2%80%99+%EA%B8%B0%EB%8A%A5%EC%9D%84+%EB%8F%84%EC%9E%85%ED%96%88%EA%B3%A0%2C+%EC%98%AC%ED%95%B4+1%EC%9B%94+%EC%8A%A4%EB%A7%88%ED%8A%B8%EC%8A%A4%ED%94%BC%EC%BB%A4+%E2%80%98%EC%B9%B4%EC%B9%B4%EC%98%A4%EB%AF%B8%EB%8B%88%E2%80%99%EC%97%90%EC%84%9C+%EC%9D%8C%EC%84%B1%EC%9D%84+%ED%86%B5%ED%95%B4+%EC%A3%BC%EB%AC%B8+%EA%B0%80%EB%8A%A5%ED%95%9C%0A++++%EB%A9%94%EB%89%B4%EB%A5%BC+%EC%95%88%EB%82%B4%EB%B0%9B%EC%9D%84+%EC%88%98+%EC%9E%88%EB%8F%84%EB%A1%9D+%EC%84%9C%EB%B9%84%EC%8A%A4%EB%A5%BC+%EC%97%B0%EB%8F%99%ED%95%98%EB%A9%B0+%EC%B0%A8%EB%B3%84%ED%99%94%EB%A5%BC+%EA%BE%80%ED%96%88%EB%8B%A4.+%EC%A4%91%EC%86%8C%EC%82%AC%EC%97%85%EC%9E%90%EB%93%A4%EC%9D%B4+%EC%B9%B4%EC%B9%B4%EC%98%A4%ED%86%A1+%EC%A3%BC%EB%AC%B8%ED%95%98%EA%B8%B0%EC%97%90+%EC%9E%85%EC%A0%90%ED%95%98%EA%B2%8C+%EB%90%98%EB%A9%B4+4%2C300%EB%A7%8C+%EC%B9%B4%EC%B9%B4%EC%98%A4%ED%86%A1%0A++++%EC%9D%B4%EC%9A%A9%EC%9E%90%EB%93%A4%EA%B3%BC%EC%9D%98+%EC%A0%91%EC%A0%90%EC%9D%84+%ED%99%95%EB%B3%B4%ED%95%98%EA%B3%A0%2C+%EA%B0%84%ED%8E%B8%ED%95%9C+%EC%A3%BC%EB%AC%B8+%EA%B3%BC%EC%A0%95%EC%9C%BC%EB%A1%9C+%EB%A7%8C%EC%A1%B1%EB%8F%84%EB%A5%BC+%EB%86%92%EC%9D%BC+%EC%88%98+%EC%9E%88%EA%B2%8C+%EB%90%9C%EB%8B%A4.+%EC%B9%B4%EC%B9%B4%EC%98%A4%ED%86%A1+%EB%A9%94%EC%8B%9C%EC%A7%80%EB%A5%BC+%ED%86%B5%ED%95%B4+%EC%8B%A0%EB%A9%94%EB%89%B4+%EC%B6%9C%EC%8B%9C%2C+%ED%94%84%EB%A1%9C%EB%AA%A8%EC%85%98+%EB%93%B1%EC%9D%98%0A++++%EC%86%8C%EC%8B%9D%EC%9D%84+%EC%A0%84%EB%8B%AC%ED%95%A0+%EC%88%98+%EC%9E%88%EA%B3%A0%2C+%EC%9D%BC%EB%8C%80%EC%9D%BC+%EC%B1%84%ED%8C%85+%EA%B8%B0%EB%8A%A5%EC%9D%84+%EC%A0%81%EC%9A%A9%ED%95%98%EB%A9%B4+%EA%B3%A0%EA%B0%9D%EA%B3%BC+%EC%A7%81%EC%A0%91+%EC%83%81%EB%8B%B4%EB%8F%84+%EA%B0%80%EB%8A%A5%ED%95%98%EB%8B%A4.%0A (Caused by NewConnectionError('<urllib3.connection.HTTPSConnection object at 0x00000243C126D2E8>: Failed to establish a new connection: [Errno 11001] getaddrinfo failed',))"
     ]
    }
   ],
   "source": [
    "translate(string, 'en', 'kr')"
   ]
  },
  {
   "cell_type": "code",
   "execution_count": 38,
   "metadata": {},
   "outputs": [],
   "source": [
    "string = train_df['sentence'][0]"
   ]
  },
  {
   "cell_type": "code",
   "execution_count": null,
   "metadata": {},
   "outputs": [],
   "source": []
  },
  {
   "cell_type": "code",
   "execution_count": null,
   "metadata": {},
   "outputs": [],
   "source": [
    "from kakaotrans import Translator\n",
    "Translator().translate(\"Try your best rather than be the best.\",src = 'en',tgt = 'kr')\n",
    "translator.translate(\"최고가 되기보다는 최선을 다하라.\", src='kr', tgt='en')"
   ]
  },
  {
   "cell_type": "code",
   "execution_count": null,
   "metadata": {},
   "outputs": [],
   "source": [
    "a = 'A América Latina localiza-se totalmente no hemisfério ocidental, sendo atravessada pelo Trópico de Câncer, que corta a parte central do México; pelo Equador, que passa pelo Brasil, Colômbia, Equador e toca o norte do Peru; e pelo Trópico de Capricórnio, que atravessa o Brasil, o Paraguai, a Argentina e o Chile.'"
   ]
  },
  {
   "cell_type": "code",
   "execution_count": null,
   "metadata": {},
   "outputs": [],
   "source": [
    "b = '''\n",
    "SENTENCE : A América Latina localiza-se totalmente no hemisfério ocidental, sendo atravessada pelo Trópico de Câncer, que corta a parte central do México; pelo Equador, que passa pelo Brasil, Colômbia, Equador e toca o norte do Peru; e pelo Trópico de Capricórnio, que atravessa o Brasil, o Paraguai, a Argentina e o Chile.\n",
    "\n",
    "MANUALLY CHECKED : TRUE\n",
    "\n",
    "ENTITY1 : América Latina\n",
    "TYPE1 : LOCATION\n",
    "ENTITY2 : Argentina\n",
    "TYPE2 : LOCATION\n",
    "REL TYPE : locatedInArea'''"
   ]
  },
  {
   "cell_type": "code",
   "execution_count": null,
   "metadata": {},
   "outputs": [],
   "source": []
  },
  {
   "cell_type": "code",
   "execution_count": null,
   "metadata": {},
   "outputs": [],
   "source": []
  },
  {
   "cell_type": "code",
   "execution_count": 10,
   "metadata": {},
   "outputs": [],
   "source": [
    "import requests\n",
    "\n",
    "def translate1(query, before_lang, after_lang):\n",
    "    url = \"https://translate.kakao.com/translator/translate.json\"\n",
    "\n",
    "    headers = {\n",
    "        \"Referer\": \"https://translate.kakao.com/\",\n",
    "        \"User-Agent\": \"Mozilla/5.0\"\n",
    "    }\n",
    "\n",
    "    data = {\n",
    "        \"queryLanguage\": before_lang,\n",
    "        \"resultLanguage\": after_lang,\n",
    "        \"q\": query\n",
    "    }\n",
    "\n",
    "    resp = requests.post(url, headers=headers, data=data)\n",
    "    data = resp.json()\n",
    "    output = data['result']['output'][0][0]\n",
    "    return output\n",
    "\n",
    "\n",
    "if __name__ == \"__main__\":\n",
    "    pass\n",
    "#     print(translate(a))\n",
    "#     print(translate(b))"
   ]
  },
  {
   "cell_type": "code",
   "execution_count": null,
   "metadata": {},
   "outputs": [],
   "source": []
  },
  {
   "cell_type": "code",
   "execution_count": null,
   "metadata": {},
   "outputs": [],
   "source": []
  },
  {
   "cell_type": "code",
   "execution_count": null,
   "metadata": {},
   "outputs": [],
   "source": [
    "import os\n",
    "import sys\n",
    "import urllib.request\n",
    "client_id = \"cyeRpBs2NsnOJeI0XXef\" # 개발자센터에서 발급받은 Client ID 값\n",
    "client_secret = \"CXaUQ43ejs\" # 개발자센터에서 발급받은 Client Secret 값\n",
    "\n",
    "encText = urllib.parse.quote(\"반갑습니다\")\n",
    "before_lang = input()\n",
    "after_lang = input()\n",
    "data = \"source=\" + before_lang + \"&target=\" + after_lang + \"&text=\" + encText\n",
    "url = \"https://openapi.naver.com/v1/papago/n2mt\"\n",
    "request = urllib.request.Request(url)\n",
    "request.add_header(\"X-Naver-Client-Id\",client_id)\n",
    "request.add_header(\"X-Naver-Client-Secret\",client_secret)\n",
    "\n",
    "def translate2(encText, before_lang, after_lang):\n",
    "    data = \"source=\" + before_lang + \"&target=\" + after_lang + \"&text=\" + encText\n",
    "    response = urllib.request.urlopen(request, data=data.encode(\"utf-8\"))\n",
    "    rescode = response.getcode()\n",
    "    if(rescode==200):\n",
    "        response_body = response.read()\n",
    "        print(response_body.decode('utf-8'))\n",
    "    else:\n",
    "        print(\"Error Code:\" + rescode)"
   ]
  },
  {
   "cell_type": "code",
   "execution_count": 35,
   "metadata": {
    "scrolled": true
   },
   "outputs": [],
   "source": [
    "li = []\n",
    "for _ in range(len(train_df)):\n",
    "    try:\n",
    "        a = translate(train_df['sentence'][_],'en','kr')\n",
    "        li.append(a)\n",
    "    except:\n",
    "        break"
   ]
  },
  {
   "cell_type": "code",
   "execution_count": 36,
   "metadata": {},
   "outputs": [
    {
     "ename": "IndexError",
     "evalue": "list index out of range",
     "output_type": "error",
     "traceback": [
      "\u001b[1;31m---------------------------------------------------------------------------\u001b[0m",
      "\u001b[1;31mIndexError\u001b[0m                                Traceback (most recent call last)",
      "\u001b[1;32m<ipython-input-36-d8d39608afdb>\u001b[0m in \u001b[0;36m<module>\u001b[1;34m\u001b[0m\n\u001b[1;32m----> 1\u001b[1;33m \u001b[0mli\u001b[0m\u001b[1;33m[\u001b[0m\u001b[1;36m0\u001b[0m\u001b[1;33m]\u001b[0m\u001b[1;33m\u001b[0m\u001b[1;33m\u001b[0m\u001b[0m\n\u001b[0m",
      "\u001b[1;31mIndexError\u001b[0m: list index out of range"
     ]
    }
   ],
   "source": [
    "li[0]"
   ]
  },
  {
   "cell_type": "code",
   "execution_count": 25,
   "metadata": {},
   "outputs": [],
   "source": [
    "li = np.array(li)"
   ]
  },
  {
   "cell_type": "code",
   "execution_count": 28,
   "metadata": {},
   "outputs": [],
   "source": [
    "data1 = pd.DataFrame(li)"
   ]
  },
  {
   "cell_type": "code",
   "execution_count": 29,
   "metadata": {},
   "outputs": [
    {
     "data": {
      "text/html": [
       "<div>\n",
       "<style scoped>\n",
       "    .dataframe tbody tr th:only-of-type {\n",
       "        vertical-align: middle;\n",
       "    }\n",
       "\n",
       "    .dataframe tbody tr th {\n",
       "        vertical-align: top;\n",
       "    }\n",
       "\n",
       "    .dataframe thead th {\n",
       "        text-align: right;\n",
       "    }\n",
       "</style>\n",
       "<table border=\"1\" class=\"dataframe\">\n",
       "  <thead>\n",
       "    <tr style=\"text-align: right;\">\n",
       "      <th></th>\n",
       "      <th>0</th>\n",
       "    </tr>\n",
       "  </thead>\n",
       "  <tbody>\n",
       "    <tr>\n",
       "      <th>0</th>\n",
       "      <td>KakaoTalk, which opened in March last year, ha...</td>\n",
       "    </tr>\n",
       "    <tr>\n",
       "      <th>1</th>\n",
       "      <td>KakaoTalk, which opened in March last year, ha...</td>\n",
       "    </tr>\n",
       "    <tr>\n",
       "      <th>2</th>\n",
       "      <td>KakaoTalk, which opened in March last year, ha...</td>\n",
       "    </tr>\n",
       "    <tr>\n",
       "      <th>3</th>\n",
       "      <td>KakaoTalk, which opened in March last year, ha...</td>\n",
       "    </tr>\n",
       "    <tr>\n",
       "      <th>4</th>\n",
       "      <td>KakaoTalk, which opened in March last year, ha...</td>\n",
       "    </tr>\n",
       "    <tr>\n",
       "      <th>...</th>\n",
       "      <td>...</td>\n",
       "    </tr>\n",
       "    <tr>\n",
       "      <th>91</th>\n",
       "      <td>KakaoTalk, which opened in March last year, ha...</td>\n",
       "    </tr>\n",
       "    <tr>\n",
       "      <th>92</th>\n",
       "      <td>KakaoTalk, which opened in March last year, ha...</td>\n",
       "    </tr>\n",
       "    <tr>\n",
       "      <th>93</th>\n",
       "      <td>KakaoTalk, which opened in March last year, ha...</td>\n",
       "    </tr>\n",
       "    <tr>\n",
       "      <th>94</th>\n",
       "      <td>KakaoTalk, which opened in March last year, ha...</td>\n",
       "    </tr>\n",
       "    <tr>\n",
       "      <th>95</th>\n",
       "      <td>KakaoTalk, which opened in March last year, ha...</td>\n",
       "    </tr>\n",
       "  </tbody>\n",
       "</table>\n",
       "<p>96 rows × 1 columns</p>\n",
       "</div>"
      ],
      "text/plain": [
       "                                                    0\n",
       "0   KakaoTalk, which opened in March last year, ha...\n",
       "1   KakaoTalk, which opened in March last year, ha...\n",
       "2   KakaoTalk, which opened in March last year, ha...\n",
       "3   KakaoTalk, which opened in March last year, ha...\n",
       "4   KakaoTalk, which opened in March last year, ha...\n",
       "..                                                ...\n",
       "91  KakaoTalk, which opened in March last year, ha...\n",
       "92  KakaoTalk, which opened in March last year, ha...\n",
       "93  KakaoTalk, which opened in March last year, ha...\n",
       "94  KakaoTalk, which opened in March last year, ha...\n",
       "95  KakaoTalk, which opened in March last year, ha...\n",
       "\n",
       "[96 rows x 1 columns]"
      ]
     },
     "execution_count": 29,
     "metadata": {},
     "output_type": "execute_result"
    }
   ],
   "source": [
    "data1"
   ]
  },
  {
   "cell_type": "code",
   "execution_count": 27,
   "metadata": {},
   "outputs": [],
   "source": [
    "np.save('./x_save', li)\n",
    "\n",
    "# 출처: https://rfriend.tistory.com/358 [R, Python 분석과 프로그래밍의 친구 (by R Friend)]"
   ]
  },
  {
   "cell_type": "code",
   "execution_count": 13,
   "metadata": {},
   "outputs": [
    {
     "data": {
      "text/plain": [
       "0     The system as described above has its greatest...\n",
       "1     The <e1>child</e1> was carefully wrapped and b...\n",
       "2     The <e1>author</e1> of a keygen uses a <e2>dis...\n",
       "3     A misty <e1>ridge</e1> uprises from the <e2>su...\n",
       "4     The <e1>student</e1> <e2>association</e2> is t...\n",
       "                            ...                        \n",
       "95    The <e1>driver</e1> of the cement truck cleane...\n",
       "96    The Marshall Plan also provided a way of gaini...\n",
       "97    In the corner there are several gate captains ...\n",
       "98    Once they grow there, the <e1>swelling</e1> an...\n",
       "99    Guitars are played acoustically; the <e1>tone<...\n",
       "Name: sentence, Length: 100, dtype: object"
      ]
     },
     "execution_count": 13,
     "metadata": {},
     "output_type": "execute_result"
    }
   ],
   "source": [
    "train_df['sentence'][:100]"
   ]
  },
  {
   "cell_type": "code",
   "execution_count": null,
   "metadata": {
    "scrolled": true
   },
   "outputs": [],
   "source": [
    "aaa = train_df['sentence'].map(lambda x : translate1(x,'en','kr'))"
   ]
  },
  {
   "cell_type": "code",
   "execution_count": null,
   "metadata": {},
   "outputs": [],
   "source": [
    "aaa"
   ]
  }
 ],
 "metadata": {
  "kernelspec": {
   "display_name": "Python 3",
   "language": "python",
   "name": "python3"
  },
  "language_info": {
   "codemirror_mode": {
    "name": "ipython",
    "version": 3
   },
   "file_extension": ".py",
   "mimetype": "text/x-python",
   "name": "python",
   "nbconvert_exporter": "python",
   "pygments_lexer": "ipython3",
   "version": "3.7.8"
  }
 },
 "nbformat": 4,
 "nbformat_minor": 4
}
