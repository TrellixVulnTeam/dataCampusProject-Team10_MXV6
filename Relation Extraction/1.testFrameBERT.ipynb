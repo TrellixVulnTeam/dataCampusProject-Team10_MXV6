{
 "cells": [
  {
   "cell_type": "code",
   "execution_count": 1,
   "metadata": {
    "colab": {
     "base_uri": "https://localhost:8080/",
     "height": 122
    },
    "colab_type": "code",
    "id": "NQNVaYsaazfP",
    "outputId": "b4955ae3-6e7b-4d84-f659-d9326b8a1795",
    "scrolled": true
   },
   "outputs": [
    {
     "name": "stdout",
     "output_type": "stream",
     "text": [
      "Go to this URL in a browser: https://accounts.google.com/o/oauth2/auth?client_id=947318989803-6bn6qk8qdgf4n4g3pfee6491hc0brc4i.apps.googleusercontent.com&redirect_uri=urn%3aietf%3awg%3aoauth%3a2.0%3aoob&response_type=code&scope=email%20https%3a%2f%2fwww.googleapis.com%2fauth%2fdocs.test%20https%3a%2f%2fwww.googleapis.com%2fauth%2fdrive%20https%3a%2f%2fwww.googleapis.com%2fauth%2fdrive.photos.readonly%20https%3a%2f%2fwww.googleapis.com%2fauth%2fpeopleapi.readonly\n",
      "\n",
      "Enter your authorization code:\n",
      "··········\n",
      "Mounted at /content/drive\n"
     ]
    }
   ],
   "source": [
    "from google.colab import drive\n",
    "drive.mount('/content/drive')"
   ]
  },
  {
   "cell_type": "code",
   "execution_count": 2,
   "metadata": {
    "colab": {
     "base_uri": "https://localhost:8080/",
     "height": 377
    },
    "colab_type": "code",
    "id": "I2DHBZzwbRQI",
    "outputId": "cd5f79f7-67c4-4639-a299-5fd5668ca478"
   },
   "outputs": [
    {
     "name": "stdout",
     "output_type": "stream",
     "text": [
      "Thu Jul 30 05:23:34 2020       \n",
      "+-----------------------------------------------------------------------------+\n",
      "| NVIDIA-SMI 450.51.05    Driver Version: 418.67       CUDA Version: 10.1     |\n",
      "|-------------------------------+----------------------+----------------------+\n",
      "| GPU  Name        Persistence-M| Bus-Id        Disp.A | Volatile Uncorr. ECC |\n",
      "| Fan  Temp  Perf  Pwr:Usage/Cap|         Memory-Usage | GPU-Util  Compute M. |\n",
      "|                               |                      |               MIG M. |\n",
      "|===============================+======================+======================|\n",
      "|   0  Tesla P100-PCIE...  Off  | 00000000:00:04.0 Off |                    0 |\n",
      "| N/A   44C    P0    28W / 250W |      0MiB / 16280MiB |      0%      Default |\n",
      "|                               |                      |                 ERR! |\n",
      "+-------------------------------+----------------------+----------------------+\n",
      "                                                                               \n",
      "+-----------------------------------------------------------------------------+\n",
      "| Processes:                                                                  |\n",
      "|  GPU   GI   CI        PID   Type   Process name                  GPU Memory |\n",
      "|        ID   ID                                                   Usage      |\n",
      "|=============================================================================|\n",
      "|  No running processes found                                                 |\n",
      "+-----------------------------------------------------------------------------+\n"
     ]
    }
   ],
   "source": [
    "!nvidia-smi"
   ]
  },
  {
   "cell_type": "code",
   "execution_count": 3,
   "metadata": {
    "colab": {
     "base_uri": "https://localhost:8080/",
     "height": 615
    },
    "colab_type": "code",
    "id": "qouy81a_a6vB",
    "outputId": "a6888196-9a0d-4964-cad0-0a456b6f3fbf"
   },
   "outputs": [
    {
     "name": "stdout",
     "output_type": "stream",
     "text": [
      "Collecting transformers\n",
      "\u001b[?25l  Downloading https://files.pythonhosted.org/packages/27/3c/91ed8f5c4e7ef3227b4119200fc0ed4b4fd965b1f0172021c25701087825/transformers-3.0.2-py3-none-any.whl (769kB)\n",
      "\r",
      "\u001b[K     |▍                               | 10kB 7.7MB/s eta 0:00:01\r",
      "\u001b[K     |▉                               | 20kB 1.7MB/s eta 0:00:01\r",
      "\u001b[K     |█▎                              | 30kB 2.2MB/s eta 0:00:01\r",
      "\u001b[K     |█▊                              | 40kB 2.4MB/s eta 0:00:01\r",
      "\u001b[K     |██▏                             | 51kB 2.0MB/s eta 0:00:01\r",
      "\u001b[K     |██▋                             | 61kB 2.2MB/s eta 0:00:01\r",
      "\u001b[K     |███                             | 71kB 2.5MB/s eta 0:00:01\r",
      "\u001b[K     |███▍                            | 81kB 2.6MB/s eta 0:00:01\r",
      "\u001b[K     |███▉                            | 92kB 2.9MB/s eta 0:00:01\r",
      "\u001b[K     |████▎                           | 102kB 2.7MB/s eta 0:00:01\r",
      "\u001b[K     |████▊                           | 112kB 2.7MB/s eta 0:00:01\r",
      "\u001b[K     |█████▏                          | 122kB 2.7MB/s eta 0:00:01\r",
      "\u001b[K     |█████▌                          | 133kB 2.7MB/s eta 0:00:01\r",
      "\u001b[K     |██████                          | 143kB 2.7MB/s eta 0:00:01\r",
      "\u001b[K     |██████▍                         | 153kB 2.7MB/s eta 0:00:01\r",
      "\u001b[K     |██████▉                         | 163kB 2.7MB/s eta 0:00:01\r",
      "\u001b[K     |███████▎                        | 174kB 2.7MB/s eta 0:00:01\r",
      "\u001b[K     |███████▊                        | 184kB 2.7MB/s eta 0:00:01\r",
      "\u001b[K     |████████                        | 194kB 2.7MB/s eta 0:00:01\r",
      "\u001b[K     |████████▌                       | 204kB 2.7MB/s eta 0:00:01\r",
      "\u001b[K     |█████████                       | 215kB 2.7MB/s eta 0:00:01\r",
      "\u001b[K     |█████████▍                      | 225kB 2.7MB/s eta 0:00:01\r",
      "\u001b[K     |█████████▉                      | 235kB 2.7MB/s eta 0:00:01\r",
      "\u001b[K     |██████████▎                     | 245kB 2.7MB/s eta 0:00:01\r",
      "\u001b[K     |██████████▋                     | 256kB 2.7MB/s eta 0:00:01\r",
      "\u001b[K     |███████████                     | 266kB 2.7MB/s eta 0:00:01\r",
      "\u001b[K     |███████████▌                    | 276kB 2.7MB/s eta 0:00:01\r",
      "\u001b[K     |████████████                    | 286kB 2.7MB/s eta 0:00:01\r",
      "\u001b[K     |████████████▍                   | 296kB 2.7MB/s eta 0:00:01\r",
      "\u001b[K     |████████████▉                   | 307kB 2.7MB/s eta 0:00:01\r",
      "\u001b[K     |█████████████▏                  | 317kB 2.7MB/s eta 0:00:01\r",
      "\u001b[K     |█████████████▋                  | 327kB 2.7MB/s eta 0:00:01\r",
      "\u001b[K     |██████████████                  | 337kB 2.7MB/s eta 0:00:01\r",
      "\u001b[K     |██████████████▌                 | 348kB 2.7MB/s eta 0:00:01\r",
      "\u001b[K     |███████████████                 | 358kB 2.7MB/s eta 0:00:01\r",
      "\u001b[K     |███████████████▍                | 368kB 2.7MB/s eta 0:00:01\r",
      "\u001b[K     |███████████████▊                | 378kB 2.7MB/s eta 0:00:01\r",
      "\u001b[K     |████████████████▏               | 389kB 2.7MB/s eta 0:00:01\r",
      "\u001b[K     |████████████████▋               | 399kB 2.7MB/s eta 0:00:01\r",
      "\u001b[K     |█████████████████               | 409kB 2.7MB/s eta 0:00:01\r",
      "\u001b[K     |█████████████████▌              | 419kB 2.7MB/s eta 0:00:01\r",
      "\u001b[K     |██████████████████              | 430kB 2.7MB/s eta 0:00:01\r",
      "\u001b[K     |██████████████████▎             | 440kB 2.7MB/s eta 0:00:01\r",
      "\u001b[K     |██████████████████▊             | 450kB 2.7MB/s eta 0:00:01\r",
      "\u001b[K     |███████████████████▏            | 460kB 2.7MB/s eta 0:00:01\r",
      "\u001b[K     |███████████████████▋            | 471kB 2.7MB/s eta 0:00:01\r",
      "\u001b[K     |████████████████████            | 481kB 2.7MB/s eta 0:00:01\r",
      "\u001b[K     |████████████████████▌           | 491kB 2.7MB/s eta 0:00:01\r",
      "\u001b[K     |████████████████████▉           | 501kB 2.7MB/s eta 0:00:01\r",
      "\u001b[K     |█████████████████████▎          | 512kB 2.7MB/s eta 0:00:01\r",
      "\u001b[K     |█████████████████████▊          | 522kB 2.7MB/s eta 0:00:01\r",
      "\u001b[K     |██████████████████████▏         | 532kB 2.7MB/s eta 0:00:01\r",
      "\u001b[K     |██████████████████████▋         | 542kB 2.7MB/s eta 0:00:01\r",
      "\u001b[K     |███████████████████████         | 552kB 2.7MB/s eta 0:00:01\r",
      "\u001b[K     |███████████████████████▍        | 563kB 2.7MB/s eta 0:00:01\r",
      "\u001b[K     |███████████████████████▉        | 573kB 2.7MB/s eta 0:00:01\r",
      "\u001b[K     |████████████████████████▎       | 583kB 2.7MB/s eta 0:00:01\r",
      "\u001b[K     |████████████████████████▊       | 593kB 2.7MB/s eta 0:00:01\r",
      "\u001b[K     |█████████████████████████▏      | 604kB 2.7MB/s eta 0:00:01\r",
      "\u001b[K     |█████████████████████████▋      | 614kB 2.7MB/s eta 0:00:01\r",
      "\u001b[K     |██████████████████████████      | 624kB 2.7MB/s eta 0:00:01\r",
      "\u001b[K     |██████████████████████████▍     | 634kB 2.7MB/s eta 0:00:01\r",
      "\u001b[K     |██████████████████████████▉     | 645kB 2.7MB/s eta 0:00:01\r",
      "\u001b[K     |███████████████████████████▎    | 655kB 2.7MB/s eta 0:00:01\r",
      "\u001b[K     |███████████████████████████▊    | 665kB 2.7MB/s eta 0:00:01\r",
      "\u001b[K     |████████████████████████████▏   | 675kB 2.7MB/s eta 0:00:01\r",
      "\u001b[K     |████████████████████████████▌   | 686kB 2.7MB/s eta 0:00:01\r",
      "\u001b[K     |█████████████████████████████   | 696kB 2.7MB/s eta 0:00:01\r",
      "\u001b[K     |█████████████████████████████▍  | 706kB 2.7MB/s eta 0:00:01\r",
      "\u001b[K     |█████████████████████████████▉  | 716kB 2.7MB/s eta 0:00:01\r",
      "\u001b[K     |██████████████████████████████▎ | 727kB 2.7MB/s eta 0:00:01\r",
      "\u001b[K     |██████████████████████████████▊ | 737kB 2.7MB/s eta 0:00:01\r",
      "\u001b[K     |███████████████████████████████ | 747kB 2.7MB/s eta 0:00:01\r",
      "\u001b[K     |███████████████████████████████▌| 757kB 2.7MB/s eta 0:00:01\r",
      "\u001b[K     |████████████████████████████████| 768kB 2.7MB/s eta 0:00:01\r",
      "\u001b[K     |████████████████████████████████| 778kB 2.7MB/s \n",
      "\u001b[?25hRequirement already satisfied: packaging in /usr/local/lib/python3.6/dist-packages (from transformers) (20.4)\n",
      "Collecting sentencepiece!=0.1.92\n",
      "\u001b[?25l  Downloading https://files.pythonhosted.org/packages/d4/a4/d0a884c4300004a78cca907a6ff9a5e9fe4f090f5d95ab341c53d28cbc58/sentencepiece-0.1.91-cp36-cp36m-manylinux1_x86_64.whl (1.1MB)\n",
      "\u001b[K     |████████████████████████████████| 1.1MB 13.2MB/s \n",
      "\u001b[?25hRequirement already satisfied: tqdm>=4.27 in /usr/local/lib/python3.6/dist-packages (from transformers) (4.41.1)\n",
      "Collecting tokenizers==0.8.1.rc1\n",
      "\u001b[?25l  Downloading https://files.pythonhosted.org/packages/40/d0/30d5f8d221a0ed981a186c8eb986ce1c94e3a6e87f994eae9f4aa5250217/tokenizers-0.8.1rc1-cp36-cp36m-manylinux1_x86_64.whl (3.0MB)\n",
      "\u001b[K     |████████████████████████████████| 3.0MB 19.5MB/s \n",
      "\u001b[?25hRequirement already satisfied: filelock in /usr/local/lib/python3.6/dist-packages (from transformers) (3.0.12)\n",
      "Requirement already satisfied: numpy in /usr/local/lib/python3.6/dist-packages (from transformers) (1.18.5)\n",
      "Collecting sacremoses\n",
      "\u001b[?25l  Downloading https://files.pythonhosted.org/packages/7d/34/09d19aff26edcc8eb2a01bed8e98f13a1537005d31e95233fd48216eed10/sacremoses-0.0.43.tar.gz (883kB)\n",
      "\u001b[K     |████████████████████████████████| 890kB 33.5MB/s \n",
      "\u001b[?25hRequirement already satisfied: dataclasses; python_version < \"3.7\" in /usr/local/lib/python3.6/dist-packages (from transformers) (0.7)\n",
      "Requirement already satisfied: regex!=2019.12.17 in /usr/local/lib/python3.6/dist-packages (from transformers) (2019.12.20)\n",
      "Requirement already satisfied: requests in /usr/local/lib/python3.6/dist-packages (from transformers) (2.23.0)\n",
      "Requirement already satisfied: pyparsing>=2.0.2 in /usr/local/lib/python3.6/dist-packages (from packaging->transformers) (2.4.7)\n",
      "Requirement already satisfied: six in /usr/local/lib/python3.6/dist-packages (from packaging->transformers) (1.15.0)\n",
      "Requirement already satisfied: click in /usr/local/lib/python3.6/dist-packages (from sacremoses->transformers) (7.1.2)\n",
      "Requirement already satisfied: joblib in /usr/local/lib/python3.6/dist-packages (from sacremoses->transformers) (0.16.0)\n",
      "Requirement already satisfied: urllib3!=1.25.0,!=1.25.1,<1.26,>=1.21.1 in /usr/local/lib/python3.6/dist-packages (from requests->transformers) (1.24.3)\n",
      "Requirement already satisfied: idna<3,>=2.5 in /usr/local/lib/python3.6/dist-packages (from requests->transformers) (2.10)\n",
      "Requirement already satisfied: chardet<4,>=3.0.2 in /usr/local/lib/python3.6/dist-packages (from requests->transformers) (3.0.4)\n",
      "Requirement already satisfied: certifi>=2017.4.17 in /usr/local/lib/python3.6/dist-packages (from requests->transformers) (2020.6.20)\n",
      "Building wheels for collected packages: sacremoses\n",
      "  Building wheel for sacremoses (setup.py) ... \u001b[?25l\u001b[?25hdone\n",
      "  Created wheel for sacremoses: filename=sacremoses-0.0.43-cp36-none-any.whl size=893260 sha256=b75922e5da8e4ecc2ef11e8b2f519208bf2897efb8d584854f3d15043e7b60e8\n",
      "  Stored in directory: /root/.cache/pip/wheels/29/3c/fd/7ce5c3f0666dab31a50123635e6fb5e19ceb42ce38d4e58f45\n",
      "Successfully built sacremoses\n",
      "Installing collected packages: sentencepiece, tokenizers, sacremoses, transformers\n",
      "Successfully installed sacremoses-0.0.43 sentencepiece-0.1.91 tokenizers-0.8.1rc1 transformers-3.0.2\n"
     ]
    }
   ],
   "source": [
    "!pip install transformers"
   ]
  },
  {
   "cell_type": "code",
   "execution_count": 4,
   "metadata": {
    "colab": {
     "base_uri": "https://localhost:8080/",
     "height": 1000
    },
    "colab_type": "code",
    "id": "fGYQ5nnYbx0I",
    "outputId": "85735fbe-3ac7-41a5-80c2-cb6409d319fb"
   },
   "outputs": [
    {
     "name": "stdout",
     "output_type": "stream",
     "text": [
      "\r",
      "0% [Working]\r",
      "            \r",
      "Ign:1 https://developer.download.nvidia.com/compute/cuda/repos/ubuntu1804/x86_64  InRelease\n",
      "\r",
      "0% [Connecting to archive.ubuntu.com (91.189.88.152)] [Waiting for headers] [Co\r",
      "                                                                               \r",
      "Get:2 http://security.ubuntu.com/ubuntu bionic-security InRelease [88.7 kB]\n",
      "\r",
      "0% [Connecting to archive.ubuntu.com (91.189.88.152)] [2 InRelease 2,586 B/88.7\r",
      "                                                                               \r",
      "Ign:3 https://developer.download.nvidia.com/compute/machine-learning/repos/ubuntu1804/x86_64  InRelease\n",
      "\r",
      "0% [Connecting to archive.ubuntu.com (91.189.88.152)] [2 InRelease 5,482 B/88.7\r",
      "                                                                               \r",
      "Get:4 https://developer.download.nvidia.com/compute/cuda/repos/ubuntu1804/x86_64  Release [697 B]\n",
      "\r",
      "0% [Waiting for headers] [2 InRelease 8,378 B/88.7 kB 9%] [Connecting to cloud.\r",
      "0% [Waiting for headers] [2 InRelease 8,378 B/88.7 kB 9%] [Connecting to cloud.\r",
      "                                                                               \r",
      "Get:5 https://developer.download.nvidia.com/compute/machine-learning/repos/ubuntu1804/x86_64  Release [564 B]\n",
      "\r",
      "0% [Waiting for headers] [2 InRelease 11.3 kB/88.7 kB 13%] [Connecting to cloud\r",
      "0% [Waiting for headers] [2 InRelease 11.3 kB/88.7 kB 13%] [Connecting to cloud\r",
      "                                                                               \r",
      "Get:6 https://developer.download.nvidia.com/compute/cuda/repos/ubuntu1804/x86_64  Release.gpg [836 B]\n",
      "Get:7 http://ppa.launchpad.net/graphics-drivers/ppa/ubuntu bionic InRelease [21.3 kB]\n",
      "Get:8 https://developer.download.nvidia.com/compute/machine-learning/repos/ubuntu1804/x86_64  Release.gpg [833 B]\n",
      "Hit:9 http://archive.ubuntu.com/ubuntu bionic InRelease\n",
      "Get:10 http://archive.ubuntu.com/ubuntu bionic-updates InRelease [88.7 kB]\n",
      "Ign:11 https://developer.download.nvidia.com/compute/cuda/repos/ubuntu1804/x86_64  Packages\n",
      "Get:12 https://developer.download.nvidia.com/compute/machine-learning/repos/ubuntu1804/x86_64  Packages [43.7 kB]\n",
      "Get:11 https://developer.download.nvidia.com/compute/cuda/repos/ubuntu1804/x86_64  Packages [232 kB]\n",
      "Get:13 http://ppa.launchpad.net/marutter/c2d4u3.5/ubuntu bionic InRelease [15.4 kB]\n",
      "Get:14 http://security.ubuntu.com/ubuntu bionic-security/multiverse amd64 Packages [9,555 B]\n",
      "Get:15 https://cloud.r-project.org/bin/linux/ubuntu bionic-cran35/ InRelease [3,626 B]\n",
      "Get:16 http://archive.ubuntu.com/ubuntu bionic-backports InRelease [74.6 kB]\n",
      "Get:17 http://ppa.launchpad.net/graphics-drivers/ppa/ubuntu bionic/main amd64 Packages [43.3 kB]\n",
      "Get:18 http://security.ubuntu.com/ubuntu bionic-security/universe amd64 Packages [880 kB]\n",
      "Get:19 http://archive.ubuntu.com/ubuntu bionic-updates/universe amd64 Packages [1,413 kB]\n",
      "Get:20 http://security.ubuntu.com/ubuntu bionic-security/main amd64 Packages [1,033 kB]\n",
      "Get:21 http://ppa.launchpad.net/marutter/c2d4u3.5/ubuntu bionic/main Sources [1,851 kB]\n",
      "Get:22 http://security.ubuntu.com/ubuntu bionic-security/restricted amd64 Packages [100 kB]\n",
      "Get:23 http://archive.ubuntu.com/ubuntu bionic-updates/main amd64 Packages [1,334 kB]\n",
      "Get:24 http://archive.ubuntu.com/ubuntu bionic-updates/restricted amd64 Packages [114 kB]\n",
      "Get:25 http://archive.ubuntu.com/ubuntu bionic-updates/multiverse amd64 Packages [13.9 kB]\n",
      "Get:26 http://archive.ubuntu.com/ubuntu bionic-backports/universe amd64 Packages [8,432 B]\n",
      "Get:27 http://ppa.launchpad.net/marutter/c2d4u3.5/ubuntu bionic/main amd64 Packages [893 kB]\n",
      "Fetched 8,264 kB in 6s (1,334 kB/s)\n",
      "Reading package lists... Done\n",
      "Reading package lists... Done\n",
      "Building dependency tree       \n",
      "Reading state information... Done\n",
      "g++ is already the newest version (4:7.4.0-1ubuntu2.3).\n",
      "g++ set to manually installed.\n",
      "The following package was automatically installed and is no longer required:\n",
      "  libnvidia-common-440\n",
      "Use 'apt autoremove' to remove it.\n",
      "The following additional packages will be installed:\n",
      "  fonts-dejavu-core fonts-dejavu-extra libatk-wrapper-java\n",
      "  libatk-wrapper-java-jni libxxf86dga1 openjdk-8-jdk-headless openjdk-8-jre\n",
      "  openjdk-8-jre-headless x11-utils\n",
      "Suggested packages:\n",
      "  openjdk-8-demo openjdk-8-source visualvm icedtea-8-plugin libnss-mdns\n",
      "  fonts-ipafont-gothic fonts-ipafont-mincho fonts-wqy-microhei\n",
      "  fonts-wqy-zenhei fonts-indic mesa-utils\n",
      "The following NEW packages will be installed:\n",
      "  fonts-dejavu-core fonts-dejavu-extra libatk-wrapper-java\n",
      "  libatk-wrapper-java-jni libxxf86dga1 openjdk-8-jdk openjdk-8-jdk-headless\n",
      "  openjdk-8-jre openjdk-8-jre-headless x11-utils\n",
      "0 upgraded, 10 newly installed, 0 to remove and 114 not upgraded.\n",
      "Need to get 40.7 MB of archives.\n",
      "After this operation, 153 MB of additional disk space will be used.\n",
      "Get:1 http://archive.ubuntu.com/ubuntu bionic/main amd64 libxxf86dga1 amd64 2:1.1.4-1 [13.7 kB]\n",
      "Get:2 http://archive.ubuntu.com/ubuntu bionic/main amd64 fonts-dejavu-core all 2.37-1 [1,041 kB]\n",
      "Get:3 http://archive.ubuntu.com/ubuntu bionic/main amd64 fonts-dejavu-extra all 2.37-1 [1,953 kB]\n",
      "Get:4 http://archive.ubuntu.com/ubuntu bionic/main amd64 x11-utils amd64 7.7+3build1 [196 kB]\n",
      "Get:5 http://archive.ubuntu.com/ubuntu bionic/main amd64 libatk-wrapper-java all 0.33.3-20ubuntu0.1 [34.7 kB]\n",
      "Get:6 http://archive.ubuntu.com/ubuntu bionic/main amd64 libatk-wrapper-java-jni amd64 0.33.3-20ubuntu0.1 [28.3 kB]\n",
      "Get:7 http://archive.ubuntu.com/ubuntu bionic-updates/universe amd64 openjdk-8-jre-headless amd64 8u252-b09-1~18.04 [27.5 MB]\n",
      "Get:8 http://archive.ubuntu.com/ubuntu bionic-updates/universe amd64 openjdk-8-jre amd64 8u252-b09-1~18.04 [69.8 kB]\n",
      "Get:9 http://archive.ubuntu.com/ubuntu bionic-updates/universe amd64 openjdk-8-jdk-headless amd64 8u252-b09-1~18.04 [8,250 kB]\n",
      "Get:10 http://archive.ubuntu.com/ubuntu bionic-updates/universe amd64 openjdk-8-jdk amd64 8u252-b09-1~18.04 [1,622 kB]\n",
      "Fetched 40.7 MB in 6s (7,348 kB/s)\n",
      "Selecting previously unselected package libxxf86dga1:amd64.\n",
      "(Reading database ... 144465 files and directories currently installed.)\n",
      "Preparing to unpack .../0-libxxf86dga1_2%3a1.1.4-1_amd64.deb ...\n",
      "Unpacking libxxf86dga1:amd64 (2:1.1.4-1) ...\n",
      "Selecting previously unselected package fonts-dejavu-core.\n",
      "Preparing to unpack .../1-fonts-dejavu-core_2.37-1_all.deb ...\n",
      "Unpacking fonts-dejavu-core (2.37-1) ...\n",
      "Selecting previously unselected package fonts-dejavu-extra.\n",
      "Preparing to unpack .../2-fonts-dejavu-extra_2.37-1_all.deb ...\n",
      "Unpacking fonts-dejavu-extra (2.37-1) ...\n",
      "Selecting previously unselected package x11-utils.\n",
      "Preparing to unpack .../3-x11-utils_7.7+3build1_amd64.deb ...\n",
      "Unpacking x11-utils (7.7+3build1) ...\n",
      "Selecting previously unselected package libatk-wrapper-java.\n",
      "Preparing to unpack .../4-libatk-wrapper-java_0.33.3-20ubuntu0.1_all.deb ...\n",
      "Unpacking libatk-wrapper-java (0.33.3-20ubuntu0.1) ...\n",
      "Selecting previously unselected package libatk-wrapper-java-jni:amd64.\n",
      "Preparing to unpack .../5-libatk-wrapper-java-jni_0.33.3-20ubuntu0.1_amd64.deb ...\n",
      "Unpacking libatk-wrapper-java-jni:amd64 (0.33.3-20ubuntu0.1) ...\n",
      "Selecting previously unselected package openjdk-8-jre-headless:amd64.\n",
      "Preparing to unpack .../6-openjdk-8-jre-headless_8u252-b09-1~18.04_amd64.deb ...\n",
      "Unpacking openjdk-8-jre-headless:amd64 (8u252-b09-1~18.04) ...\n",
      "Selecting previously unselected package openjdk-8-jre:amd64.\n",
      "Preparing to unpack .../7-openjdk-8-jre_8u252-b09-1~18.04_amd64.deb ...\n",
      "Unpacking openjdk-8-jre:amd64 (8u252-b09-1~18.04) ...\n",
      "Selecting previously unselected package openjdk-8-jdk-headless:amd64.\n",
      "Preparing to unpack .../8-openjdk-8-jdk-headless_8u252-b09-1~18.04_amd64.deb ...\n",
      "Unpacking openjdk-8-jdk-headless:amd64 (8u252-b09-1~18.04) ...\n",
      "Selecting previously unselected package openjdk-8-jdk:amd64.\n",
      "Preparing to unpack .../9-openjdk-8-jdk_8u252-b09-1~18.04_amd64.deb ...\n",
      "Unpacking openjdk-8-jdk:amd64 (8u252-b09-1~18.04) ...\n",
      "Setting up fonts-dejavu-core (2.37-1) ...\n",
      "Setting up libxxf86dga1:amd64 (2:1.1.4-1) ...\n",
      "Setting up fonts-dejavu-extra (2.37-1) ...\n",
      "Setting up openjdk-8-jre-headless:amd64 (8u252-b09-1~18.04) ...\n",
      "update-alternatives: using /usr/lib/jvm/java-8-openjdk-amd64/jre/bin/orbd to provide /usr/bin/orbd (orbd) in auto mode\n",
      "update-alternatives: using /usr/lib/jvm/java-8-openjdk-amd64/jre/bin/servertool to provide /usr/bin/servertool (servertool) in auto mode\n",
      "update-alternatives: using /usr/lib/jvm/java-8-openjdk-amd64/jre/bin/tnameserv to provide /usr/bin/tnameserv (tnameserv) in auto mode\n",
      "Setting up openjdk-8-jdk-headless:amd64 (8u252-b09-1~18.04) ...\n",
      "update-alternatives: using /usr/lib/jvm/java-8-openjdk-amd64/bin/idlj to provide /usr/bin/idlj (idlj) in auto mode\n",
      "update-alternatives: using /usr/lib/jvm/java-8-openjdk-amd64/bin/wsimport to provide /usr/bin/wsimport (wsimport) in auto mode\n",
      "update-alternatives: using /usr/lib/jvm/java-8-openjdk-amd64/bin/jsadebugd to provide /usr/bin/jsadebugd (jsadebugd) in auto mode\n",
      "update-alternatives: using /usr/lib/jvm/java-8-openjdk-amd64/bin/native2ascii to provide /usr/bin/native2ascii (native2ascii) in auto mode\n",
      "update-alternatives: using /usr/lib/jvm/java-8-openjdk-amd64/bin/javah to provide /usr/bin/javah (javah) in auto mode\n",
      "update-alternatives: using /usr/lib/jvm/java-8-openjdk-amd64/bin/clhsdb to provide /usr/bin/clhsdb (clhsdb) in auto mode\n",
      "update-alternatives: using /usr/lib/jvm/java-8-openjdk-amd64/bin/extcheck to provide /usr/bin/extcheck (extcheck) in auto mode\n",
      "update-alternatives: using /usr/lib/jvm/java-8-openjdk-amd64/bin/hsdb to provide /usr/bin/hsdb (hsdb) in auto mode\n",
      "update-alternatives: using /usr/lib/jvm/java-8-openjdk-amd64/bin/schemagen to provide /usr/bin/schemagen (schemagen) in auto mode\n",
      "update-alternatives: using /usr/lib/jvm/java-8-openjdk-amd64/bin/xjc to provide /usr/bin/xjc (xjc) in auto mode\n",
      "update-alternatives: using /usr/lib/jvm/java-8-openjdk-amd64/bin/jhat to provide /usr/bin/jhat (jhat) in auto mode\n",
      "update-alternatives: using /usr/lib/jvm/java-8-openjdk-amd64/bin/wsgen to provide /usr/bin/wsgen (wsgen) in auto mode\n",
      "Setting up x11-utils (7.7+3build1) ...\n",
      "Setting up libatk-wrapper-java (0.33.3-20ubuntu0.1) ...\n",
      "Setting up libatk-wrapper-java-jni:amd64 (0.33.3-20ubuntu0.1) ...\n",
      "Setting up openjdk-8-jre:amd64 (8u252-b09-1~18.04) ...\n",
      "update-alternatives: using /usr/lib/jvm/java-8-openjdk-amd64/jre/bin/policytool to provide /usr/bin/policytool (policytool) in auto mode\n",
      "Setting up openjdk-8-jdk:amd64 (8u252-b09-1~18.04) ...\n",
      "update-alternatives: using /usr/lib/jvm/java-8-openjdk-amd64/bin/appletviewer to provide /usr/bin/appletviewer (appletviewer) in auto mode\n",
      "update-alternatives: using /usr/lib/jvm/java-8-openjdk-amd64/bin/jconsole to provide /usr/bin/jconsole (jconsole) in auto mode\n",
      "Processing triggers for man-db (2.8.3-2ubuntu0.1) ...\n",
      "Processing triggers for hicolor-icon-theme (0.17-2) ...\n",
      "Processing triggers for fontconfig (2.12.6-0ubuntu2) ...\n",
      "Processing triggers for mime-support (3.60ubuntu1) ...\n",
      "Processing triggers for libc-bin (2.27-3ubuntu1) ...\n",
      "/sbin/ldconfig.real: /usr/local/lib/python3.6/dist-packages/ideep4py/lib/libmkldnn.so.0 is not a symbolic link\n",
      "\n",
      "Collecting konlpy\n",
      "\u001b[?25l  Downloading https://files.pythonhosted.org/packages/85/0e/f385566fec837c0b83f216b2da65db9997b35dd675e107752005b7d392b1/konlpy-0.5.2-py2.py3-none-any.whl (19.4MB)\n",
      "\u001b[K     |████████████████████████████████| 19.4MB 44.1MB/s \n",
      "\u001b[?25hRequirement already satisfied: lxml>=4.1.0 in /usr/local/lib/python3.6/dist-packages (from konlpy) (4.2.6)\n",
      "Collecting colorama\n",
      "  Downloading https://files.pythonhosted.org/packages/c9/dc/45cdef1b4d119eb96316b3117e6d5708a08029992b2fee2c143c7a0a5cc5/colorama-0.4.3-py2.py3-none-any.whl\n",
      "Collecting JPype1>=0.7.0\n",
      "\u001b[?25l  Downloading https://files.pythonhosted.org/packages/50/49/725710351d78d26c65337b1e3b322d7b27b34b704535ab56afc0d9ab0ffd/JPype1-1.0.1-cp36-cp36m-manylinux2010_x86_64.whl (3.8MB)\n",
      "\u001b[K     |████████████████████████████████| 3.8MB 49.4MB/s \n",
      "\u001b[?25hRequirement already satisfied: numpy>=1.6 in /usr/local/lib/python3.6/dist-packages (from konlpy) (1.18.5)\n",
      "Collecting tweepy>=3.7.0\n",
      "  Downloading https://files.pythonhosted.org/packages/bb/7c/99d51f80f3b77b107ebae2634108717362c059a41384a1810d13e2429a81/tweepy-3.9.0-py2.py3-none-any.whl\n",
      "Collecting beautifulsoup4==4.6.0\n",
      "\u001b[?25l  Downloading https://files.pythonhosted.org/packages/9e/d4/10f46e5cfac773e22707237bfcd51bbffeaf0a576b0a847ec7ab15bd7ace/beautifulsoup4-4.6.0-py3-none-any.whl (86kB)\n",
      "\u001b[K     |████████████████████████████████| 92kB 10.4MB/s \n",
      "\u001b[?25hRequirement already satisfied: typing-extensions; python_version < \"3.8\" in /usr/local/lib/python3.6/dist-packages (from JPype1>=0.7.0->konlpy) (3.7.4.2)\n",
      "Requirement already satisfied: requests-oauthlib>=0.7.0 in /usr/local/lib/python3.6/dist-packages (from tweepy>=3.7.0->konlpy) (1.3.0)\n",
      "Requirement already satisfied: six>=1.10.0 in /usr/local/lib/python3.6/dist-packages (from tweepy>=3.7.0->konlpy) (1.15.0)\n",
      "Requirement already satisfied: requests[socks]>=2.11.1 in /usr/local/lib/python3.6/dist-packages (from tweepy>=3.7.0->konlpy) (2.23.0)\n",
      "Requirement already satisfied: oauthlib>=3.0.0 in /usr/local/lib/python3.6/dist-packages (from requests-oauthlib>=0.7.0->tweepy>=3.7.0->konlpy) (3.1.0)\n",
      "Requirement already satisfied: idna<3,>=2.5 in /usr/local/lib/python3.6/dist-packages (from requests[socks]>=2.11.1->tweepy>=3.7.0->konlpy) (2.10)\n",
      "Requirement already satisfied: chardet<4,>=3.0.2 in /usr/local/lib/python3.6/dist-packages (from requests[socks]>=2.11.1->tweepy>=3.7.0->konlpy) (3.0.4)\n",
      "Requirement already satisfied: certifi>=2017.4.17 in /usr/local/lib/python3.6/dist-packages (from requests[socks]>=2.11.1->tweepy>=3.7.0->konlpy) (2020.6.20)\n",
      "Requirement already satisfied: urllib3!=1.25.0,!=1.25.1,<1.26,>=1.21.1 in /usr/local/lib/python3.6/dist-packages (from requests[socks]>=2.11.1->tweepy>=3.7.0->konlpy) (1.24.3)\n",
      "Requirement already satisfied: PySocks!=1.5.7,>=1.5.6; extra == \"socks\" in /usr/local/lib/python3.6/dist-packages (from requests[socks]>=2.11.1->tweepy>=3.7.0->konlpy) (1.7.1)\n",
      "Installing collected packages: colorama, JPype1, tweepy, beautifulsoup4, konlpy\n",
      "  Found existing installation: tweepy 3.6.0\n",
      "    Uninstalling tweepy-3.6.0:\n",
      "      Successfully uninstalled tweepy-3.6.0\n",
      "  Found existing installation: beautifulsoup4 4.6.3\n",
      "    Uninstalling beautifulsoup4-4.6.3:\n",
      "      Successfully uninstalled beautifulsoup4-4.6.3\n",
      "Successfully installed JPype1-1.0.1 beautifulsoup4-4.6.0 colorama-0.4.3 konlpy-0.5.2 tweepy-3.9.0\n"
     ]
    }
   ],
   "source": [
    "!apt-get update\n",
    "!apt-get install g++ openjdk-8-jdk \n",
    "!pip3 install konlpy"
   ]
  },
  {
   "cell_type": "code",
   "execution_count": 5,
   "metadata": {
    "colab": {
     "base_uri": "https://localhost:8080/",
     "height": 34
    },
    "colab_type": "code",
    "id": "BAYgc4Qda1d7",
    "outputId": "9dbfd36e-d009-45bc-bf29-cd1985f57f79"
   },
   "outputs": [
    {
     "name": "stdout",
     "output_type": "stream",
     "text": [
      "/content/drive/Shared drives/BigDATA TEAM 10/OpenInformationExtraction\n"
     ]
    }
   ],
   "source": [
    "%cd /content/drive/Shared drives/BigDATA TEAM 10/OpenInformationExtraction"
   ]
  },
  {
   "cell_type": "code",
   "execution_count": 6,
   "metadata": {
    "colab": {
     "base_uri": "https://localhost:8080/",
     "height": 34
    },
    "colab_type": "code",
    "id": "Lu2y4Jx7a3If",
    "outputId": "0301014b-67b0-431c-f9eb-4c4fa5720c27"
   },
   "outputs": [
    {
     "name": "stdout",
     "output_type": "stream",
     "text": [
      "/content/drive/Shared drives/BigDATA TEAM 10/OpenInformationExtraction\n"
     ]
    }
   ],
   "source": [
    "!pwd"
   ]
  },
  {
   "cell_type": "code",
   "execution_count": 7,
   "metadata": {
    "colab": {
     "base_uri": "https://localhost:8080/",
     "height": 68
    },
    "colab_type": "code",
    "id": "Efp6Ttkia577",
    "outputId": "202c2b3f-e442-4007-e29d-d88bbe6b3d0d"
   },
   "outputs": [
    {
     "name": "stderr",
     "output_type": "stream",
     "text": [
      "Using TensorFlow backend.\n"
     ]
    },
    {
     "name": "stdout",
     "output_type": "stream",
     "text": [
      "\n",
      "###DEVICE: cuda\n"
     ]
    }
   ],
   "source": [
    "from frameBERT import frame_parser\n",
    "\n",
    "path=\"/content/drive/Shared drives/BigDATA TEAM 10/OpenInformationExtraction\"\n"
   ]
  },
  {
   "cell_type": "code",
   "execution_count": 11,
   "metadata": {
    "colab": {
     "base_uri": "https://localhost:8080/",
     "height": 309
    },
    "colab_type": "code",
    "id": "EWUIbASgbgDx",
    "outputId": "572d1891-3d78-4435-d51c-e89f6300b757"
   },
   "outputs": [
    {
     "name": "stdout",
     "output_type": "stream",
     "text": [
      "srl model: framenet\n",
      "language: ko\n",
      "version: 1.2\n",
      "using viterbi: False\n",
      "using masking: True\n",
      "pretrained BERT: bert-base-multilingual-cased\n",
      "using TGT special token: True\n",
      "used dictionary:\n",
      "\t /content/drive/Shared drives/BigDATA TEAM 10/OpenInformationExtraction/frameBERT/src/../koreanframenet/resource/info/kfn1.2_lu2idx.json\n",
      "\t /content/drive/Shared drives/BigDATA TEAM 10/OpenInformationExtraction/frameBERT/src/../koreanframenet/resource/info/kfn1.2_lufrmap.json\n",
      "\t /content/drive/Shared drives/BigDATA TEAM 10/OpenInformationExtraction/frameBERT/src/../koreanframenet/resource/info/mul_bio_frargmap.json\n",
      "...loaded model path: /content/drive/Shared drives/BigDATA TEAM 10/OpenInformationExtraction\n",
      "/content/drive/Shared drives/BigDATA TEAM 10/OpenInformationExtraction\n",
      "...model is loaded\n"
     ]
    },
    {
     "name": "stderr",
     "output_type": "stream",
     "text": [
      "/content/drive/Shared drives/BigDATA TEAM 10/OpenInformationExtraction/frameBERT/src/utils.py:279: UserWarning: Implicit dimension choice for softmax has been deprecated. Change the call to include dim=X as an argument.\n",
      "  pred_logits = sm(masked_logit).view(1,-1)\n"
     ]
    }
   ],
   "source": [
    "parser = frame_parser.FrameParser(model_path=path, language='ko')\n",
    "text = '보고서가 말하는 한국 기후변화의 실태는 심각하고 전망은 암담하다.'\n",
    "parsed = parser.parser(text, sent_id='1', result_format='all')"
   ]
  },
  {
   "cell_type": "markdown",
   "metadata": {
    "colab_type": "text",
    "id": "YW7IeQ95dzuo"
   },
   "source": [
    "\n",
    "\n",
    "```\n",
    "result_format = ['all','conll','graph','textae']\n",
    "```\n",
    "\n",
    "넷중에 하나로 사용 가능"
   ]
  },
  {
   "cell_type": "code",
   "execution_count": 27,
   "metadata": {
    "colab": {
     "base_uri": "https://localhost:8080/",
     "height": 122
    },
    "colab_type": "code",
    "id": "SY5HrXrVcLSm",
    "outputId": "0b94f13a-2962-4adc-83b5-285290998aa0"
   },
   "outputs": [
    {
     "name": "stderr",
     "output_type": "stream",
     "text": [
      "/content/drive/Shared drives/BigDATA TEAM 10/OpenInformationExtraction/frameBERT/src/utils.py:279: UserWarning: Implicit dimension choice for softmax has been deprecated. Change the call to include dim=X as an argument.\n",
      "  pred_logits = sm(masked_logit).view(1,-1)\n"
     ]
    },
    {
     "data": {
      "text/plain": [
       "[('frame#1-0:Statement', 'lu', '발표했다'),\n",
       " ('frame#1-0:Statement', 'fe:Speaker', '환경부와 기상청'),\n",
       " ('frame#1-0:Statement', 'fe:Time', '2020’을')]"
      ]
     },
     "execution_count": 27,
     "metadata": {
      "tags": []
     },
     "output_type": "execute_result"
    }
   ],
   "source": [
    "text2 = '환경부와 기상청이 28일 ‘한국 기후변화 평가보고서 2020’을 발표했다'\n",
    "parsed = parser.parser(text2, sent_id='1', result_format='graph')\n",
    "parsed"
   ]
  },
  {
   "cell_type": "code",
   "execution_count": 28,
   "metadata": {
    "colab": {
     "base_uri": "https://localhost:8080/",
     "height": 1000
    },
    "colab_type": "code",
    "id": "0DMsHnCwdF-u",
    "outputId": "1e541988-8c75-4a35-ca15-ed310d59a651"
   },
   "outputs": [
    {
     "name": "stderr",
     "output_type": "stream",
     "text": [
      "/content/drive/Shared drives/BigDATA TEAM 10/OpenInformationExtraction/frameBERT/src/utils.py:279: UserWarning: Implicit dimension choice for softmax has been deprecated. Change the call to include dim=X as an argument.\n",
      "  pred_logits = sm(masked_logit).view(1,-1)\n"
     ]
    },
    {
     "data": {
      "text/plain": [
       "[{'denotations': [{'id': 1,\n",
       "    'obj': 'Text',\n",
       "    'role': 'TARGET',\n",
       "    'span': {'begin': 0, 'end': 4},\n",
       "    'text': '보고서가',\n",
       "    'token_span': [0]}],\n",
       "  'frame': 'Text',\n",
       "  'lu': '보고서.n.Text',\n",
       "  'relations': [],\n",
       "  'text': '보고서가 말하는 한국 기후변화의 실태는 심각하고 전망은 암담하다.'},\n",
       " {'denotations': [{'id': 1,\n",
       "    'obj': 'Telling',\n",
       "    'role': 'TARGET',\n",
       "    'span': {'begin': 5, 'end': 8},\n",
       "    'text': '말하는',\n",
       "    'token_span': [1]},\n",
       "   {'id': 2,\n",
       "    'obj': 'Speaker',\n",
       "    'role': 'ARGUMENT',\n",
       "    'span': {'begin': 0, 'end': 4},\n",
       "    'text': '보고서가',\n",
       "    'token_span': [0]},\n",
       "   {'id': 3,\n",
       "    'obj': 'Message',\n",
       "    'role': 'ARGUMENT',\n",
       "    'span': {'begin': 9, 'end': 21},\n",
       "    'text': '한국 기후변화의 실태는',\n",
       "    'token_span': [2, 3, 4]}],\n",
       "  'frame': 'Telling',\n",
       "  'lu': '말하다.v.Telling',\n",
       "  'relations': [{'obj': 2, 'pred': 'arg', 'subj': 1},\n",
       "   {'obj': 3, 'pred': 'arg', 'subj': 1}],\n",
       "  'text': '보고서가 말하는 한국 기후변화의 실태는 심각하고 전망은 암담하다.'},\n",
       " {'denotations': [{'id': 1,\n",
       "    'obj': 'Weather',\n",
       "    'role': 'TARGET',\n",
       "    'span': {'begin': 12, 'end': 17},\n",
       "    'text': '기후변화의',\n",
       "    'token_span': [3]},\n",
       "   {'id': 2,\n",
       "    'obj': 'Place',\n",
       "    'role': 'ARGUMENT',\n",
       "    'span': {'begin': 9, 'end': 11},\n",
       "    'text': '한국',\n",
       "    'token_span': [2]}],\n",
       "  'frame': 'Weather',\n",
       "  'lu': '기후.n.Weather',\n",
       "  'relations': [{'obj': 2, 'pred': 'arg', 'subj': 1}],\n",
       "  'text': '보고서가 말하는 한국 기후변화의 실태는 심각하고 전망은 암담하다.'},\n",
       " {'denotations': [{'id': 1,\n",
       "    'obj': 'State_of_entity',\n",
       "    'role': 'TARGET',\n",
       "    'span': {'begin': 18, 'end': 21},\n",
       "    'text': '실태는',\n",
       "    'token_span': [4]},\n",
       "   {'id': 2,\n",
       "    'obj': 'Entity',\n",
       "    'role': 'ARGUMENT',\n",
       "    'span': {'begin': 0, 'end': 8},\n",
       "    'text': '보고서가 말하는',\n",
       "    'token_span': [0, 1]},\n",
       "   {'id': 3,\n",
       "    'obj': 'Entity',\n",
       "    'role': 'ARGUMENT',\n",
       "    'span': {'begin': 9, 'end': 17},\n",
       "    'text': '한국 기후변화의',\n",
       "    'token_span': [2, 3]},\n",
       "   {'id': 4,\n",
       "    'obj': 'State',\n",
       "    'role': 'ARGUMENT',\n",
       "    'span': {'begin': 18, 'end': 21},\n",
       "    'text': '실태는',\n",
       "    'token_span': [4]}],\n",
       "  'frame': 'State_of_entity',\n",
       "  'lu': '실태.n.State_of_entity',\n",
       "  'relations': [{'obj': 2, 'pred': 'arg', 'subj': 1},\n",
       "   {'obj': 3, 'pred': 'arg', 'subj': 1},\n",
       "   {'obj': 4, 'pred': 'arg', 'subj': 1}],\n",
       "  'text': '보고서가 말하는 한국 기후변화의 실태는 심각하고 전망은 암담하다.'}]"
      ]
     },
     "execution_count": 28,
     "metadata": {
      "tags": []
     },
     "output_type": "execute_result"
    }
   ],
   "source": [
    "parsed = parser.parser(text, sent_id='2', result_format='textae')\n",
    "parsed"
   ]
  },
  {
   "cell_type": "code",
   "execution_count": null,
   "metadata": {
    "colab": {},
    "colab_type": "code",
    "id": "7Xbb0khgdKZq"
   },
   "outputs": [],
   "source": []
  }
 ],
 "metadata": {
  "accelerator": "GPU",
  "colab": {
   "authorship_tag": "ABX9TyNTK9AEV0TOVKzCiZmrNgEp",
   "collapsed_sections": [],
   "name": "testFrameBERT.ipynb",
   "provenance": []
  },
  "kernelspec": {
   "display_name": "Python 3",
   "language": "python",
   "name": "python3"
  },
  "language_info": {
   "codemirror_mode": {
    "name": "ipython",
    "version": 3
   },
   "file_extension": ".py",
   "mimetype": "text/x-python",
   "name": "python",
   "nbconvert_exporter": "python",
   "pygments_lexer": "ipython3",
   "version": "3.7.8"
  }
 },
 "nbformat": 4,
 "nbformat_minor": 1
}
